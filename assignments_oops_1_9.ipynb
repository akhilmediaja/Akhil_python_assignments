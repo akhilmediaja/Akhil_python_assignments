{
 "cells": [
  {
   "cell_type": "code",
   "execution_count": null,
   "id": "3c160e9f-80f3-4769-b355-691e545d67cc",
   "metadata": {},
   "outputs": [],
   "source": [
    "#  1. Write a class(DB) program to create a table, insert values, update values, delete values of the table.\n",
    "# All database operations code write in a file(db_operations.py) and call these operations in another file( app.py).\n",
    "# In app.py create instance of the DB class and call all the methods by passing some data.\n"
   ]
  },
  {
   "cell_type": "code",
   "execution_count": null,
   "id": "3beaac65-4f4d-4a8c-8fb2-49421a95558a",
   "metadata": {},
   "outputs": [],
   "source": [
    "  #   2. write a program to do registration.\n",
    "\t\t# Write a methods in a class DB to open database connection and insert details in to database table.\n"
   ]
  },
  {
   "cell_type": "code",
   "execution_count": null,
   "id": "3798d315-1d93-4938-929f-bd0f82c79ae8",
   "metadata": {},
   "outputs": [],
   "source": [
    "# 3. Write a Model parent class and implement a create method.\n",
    "# Write child class person for Model and override method create method and call the parent(Model)\n",
    "# class create method in the child(person). create an instance of person class and call the create method.\n"
   ]
  },
  {
   "cell_type": "code",
   "execution_count": null,
   "id": "5700eb68-5009-4099-8c67-960488d5c9c7",
   "metadata": {},
   "outputs": [],
   "source": [
    "# 4. create a user defined datatype, and provide functionalities of addition subtraction and multiplication. \n",
    "# Create three instances(obj1,obj2,obj3) and print an output of obj1+obj2+obj3, obj1-obj2-obj3, obj1*obj2*obj3  \n",
    "\n",
    "\n"
   ]
  },
  {
   "cell_type": "code",
   "execution_count": null,
   "id": "5a19d27b-165e-4549-91d5-909534d24c35",
   "metadata": {},
   "outputs": [],
   "source": [
    "# 5. addition, subtraction, multiplication operations are not supported by dictionary. \n",
    "# Write a program to provide addition, subtraction, and  multiplication operations to dictionary. \n",
    "# Write your own definition for operations.\n",
    "\n"
   ]
  },
  {
   "cell_type": "code",
   "execution_count": null,
   "id": "b6bb6355-0810-456a-8e6e-b5726d569d06",
   "metadata": {},
   "outputs": [],
   "source": []
  },
  {
   "cell_type": "code",
   "execution_count": null,
   "id": "78b23338-c933-4880-b40c-8543c1113bd8",
   "metadata": {},
   "outputs": [],
   "source": []
  },
  {
   "cell_type": "code",
   "execution_count": null,
   "id": "cc9e4c95-180e-4394-8c5e-71ca25ab6638",
   "metadata": {},
   "outputs": [],
   "source": []
  },
  {
   "cell_type": "code",
   "execution_count": null,
   "id": "674028d1-6344-43c8-9757-6f6612823fbb",
   "metadata": {},
   "outputs": [],
   "source": []
  },
  {
   "cell_type": "code",
   "execution_count": null,
   "id": "b4cfe939-f02a-442b-90d4-a5dad163dd44",
   "metadata": {},
   "outputs": [],
   "source": []
  },
  {
   "cell_type": "code",
   "execution_count": null,
   "id": "5cc0a52c-22b7-44ca-a7ad-79ece8db6a49",
   "metadata": {},
   "outputs": [],
   "source": []
  },
  {
   "cell_type": "code",
   "execution_count": null,
   "id": "01d82975-6c75-4a54-8355-09d789e4e443",
   "metadata": {},
   "outputs": [],
   "source": []
  },
  {
   "cell_type": "code",
   "execution_count": null,
   "id": "2062f932-3594-45a5-af7b-8032451b0c95",
   "metadata": {},
   "outputs": [],
   "source": []
  }
 ],
 "metadata": {
  "kernelspec": {
   "display_name": "Python 3 (ipykernel)",
   "language": "python",
   "name": "python3"
  },
  "language_info": {
   "codemirror_mode": {
    "name": "ipython",
    "version": 3
   },
   "file_extension": ".py",
   "mimetype": "text/x-python",
   "name": "python",
   "nbconvert_exporter": "python",
   "pygments_lexer": "ipython3",
   "version": "3.12.4"
  }
 },
 "nbformat": 4,
 "nbformat_minor": 5
}
