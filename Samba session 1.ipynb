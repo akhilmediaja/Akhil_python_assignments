{
 "cells": [
  {
   "cell_type": "code",
   "execution_count": 1,
   "id": "7c6fcc54-66c0-4a64-b02e-c499cd120581",
   "metadata": {},
   "outputs": [
    {
     "name": "stdout",
     "output_type": "stream",
     "text": [
      "3000\n"
     ]
    }
   ],
   "source": [
    "a = 1000\n",
    "b = 2000\n",
    "c  = a + b \n",
    "print(c)"
   ]
  },
  {
   "cell_type": "code",
   "execution_count": 9,
   "id": "f602534c-affb-4c80-8135-e6735614438f",
   "metadata": {},
   "outputs": [
    {
     "name": "stdout",
     "output_type": "stream",
     "text": [
      "1000 1000\n",
      "2082801141520 2082801141520\n",
      "3000 1000\n",
      "2082801142448 2082801141520\n",
      "3000 4000\n",
      "2082801142448 2082801142640\n"
     ]
    }
   ],
   "source": [
    "a =  1000\n",
    "b = a\n",
    "print(a, b)\n",
    "print(id(a), id(b))\n",
    "a = 3000\n",
    "print(a, b)\n",
    "print(id(a), id(b))\n",
    "b = 4000\n",
    "print(a, b)\n",
    "print(id(a), id(b))\n"
   ]
  },
  {
   "cell_type": "code",
   "execution_count": null,
   "id": "34569fa6-818c-40d2-9b0b-7bf2b227b766",
   "metadata": {},
   "outputs": [],
   "source": []
  }
 ],
 "metadata": {
  "kernelspec": {
   "display_name": "Python 3 (ipykernel)",
   "language": "python",
   "name": "python3"
  },
  "language_info": {
   "codemirror_mode": {
    "name": "ipython",
    "version": 3
   },
   "file_extension": ".py",
   "mimetype": "text/x-python",
   "name": "python",
   "nbconvert_exporter": "python",
   "pygments_lexer": "ipython3",
   "version": "3.12.4"
  }
 },
 "nbformat": 4,
 "nbformat_minor": 5
}
