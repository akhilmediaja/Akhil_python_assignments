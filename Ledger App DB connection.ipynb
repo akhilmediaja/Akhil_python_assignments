{
 "cells": [
  {
   "cell_type": "code",
   "execution_count": 15,
   "id": "a610944b-b873-4c17-b577-7a5172c1219d",
   "metadata": {},
   "outputs": [],
   "source": [
    "import psycopg2"
   ]
  },
  {
   "cell_type": "code",
   "execution_count": 16,
   "id": "fb26ca6a-0672-425a-b663-6e0c96c767b4",
   "metadata": {},
   "outputs": [],
   "source": [
    "con = psycopg2.connect(host = \"localhost\", user = \"postgres\", password = \"akhil\", port = 5432, dbname = \"db2\")"
   ]
  },
  {
   "cell_type": "code",
   "execution_count": 17,
   "id": "7c8e91ea-1441-414f-b443-1f2fddb8b630",
   "metadata": {},
   "outputs": [],
   "source": [
    "cur = con.cursor()"
   ]
  },
  {
   "cell_type": "code",
   "execution_count": 4,
   "id": "93b3e7d5-f0fc-4465-82e1-1b9db8abf5ed",
   "metadata": {},
   "outputs": [
    {
     "ename": "SyntaxError",
     "evalue": "syntax error at or near \"user\"\nLINE 1: create table user(name varchar(20), phone_number integer, DO...\n                     ^\n",
     "output_type": "error",
     "traceback": [
      "\u001b[1;31m---------------------------------------------------------------------------\u001b[0m",
      "\u001b[1;31mSyntaxError\u001b[0m                               Traceback (most recent call last)",
      "Cell \u001b[1;32mIn[4], line 1\u001b[0m\n\u001b[1;32m----> 1\u001b[0m cur\u001b[38;5;241m.\u001b[39mexecute(\u001b[38;5;124m\"\u001b[39m\u001b[38;5;124mcreate table user(name varchar(20), phone_number integer, DOB DATE, user_name varchar(20), password varchar(20))\u001b[39m\u001b[38;5;124m\"\u001b[39m)\n",
      "\u001b[1;31mSyntaxError\u001b[0m: syntax error at or near \"user\"\nLINE 1: create table user(name varchar(20), phone_number integer, DO...\n                     ^\n"
     ]
    }
   ],
   "source": [
    "cur.execute user(\"create table user(name varchar(20), phone_number integer, DOB DATE, user_name varchar(20), password varchar(20))\")"
   ]
  },
  {
   "cell_type": "code",
   "execution_count": 5,
   "id": "84c7790d-1d6a-4541-becb-28ce5c2d9a31",
   "metadata": {},
   "outputs": [],
   "source": [
    "con.rollback()"
   ]
  },
  {
   "cell_type": "code",
   "execution_count": 6,
   "id": "c7f73cfa-10cd-4fed-937b-0234574264b7",
   "metadata": {},
   "outputs": [
    {
     "ename": "SyntaxError",
     "evalue": "invalid syntax (2583138226.py, line 1)",
     "output_type": "error",
     "traceback": [
      "\u001b[1;36m  Cell \u001b[1;32mIn[6], line 1\u001b[1;36m\u001b[0m\n\u001b[1;33m    cur.execute users_details(\"create table user(name varchar(20), phone_number integer, DOB DATE, user_name varchar(20), password varchar(20))\")\u001b[0m\n\u001b[1;37m                ^\u001b[0m\n\u001b[1;31mSyntaxError\u001b[0m\u001b[1;31m:\u001b[0m invalid syntax\n"
     ]
    }
   ],
   "source": [
    "cur.execute users_details(\"create table user(name varchar(20), phone_number integer, DOB DATE, user_name varchar(20), password varchar(20))\")"
   ]
  },
  {
   "cell_type": "code",
   "execution_count": 7,
   "id": "03500128-b136-42dc-ae12-793529725b9f",
   "metadata": {},
   "outputs": [],
   "source": [
    "con.rollback()"
   ]
  },
  {
   "cell_type": "code",
   "execution_count": 8,
   "id": "d977b3d9-2868-4b70-8abc-7837f43a0ed8",
   "metadata": {},
   "outputs": [
    {
     "ename": "SyntaxError",
     "evalue": "invalid syntax (1173330288.py, line 1)",
     "output_type": "error",
     "traceback": [
      "\u001b[1;36m  Cell \u001b[1;32mIn[8], line 1\u001b[1;36m\u001b[0m\n\u001b[1;33m    cur.execute users(\"create table user(name varchar(20), phone_number integer, DOB DATE, user_name varchar(20), password varchar(20))\")\u001b[0m\n\u001b[1;37m                ^\u001b[0m\n\u001b[1;31mSyntaxError\u001b[0m\u001b[1;31m:\u001b[0m invalid syntax\n"
     ]
    }
   ],
   "source": [
    "cur.execute users(\"create table user(name varchar(20), phone_number integer, DOB DATE, user_name varchar(20), password varchar(20))\")"
   ]
  },
  {
   "cell_type": "code",
   "execution_count": 9,
   "id": "4645cd4f-243b-4d04-bc67-a416e210efab",
   "metadata": {},
   "outputs": [],
   "source": [
    "con.rollback()\n"
   ]
  },
  {
   "cell_type": "code",
   "execution_count": 4,
   "id": "d8735663-d38a-4990-b008-3e85dc22e7f1",
   "metadata": {},
   "outputs": [],
   "source": [
    "cur.execute (\"create table users(name varchar(20), phone_number integer, DOB DATE, user_name varchar(20), password varchar(20))\")"
   ]
  },
  {
   "cell_type": "code",
   "execution_count": 4,
   "id": "3a2b789d-6f28-48b0-83ed-141c7c80f25a",
   "metadata": {},
   "outputs": [],
   "source": []
  },
  {
   "cell_type": "code",
   "execution_count": 4,
   "id": "3517287c-b7d4-4639-bb41-c027ed515ac0",
   "metadata": {},
   "outputs": [],
   "source": [
    "cur.execute (\"create table users(name varchar(20), phone_number integer, DOB DATE, user_name varchar(20), password varchar(20))\")"
   ]
  },
  {
   "cell_type": "code",
   "execution_count": 5,
   "id": "e49a3a26-bf07-41e1-bd67-728f2162eb67",
   "metadata": {},
   "outputs": [],
   "source": [
    "con.commit()"
   ]
  },
  {
   "cell_type": "code",
   "execution_count": 6,
   "id": "864e4ff6-b158-4869-a488-d6840631a1b2",
   "metadata": {},
   "outputs": [],
   "source": [
    "con.rollback()"
   ]
  },
  {
   "cell_type": "code",
   "execution_count": 10,
   "id": "cd9dc666-aa71-4ee1-a327-8f0749c9e098",
   "metadata": {},
   "outputs": [
    {
     "ename": "SyntaxError",
     "evalue": "invalid syntax. Perhaps you forgot a comma? (936234612.py, line 1)",
     "output_type": "error",
     "traceback": [
      "\u001b[1;36m  Cell \u001b[1;32mIn[10], line 1\u001b[1;36m\u001b[0m\n\u001b[1;33m    cur.execute (ALTER TABLE users ALTER COLUMN phone_number TYPE VARCHAR(15);)\u001b[0m\n\u001b[1;37m                 ^\u001b[0m\n\u001b[1;31mSyntaxError\u001b[0m\u001b[1;31m:\u001b[0m invalid syntax. Perhaps you forgot a comma?\n"
     ]
    }
   ],
   "source": [
    "\n",
    "cur.execute(ALTER TABLE users ALTER COLUMN phone_number TYPE VARCHAR(15);)"
   ]
  },
  {
   "cell_type": "code",
   "execution_count": 11,
   "id": "3ccaf343-f037-4d72-b0dd-4faff348bdef",
   "metadata": {},
   "outputs": [],
   "source": [
    "con.rollback()"
   ]
  },
  {
   "cell_type": "code",
   "execution_count": 12,
   "id": "af33c039-5484-4995-9d5b-a0bd7a867c67",
   "metadata": {},
   "outputs": [
    {
     "ename": "SyntaxError",
     "evalue": "invalid syntax. Perhaps you forgot a comma? (2137111598.py, line 1)",
     "output_type": "error",
     "traceback": [
      "\u001b[1;36m  Cell \u001b[1;32mIn[12], line 1\u001b[1;36m\u001b[0m\n\u001b[1;33m    cur.execute(ALTER TABLE users ALTER COLUMN phone_number TYPE VARCHAR(15);)\u001b[0m\n\u001b[1;37m                ^\u001b[0m\n\u001b[1;31mSyntaxError\u001b[0m\u001b[1;31m:\u001b[0m invalid syntax. Perhaps you forgot a comma?\n"
     ]
    }
   ],
   "source": [
    "cur.execute(ALTER TABLE users ALTER COLUMN phone_number TYPE VARCHAR(15);)"
   ]
  },
  {
   "cell_type": "code",
   "execution_count": 13,
   "id": "48a56834-db69-4656-855d-dcc464d29a45",
   "metadata": {},
   "outputs": [],
   "source": [
    "con.rollback()"
   ]
  },
  {
   "cell_type": "code",
   "execution_count": 14,
   "id": "df0cf0f6-f52e-4a93-958d-91507d67955b",
   "metadata": {},
   "outputs": [
    {
     "name": "stdout",
     "output_type": "stream",
     "text": [
      "Column type changed successfully.\n"
     ]
    }
   ],
   "source": [
    "cur.execute(\"ALTER TABLE users ALTER COLUMN phone_number TYPE VARCHAR(15);\")\n",
    "con.commit()\n",
    "\n",
    "cur.close()\n",
    "con.close()\n",
    "print(\"Column type changed successfully.\")"
   ]
  },
  {
   "cell_type": "code",
   "execution_count": 18,
   "id": "5fbbd578-2c06-436d-a6b4-87b427c22a8d",
   "metadata": {},
   "outputs": [],
   "source": [
    "cur.execute(\"create table statements(Date varchar(15), Particular varchar(20), Amount INT)\")"
   ]
  },
  {
   "cell_type": "code",
   "execution_count": 19,
   "id": "a9687311-e409-49f3-b9e9-b406a24fc94e",
   "metadata": {},
   "outputs": [],
   "source": [
    "con.commit()\n",
    "cur.close()\n",
    "con.close()"
   ]
  },
  {
   "cell_type": "code",
   "execution_count": 20,
   "id": "034e05f2-39a6-4869-b93a-46120afa1d43",
   "metadata": {},
   "outputs": [],
   "source": [
    "import psycopg2"
   ]
  },
  {
   "cell_type": "code",
   "execution_count": 21,
   "id": "52bf4335-98fa-4e07-9987-c5b0daf2812b",
   "metadata": {},
   "outputs": [],
   "source": [
    "con = psycopg2.connect(host = \"localhost\", user = \"postgres\", password = \"akhil\", port = 5432, dbname = \"db2\")"
   ]
  },
  {
   "cell_type": "code",
   "execution_count": 22,
   "id": "8f339f58-abc4-47ef-a6e0-8b3cd0f7d643",
   "metadata": {},
   "outputs": [],
   "source": [
    "cur = con.cursor()"
   ]
  },
  {
   "cell_type": "code",
   "execution_count": 23,
   "id": "001b1200-86ea-427a-9cb7-db1dc44e0eb2",
   "metadata": {},
   "outputs": [],
   "source": [
    "cur.execute(\"ALTER TABLE statements ADD user_name varchar(20);\")"
   ]
  },
  {
   "cell_type": "code",
   "execution_count": 24,
   "id": "42735eb8-9a11-4be1-b126-6a3d7ae8e8d4",
   "metadata": {},
   "outputs": [],
   "source": [
    "con.commit()\n",
    "cur.close()\n",
    "con.close()"
   ]
  },
  {
   "cell_type": "code",
   "execution_count": 25,
   "id": "80dddae1-c856-47cd-9806-404aebb2ac43",
   "metadata": {},
   "outputs": [],
   "source": [
    "import psycopg2"
   ]
  },
  {
   "cell_type": "code",
   "execution_count": 26,
   "id": "4a1c5905-7f6c-44d9-9b6a-bc0c3ac69839",
   "metadata": {},
   "outputs": [],
   "source": [
    "con = psycopg2.connect(host = \"localhost\", user = \"postgres\", password = \"akhil\", port = 5432, dbname = \"db2\")"
   ]
  },
  {
   "cell_type": "code",
   "execution_count": 27,
   "id": "0a7b8114-9dd2-44aa-9ff0-06d0b01bf920",
   "metadata": {},
   "outputs": [],
   "source": [
    "cur = con.cursor()"
   ]
  },
  {
   "cell_type": "code",
   "execution_count": 28,
   "id": "975dcf45-733c-4d53-98fd-a73f18b85cd3",
   "metadata": {},
   "outputs": [
    {
     "ename": "DatatypeMismatch",
     "evalue": "column \"date\" cannot be cast automatically to type date\nHINT:  You might need to specify \"USING date::date\".\n",
     "output_type": "error",
     "traceback": [
      "\u001b[1;31m---------------------------------------------------------------------------\u001b[0m",
      "\u001b[1;31mDatatypeMismatch\u001b[0m                          Traceback (most recent call last)",
      "Cell \u001b[1;32mIn[28], line 1\u001b[0m\n\u001b[1;32m----> 1\u001b[0m cur\u001b[38;5;241m.\u001b[39mexecute(\u001b[38;5;124m\"\u001b[39m\u001b[38;5;124mALTER TABLE statements ALTER COLUMN date TYPE date;\u001b[39m\u001b[38;5;124m\"\u001b[39m)\n\u001b[0;32m      2\u001b[0m con\u001b[38;5;241m.\u001b[39mcommit()\n\u001b[0;32m      4\u001b[0m cur\u001b[38;5;241m.\u001b[39mclose()\n",
      "\u001b[1;31mDatatypeMismatch\u001b[0m: column \"date\" cannot be cast automatically to type date\nHINT:  You might need to specify \"USING date::date\".\n"
     ]
    }
   ],
   "source": [
    "cur.execute(\"ALTER TABLE statements ALTER COLUMN date TYPE date;\")\n",
    "con.commit()\n",
    "\n",
    "cur.close()\n",
    "con.close()\n",
    "print(\"Column type changed successfully.\")"
   ]
  },
  {
   "cell_type": "code",
   "execution_count": 29,
   "id": "6ea4b528-78ad-427e-8997-32047c043612",
   "metadata": {},
   "outputs": [],
   "source": [
    "con.rollback()\n",
    "\n"
   ]
  },
  {
   "cell_type": "code",
   "execution_count": 30,
   "id": "7ef2981b-52ea-42aa-967f-1ee7b1e822f7",
   "metadata": {},
   "outputs": [
    {
     "name": "stdout",
     "output_type": "stream",
     "text": [
      "Column type changed successfully.\n"
     ]
    }
   ],
   "source": [
    "\n",
    "cur.execute(\"ALTER TABLE statements ALTER COLUMN date TYPE DATE USING date::DATE;\")\n",
    "con.commit()\n",
    "\n",
    "\n",
    "cur.close()\n",
    "con.close()\n",
    "print(\"Column type changed successfully.\")"
   ]
  },
  {
   "cell_type": "code",
   "execution_count": 31,
   "id": "ff0d2cdd-d5d3-4977-95c8-0e3a10665128",
   "metadata": {},
   "outputs": [
    {
     "ename": "NameError",
     "evalue": "name 'fetchone' is not defined",
     "output_type": "error",
     "traceback": [
      "\u001b[1;31m---------------------------------------------------------------------------\u001b[0m",
      "\u001b[1;31mNameError\u001b[0m                                 Traceback (most recent call last)",
      "Cell \u001b[1;32mIn[31], line 5\u001b[0m\n\u001b[0;32m      3\u001b[0m cur \u001b[38;5;241m=\u001b[39m con\u001b[38;5;241m.\u001b[39mcursor()\n\u001b[0;32m      4\u001b[0m cur\u001b[38;5;241m.\u001b[39mexecute(\u001b[38;5;124m\"\u001b[39m\u001b[38;5;124mselect sum(amount) from statements\u001b[39m\u001b[38;5;124m\"\u001b[39m)\n\u001b[1;32m----> 5\u001b[0m data \u001b[38;5;241m=\u001b[39m fetchone()\n\u001b[0;32m      6\u001b[0m \u001b[38;5;28mprint\u001b[39m(data)\n\u001b[0;32m      8\u001b[0m cur\u001b[38;5;241m.\u001b[39mclose()\n",
      "\u001b[1;31mNameError\u001b[0m: name 'fetchone' is not defined"
     ]
    }
   ],
   "source": [
    "import psycopg2\n",
    "con = psycopg2.connect(host = \"localhost\", user = \"postgres\", password = \"akhil\", port = 5432, dbname = \"db2\")\n",
    "cur = con.cursor()\n",
    "cur.execute(\"select sum(amount) from statements\")\n",
    "data = fetchone()\n",
    "print(data)\n",
    "\n",
    "cur.close()\n",
    "con.close()\n",
    "print(\"Column type changed successfully.\")"
   ]
  },
  {
   "cell_type": "code",
   "execution_count": 32,
   "id": "50729f95-b069-4e7a-8fa1-07ba95fc1333",
   "metadata": {},
   "outputs": [],
   "source": [
    "con.rollback()"
   ]
  },
  {
   "cell_type": "code",
   "execution_count": 33,
   "id": "325a6ca2-321b-4929-8db2-fc5f781806a2",
   "metadata": {},
   "outputs": [
    {
     "name": "stdout",
     "output_type": "stream",
     "text": [
      "(2500,)\n",
      "Column type changed successfully.\n"
     ]
    }
   ],
   "source": [
    "import psycopg2\n",
    "con = psycopg2.connect(host = \"localhost\", user = \"postgres\", password = \"akhil\", port = 5432, dbname = \"db2\")\n",
    "cur = con.cursor()\n",
    "cur.execute(\"select sum(amount) from statements\")\n",
    "data = cur.fetchone()\n",
    "print(data)\n",
    "\n",
    "cur.close()\n",
    "con.close()\n",
    "print(\"Column type changed successfully.\")"
   ]
  },
  {
   "cell_type": "code",
   "execution_count": 34,
   "id": "5fc66102-6a83-4c66-826c-c173553385a6",
   "metadata": {},
   "outputs": [
    {
     "name": "stdout",
     "output_type": "stream",
     "text": [
      "(2460,)\n",
      "Column type changed successfully.\n"
     ]
    }
   ],
   "source": [
    "import psycopg2\n",
    "con = psycopg2.connect(host = \"localhost\", user = \"postgres\", password = \"akhil\", port = 5432, dbname = \"db2\")\n",
    "cur = con.cursor()\n",
    "cur.execute(\"select sum(amount) from statements\")\n",
    "data = cur.fetchone()\n",
    "print(data)\n",
    "\n",
    "cur.close()\n",
    "con.close()\n",
    "print(\"Column type changed successfully.\")"
   ]
  },
  {
   "cell_type": "code",
   "execution_count": 35,
   "id": "38c51384-eb32-4033-a190-df0f6bb771cd",
   "metadata": {},
   "outputs": [
    {
     "ename": "UndefinedTable",
     "evalue": "missing FROM-clause entry for table \"r\"\nLINE 1: select * from statements where user_name = r.badireddy\n                                                   ^\n",
     "output_type": "error",
     "traceback": [
      "\u001b[1;31m---------------------------------------------------------------------------\u001b[0m",
      "\u001b[1;31mUndefinedTable\u001b[0m                            Traceback (most recent call last)",
      "Cell \u001b[1;32mIn[35], line 4\u001b[0m\n\u001b[0;32m      2\u001b[0m con \u001b[38;5;241m=\u001b[39m psycopg2\u001b[38;5;241m.\u001b[39mconnect(host \u001b[38;5;241m=\u001b[39m \u001b[38;5;124m\"\u001b[39m\u001b[38;5;124mlocalhost\u001b[39m\u001b[38;5;124m\"\u001b[39m, user \u001b[38;5;241m=\u001b[39m \u001b[38;5;124m\"\u001b[39m\u001b[38;5;124mpostgres\u001b[39m\u001b[38;5;124m\"\u001b[39m, password \u001b[38;5;241m=\u001b[39m \u001b[38;5;124m\"\u001b[39m\u001b[38;5;124makhil\u001b[39m\u001b[38;5;124m\"\u001b[39m, port \u001b[38;5;241m=\u001b[39m \u001b[38;5;241m5432\u001b[39m, dbname \u001b[38;5;241m=\u001b[39m \u001b[38;5;124m\"\u001b[39m\u001b[38;5;124mdb2\u001b[39m\u001b[38;5;124m\"\u001b[39m)\n\u001b[0;32m      3\u001b[0m cur \u001b[38;5;241m=\u001b[39m con\u001b[38;5;241m.\u001b[39mcursor()\n\u001b[1;32m----> 4\u001b[0m cur\u001b[38;5;241m.\u001b[39mexecute(\u001b[38;5;124m\"\u001b[39m\u001b[38;5;124mselect * from statements where user_name = r.badireddy\u001b[39m\u001b[38;5;124m\"\u001b[39m)\n\u001b[0;32m      5\u001b[0m data \u001b[38;5;241m=\u001b[39m cur\u001b[38;5;241m.\u001b[39mfetchone()\n\u001b[0;32m      6\u001b[0m \u001b[38;5;28mprint\u001b[39m(data)\n",
      "\u001b[1;31mUndefinedTable\u001b[0m: missing FROM-clause entry for table \"r\"\nLINE 1: select * from statements where user_name = r.badireddy\n                                                   ^\n"
     ]
    }
   ],
   "source": [
    "import psycopg2\n",
    "con = psycopg2.connect(host = \"localhost\", user = \"postgres\", password = \"akhil\", port = 5432, dbname = \"db2\")\n",
    "cur = con.cursor()\n",
    "cur.execute(\"select * from statements where user_name = r.badireddy\")\n",
    "data = cur.fetchone()\n",
    "print(data)\n",
    "\n",
    "cur.close()\n",
    "con.close()\n",
    "print(\"Column type changed successfully.\")"
   ]
  },
  {
   "cell_type": "code",
   "execution_count": 36,
   "id": "8260e474-f0d2-4a5f-ad52-bc693e31f430",
   "metadata": {},
   "outputs": [],
   "source": [
    "con.rollback()"
   ]
  },
  {
   "cell_type": "code",
   "execution_count": 37,
   "id": "f43ea646-28f7-428c-ae2f-12ef84f8353d",
   "metadata": {},
   "outputs": [
    {
     "ename": "SyntaxError",
     "evalue": "syntax error at or near \"r\"\nLINE 1: select * from statements where user_name is r.badireddy\n                                                    ^\n",
     "output_type": "error",
     "traceback": [
      "\u001b[1;31m---------------------------------------------------------------------------\u001b[0m",
      "\u001b[1;31mSyntaxError\u001b[0m                               Traceback (most recent call last)",
      "Cell \u001b[1;32mIn[37], line 4\u001b[0m\n\u001b[0;32m      2\u001b[0m con \u001b[38;5;241m=\u001b[39m psycopg2\u001b[38;5;241m.\u001b[39mconnect(host \u001b[38;5;241m=\u001b[39m \u001b[38;5;124m\"\u001b[39m\u001b[38;5;124mlocalhost\u001b[39m\u001b[38;5;124m\"\u001b[39m, user \u001b[38;5;241m=\u001b[39m \u001b[38;5;124m\"\u001b[39m\u001b[38;5;124mpostgres\u001b[39m\u001b[38;5;124m\"\u001b[39m, password \u001b[38;5;241m=\u001b[39m \u001b[38;5;124m\"\u001b[39m\u001b[38;5;124makhil\u001b[39m\u001b[38;5;124m\"\u001b[39m, port \u001b[38;5;241m=\u001b[39m \u001b[38;5;241m5432\u001b[39m, dbname \u001b[38;5;241m=\u001b[39m \u001b[38;5;124m\"\u001b[39m\u001b[38;5;124mdb2\u001b[39m\u001b[38;5;124m\"\u001b[39m)\n\u001b[0;32m      3\u001b[0m cur \u001b[38;5;241m=\u001b[39m con\u001b[38;5;241m.\u001b[39mcursor()\n\u001b[1;32m----> 4\u001b[0m cur\u001b[38;5;241m.\u001b[39mexecute(\u001b[38;5;124m\"\u001b[39m\u001b[38;5;124mselect * from statements where user_name is r.badireddy\u001b[39m\u001b[38;5;124m\"\u001b[39m)\n\u001b[0;32m      5\u001b[0m data \u001b[38;5;241m=\u001b[39m cur\u001b[38;5;241m.\u001b[39mfetchone()\n\u001b[0;32m      6\u001b[0m \u001b[38;5;28mprint\u001b[39m(data)\n",
      "\u001b[1;31mSyntaxError\u001b[0m: syntax error at or near \"r\"\nLINE 1: select * from statements where user_name is r.badireddy\n                                                    ^\n"
     ]
    }
   ],
   "source": [
    "import psycopg2\n",
    "con = psycopg2.connect(host = \"localhost\", user = \"postgres\", password = \"akhil\", port = 5432, dbname = \"db2\")\n",
    "cur = con.cursor()\n",
    "cur.execute(\"select * from statements where user_name is r.badireddy\")\n",
    "data = cur.fetchone()\n",
    "print(data)\n",
    "\n",
    "cur.close()\n",
    "con.close()\n",
    "print(\"Column type changed successfully.\")"
   ]
  },
  {
   "cell_type": "code",
   "execution_count": 38,
   "id": "79556dca-a729-458e-8937-23f464316e83",
   "metadata": {},
   "outputs": [],
   "source": [
    "con.rollback()"
   ]
  },
  {
   "cell_type": "code",
   "execution_count": 39,
   "id": "13256537-0724-422d-8e1c-a0a639404758",
   "metadata": {},
   "outputs": [
    {
     "name": "stdout",
     "output_type": "stream",
     "text": [
      "(datetime.date(2024, 10, 28), 'Salary', 10000, 'r.badireddy')\n",
      "Column type changed successfully.\n"
     ]
    }
   ],
   "source": [
    "import psycopg2\n",
    "con = psycopg2.connect(host = \"localhost\", user = \"postgres\", password = \"akhil\", port = 5432, dbname = \"db2\")\n",
    "cur = con.cursor()\n",
    "cur.execute(\"select * from statements where user_name = 'r.badireddy'\")\n",
    "data = cur.fetchone()\n",
    "print(data)\n",
    "\n",
    "cur.close()\n",
    "con.close()\n",
    "print(\"Column type changed successfully.\")"
   ]
  },
  {
   "cell_type": "code",
   "execution_count": null,
   "id": "d0ba3b5c-34c4-4527-b5fc-b6e4394bfb49",
   "metadata": {},
   "outputs": [],
   "source": []
  }
 ],
 "metadata": {
  "kernelspec": {
   "display_name": "Python 3 (ipykernel)",
   "language": "python",
   "name": "python3"
  },
  "language_info": {
   "codemirror_mode": {
    "name": "ipython",
    "version": 3
   },
   "file_extension": ".py",
   "mimetype": "text/x-python",
   "name": "python",
   "nbconvert_exporter": "python",
   "pygments_lexer": "ipython3",
   "version": "3.12.4"
  }
 },
 "nbformat": 4,
 "nbformat_minor": 5
}
