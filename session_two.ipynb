{
 "cells": [
  {
   "cell_type": "code",
   "execution_count": 11,
   "id": "ab7ce8b1-f475-4beb-8c03-b016c51187c8",
   "metadata": {},
   "outputs": [
    {
     "name": "stdout",
     "output_type": "stream",
     "text": [
      "pot 2725860092080\n",
      "p 140718593749976\n",
      "o 140718593749928\n",
      "t 140718593750168\n",
      "2725860092080 2725860092080\n",
      "pat 2725860092080\n",
      "p 140718593749976\n",
      "a 140718593749256\n",
      "t 140718593750168\n"
     ]
    }
   ],
   "source": [
    "c = \"pot\"\n",
    "print(c, id(c))\n",
    "print(c[0], id(c[0]))\n",
    "print(c[1], id(c[1]))\n",
    "print(c[2], id(c[2]))\n",
    "d = c\n",
    "print(id(d), id(c))\n",
    "e = \"pat\"\n",
    "print(e, id(c))\n",
    "print(e[0], id(e[0]))\n",
    "print(e[1], id(e[1]))\n",
    "print(e[2], id(e[2]))\n"
   ]
  },
  {
   "cell_type": "code",
   "execution_count": 17,
   "id": "67a9c2c6-94d5-4139-bb53-b879d9ea16de",
   "metadata": {},
   "outputs": [
    {
     "name": "stdout",
     "output_type": "stream",
     "text": [
      "2725860092080\n",
      "2725860092080\n",
      "2725813822464\n",
      "2725903604096\n",
      "p 140718593749976\n",
      "p 140718593749976\n",
      "p 140718593749976\n",
      "1000 2725904009680\n",
      "o 140718593749928\n",
      "o 140718593749928\n",
      "a 140718593749928\n",
      "pot 2725860092080\n",
      "t 140718593750168\n",
      "t 140718593750168\n",
      "t 140718593750168\n",
      "e 140718593725776\n"
     ]
    }
   ],
   "source": [
    "s = \"pot\"\n",
    "d =s\n",
    "e = \"pat\"\n",
    "k = [1000, s, \"e\", 2000]\n",
    "print(id(s))\n",
    "print(id(d))\n",
    "print(id(e))\n",
    "print(id(k))\n",
    "for i in range(3):\n",
    "    \n",
    "    print(s[i], id(s[i]))\n",
    "    print(d[i], id(s[i]))\n",
    "    print(e[i], id(d[i]))\n",
    "    print(k[i], id(k[i]))\n",
    "# print(s[0], id(s[0]))\n",
    "# print(e[0], id(e[0]))\n",
    "# print(s[2], id(s[2]\n"
   ]
  },
  {
   "cell_type": "code",
   "execution_count": 25,
   "id": "db349800-8349-4ea4-bbb5-de38470673f8",
   "metadata": {},
   "outputs": [
    {
     "name": "stdout",
     "output_type": "stream",
     "text": [
      "2725904009488\n",
      "2725904009584\n"
     ]
    }
   ],
   "source": [
    "a = 257\n",
    "b = 257\n",
    "print(id(a))\n",
    "print(id(b))\n",
    "# print(id(c))\n",
    "# c = 512"
   ]
  },
  {
   "cell_type": "code",
   "execution_count": null,
   "id": "a9db1e5e-87d4-42cb-9456-c50763221aa6",
   "metadata": {},
   "outputs": [],
   "source": []
  }
 ],
 "metadata": {
  "kernelspec": {
   "display_name": "Python 3 (ipykernel)",
   "language": "python",
   "name": "python3"
  },
  "language_info": {
   "codemirror_mode": {
    "name": "ipython",
    "version": 3
   },
   "file_extension": ".py",
   "mimetype": "text/x-python",
   "name": "python",
   "nbconvert_exporter": "python",
   "pygments_lexer": "ipython3",
   "version": "3.12.4"
  }
 },
 "nbformat": 4,
 "nbformat_minor": 5
}
