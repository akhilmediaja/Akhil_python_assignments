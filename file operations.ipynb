{
 "cells": [
  {
   "cell_type": "code",
   "execution_count": 1,
   "id": "de0107ef-249c-4ef1-9ba4-e9803b471d69",
   "metadata": {},
   "outputs": [
    {
     "name": "stdout",
     "output_type": "stream",
     "text": [
      "['_CHUNK_SIZE', '__class__', '__del__', '__delattr__', '__dict__', '__dir__', '__doc__', '__enter__', '__eq__', '__exit__', '__format__', '__ge__', '__getattribute__', '__getstate__', '__gt__', '__hash__', '__init__', '__init_subclass__', '__iter__', '__le__', '__lt__', '__module__', '__ne__', '__new__', '__next__', '__reduce__', '__reduce_ex__', '__repr__', '__setattr__', '__sizeof__', '__str__', '__subclasshook__', '_checkClosed', '_checkReadable', '_checkSeekable', '_checkWritable', '_finalizing', 'buffer', 'close', 'closed', 'detach', 'encoding', 'errors', 'fileno', 'flush', 'isatty', 'line_buffering', 'mode', 'name', 'newlines', 'read', 'readable', 'readline', 'readlines', 'reconfigure', 'seek', 'seekable', 'tell', 'truncate', 'writable', 'write', 'write_through', 'writelines']\n"
     ]
    }
   ],
   "source": [
    "f = open('data.txt')\n",
    "print(dir(f))"
   ]
  },
  {
   "cell_type": "code",
   "execution_count": 2,
   "id": "9e50e14a-e689-438e-9dc4-d90db4946cc2",
   "metadata": {},
   "outputs": [],
   "source": [
    "data = f.read()"
   ]
  },
  {
   "cell_type": "code",
   "execution_count": 8,
   "id": "e31099d3-fc0c-4496-84fe-6c4a30501cb0",
   "metadata": {},
   "outputs": [
    {
     "name": "stdout",
     "output_type": "stream",
     "text": [
      "[]\n"
     ]
    }
   ],
   "source": [
    "print(data)\n",
    "f.close()"
   ]
  },
  {
   "cell_type": "code",
   "execution_count": 11,
   "id": "f64c75a2-ff32-465b-9987-55aedb3f54ce",
   "metadata": {},
   "outputs": [
    {
     "name": "stdout",
     "output_type": "stream",
     "text": [
      "name,age,salary\n",
      "\n"
     ]
    }
   ],
   "source": [
    "f = open('data.txt')\n",
    "data1 = f.readline()\n",
    "print(data1)\n",
    "f.close()"
   ]
  },
  {
   "cell_type": "code",
   "execution_count": 12,
   "id": "a6ba6494-197a-4ef1-a760-ac6378eedf8c",
   "metadata": {},
   "outputs": [
    {
     "name": "stdout",
     "output_type": "stream",
     "text": [
      "['name,age,salary\\n', 'ak,27,12345\\n', 'bsr,28,67890']\n"
     ]
    }
   ],
   "source": [
    "f = open('data.txt')\n",
    "data2 = f.readlines()\n",
    "print(data2)\n",
    "f.close()"
   ]
  },
  {
   "cell_type": "code",
   "execution_count": 14,
   "id": "4b4a1532-4ee1-4982-9e31-93309651f9d6",
   "metadata": {},
   "outputs": [
    {
     "name": "stdout",
     "output_type": "stream",
     "text": [
      "name,age,salary\n",
      "15\n"
     ]
    }
   ],
   "source": [
    "file = open('data.txt')\n",
    "data_1 = file.read(15)\n",
    "print(data_1)\n",
    "print(file.tell())"
   ]
  },
  {
   "cell_type": "code",
   "execution_count": 18,
   "id": "888a54d2-fab1-4c01-bb1c-045212cd927d",
   "metadata": {},
   "outputs": [
    {
     "name": "stdout",
     "output_type": "stream",
     "text": [
      "15\n"
     ]
    }
   ],
   "source": [
    "print(file.seek(15))"
   ]
  },
  {
   "cell_type": "code",
   "execution_count": 19,
   "id": "8f176a74-ef18-43ef-90b1-6419ba37ef03",
   "metadata": {},
   "outputs": [
    {
     "name": "stdout",
     "output_type": "stream",
     "text": [
      "\n",
      "ak,27,12345\n",
      "bs\n",
      "32\n"
     ]
    }
   ],
   "source": [
    "data_1 = file.read(15)\n",
    "print(data_1)\n",
    "print(file.tell())"
   ]
  },
  {
   "cell_type": "code",
   "execution_count": 20,
   "id": "f755eb8a-e38a-4b18-82b0-6b73d8d9a007",
   "metadata": {},
   "outputs": [
    {
     "name": "stdout",
     "output_type": "stream",
     "text": [
      "r,28,67890\n",
      "42\n"
     ]
    }
   ],
   "source": [
    "data_1 = file.read(15)\n",
    "print(data_1)\n",
    "print(file.tell())"
   ]
  },
  {
   "cell_type": "code",
   "execution_count": 21,
   "id": "09c87717-73fe-4a0a-9be6-0a95a94a3eb3",
   "metadata": {},
   "outputs": [],
   "source": [
    "file.close()"
   ]
  },
  {
   "cell_type": "code",
   "execution_count": 22,
   "id": "d94e48ca-81d3-4ae6-9176-22bbed21291f",
   "metadata": {},
   "outputs": [
    {
     "name": "stdout",
     "output_type": "stream",
     "text": [
      "name,age,salary\n",
      "15\n"
     ]
    }
   ],
   "source": [
    "file = open('data.txt')\n",
    "data_1 = file.read(15)\n",
    "print(data_1)\n",
    "print(file.tell())\n",
    "file.close()\n"
   ]
  },
  {
   "cell_type": "code",
   "execution_count": 30,
   "id": "2575fc48-b33a-4a54-ad27-e7d17705bdc5",
   "metadata": {},
   "outputs": [
    {
     "ename": "ModuleNotFoundError",
     "evalue": "No module named 'faker'",
     "output_type": "error",
     "traceback": [
      "\u001b[1;31m---------------------------------------------------------------------------\u001b[0m",
      "\u001b[1;31mModuleNotFoundError\u001b[0m                       Traceback (most recent call last)",
      "Cell \u001b[1;32mIn[30], line 1\u001b[0m\n\u001b[1;32m----> 1\u001b[0m \u001b[38;5;28;01mimport\u001b[39;00m \u001b[38;5;21;01mfaker\u001b[39;00m\n",
      "\u001b[1;31mModuleNotFoundError\u001b[0m: No module named 'faker'"
     ]
    }
   ],
   "source": [
    "import faker\n"
   ]
  },
  {
   "cell_type": "code",
   "execution_count": 29,
   "id": "c1e4da31-abce-4ca6-a715-acb4d8120740",
   "metadata": {},
   "outputs": [
    {
     "ename": "ModuleNotFoundError",
     "evalue": "No module named 'faker'",
     "output_type": "error",
     "traceback": [
      "\u001b[1;31m---------------------------------------------------------------------------\u001b[0m",
      "\u001b[1;31mModuleNotFoundError\u001b[0m                       Traceback (most recent call last)",
      "Cell \u001b[1;32mIn[29], line 1\u001b[0m\n\u001b[1;32m----> 1\u001b[0m \u001b[38;5;28;01mfrom\u001b[39;00m \u001b[38;5;21;01mfaker\u001b[39;00m \u001b[38;5;28;01mimport\u001b[39;00m Faker\n\u001b[0;32m      2\u001b[0m fake \u001b[38;5;241m=\u001b[39m Faker()\n",
      "\u001b[1;31mModuleNotFoundError\u001b[0m: No module named 'faker'"
     ]
    }
   ],
   "source": [
    "from faker import Faker\n",
    "fake = Faker()"
   ]
  },
  {
   "cell_type": "code",
   "execution_count": 23,
   "id": "4e356574-a524-4aa1-8765-23b43474b080",
   "metadata": {},
   "outputs": [],
   "source": [
    "\n",
    "f = open(\"bigfile.txt\", \"w\")\n",
    "f.write(\"name,age,sal\\n\")\n"
   ]
  },
  {
   "cell_type": "code",
   "execution_count": 31,
   "id": "fe01e713-5efa-4b14-bad9-a5fa6f67f595",
   "metadata": {},
   "outputs": [
    {
     "ename": "ModuleNotFoundError",
     "evalue": "No module named 'faker'",
     "output_type": "error",
     "traceback": [
      "\u001b[1;31m---------------------------------------------------------------------------\u001b[0m",
      "\u001b[1;31mModuleNotFoundError\u001b[0m                       Traceback (most recent call last)",
      "Cell \u001b[1;32mIn[31], line 1\u001b[0m\n\u001b[1;32m----> 1\u001b[0m \u001b[38;5;28;01mfrom\u001b[39;00m \u001b[38;5;21;01mfaker\u001b[39;00m \u001b[38;5;28;01mimport\u001b[39;00m Faker\n\u001b[0;32m      2\u001b[0m fake \u001b[38;5;241m=\u001b[39m Faker()\n\u001b[0;32m      4\u001b[0m fake\u001b[38;5;241m.\u001b[39mname()\n",
      "\u001b[1;31mModuleNotFoundError\u001b[0m: No module named 'faker'"
     ]
    }
   ],
   "source": [
    "from faker import Faker\n",
    "fake = Faker()\n",
    "\n",
    "fake.name()\n"
   ]
  },
  {
   "cell_type": "code",
   "execution_count": 32,
   "id": "6d674eaa-1630-48f1-9371-f8202bedaac6",
   "metadata": {},
   "outputs": [
    {
     "ename": "ModuleNotFoundError",
     "evalue": "No module named 'faker'",
     "output_type": "error",
     "traceback": [
      "\u001b[1;31m---------------------------------------------------------------------------\u001b[0m",
      "\u001b[1;31mModuleNotFoundError\u001b[0m                       Traceback (most recent call last)",
      "Cell \u001b[1;32mIn[32], line 1\u001b[0m\n\u001b[1;32m----> 1\u001b[0m \u001b[38;5;28;01mimport\u001b[39;00m \u001b[38;5;21;01mfaker\u001b[39;00m\n",
      "\u001b[1;31mModuleNotFoundError\u001b[0m: No module named 'faker'"
     ]
    }
   ],
   "source": [
    "import faker\n"
   ]
  },
  {
   "cell_type": "code",
   "execution_count": 33,
   "id": "4f956a50-e19a-4eae-afdc-c5abf1a40e6c",
   "metadata": {},
   "outputs": [
    {
     "ename": "ModuleNotFoundError",
     "evalue": "No module named 'faker'",
     "output_type": "error",
     "traceback": [
      "\u001b[1;31m---------------------------------------------------------------------------\u001b[0m",
      "\u001b[1;31mModuleNotFoundError\u001b[0m                       Traceback (most recent call last)",
      "Cell \u001b[1;32mIn[33], line 1\u001b[0m\n\u001b[1;32m----> 1\u001b[0m \u001b[38;5;28;01mimport\u001b[39;00m \u001b[38;5;21;01mfaker\u001b[39;00m\n",
      "\u001b[1;31mModuleNotFoundError\u001b[0m: No module named 'faker'"
     ]
    }
   ],
   "source": [
    "import faker\n"
   ]
  },
  {
   "cell_type": "code",
   "execution_count": 34,
   "id": "50235f62-afe1-460b-8cbe-e98bd1cf12e4",
   "metadata": {},
   "outputs": [
    {
     "name": "stdout",
     "output_type": "stream",
     "text": [
      "Defaulting to user installation because normal site-packages is not writeable\n",
      "Requirement already satisfied: faker in c:\\users\\jyo\\appdata\\roaming\\python\\python312\\site-packages (30.3.0)\n",
      "Requirement already satisfied: python-dateutil>=2.4 in c:\\programdata\\anaconda3\\lib\\site-packages (from faker) (2.9.0.post0)\n",
      "Requirement already satisfied: typing-extensions in c:\\programdata\\anaconda3\\lib\\site-packages (from faker) (4.11.0)\n",
      "Requirement already satisfied: six>=1.5 in c:\\programdata\\anaconda3\\lib\\site-packages (from python-dateutil>=2.4->faker) (1.16.0)\n"
     ]
    }
   ],
   "source": [
    "!pip install faker"
   ]
  },
  {
   "cell_type": "code",
   "execution_count": 35,
   "id": "4c9e875b-ce67-41ce-a1c3-2b5fda5a17a9",
   "metadata": {},
   "outputs": [
    {
     "ename": "ModuleNotFoundError",
     "evalue": "No module named 'faker'",
     "output_type": "error",
     "traceback": [
      "\u001b[1;31m---------------------------------------------------------------------------\u001b[0m",
      "\u001b[1;31mModuleNotFoundError\u001b[0m                       Traceback (most recent call last)",
      "Cell \u001b[1;32mIn[35], line 1\u001b[0m\n\u001b[1;32m----> 1\u001b[0m \u001b[38;5;28;01mimport\u001b[39;00m \u001b[38;5;21;01mfaker\u001b[39;00m\n",
      "\u001b[1;31mModuleNotFoundError\u001b[0m: No module named 'faker'"
     ]
    }
   ],
   "source": [
    "import faker"
   ]
  },
  {
   "cell_type": "code",
   "execution_count": 36,
   "id": "d116ac7e-4a85-497b-9da4-4288270e9021",
   "metadata": {},
   "outputs": [
    {
     "name": "stdout",
     "output_type": "stream",
     "text": [
      "C:\\ProgramData\\anaconda3\\python.exe\n"
     ]
    }
   ],
   "source": [
    "import sys\n",
    "print(sys.executable)\n",
    "\n"
   ]
  },
  {
   "cell_type": "code",
   "execution_count": 1,
   "id": "2743c9d2-2027-4a24-bda0-aeb1331cdd3b",
   "metadata": {},
   "outputs": [],
   "source": [
    "import faker"
   ]
  },
  {
   "cell_type": "code",
   "execution_count": 4,
   "id": "7a8fbec3-9bf8-4111-bf2d-b1b4bf714c2f",
   "metadata": {},
   "outputs": [
    {
     "data": {
      "text/plain": [
       "16"
      ]
     },
     "execution_count": 4,
     "metadata": {},
     "output_type": "execute_result"
    }
   ],
   "source": [
    "from faker import Faker\n",
    "from random import randint\n",
    "fake=Faker()\n",
    "f=open(\"BIGFILE.txt\",\"w\")\n",
    "f.write(\"Name,Age,Salary\\n\")"
   ]
  },
  {
   "cell_type": "code",
   "execution_count": 6,
   "id": "3a2cc180-9aeb-4870-bf3a-1ca765eb08d0",
   "metadata": {},
   "outputs": [],
   "source": [
    "for i in range(1000):\n",
    "    row = f\"{fake.name()},{randint(23,60)},{randint(4000000,9000000)}\\n\"\n",
    "    f.write(row)\n",
    "    f.flush()\n"
   ]
  },
  {
   "cell_type": "code",
   "execution_count": 12,
   "id": "5e8e1b9d-8e55-4fe4-9f1b-ab5020385bd3",
   "metadata": {},
   "outputs": [],
   "source": [
    "for i in range(100000):\n",
    "    row = f\"{fake.name()},{randint(23,60)},{randint(4000000,9000000)}\\n\"\n",
    "    f.write(row)\n",
    "    f.flush()"
   ]
  },
  {
   "cell_type": "code",
   "execution_count": 14,
   "id": "139942b6-9a5e-4f98-b8df-686de93c7d53",
   "metadata": {},
   "outputs": [
    {
     "ename": "KeyboardInterrupt",
     "evalue": "",
     "output_type": "error",
     "traceback": [
      "\u001b[1;31m---------------------------------------------------------------------------\u001b[0m",
      "\u001b[1;31mKeyboardInterrupt\u001b[0m                         Traceback (most recent call last)",
      "Cell \u001b[1;32mIn[14], line 3\u001b[0m\n\u001b[0;32m      1\u001b[0m \u001b[38;5;28;01mfor\u001b[39;00m i \u001b[38;5;129;01min\u001b[39;00m \u001b[38;5;28mrange\u001b[39m(\u001b[38;5;241m100000\u001b[39m):\n\u001b[0;32m      2\u001b[0m     \u001b[38;5;28;01mfor\u001b[39;00m i \u001b[38;5;129;01min\u001b[39;00m \u001b[38;5;28mrange\u001b[39m(\u001b[38;5;241m100000\u001b[39m):\n\u001b[1;32m----> 3\u001b[0m         row \u001b[38;5;241m=\u001b[39m \u001b[38;5;124mf\u001b[39m\u001b[38;5;124m\"\u001b[39m\u001b[38;5;132;01m{\u001b[39;00mfake\u001b[38;5;241m.\u001b[39mname()\u001b[38;5;132;01m}\u001b[39;00m\u001b[38;5;124m,\u001b[39m\u001b[38;5;132;01m{\u001b[39;00mrandint(\u001b[38;5;241m23\u001b[39m,\u001b[38;5;241m60\u001b[39m)\u001b[38;5;132;01m}\u001b[39;00m\u001b[38;5;124m,\u001b[39m\u001b[38;5;132;01m{\u001b[39;00mrandint(\u001b[38;5;241m4000000\u001b[39m,\u001b[38;5;241m9000000\u001b[39m)\u001b[38;5;132;01m}\u001b[39;00m\u001b[38;5;130;01m\\n\u001b[39;00m\u001b[38;5;124m\"\u001b[39m\n\u001b[0;32m      4\u001b[0m         f\u001b[38;5;241m.\u001b[39mwrite(row)\n\u001b[0;32m      5\u001b[0m     f\u001b[38;5;241m.\u001b[39mflush()\n",
      "File \u001b[1;32m~\\AppData\\Roaming\\Python\\Python312\\site-packages\\faker\\providers\\person\\__init__.py:205\u001b[0m, in \u001b[0;36mProvider.name\u001b[1;34m(self)\u001b[0m\n\u001b[0;32m    201\u001b[0m \u001b[38;5;28;01mdef\u001b[39;00m \u001b[38;5;21mname\u001b[39m(\u001b[38;5;28mself\u001b[39m) \u001b[38;5;241m-\u001b[39m\u001b[38;5;241m>\u001b[39m \u001b[38;5;28mstr\u001b[39m:\n\u001b[0;32m    202\u001b[0m \u001b[38;5;250m    \u001b[39m\u001b[38;5;124;03m\"\"\"\u001b[39;00m\n\u001b[0;32m    203\u001b[0m \u001b[38;5;124;03m    :example: 'John Doe'\u001b[39;00m\n\u001b[0;32m    204\u001b[0m \u001b[38;5;124;03m    \"\"\"\u001b[39;00m\n\u001b[1;32m--> 205\u001b[0m     pattern: \u001b[38;5;28mstr\u001b[39m \u001b[38;5;241m=\u001b[39m \u001b[38;5;28mself\u001b[39m\u001b[38;5;241m.\u001b[39mrandom_element(\u001b[38;5;28mself\u001b[39m\u001b[38;5;241m.\u001b[39mformats)\n\u001b[0;32m    206\u001b[0m     \u001b[38;5;28;01mreturn\u001b[39;00m \u001b[38;5;28mself\u001b[39m\u001b[38;5;241m.\u001b[39mgenerator\u001b[38;5;241m.\u001b[39mparse(pattern)\n",
      "File \u001b[1;32m~\\AppData\\Roaming\\Python\\Python312\\site-packages\\faker\\providers\\__init__.py:553\u001b[0m, in \u001b[0;36mBaseProvider.random_element\u001b[1;34m(self, elements)\u001b[0m\n\u001b[0;32m    536\u001b[0m \u001b[38;5;28;01mdef\u001b[39;00m \u001b[38;5;21mrandom_element\u001b[39m(\u001b[38;5;28mself\u001b[39m, elements: ElementsType[T] \u001b[38;5;241m=\u001b[39m (\u001b[38;5;124m\"\u001b[39m\u001b[38;5;124ma\u001b[39m\u001b[38;5;124m\"\u001b[39m, \u001b[38;5;124m\"\u001b[39m\u001b[38;5;124mb\u001b[39m\u001b[38;5;124m\"\u001b[39m, \u001b[38;5;124m\"\u001b[39m\u001b[38;5;124mc\u001b[39m\u001b[38;5;124m\"\u001b[39m)) \u001b[38;5;241m-\u001b[39m\u001b[38;5;241m>\u001b[39m T:\n\u001b[0;32m    537\u001b[0m \u001b[38;5;250m    \u001b[39m\u001b[38;5;124;03m\"\"\"Generate a randomly sampled object from ``elements``.\u001b[39;00m\n\u001b[0;32m    538\u001b[0m \n\u001b[0;32m    539\u001b[0m \u001b[38;5;124;03m    For information on the ``elements`` argument, please refer to\u001b[39;00m\n\u001b[1;32m   (...)\u001b[0m\n\u001b[0;32m    550\u001b[0m \u001b[38;5;124;03m             ])\u001b[39;00m\n\u001b[0;32m    551\u001b[0m \u001b[38;5;124;03m    \"\"\"\u001b[39;00m\n\u001b[1;32m--> 553\u001b[0m     \u001b[38;5;28;01mreturn\u001b[39;00m \u001b[38;5;28mself\u001b[39m\u001b[38;5;241m.\u001b[39mrandom_elements(elements, length\u001b[38;5;241m=\u001b[39m\u001b[38;5;241m1\u001b[39m)[\u001b[38;5;241m0\u001b[39m]\n",
      "File \u001b[1;32m~\\AppData\\Roaming\\Python\\Python312\\site-packages\\faker\\providers\\__init__.py:501\u001b[0m, in \u001b[0;36mBaseProvider.random_elements\u001b[1;34m(self, elements, length, unique, use_weighting)\u001b[0m\n\u001b[0;32m    498\u001b[0m     choices \u001b[38;5;241m=\u001b[39m elements\n\u001b[0;32m    499\u001b[0m     probabilities \u001b[38;5;241m=\u001b[39m \u001b[38;5;28;01mNone\u001b[39;00m\n\u001b[1;32m--> 501\u001b[0m \u001b[38;5;28;01mreturn\u001b[39;00m fn(\n\u001b[0;32m    502\u001b[0m     \u001b[38;5;28mtuple\u001b[39m(choices),\n\u001b[0;32m    503\u001b[0m     probabilities,\n\u001b[0;32m    504\u001b[0m     \u001b[38;5;28mself\u001b[39m\u001b[38;5;241m.\u001b[39mgenerator\u001b[38;5;241m.\u001b[39mrandom,\n\u001b[0;32m    505\u001b[0m     length\u001b[38;5;241m=\u001b[39mlength,\n\u001b[0;32m    506\u001b[0m )\n",
      "File \u001b[1;32m~\\AppData\\Roaming\\Python\\Python312\\site-packages\\faker\\utils\\distribution.py:73\u001b[0m, in \u001b[0;36mchoices_distribution\u001b[1;34m(a, p, random, length)\u001b[0m\n\u001b[0;32m     71\u001b[0m         \u001b[38;5;28;01mreturn\u001b[39;00m [random\u001b[38;5;241m.\u001b[39mchoice(a)]\n\u001b[0;32m     72\u001b[0m     \u001b[38;5;28;01melse\u001b[39;00m:\n\u001b[1;32m---> 73\u001b[0m         \u001b[38;5;28;01mreturn\u001b[39;00m random\u001b[38;5;241m.\u001b[39mchoices(a, weights\u001b[38;5;241m=\u001b[39mp, k\u001b[38;5;241m=\u001b[39mlength)\n\u001b[0;32m     74\u001b[0m \u001b[38;5;28;01melse\u001b[39;00m:\n\u001b[0;32m     75\u001b[0m     choices \u001b[38;5;241m=\u001b[39m []\n",
      "File \u001b[1;32mC:\\ProgramData\\anaconda3\\Lib\\random.py:488\u001b[0m, in \u001b[0;36mRandom.choices\u001b[1;34m(self, population, weights, cum_weights, k)\u001b[0m\n\u001b[0;32m    486\u001b[0m bisect \u001b[38;5;241m=\u001b[39m _bisect\n\u001b[0;32m    487\u001b[0m hi \u001b[38;5;241m=\u001b[39m n \u001b[38;5;241m-\u001b[39m \u001b[38;5;241m1\u001b[39m\n\u001b[1;32m--> 488\u001b[0m \u001b[38;5;28;01mreturn\u001b[39;00m [population[bisect(cum_weights, random() \u001b[38;5;241m*\u001b[39m total, \u001b[38;5;241m0\u001b[39m, hi)]\n\u001b[0;32m    489\u001b[0m         \u001b[38;5;28;01mfor\u001b[39;00m i \u001b[38;5;129;01min\u001b[39;00m _repeat(\u001b[38;5;28;01mNone\u001b[39;00m, k)]\n",
      "\u001b[1;31mKeyboardInterrupt\u001b[0m: "
     ]
    }
   ],
   "source": [
    "\n",
    "for i in range(100000):\n",
    "    for i in range(100000):\n",
    "        row = f\"{fake.name()},{randint(23,60)},{randint(4000000,9000000)}\\n\"\n",
    "        f.write(row)\n",
    "    f.flush()\n"
   ]
  },
  {
   "cell_type": "code",
   "execution_count": 64,
   "id": "8ce6df71-7d42-4dc8-bec7-c3e2fd108c3a",
   "metadata": {},
   "outputs": [],
   "source": [
    "f.close()"
   ]
  },
  {
   "cell_type": "code",
   "execution_count": null,
   "id": "4cddcf2d-85cf-48d2-914a-c5a973b1818a",
   "metadata": {},
   "outputs": [],
   "source": [
    "# sum of salaries\n",
    "# Top ten salaried employee names.\n",
    "# how many number employees are taking salaries more than average salary\n",
    "\n",
    "\n",
    "\n",
    "#  'write', 'writable', 'write_through', 'writelines',  'buffer', 'close', 'closed', 'detach', 'encoding', 'errors', 'fileno', 'flush', \n",
    "# 'isatty', 'line_buffering', 'mode', 'name', 'newlines', 'read', 'readable', 'readline', \n",
    "# 'readlines', 'reconfigure', 'seek', 'seekable', 'tell', 'truncate',  \n",
    "# "
   ]
  },
  {
   "cell_type": "code",
   "execution_count": 2,
   "id": "4ad35826-b0f5-4a1f-a6ee-12039b095303",
   "metadata": {},
   "outputs": [
    {
     "name": "stdout",
     "output_type": "stream",
     "text": [
      "{'name': 'Akhil', 'age': 26, 'tech': 'Python'} <class 'str'>\n",
      "{'name': 'Akhil', 'age': 26, 'tech': 'Python'} <class 'dict'>\n"
     ]
    }
   ],
   "source": [
    "data = {\"name\": \"Akhil\", \"age\": 26, \"tech\":\"Python\"}\n",
    "f = open(\"dict_str.txt\", \"w\")\n",
    "f.write(str(data))\n",
    "f.close()\n",
    "import json\n",
    "f = open(\"dict_str.txt\", \"r\")\n",
    "data1 = f.read()\n",
    "print(data1, type(data1))\n",
    "data1 = data1.replace(\"'\", '\"')\n",
    "data2 = json.loads(data1)\n",
    "print(data2, type(data2))\n",
    "f.close()"
   ]
  },
  {
   "cell_type": "code",
   "execution_count": 65,
   "id": "a7298f1a-6151-4c67-8a1b-346980ba09f8",
   "metadata": {},
   "outputs": [],
   "source": [
    "import pandas\n"
   ]
  },
  {
   "cell_type": "code",
   "execution_count": 66,
   "id": "7c4c5354-b83e-4247-be29-e0ee989a395c",
   "metadata": {},
   "outputs": [
    {
     "name": "stdout",
     "output_type": "stream",
     "text": [
      "['ArrowDtype', 'BooleanDtype', 'Categorical', 'CategoricalDtype', 'CategoricalIndex', 'DataFrame', 'DateOffset', 'DatetimeIndex', 'DatetimeTZDtype', 'ExcelFile', 'ExcelWriter', 'Flags', 'Float32Dtype', 'Float64Dtype', 'Grouper', 'HDFStore', 'Index', 'IndexSlice', 'Int16Dtype', 'Int32Dtype', 'Int64Dtype', 'Int8Dtype', 'Interval', 'IntervalDtype', 'IntervalIndex', 'MultiIndex', 'NA', 'NaT', 'NamedAgg', 'Period', 'PeriodDtype', 'PeriodIndex', 'RangeIndex', 'Series', 'SparseDtype', 'StringDtype', 'Timedelta', 'TimedeltaIndex', 'Timestamp', 'UInt16Dtype', 'UInt32Dtype', 'UInt64Dtype', 'UInt8Dtype', '__all__', '__builtins__', '__cached__', '__doc__', '__docformat__', '__file__', '__git_version__', '__loader__', '__name__', '__package__', '__path__', '__spec__', '__version__', '_built_with_meson', '_config', '_is_numpy_dev', '_libs', '_pandas_datetime_CAPI', '_pandas_parser_CAPI', '_testing', '_typing', '_version_meson', 'annotations', 'api', 'array', 'arrays', 'bdate_range', 'compat', 'concat', 'core', 'crosstab', 'cut', 'date_range', 'describe_option', 'errors', 'eval', 'factorize', 'from_dummies', 'get_dummies', 'get_option', 'infer_freq', 'interval_range', 'io', 'isna', 'isnull', 'json_normalize', 'lreshape', 'melt', 'merge', 'merge_asof', 'merge_ordered', 'notna', 'notnull', 'offsets', 'option_context', 'options', 'pandas', 'period_range', 'pivot', 'pivot_table', 'plotting', 'qcut', 'read_clipboard', 'read_csv', 'read_excel', 'read_feather', 'read_fwf', 'read_gbq', 'read_hdf', 'read_html', 'read_json', 'read_orc', 'read_parquet', 'read_pickle', 'read_sas', 'read_spss', 'read_sql', 'read_sql_query', 'read_sql_table', 'read_stata', 'read_table', 'read_xml', 'reset_option', 'set_eng_float_format', 'set_option', 'show_versions', 'test', 'testing', 'timedelta_range', 'to_datetime', 'to_numeric', 'to_pickle', 'to_timedelta', 'tseries', 'unique', 'util', 'value_counts', 'wide_to_long']\n"
     ]
    }
   ],
   "source": [
    "print(dir(pandas))"
   ]
  },
  {
   "cell_type": "code",
   "execution_count": null,
   "id": "fdc913f3-2d1f-4512-8121-43e157538a08",
   "metadata": {},
   "outputs": [],
   "source": [
    "# 'annotations', 'api', 'array', 'arrays', 'bdate_range', 'compat', 'concat', 'core',\n",
    "# 'crosstab', 'cut', 'date_range', 'describe_option', 'errors', 'eval', 'factorize', \n",
    "# 'from_dummies', 'get_dummies', 'get_option', 'infer_freq', 'interval_range', 'io', \n",
    "# 'isna', 'isnull', 'json_normalize', 'lreshape', 'melt', 'merge', 'merge_asof',\n",
    "# 'merge_ordered', 'notna', 'notnull', 'offsets', 'option_context', 'options', \n",
    "# 'pandas', 'period_range', 'pivot', 'pivot_table', 'plotting', 'qcut', 'read_clipboard', \n",
    "# 'read_csv', 'read_excel', 'read_feather', 'read_fwf', 'read_gbq', 'read_hdf', 'read_html', \n",
    "# 'read_json', 'read_orc', 'read_parquet', 'read_pickle', 'read_sas', 'read_spss', 'read_sql', \n",
    "# 'read_sql_query', 'read_sql_table', 'read_stata', 'read_table', 'read_xml', 'reset_option', \n",
    "# 'set_eng_float_format', 'set_option', 'show_versions', 'test', 'testing', 'timedelta_range', \n",
    "# 'to_datetime', 'to_numeric', 'to_pickle', 'to_timedelta', 'tseries', 'unique', 'util', 'value_counts', 'wide_to_long'\n",
    "\n"
   ]
  },
  {
   "cell_type": "code",
   "execution_count": null,
   "id": "e91565b3-da23-4fd2-a2a8-8499e5f11736",
   "metadata": {},
   "outputs": [],
   "source": [
    "from faker import Faker\n",
    "from random import randint\n",
    "fake=Faker()\n",
    "f=open(\"BIGFILE.txt\",\"a\")\n",
    "for i in range(100000):\n",
    "    for i in range(100):\n",
    "        row = f\"{fake.name()},{randint(23,60)},{randint(4000000,9000000)}\\n\"\n",
    "        f.write(row)\n",
    "    f.flush()\n"
   ]
  },
  {
   "cell_type": "code",
   "execution_count": 1,
   "id": "3aa3c068-5bdc-458c-bd71-2c8f4ad2dfae",
   "metadata": {},
   "outputs": [
    {
     "ename": "NameError",
     "evalue": "name 'f' is not defined",
     "output_type": "error",
     "traceback": [
      "\u001b[1;31m---------------------------------------------------------------------------\u001b[0m",
      "\u001b[1;31mNameError\u001b[0m                                 Traceback (most recent call last)",
      "Cell \u001b[1;32mIn[1], line 1\u001b[0m\n\u001b[1;32m----> 1\u001b[0m f\u001b[38;5;241m.\u001b[39mclose()\n",
      "\u001b[1;31mNameError\u001b[0m: name 'f' is not defined"
     ]
    }
   ],
   "source": [
    "f.close()"
   ]
  },
  {
   "cell_type": "code",
   "execution_count": null,
   "id": "2ddb2772-ca09-48ef-8c42-716a6bbd4d59",
   "metadata": {},
   "outputs": [],
   "source": []
  }
 ],
 "metadata": {
  "kernelspec": {
   "display_name": "Python 3 (ipykernel)",
   "language": "python",
   "name": "python3"
  },
  "language_info": {
   "codemirror_mode": {
    "name": "ipython",
    "version": 3
   },
   "file_extension": ".py",
   "mimetype": "text/x-python",
   "name": "python",
   "nbconvert_exporter": "python",
   "pygments_lexer": "ipython3",
   "version": "3.12.4"
  }
 },
 "nbformat": 4,
 "nbformat_minor": 5
}
