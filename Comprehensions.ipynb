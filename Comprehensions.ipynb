{
 "cells": [
  {
   "cell_type": "code",
   "execution_count": 2,
   "id": "983cd34d-ab39-4d46-a869-be2860717002",
   "metadata": {},
   "outputs": [
    {
     "name": "stdout",
     "output_type": "stream",
     "text": [
      "[1, 2, 3, 4, 5]\n",
      "['1', '2', '3', '4', '5']\n",
      "1,2,3,4,5\n"
     ]
    }
   ],
   "source": [
    "res = [1,2,3,4,5]\n",
    "res1 = [str(i) for i in res]\n",
    "print(res)\n",
    "print(res1)\n",
    "r1 = \",\".join(res1)\n",
    "print(r1)"
   ]
  },
  {
   "cell_type": "code",
   "execution_count": 3,
   "id": "77922bf9-c3a4-4c09-8f37-dbd7dbd2a26d",
   "metadata": {},
   "outputs": [
    {
     "name": "stdout",
     "output_type": "stream",
     "text": [
      "[1, 2, 3, 4, 5]\n",
      "[False, True, False, True, False]\n"
     ]
    }
   ],
   "source": [
    "def check_even(x):\n",
    "    return x%2 == 0\n",
    "res = [1,2,3,4,5]\n",
    "res1 = [check_even(i) for i in res]\n",
    "print(res)\n",
    "print(res1)"
   ]
  },
  {
   "cell_type": "code",
   "execution_count": 3,
   "id": "b8c39bf7-c769-44b8-831b-fd403dde3ece",
   "metadata": {},
   "outputs": [
    {
     "name": "stdout",
     "output_type": "stream",
     "text": [
      "[1, 2, 3, 4, 5]\n",
      "[False, True, False, True, False]\n"
     ]
    }
   ],
   "source": [
    "def check_even(x):\n",
    "    return x%2 == 0\n",
    "res = [1,2,3,4,5]\n",
    "res1 = [check_even(i) for i in res]\n",
    "print(res)\n",
    "print(res1)"
   ]
  },
  {
   "cell_type": "code",
   "execution_count": 8,
   "id": "702da869-fcc2-4099-becb-ccf9d6f4a868",
   "metadata": {},
   "outputs": [
    {
     "name": "stdout",
     "output_type": "stream",
     "text": [
      "[1, 2, 3, 4, 5]\n",
      "<generator object <genexpr> at 0x0000020C65AFFCA0>\n"
     ]
    }
   ],
   "source": [
    "def check_even(x):\n",
    "    return x%2 == 0\n",
    "res = [1,2,3,4,5]\n",
    "res1 = (check_even(i) for i in res if isinstance(i, int))\n",
    "print(res)\n",
    "print(res1)"
   ]
  },
  {
   "cell_type": "code",
   "execution_count": 9,
   "id": "c964fe47-972d-4d47-aa78-657a4fff8d8b",
   "metadata": {},
   "outputs": [
    {
     "name": "stdout",
     "output_type": "stream",
     "text": [
      "[1, 2, 3, 4, 5]\n",
      "{1: '+VE', 2: '+VE', 3: '+VE', 4: '+VE', 5: '+VE'}\n"
     ]
    }
   ],
   "source": [
    "\n",
    "res = [1,2,3,4,5]\n",
    "res1 = {i: \"+VE\" if i>0 else \"-VE\" for i in res}\n",
    "print(res)\n",
    "\n",
    "print(res1)"
   ]
  },
  {
   "cell_type": "code",
   "execution_count": null,
   "id": "67b196cf-395d-484c-90a6-7304e1f59a1d",
   "metadata": {},
   "outputs": [],
   "source": []
  }
 ],
 "metadata": {
  "kernelspec": {
   "display_name": "Python 3 (ipykernel)",
   "language": "python",
   "name": "python3"
  },
  "language_info": {
   "codemirror_mode": {
    "name": "ipython",
    "version": 3
   },
   "file_extension": ".py",
   "mimetype": "text/x-python",
   "name": "python",
   "nbconvert_exporter": "python",
   "pygments_lexer": "ipython3",
   "version": "3.12.4"
  }
 },
 "nbformat": 4,
 "nbformat_minor": 5
}
