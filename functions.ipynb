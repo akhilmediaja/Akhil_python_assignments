{
 "cells": [
  {
   "cell_type": "code",
   "execution_count": 3,
   "id": "78d6340c-ae75-40c2-8a33-ee096aaa15f2",
   "metadata": {},
   "outputs": [
    {
     "name": "stdout",
     "output_type": "stream",
     "text": [
      "Hello Python\n",
      "result x + y :  12\n",
      "result x - y :  8\n",
      "result x * y :  20\n",
      "result x / y :  5.0\n",
      "result x % y :  0\n",
      "result  x ** y :  100\n",
      "Thank you !\n"
     ]
    }
   ],
   "source": [
    "def add(x, y):  # signature,  x, y are parameters, add is function name\n",
    "    res = x + y # body\n",
    "    print(\"result x + y : \", res) # body\n",
    "def sub(x, y):\n",
    "    res = x - y\n",
    "    print(\"result x - y : \", res)\n",
    "def mul(x, y):\n",
    "    res = x * y\n",
    "    print(\"result x * y : \", res)\n",
    "def div(x, y):\n",
    "    res = x / y\n",
    "    print(\"result x / y : \", res)\n",
    "def modulus(x, y):\n",
    "    res = x % y\n",
    "    print(\"result x % y : \", res)\n",
    "def exponet(x, y):\n",
    "    res = x ** y\n",
    "    print(\"result  x ** y : \", res)\n",
    "print(\"Hello Python\")\n",
    "add(10, 2)\n",
    "sub(10, 2)\n",
    "mul(10, 2)\n",
    "div(10, 2)\n",
    "modulus(10, 2)\n",
    "exponet(10, 2)\n",
    "print(\"Thank you !\")"
   ]
  },
  {
   "cell_type": "code",
   "execution_count": 8,
   "id": "b1454542-f8be-4e3b-a4ce-a438e15d9bf6",
   "metadata": {},
   "outputs": [
    {
     "name": "stdout",
     "output_type": "stream",
     "text": [
      "result x  :  1\n",
      "result x  :  1\n",
      "result x  :  3\n",
      "result x  :  6\n",
      "result x  :  10\n",
      "result x  :  15\n",
      "result x  :  21\n",
      "result x  :  28\n",
      "result x  :  36\n",
      "result x  :  45\n",
      "result x  :  134\n",
      "result x  :  1\n",
      "result x  :  3\n",
      "result x  :  6\n",
      "result x  :  10\n",
      "result x  :  15\n",
      "result x  :  21\n",
      "result x  :  28\n",
      "result x  :  36\n",
      "result x  :  45\n",
      "result x  :  55\n",
      "result x  :  66\n",
      "result x  :  78\n",
      "result x  :  91\n",
      "result x  :  105\n",
      "result x  :  120\n",
      "result x  :  136\n",
      "result x  :  153\n",
      "result x  :  171\n",
      "result x  :  190\n"
     ]
    }
   ],
   "source": [
    "# add 1 requires, optional: minimum 1, maximun: ?\n",
    "def add(x):\n",
    "    res = 0\n",
    "    for i in x:\n",
    "        res += i \n",
    "        print(\"result x  : \", res) \n",
    "\n",
    "a = [1]\n",
    "add(a)\n",
    "b = [1, 2, 3, 4, 5, 6, 7, 8, 9, 89]\n",
    "add(b)\n",
    "c = [1,2,3,4,5,6,7,8,9,10,11,12,13,14,15,16,17,18,19]\n",
    "add(c)"
   ]
  },
  {
   "cell_type": "code",
   "execution_count": 12,
   "id": "795625b6-0837-4e94-880a-4b9281464667",
   "metadata": {},
   "outputs": [
    {
     "name": "stdout",
     "output_type": "stream",
     "text": [
      "result x  :  1 () <class 'tuple'>\n",
      "result x  :  1 (2, 3, 4, 5, 6, 7, 8, 9, 89) <class 'tuple'>\n",
      "result x  :  1 (2, 3, 4, 5, 6, 7, 8, 9, 10, 11, 12, 13, 14, 15, 16, 17, 18, 19) <class 'tuple'>\n"
     ]
    }
   ],
   "source": [
    "# add 1 requires, optional: minimum 1, maximun: ?\n",
    "def add(x, *k):\n",
    "    print(\"result x  : \", x, k, type(k) )\n",
    "\n",
    "\n",
    "add(1)\n",
    "add(1, 2, 3, 4, 5, 6, 7, 8, 9, 89)\n",
    "add(1,2,3,4,5,6,7,8,9,10,11,12,13,14,15,16,17,18,19)"
   ]
  },
  {
   "cell_type": "code",
   "execution_count": 13,
   "id": "63669dbb-903e-4a23-8eee-3fd94bf9efa6",
   "metadata": {
    "scrolled": true
   },
   "outputs": [
    {
     "name": "stdout",
     "output_type": "stream",
     "text": [
      "result x  :  1 {} <class 'dict'>\n"
     ]
    },
    {
     "ename": "TypeError",
     "evalue": "add() takes 1 positional argument but 10 were given",
     "output_type": "error",
     "traceback": [
      "\u001b[1;31m---------------------------------------------------------------------------\u001b[0m",
      "\u001b[1;31mTypeError\u001b[0m                                 Traceback (most recent call last)",
      "Cell \u001b[1;32mIn[13], line 7\u001b[0m\n\u001b[0;32m      3\u001b[0m     \u001b[38;5;28mprint\u001b[39m(\u001b[38;5;124m\"\u001b[39m\u001b[38;5;124mresult x  : \u001b[39m\u001b[38;5;124m\"\u001b[39m, x, k, \u001b[38;5;28mtype\u001b[39m(k) )\n\u001b[0;32m      6\u001b[0m add(\u001b[38;5;241m1\u001b[39m)\n\u001b[1;32m----> 7\u001b[0m add(\u001b[38;5;241m1\u001b[39m, \u001b[38;5;241m2\u001b[39m, \u001b[38;5;241m3\u001b[39m, \u001b[38;5;241m4\u001b[39m, \u001b[38;5;241m5\u001b[39m, \u001b[38;5;241m6\u001b[39m, \u001b[38;5;241m7\u001b[39m, \u001b[38;5;241m8\u001b[39m, \u001b[38;5;241m9\u001b[39m, \u001b[38;5;241m89\u001b[39m)\n\u001b[0;32m      8\u001b[0m add(\u001b[38;5;241m1\u001b[39m,\u001b[38;5;241m2\u001b[39m,\u001b[38;5;241m3\u001b[39m,\u001b[38;5;241m4\u001b[39m,\u001b[38;5;241m5\u001b[39m,\u001b[38;5;241m6\u001b[39m,\u001b[38;5;241m7\u001b[39m,\u001b[38;5;241m8\u001b[39m,\u001b[38;5;241m9\u001b[39m,\u001b[38;5;241m10\u001b[39m,\u001b[38;5;241m11\u001b[39m,\u001b[38;5;241m12\u001b[39m,\u001b[38;5;241m13\u001b[39m,\u001b[38;5;241m14\u001b[39m,\u001b[38;5;241m15\u001b[39m,\u001b[38;5;241m16\u001b[39m,\u001b[38;5;241m17\u001b[39m,\u001b[38;5;241m18\u001b[39m,\u001b[38;5;241m19\u001b[39m)\n",
      "\u001b[1;31mTypeError\u001b[0m: add() takes 1 positional argument but 10 were given"
     ]
    }
   ],
   "source": [
    "# add 1 requires, optional: minimum 1, maximun: ?\n",
    "def add(x, **k):\n",
    "    print(\"result x  : \", x, k, type(k) )\n",
    "\n",
    "\n",
    "add(1)\n",
    "add(1, 2, 3, 4)"
   ]
  },
  {
   "cell_type": "code",
   "execution_count": null,
   "id": "d79d5d33-b3e3-4104-bc8b-1bf7fd3f8f31",
   "metadata": {},
   "outputs": [],
   "source": [
    "#  *k: *args, **k: kwargs"
   ]
  },
  {
   "cell_type": "code",
   "execution_count": 14,
   "id": "0ce36b8b-7f53-48a2-bf98-5c648201845f",
   "metadata": {},
   "outputs": [
    {
     "name": "stdout",
     "output_type": "stream",
     "text": [
      "result x  :  1 {} <class 'dict'>\n",
      "result x  :  1 {'a': 2, 'b': 3, 'c': 4} <class 'dict'>\n"
     ]
    }
   ],
   "source": [
    "# add 1 requires, optional: minimum 1, maximun: ?\n",
    "def add(x, **k):\n",
    "    print(\"result x  : \", x, k, type(k) )\n",
    "\n",
    "\n",
    "add(1)\n",
    "add(1, a= 2, b= 3, c =4)"
   ]
  },
  {
   "cell_type": "code",
   "execution_count": 15,
   "id": "6d56aa13-8ffe-49f4-af6b-64085e887c02",
   "metadata": {},
   "outputs": [
    {
     "name": "stdout",
     "output_type": "stream",
     "text": [
      "10\n",
      "200\n",
      "1000\n"
     ]
    }
   ],
   "source": [
    "x = 1000\n",
    "def fun(x, y):\n",
    "    print(x)\n",
    "    x = 200\n",
    "    print(x)\n",
    "\n",
    "fun(10,20)\n",
    "print(x)"
   ]
  },
  {
   "cell_type": "code",
   "execution_count": 16,
   "id": "4a4a67e6-3f3f-4f3d-ad67-f7e8813ce8f3",
   "metadata": {},
   "outputs": [
    {
     "name": "stdout",
     "output_type": "stream",
     "text": [
      "[20, 2, 3, 4]\n"
     ]
    }
   ],
   "source": [
    "x = [1,2,3,4]\n",
    "def fun(k):\n",
    "    k[0] = 20\n",
    "\n",
    "fun(x)\n",
    "print(x)"
   ]
  },
  {
   "cell_type": "code",
   "execution_count": 21,
   "id": "1db86f7f-890f-4420-8d2d-2a792849df43",
   "metadata": {},
   "outputs": [
    {
     "name": "stdout",
     "output_type": "stream",
     "text": [
      "0\n",
      "<function add at 0x00000201BB02B240> 2206455718560 <class 'function'>\n"
     ]
    }
   ],
   "source": [
    "x = 0\n",
    "def fun(k):\n",
    "    k = 20\n",
    "\n",
    "# fun(x)\n",
    "print(x)\n",
    "print(add, id(fun), type(fun))"
   ]
  },
  {
   "cell_type": "code",
   "execution_count": 23,
   "id": "a75fb366-3432-44de-9299-7346eff5a147",
   "metadata": {},
   "outputs": [
    {
     "name": "stdout",
     "output_type": "stream",
     "text": [
      "x 2206479396336\n",
      "y,  2206479394960\n",
      "a 2206479396336\n"
     ]
    }
   ],
   "source": [
    "x = 1000\n",
    "print(\"x\", id(x))\n",
    "y = 2000\n",
    "print(\"y, \", id(y))\n",
    "\n",
    "def add(a, b):\n",
    "    print(\"a\", id(a))\n",
    "\n",
    "add(x, y)"
   ]
  },
  {
   "cell_type": "code",
   "execution_count": 24,
   "id": "8c42169d-cbc7-4bce-bdb9-5fb0e1b45b7a",
   "metadata": {},
   "outputs": [
    {
     "name": "stdout",
     "output_type": "stream",
     "text": [
      "x 2206479398000\n",
      "y,  2206479396048\n",
      "a 2206479398000\n"
     ]
    }
   ],
   "source": [
    "x = 1000\n",
    "print(\"x\", id(x))\n",
    "y = 2000\n",
    "print(\"y, \", id(y))\n",
    "def add(a, b):\n",
    "    print(\"a\", id(a))\n",
    "\n",
    "add(x, y)"
   ]
  },
  {
   "cell_type": "code",
   "execution_count": 13,
   "id": "9551c106-c4cb-4117-b008-98f9064be7ee",
   "metadata": {},
   "outputs": [
    {
     "name": "stdout",
     "output_type": "stream",
     "text": [
      "1000 2123113290352\n",
      "2000 2123113290576\n",
      "3000 2123113291312\n",
      "<function fun at 0x000001EE52552480> 2123095155840\n",
      "1000 2123113290352\n",
      "2000 2123113290576\n",
      "3000 2123113290992\n",
      "10 140707949263576\n",
      "20 140707949263896\n",
      "inside fun x = 10, y = 20, z = 123\n"
     ]
    }
   ],
   "source": [
    "x = 1000\n",
    "print(x, id(x))\n",
    "y = 2000\n",
    "print(y, id(y))\n",
    "z = 3000\n",
    "print(z, id(z))\n",
    "def fun(a, b):\n",
    "    print(a, id(a))\n",
    "    print(b, id(b))\n",
    "    c = a +b\n",
    "    print(c, id(c))\n",
    "    x = 10\n",
    "    print(x, id(x))\n",
    "    y = 20\n",
    "    print(y, id(y))\n",
    "    \n",
    "    print(f\"inside fun x = {x}, y = {y}, z = {z}\")\n",
    "print(fun, id(fun))\n",
    "fun(x,y)\n",
    "# print(f\"outside fun x = {x}, y = {y}, z = {z}\")"
   ]
  },
  {
   "cell_type": "code",
   "execution_count": 4,
   "id": "f8ec9dca-c96c-420b-b981-cc3cd513b0bf",
   "metadata": {},
   "outputs": [
    {
     "name": "stdout",
     "output_type": "stream",
     "text": [
      "30\n",
      "-10\n",
      "200\n",
      "None None None\n"
     ]
    }
   ],
   "source": [
    "def add(x, y):\n",
    "    z = x + y\n",
    "    print(z)\n",
    "def sub(x, y):\n",
    "    z = x - y\n",
    "    print(z)\n",
    "def mul(x, y):\n",
    "    z = x * y\n",
    "    print(z)\n",
    "\n",
    "res1 = add(10, 20)\n",
    "res2 = sub(10, 20)\n",
    "res3 = mul(10, 20)\n",
    "print(res1, res2, res3)"
   ]
  },
  {
   "cell_type": "code",
   "execution_count": 6,
   "id": "d42e8532-183a-4e6c-a0ba-c3522acf93e2",
   "metadata": {},
   "outputs": [
    {
     "name": "stdout",
     "output_type": "stream",
     "text": [
      "30\n",
      "-10\n",
      "200\n",
      "(30, 200) <class 'tuple'> B None\n"
     ]
    }
   ],
   "source": [
    "def add(x, y):\n",
    "    z = x + y\n",
    "    a = x * y\n",
    "    print(z)\n",
    "    return z, a\n",
    "def sub(x, y):\n",
    "    z = x - y\n",
    "    print(z)\n",
    "    return \"B\"\n",
    "def mul(x, y):\n",
    "    z = x * y\n",
    "    print(z)\n",
    "\n",
    "res1 = add(10, 20)\n",
    "res2 = sub(10, 20)\n",
    "res3 = mul(10, 20)\n",
    "print(res1, type(res1), res2, res3)"
   ]
  },
  {
   "cell_type": "code",
   "execution_count": 6,
   "id": "641ec61f-c37f-4a33-b0f4-266127dae750",
   "metadata": {},
   "outputs": [
    {
     "name": "stdout",
     "output_type": "stream",
     "text": [
      "30\n",
      "-10\n",
      "200\n",
      "(30, 200) <class 'tuple'> B None\n"
     ]
    }
   ],
   "source": [
    "def add(x, y):\n",
    "    z = x + y\n",
    "    a = x * y\n",
    "    print(z)\n",
    "    return z, a\n",
    "def sub(x, y):\n",
    "    z = x - y\n",
    "    print(z)\n",
    "    return \"B\"\n",
    "def mul(x, y):\n",
    "    z = x * y\n",
    "    print(z)\n",
    "\n",
    "res1 = add(10, 20)\n",
    "res2 = sub(10, 20)\n",
    "res3 = mul(10, 20)\n",
    "print(res1, type(res1), res2, res3)"
   ]
  },
  {
   "cell_type": "code",
   "execution_count": 16,
   "id": "7850c6d2-93f3-43a7-842a-bfbcbe87f24c",
   "metadata": {},
   "outputs": [
    {
     "name": "stdout",
     "output_type": "stream",
     "text": [
      "1000 2123113290864\n",
      "2000 2123113291504\n",
      "3000 2123113290416\n",
      "values before function defination : x = 1000, y = 2000, z =3000\n",
      "<function fun at 0x000001EE52553100> 2123095159040\n",
      "123 140707949267192\n",
      "456 2123113292016\n",
      "4000 2123113291344\n",
      "5000 2123113290736\n",
      "6000 2123113291760\n",
      "result = 579\n",
      "values with in the function :  x = 4000, y = 5000, z = 6000\n",
      "579 2123113289872\n",
      "values after the function :  x = 4000, y = 2000, z = 3000\n",
      "579\n"
     ]
    }
   ],
   "source": [
    "x = 1000\n",
    "print(x,id(x))\n",
    "y = 2000\n",
    "print(y,id(y))\n",
    "z = 3000\n",
    "print(z,id(z))\n",
    "print(f\"values before function defination : x = {x}, y = {y}, z ={z}\")\n",
    "def fun(a, b):\n",
    "    print(a, id(a))\n",
    "    print(b, id(b))\n",
    "    global x\n",
    "    x = 4000\n",
    "    print(x,id(x))\n",
    "    y = 5000\n",
    "    print(y,id(y))\n",
    "    z = 6000\n",
    "    c = a + b\n",
    "    print(z,id(z))\n",
    "    print(\"result =\", c)\n",
    "    print(f\"values with in the function :  x = {x}, y = {y}, z = {z}\")\n",
    "    return c\n",
    "print(fun,id(fun))\n",
    "res = fun(123, 456)\n",
    "print(res, id(res))\n",
    "print(f\"values after the function :  x = {x}, y = {y}, z = {z}\")\n",
    "print(res)"
   ]
  },
  {
   "cell_type": "code",
   "execution_count": 3,
   "id": "598d344b-aba2-42ee-ab4f-d009f7c18e02",
   "metadata": {},
   "outputs": [
    {
     "name": "stdout",
     "output_type": "stream",
     "text": [
      "Program Started\n",
      "<function fun at 0x000001B50CE9EA20> 1877117364768\n",
      "<generator object fun at 0x000001B50CCD5B40> 1877115493184\n",
      "hello\n",
      "10\n",
      "hello\n",
      "hello\n",
      "20\n",
      "hello\n",
      "hello\n",
      "30\n",
      "hello\n",
      "Program Ended\n"
     ]
    }
   ],
   "source": [
    "print(\"Program Started\")\n",
    "def fun():\n",
    "    print(\"hello\")\n",
    "    yield 10\n",
    "    print(\"hello\")\n",
    "    yield 20\n",
    "    print(\"hello\")\n",
    "    yield 30\n",
    "print(fun, id(fun))\n",
    "res = fun()\n",
    "print(res, id(res))\n",
    "for i in res:\n",
    "    print(i)\n",
    "    print(\"hello\")\n",
    "print(\"Program Ended\")\n"
   ]
  },
  {
   "cell_type": "code",
   "execution_count": 18,
   "id": "0b80411b-ad14-4822-be53-6a6c76c0f071",
   "metadata": {},
   "outputs": [
    {
     "name": "stdout",
     "output_type": "stream",
     "text": [
      "<generator object count_up_to at 0x000001EE5373D840>\n"
     ]
    }
   ],
   "source": [
    "def count_up_to(max_value):\n",
    "    count = 1\n",
    "    while count <= max_value:\n",
    "        yield count\n",
    "        count += 1\n",
    "print(count_up_to(10))\n"
   ]
  },
  {
   "cell_type": "code",
   "execution_count": 8,
   "id": "c423703e-e9a2-439b-a306-8810425a82d2",
   "metadata": {},
   "outputs": [
    {
     "name": "stdout",
     "output_type": "stream",
     "text": [
      "0\n",
      "1\n",
      "2\n",
      "3\n",
      "4\n"
     ]
    }
   ],
   "source": [
    "def generate_numbers(n):\n",
    "    for i in range(n):\n",
    "        yield i\n",
    "\n",
    "gen = generate_numbers(5)\n",
    "\n",
    "for num in gen:\n",
    "    print(num)\n"
   ]
  },
  {
   "cell_type": "code",
   "execution_count": 1,
   "id": "95cdead3-6b0c-4d98-8cb7-ed41f899b7af",
   "metadata": {},
   "outputs": [
    {
     "name": "stdout",
     "output_type": "stream",
     "text": [
      "jgj = <function fun at 0x000002BB368CF240>\n"
     ]
    }
   ],
   "source": [
    "def fun():\n",
    "    print(\"Hello\")\n",
    "    return 20\n",
    "res = fun\n",
    "print(\"jgj =\", res)"
   ]
  },
  {
   "cell_type": "code",
   "execution_count": 1,
   "id": "94799bb6-27e4-45fa-92b1-85f290b64597",
   "metadata": {},
   "outputs": [
    {
     "name": "stdout",
     "output_type": "stream",
     "text": [
      "jgj = <function fun at 0x000002BB368CF240>\n"
     ]
    }
   ],
   "source": [
    "def fun():\n",
    "    print(\"Hello\")\n",
    "    return 20\n",
    "res = fun\n",
    "print(\"jgj =\", res)"
   ]
  },
  {
   "cell_type": "code",
   "execution_count": 3,
   "id": "61e25652-46e3-48a0-93b5-ff45c6219ebb",
   "metadata": {},
   "outputs": [
    {
     "name": "stdout",
     "output_type": "stream",
     "text": [
      "Hello\n",
      "<function fun at 0x000002BB368CF2E0> 20\n"
     ]
    }
   ],
   "source": [
    "def fun():\n",
    "    print(\"Hello\")\n",
    "    return 20\n",
    "res = fun\n",
    "res1 = fun()\n",
    "print(res, res1)"
   ]
  },
  {
   "cell_type": "code",
   "execution_count": 6,
   "id": "f9bc7c2c-515a-4508-b3b1-41a8ef76a58d",
   "metadata": {},
   "outputs": [
    {
     "name": "stdout",
     "output_type": "stream",
     "text": [
      "Hello\n",
      "<function fun at 0x000002BB368CFD80> 20\n",
      "Hello\n",
      "20\n"
     ]
    }
   ],
   "source": [
    "def fun():\n",
    "    print(\"Hello\")\n",
    "    return 20\n",
    "res = fun\n",
    "res1 = fun()\n",
    "print(res, res1)\n",
    "r1 = res()\n",
    "print(r1)"
   ]
  },
  {
   "cell_type": "code",
   "execution_count": 11,
   "id": "2d2d8107-8059-41c3-ac92-61d9055d2eb9",
   "metadata": {},
   "outputs": [
    {
     "name": "stdout",
     "output_type": "stream",
     "text": [
      "Hi\n",
      "Hello\n",
      "Result <function fun.<locals>.inner at 0x000002BB368CECA0>\n"
     ]
    }
   ],
   "source": [
    "def fun():\n",
    "    print(\"Hi\")\n",
    "    print(\"Hello\")\n",
    "    def inner():\n",
    "        print(\"inner\")\n",
    "        return 20\n",
    "    return inner\n",
    "res = fun()\n",
    "\n",
    "print(\"Result\", res)\n"
   ]
  },
  {
   "cell_type": "code",
   "execution_count": 13,
   "id": "a0a1a9e8-6948-4b15-a457-401918e467cf",
   "metadata": {},
   "outputs": [
    {
     "name": "stdout",
     "output_type": "stream",
     "text": [
      "Hi\n",
      "Hello\n",
      "inner\n",
      "Result 20\n"
     ]
    }
   ],
   "source": [
    "def fun():\n",
    "    print(\"Hi\")\n",
    "    print(\"Hello\")\n",
    "    def inner():\n",
    "        print(\"inner\")\n",
    "        return 20\n",
    "    return inner\n",
    "res = fun()\n",
    "print(\"Result\", res())"
   ]
  },
  {
   "cell_type": "code",
   "execution_count": 17,
   "id": "fe5c5f4e-c2cc-4978-be41-e6b5b47e67f3",
   "metadata": {},
   "outputs": [
    {
     "name": "stdout",
     "output_type": "stream",
     "text": [
      "hello\n"
     ]
    }
   ],
   "source": [
    "for i in \"Akhil\":\n",
    "    if i == \"z\":\n",
    "        print(\"hi\")\n",
    "else:\n",
    "    print(\"hello\")"
   ]
  },
  {
   "cell_type": "code",
   "execution_count": 20,
   "id": "dc7cc1bf-2632-46ba-beff-276c1d85ee23",
   "metadata": {},
   "outputs": [
    {
     "name": "stdout",
     "output_type": "stream",
     "text": [
      "10 20\n",
      "30\n",
      "Result None\n"
     ]
    }
   ],
   "source": [
    "def add(x,y):\n",
    "    print(x, y)\n",
    "    return  x + y\n",
    "    \n",
    "def operartions(op):\n",
    "    r1 = op(10, 20)\n",
    "    print(r1)\n",
    "res = operartions(add)\n",
    "print(\"Result\", res)"
   ]
  },
  {
   "cell_type": "code",
   "execution_count": 1,
   "id": "a4dd3f72-17fb-4775-89e7-c38eea6b5d68",
   "metadata": {},
   "outputs": [
    {
     "name": "stdout",
     "output_type": "stream",
     "text": [
      "This is Operation\n",
      "x = 2, y = 4 \n",
      "result -2\n",
      "Result - 1 None\n",
      "This is Operation\n",
      "x = 4, y = 5 \n",
      "result 9\n",
      "Result - 2 None\n"
     ]
    }
   ],
   "source": [
    "def add(x,y):\n",
    "    print(f\"x = {x}, y = {y} \")\n",
    "    return  x + y\n",
    "\n",
    "def sub(x,y):\n",
    "    print(f\"x = {x}, y = {y} \")\n",
    "    return  x - y\n",
    "    \n",
    "def operartions(fun, a ,b):\n",
    "    print(\"This is Operation\")\n",
    "    res = fun(a, b)\n",
    "    print(\"result\", res)\n",
    "r1 = operartions(sub, 2, 4)\n",
    "print(\"Result - 1\", r1)\n",
    "r2 = operartions(add, 4, 5)\n",
    "print(\"Result - 2\", r2)"
   ]
  },
  {
   "cell_type": "code",
   "execution_count": null,
   "id": "acdd4f67-05a3-4734-9b8d-7b66bab6a8c6",
   "metadata": {},
   "outputs": [],
   "source": []
  },
  {
   "cell_type": "code",
   "execution_count": null,
   "id": "b0d3f675-ea57-4fbd-88f1-7bbc73e4b3e9",
   "metadata": {},
   "outputs": [],
   "source": []
  }
 ],
 "metadata": {
  "kernelspec": {
   "display_name": "Python 3 (ipykernel)",
   "language": "python",
   "name": "python3"
  },
  "language_info": {
   "codemirror_mode": {
    "name": "ipython",
    "version": 3
   },
   "file_extension": ".py",
   "mimetype": "text/x-python",
   "name": "python",
   "nbconvert_exporter": "python",
   "pygments_lexer": "ipython3",
   "version": "3.12.4"
  }
 },
 "nbformat": 4,
 "nbformat_minor": 5
}
