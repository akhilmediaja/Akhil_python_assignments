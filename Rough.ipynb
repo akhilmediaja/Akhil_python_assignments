{
 "cells": [
  {
   "cell_type": "code",
   "execution_count": 5,
   "id": "d7579669-bec8-4c2a-87b0-2fc6aed423ce",
   "metadata": {},
   "outputs": [
    {
     "name": "stdout",
     "output_type": "stream",
     "text": [
      "2 3 5 7 "
     ]
    }
   ],
   "source": [
    "#2, 3, 5, 7, 11, 13, 17, 19, 23, 29, 31, 37, 41, 43, 47, 53, 59, 61, 67, 71, 73, 79, 83, 89, 97.\n",
    "\n",
    "\n",
    "n = 10\n",
    "\n",
    "\n",
    "for i in range(1, n+1):# i = 1, i = 2\n",
    "    count = 0 \n",
    "    for j in range(1, i+1): # j = 1, \n",
    "        if i % j == 0:\n",
    "            count += 1\n",
    "    if count == 2:\n",
    "        print(i, end=\" \")\n",
    "        "
   ]
  },
  {
   "cell_type": "code",
   "execution_count": 8,
   "id": "0a826d92-63bd-48d2-91e6-c076e01a16bb",
   "metadata": {},
   "outputs": [
    {
     "name": "stdout",
     "output_type": "stream",
     "text": [
      "1\n",
      "1\n",
      "2\n",
      "1\n",
      "2\n",
      "3\n"
     ]
    }
   ],
   "source": [
    "n = 3\n",
    "\n",
    "\n",
    "for i in range(1, n+1):# i = 1, i = 2\n",
    "    \n",
    "    for j in range(1, i+1):# (1 iteration, \n",
    "        print( j)\n",
    "        "
   ]
  },
  {
   "cell_type": "code",
   "execution_count": null,
   "id": "ccc06359-0943-4522-991f-3ad153db93d9",
   "metadata": {},
   "outputs": [],
   "source": []
  }
 ],
 "metadata": {
  "kernelspec": {
   "display_name": "Python 3 (ipykernel)",
   "language": "python",
   "name": "python3"
  },
  "language_info": {
   "codemirror_mode": {
    "name": "ipython",
    "version": 3
   },
   "file_extension": ".py",
   "mimetype": "text/x-python",
   "name": "python",
   "nbconvert_exporter": "python",
   "pygments_lexer": "ipython3",
   "version": "3.12.4"
  }
 },
 "nbformat": 4,
 "nbformat_minor": 5
}
