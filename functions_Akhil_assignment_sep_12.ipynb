{
 "cells": [
  {
   "cell_type": "code",
   "execution_count": 1,
   "id": "ba0fdd13-539e-49ea-b044-660b0135f605",
   "metadata": {},
   "outputs": [
    {
     "name": "stdin",
     "output_type": "stream",
     "text": [
      "enter a number  2\n",
      "enter a number  3\n"
     ]
    },
    {
     "name": "stdout",
     "output_type": "stream",
     "text": [
      "1.add \n",
      "2.sub \n",
      "3.mul \n",
      "4.div \n",
      "5.quit\n"
     ]
    },
    {
     "name": "stdin",
     "output_type": "stream",
     "text": [
      "select a number from above options :  3\n"
     ]
    },
    {
     "name": "stdout",
     "output_type": "stream",
     "text": [
      "multiplication of  2 * 3 :  6\n"
     ]
    }
   ],
   "source": [
    "# 17.code to perform mathematical operations. take two numbers from the user and show the below menu\n",
    "# \t1. add,\n",
    "# \t2. sub,\t\n",
    "# \t3. mul,\n",
    "# \t4.div, \n",
    "# \t5.quit\n",
    "# \tEnter an option:\n",
    "# \t\tbased on the option need to perform an operations\n",
    "\n",
    "value_1 = input(\"enter a number \")\n",
    "value_2 = input(\"enter a number \")\n",
    "value_1 = int(value_1)\n",
    "value_2 = int(value_2)\n",
    "print(\"1.add \\n2.sub \\n3.mul \\n4.div \\n5.quit\")\n",
    "select_one = input(\"select a number from above options : \" )\n",
    "select_one = int(select_one)\n",
    "\n",
    "def calculator(select_one):\n",
    "    if select_one == 1:\n",
    "        print(f\"addition of  {value_1} + {value_2} : \", value_1 + value_2 )\n",
    "    elif select_one == 2:\n",
    "        print(f\"substraction of  {value_1} - {value_2} : \", value_1 - value_2 )\n",
    "    elif select_one == 3:\n",
    "        print(f\"multiplication of  {value_1} * {value_2} : \", value_1 * value_2 )\n",
    "    elif select_one == 4:\n",
    "        print(f\"division of  {value_1} / {value_2} : \", value_1 / value_2 )\n",
    "    elif select_one == 5:\n",
    "        print(f\"Thank you\" )\n",
    "    else :\n",
    "        print(\"Please select from given options\")\n",
    "\n",
    "calculator(select_one)"
   ]
  },
  {
   "cell_type": "code",
   "execution_count": 11,
   "id": "bc292101-846f-46e9-9bf7-f6c6875ec111",
   "metadata": {},
   "outputs": [
    {
     "name": "stdout",
     "output_type": "stream",
     "text": [
      "1. kids \n",
      "2. Men's \n",
      "3. Women's\n"
     ]
    },
    {
     "name": "stdin",
     "output_type": "stream",
     "text": [
      "select one option from above :  1\n"
     ]
    },
    {
     "name": "stdout",
     "output_type": "stream",
     "text": [
      "you are a kid\n"
     ]
    }
   ],
   "source": [
    "# 18. show the menu:\n",
    "# \t\t 1. kids\n",
    "# \t\t2. Men's\n",
    "# \t\t 3. Women's\n",
    "# \tShow the corresponding message based on the selection.\n",
    "# \tOption:1: you are a kid\n",
    "#          2: you are a gentlemen\n",
    "#          3: you are a good women\n",
    "\n",
    "print(\"1. kids \\n2. Men's \\n3. Women's\")\n",
    "select_options = input(\"select one option from above : \")\n",
    "value = float(select_options)\n",
    "def shopping_menu(value):\n",
    "    if value == 1:\n",
    "        print(\"you are a kid\")\n",
    "    elif value == 2:\n",
    "        print(\"you are a gentlemen\")\n",
    "    elif value == 3:\n",
    "        print(\"you are a good women\")\n",
    "    else :\n",
    "        print(\"Please select from given options\")\n",
    "\n",
    "shopping_menu(value)"
   ]
  },
  {
   "cell_type": "code",
   "execution_count": 2,
   "id": "2510bd80-c5ac-4c1d-8e78-eb8fc913c92e",
   "metadata": {},
   "outputs": [
    {
     "name": "stdout",
     "output_type": "stream",
     "text": [
      "'pure' is present in the string.\n"
     ]
    }
   ],
   "source": [
    "#  19. write a program to chcek given substring is there in actual string or not?\n",
    "# example: act=\"python is a pure object oriented programing language\"\n",
    "# check whether “pure” is there in act or not.\n",
    "# Note: Use in operator\n",
    "def check_string(act, substring):\n",
    "    if substring in act:\n",
    "      print(f\"'{substring}' is present in the string.\")\n",
    "    else:\n",
    "      print(f\"'{substring}' is not present in the string.\")\n",
    "\n",
    "act = \"python is a pure object oriented programing language\"\n",
    "substring = \"pure\"\n",
    "check_string(act, substring)\n"
   ]
  },
  {
   "cell_type": "code",
   "execution_count": 6,
   "id": "68b4ef0a-8449-4454-bdcb-4239bd1c1903",
   "metadata": {},
   "outputs": [
    {
     "name": "stdin",
     "output_type": "stream",
     "text": [
      "Enter the first number:  12\n",
      "Enter the second number:  30\n",
      "Enter the third number:  25\n"
     ]
    },
    {
     "name": "stdout",
     "output_type": "stream",
     "text": [
      "The largest number is 30\n"
     ]
    }
   ],
   "source": [
    "# 20. Take three numbers from the user and decide which is big\n",
    "def check_big(num1, num2, num3):\n",
    "    num1 = float(num1)\n",
    "    num2 = float(num2)\n",
    "    num3 = float(num3)\n",
    "    if num1 >= num2 and num1 >= num3:\n",
    "      largest = num1\n",
    "    elif num2 >= num1 and num2 >= num3:\n",
    "      largest = num2\n",
    "    else:\n",
    "      largest = num3\n",
    "    \n",
    "    print(\"The largest number is\", int(largest))\n",
    "    \n",
    "num1 = input(\"Enter the first number: \")\n",
    "num2 = input(\"Enter the second number: \")\n",
    "num3 = input(\"Enter the third number: \")\n",
    "check_big(num1, num2, num3)\n"
   ]
  },
  {
   "cell_type": "code",
   "execution_count": 5,
   "id": "2867bf46-714b-423b-ba14-455c54b51c88",
   "metadata": {},
   "outputs": [
    {
     "name": "stdin",
     "output_type": "stream",
     "text": [
      "Enter your age:  25\n",
      "Enter your gender (Male/Female):  Male\n"
     ]
    },
    {
     "name": "stdout",
     "output_type": "stream",
     "text": [
      "You are eligible for marriage in India.\n"
     ]
    }
   ],
   "source": [
    "#  21. Take age and gender from the user and decide whether he is eligible for \tmarriage in India or not.\n",
    "# Age criteria: men age>24, women>21\n",
    "def check_ageformrg(gender, age):\n",
    "    if gender == \"Male\" and age > 24:\n",
    "      print(\"You are eligible for marriage in India.\")\n",
    "    elif gender == \"Female\" and age > 21:\n",
    "      print(\"You are eligible for marriage in India.\")\n",
    "    else:\n",
    "      print(\"You are not eligible for marriage in India.\")\n",
    "\n",
    "age = input(\"Enter your age: \")\n",
    "gender = input(\"Enter your gender (Male/Female): \")\n",
    "age = int(age)\n",
    "check_ageformrg(gender, age)\n"
   ]
  },
  {
   "cell_type": "code",
   "execution_count": 4,
   "id": "0a4c78dd-bd26-4c36-9da9-ac7ca51fb218",
   "metadata": {},
   "outputs": [
    {
     "name": "stdin",
     "output_type": "stream",
     "text": [
      "Enter gender (male/female):  male\n",
      "Enter age :  25\n"
     ]
    },
    {
     "name": "stdout",
     "output_type": "stream",
     "text": [
      "Eligibile for Theater\n",
      "Eligibile for Voting system\n",
      "Eligibile for Marriage in india\n",
      "Eligibile For govt jobs\n",
      "Eligibile For driving licence\n"
     ]
    }
   ],
   "source": [
    "# 22. Take an age  and gender from the user: and mention that what he/she can do in india.\n",
    "# \tEligibility:\n",
    "# \t\t1. theatre\n",
    "# \t\t2.  Voting system\n",
    "# \t\t3.  Marriage in india\n",
    "# \t\t4.  For govt obs\n",
    "# \t\t5. For driving licence:\n",
    "# \tEnter an option:\n",
    "# \t\tGender:\n",
    "# \t\t\t1. men\n",
    "# \t\t\t2. women\n",
    "# \tEnter an option:\n",
    "# \t\tEnter an age of person:\n",
    "\n",
    "\n",
    "def check_eligibilitie(gender, age):\n",
    "    # 1. Theatre: 5 for men 7 for women\n",
    "    if gender == \"male\" and age >= 7:\n",
    "        print(\"Eligibile for Theater\")\n",
    "    elif gender == female and age >= 5:\n",
    "        print(\"Eligibile for Theater\")\n",
    "    else:\n",
    "        print(\"Not Eligible for Theater\")\n",
    "        \n",
    "    # 2. Voting system: 18 for men and women    \n",
    "    if ((gender == \"male\") or (gender == female) ) and age >= 18:\n",
    "        print(\"Eligibile for Voting system\")\n",
    "    else:\n",
    "        print(\"Not eligibile for Voting system\")\n",
    "        \n",
    "    # 3. Marriage in india: 23 for men and for women >21\n",
    "    if ( gender == \"male\" and age >= 23 ) or ( gender == female and age >= 21):\n",
    "        print(\"Eligibile for Marriage in india\")\n",
    "    else:\n",
    "        print(\"Not Eligible for Marriage in india\")\n",
    "    \n",
    "    # 4. For govt jobs: (min:18, max:32)  for men and (min:18, max:34) for women\n",
    "    if (gender == \"male\" and (age >= 18 and age <= 32 )) or (gender == female and (age >= 18 and age <= 34 )):\n",
    "        print(\"Eligibile For govt jobs\")\n",
    "    else:\n",
    "        print(\"Not Eligible For govt jobs\")\n",
    "    \n",
    "    # 5. For driving licence: (min:18, max:60) for men and women\n",
    "    if ((gender == \"male\") or (gender == female)) and (age >= 18 and age <= 60 ):\n",
    "        print(\"Eligibile For driving licence\")\n",
    "    else:\n",
    "        print(\"Not Eligible For driving licence\")\n",
    "\n",
    "\n",
    "\n",
    "gender = input(\"Enter gender (male/female): \")\n",
    "age = input(\"Enter age : \")\n",
    "age = int(age)\n",
    "\n",
    "check_eligibilitie(gender, age)\n"
   ]
  },
  {
   "cell_type": "code",
   "execution_count": 28,
   "id": "654eb748-0987-42c5-861f-da2b24faf4a7",
   "metadata": {},
   "outputs": [
    {
     "name": "stdout",
     "output_type": "stream",
     "text": [
      "1.windows \n",
      "2.android \n",
      "3.mac\n"
     ]
    },
    {
     "name": "stdin",
     "output_type": "stream",
     "text": [
      "Select a number from above :  3\n"
     ]
    },
    {
     "name": "stdout",
     "output_type": "stream",
     "text": [
      "There is only three floors, please select 1 or 2 or 3\n"
     ]
    }
   ],
   "source": [
    "# 23. operating systems:\n",
    "# \t1.windows\n",
    "# \t2.android\n",
    "# \t3.mac\n",
    "# Enter an option:\n",
    "\n",
    "# If the user enters 1 then show \"Goto first floor and buy windows laptop or mobile\"\n",
    "# If the user enters 2 then show \"Goto second floor and buy adroid mobiles\"\n",
    "# If the user enters 3 then show \"Goto third floor and buy mac laptop or iphones\"\n",
    "# If the user enters other than 1 or 2 or 3 then show \"There is only three floors, please select 1 or 2 or 3\"\n",
    "def check_os():\n",
    "    print(\"1.windows \\n2.android \\n3.mac\")\n",
    "    select_one = input(\"Select a number from above : \")\n",
    "    select_one = int(select_one)\n",
    "    if select_one == 1:\n",
    "        print(\"Goto first floor and buy windows laptop or mobile\")\n",
    "    elif select_one == 1:\n",
    "        print(\"Goto second floor and buy adroid mobiles\")\n",
    "    elif select_one == 1:\n",
    "        print(\"Goto third floor and buy mac laptop or iphones\")\n",
    "    else:\n",
    "        print(\"There is only three floors, please select 1 or 2 or 3\")\n",
    "check_os()"
   ]
  },
  {
   "cell_type": "code",
   "execution_count": 3,
   "id": "10ef8ab1-cf40-4b2b-8814-5cc37d52394d",
   "metadata": {},
   "outputs": [
    {
     "name": "stdin",
     "output_type": "stream",
     "text": [
      "Enter your age:  25\n"
     ]
    },
    {
     "name": "stdout",
     "output_type": "stream",
     "text": [
      "You are an adult.\n"
     ]
    }
   ],
   "source": [
    "# 24.Given an age, figure out whether someone's a baby, toddler, child, teenager, adult or old codger.\n",
    "def check_age():\n",
    "    age = input(\"Enter your age: \")\n",
    "    age = float(age)\n",
    "    \n",
    "    if age <= 1:\n",
    "      print(\"You are a baby.\")\n",
    "    elif age <= 3:\n",
    "      print(\"You are a toddler.\")\n",
    "    elif age <= 12:\n",
    "      print(\"You are a child.\")\n",
    "    elif age <= 19:\n",
    "      print(\"You are a teenager.\")\n",
    "    elif age <= 64:\n",
    "      print(\"You are an adult.\")\n",
    "    else:\n",
    "      print(\"You are an old codger.\")\n",
    "\n",
    "check_age()"
   ]
  },
  {
   "cell_type": "code",
   "execution_count": 35,
   "id": "d4f2bf74-e7af-4add-8ae1-bcb1d5594bcd",
   "metadata": {},
   "outputs": [
    {
     "name": "stdin",
     "output_type": "stream",
     "text": [
      "Enter the first number:  2.3\n",
      "Enter the second number:  6.3\n"
     ]
    },
    {
     "name": "stdout",
     "output_type": "stream",
     "text": [
      "2.3 is not divisible by 6.3\n"
     ]
    }
   ],
   "source": [
    "# 25.Take two number a,b from the user and check whether a is divisible by b or not\n",
    "\n",
    "a = input(\"Enter the first number: \")\n",
    "b = input(\"Enter the second number: \")\n",
    "a = float(a)\n",
    "b = float(b)\n",
    "\n",
    "if a % b == 0:\n",
    "  print(a, \"is divisible by\", b)\n",
    "else:\n",
    "  print(a, \"is not divisible by\", b)"
   ]
  },
  {
   "cell_type": "code",
   "execution_count": 52,
   "id": "e9b75b9a-d5d1-4899-8ff2-e47196b32058",
   "metadata": {},
   "outputs": [
    {
     "name": "stdin",
     "output_type": "stream",
     "text": [
      "enter a single  letter :  *\n"
     ]
    },
    {
     "name": "stdout",
     "output_type": "stream",
     "text": [
      "It is a special symbol\n"
     ]
    }
   ],
   "source": [
    "# 26. Take a letter from the user and print that letter belongs to which category\n",
    "# I.e is it a small letter or capital letter or number or special symbol\n",
    "\n",
    "user_input = input(\"enter a single  letter : \")\n",
    "if len(user_input) == 1 :\n",
    "    if (ord(user_input) >= 97 ) and (ord(user_input) <= 123 ):\n",
    "        print(\"it is a small letter\")\n",
    "    elif (ord(user_input) >= 65 )and (ord(user_input) <= 90) :\n",
    "        print(\"it is a capital letter\")\n",
    "    elif (ord(user_input) >= 48 )and (ord(user_input) <= 57) :\n",
    "        print(\"it is a number\")\n",
    "    else:\n",
    "        print(\"It is a special symbol\")\n",
    "else:\n",
    "    print(\"length of given letter is greater than 1\")"
   ]
  },
  {
   "cell_type": "code",
   "execution_count": null,
   "id": "c3383cbb-ceb8-42ef-b4bf-fbd2153d1975",
   "metadata": {},
   "outputs": [],
   "source": []
  }
 ],
 "metadata": {
  "kernelspec": {
   "display_name": "Python 3 (ipykernel)",
   "language": "python",
   "name": "python3"
  },
  "language_info": {
   "codemirror_mode": {
    "name": "ipython",
    "version": 3
   },
   "file_extension": ".py",
   "mimetype": "text/x-python",
   "name": "python",
   "nbconvert_exporter": "python",
   "pygments_lexer": "ipython3",
   "version": "3.12.4"
  }
 },
 "nbformat": 4,
 "nbformat_minor": 5
}
