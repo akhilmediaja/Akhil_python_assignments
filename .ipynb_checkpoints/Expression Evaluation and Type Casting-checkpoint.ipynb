{
 "cells": [
  {
   "cell_type": "code",
   "execution_count": 2,
   "id": "ab984f71-1e21-4048-916d-7c0d5adf5d01",
   "metadata": {},
   "outputs": [
    {
     "name": "stdout",
     "output_type": "stream",
     "text": [
      "30\n"
     ]
    }
   ],
   "source": [
    "s = 10 + 20\n",
    "print(s)"
   ]
  },
  {
   "cell_type": "code",
   "execution_count": 3,
   "id": "f24c2eb8-a34c-4b9e-9efc-fb1c5fe7f8aa",
   "metadata": {},
   "outputs": [
    {
     "name": "stdout",
     "output_type": "stream",
     "text": [
      "60\n"
     ]
    }
   ],
   "source": [
    "s = 10 + 20 + 30\n",
    "print(s)"
   ]
  },
  {
   "cell_type": "code",
   "execution_count": 5,
   "id": "cbc3afe7-28c2-4e58-a3c9-d2edfc87ee12",
   "metadata": {},
   "outputs": [
    {
     "name": "stdout",
     "output_type": "stream",
     "text": [
      "26.0\n"
     ]
    }
   ],
   "source": [
    "s = 10 + 20/ 5 * 4\n",
    "print(s)"
   ]
  },
  {
   "cell_type": "code",
   "execution_count": 6,
   "id": "85c53834-356b-4e67-bbc2-c4942ad94242",
   "metadata": {},
   "outputs": [],
   "source": [
    "# BODMAS ===> Brackets, orders, Divisions, Multiplication, Adition, Substraction"
   ]
  },
  {
   "cell_type": "code",
   "execution_count": 8,
   "id": "c8c318f1-b276-4607-9308-331ea887bc4f",
   "metadata": {},
   "outputs": [
    {
     "name": "stdout",
     "output_type": "stream",
     "text": [
      "0.5\n"
     ]
    }
   ],
   "source": [
    "print(1000/200/5/2)\n"
   ]
  },
  {
   "cell_type": "code",
   "execution_count": 9,
   "id": "d83c0f1f-0a20-4692-b9a1-1ee3306b9f6e",
   "metadata": {},
   "outputs": [
    {
     "name": "stdout",
     "output_type": "stream",
     "text": [
      "4500.0\n"
     ]
    }
   ],
   "source": [
    "print(1000/ 200 * 600*3 / 2)"
   ]
  },
  {
   "cell_type": "code",
   "execution_count": 10,
   "id": "00768909-ce6b-4492-b9a3-3f47533ed758",
   "metadata": {},
   "outputs": [
    {
     "name": "stdout",
     "output_type": "stream",
     "text": [
      "1020\n"
     ]
    }
   ],
   "source": []
  },
  {
   "cell_type": "code",
   "execution_count": 11,
   "id": "2a7bf382-b5cf-48f2-a879-2e541a7dcd2a",
   "metadata": {},
   "outputs": [
    {
     "name": "stdout",
     "output_type": "stream",
     "text": [
      "30\n"
     ]
    }
   ],
   "source": []
  },
  {
   "cell_type": "code",
   "execution_count": null,
   "id": "b6ceb5e3-3ff5-4e9e-bb80-61254d211266",
   "metadata": {},
   "outputs": [],
   "source": []
  }
 ],
 "metadata": {
  "kernelspec": {
   "display_name": "Python 3 (ipykernel)",
   "language": "python",
   "name": "python3"
  },
  "language_info": {
   "codemirror_mode": {
    "name": "ipython",
    "version": 3
   },
   "file_extension": ".py",
   "mimetype": "text/x-python",
   "name": "python",
   "nbconvert_exporter": "python",
   "pygments_lexer": "ipython3",
   "version": "3.12.4"
  }
 },
 "nbformat": 4,
 "nbformat_minor": 5
}
