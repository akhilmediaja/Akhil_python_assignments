{
 "cells": [
  {
   "cell_type": "code",
   "execution_count": null,
   "id": "c5985691-6a99-4ce6-b526-88826c206521",
   "metadata": {},
   "outputs": [],
   "source": [
    "a = 1000"
   ]
  },
  {
   "cell_type": "code",
   "execution_count": 1,
   "id": "01a44d0f-0d91-4dbd-a296-2ef7cadda031",
   "metadata": {},
   "outputs": [
    {
     "ename": "SyntaxError",
     "evalue": "invalid syntax (431603716.py, line 1)",
     "output_type": "error",
     "traceback": [
      "\u001b[1;36m  Cell \u001b[1;32mIn[1], line 1\u001b[1;36m\u001b[0m\n\u001b[1;33m    $name = 20\u001b[0m\n\u001b[1;37m    ^\u001b[0m\n\u001b[1;31mSyntaxError\u001b[0m\u001b[1;31m:\u001b[0m invalid syntax\n"
     ]
    }
   ],
   "source": [
    "$name = 20\n",
    "print($name)"
   ]
  },
  {
   "cell_type": "code",
   "execution_count": 2,
   "id": "8838f078-8896-4894-bfca-7fd1e215a8e9",
   "metadata": {},
   "outputs": [],
   "source": [
    "# @name = 20\n",
    "# print(@name)"
   ]
  },
  {
   "cell_type": "code",
   "execution_count": 3,
   "id": "4b2eff19-5479-4ae5-9d68-4bf5f1214d52",
   "metadata": {},
   "outputs": [],
   "source": [
    "# %name = 20\n",
    "# print(%name)"
   ]
  },
  {
   "cell_type": "code",
   "execution_count": 6,
   "id": "6b219e3b-d82f-4d83-81fe-31eb31573a3e",
   "metadata": {},
   "outputs": [
    {
     "name": "stdout",
     "output_type": "stream",
     "text": [
      "20\n"
     ]
    }
   ],
   "source": [
    "_name = 20\n",
    "print(_name)"
   ]
  },
  {
   "cell_type": "code",
   "execution_count": 4,
   "id": "6eb68fc0-ea88-47b1-8227-cfa629c3d024",
   "metadata": {},
   "outputs": [],
   "source": [
    "# True = \"fgh\"\n",
    "# print(True)"
   ]
  },
  {
   "cell_type": "code",
   "execution_count": 8,
   "id": "de1f2916-a2a2-4d60-9854-974133310646",
   "metadata": {},
   "outputs": [
    {
     "name": "stdout",
     "output_type": "stream",
     "text": [
      "dfg\n"
     ]
    }
   ],
   "source": [
    "sum = \"dfg\"\n",
    "print(sum)"
   ]
  },
  {
   "cell_type": "code",
   "execution_count": 14,
   "id": "d32da6da-2136-40da-8d50-c9b9d6c3d551",
   "metadata": {},
   "outputs": [
    {
     "ename": "TypeError",
     "evalue": "'int' object is not callable",
     "output_type": "error",
     "traceback": [
      "\u001b[1;31m---------------------------------------------------------------------------\u001b[0m",
      "\u001b[1;31mTypeError\u001b[0m                                 Traceback (most recent call last)",
      "Cell \u001b[1;32mIn[14], line 3\u001b[0m\n\u001b[0;32m      1\u001b[0m l \u001b[38;5;241m=\u001b[39m [\u001b[38;5;241m1\u001b[39m, \u001b[38;5;241m2\u001b[39m, \u001b[38;5;241m3\u001b[39m]\n\u001b[0;32m      2\u001b[0m \u001b[38;5;66;03m# sum = 0\u001b[39;00m\n\u001b[1;32m----> 3\u001b[0m a \u001b[38;5;241m=\u001b[39m \u001b[38;5;28msum\u001b[39m(l)\n\u001b[0;32m      4\u001b[0m \u001b[38;5;28mprint\u001b[39m(a)\n",
      "\u001b[1;31mTypeError\u001b[0m: 'int' object is not callable"
     ]
    }
   ],
   "source": [
    "l = [1, 2, 3]\n",
    "# sum = 0\n",
    "a = sum(l)\n",
    "print(a)"
   ]
  },
  {
   "cell_type": "code",
   "execution_count": 16,
   "id": "a23e46b6-4051-413c-949e-c87a49db1ec3",
   "metadata": {},
   "outputs": [
    {
     "name": "stdout",
     "output_type": "stream",
     "text": [
      "['False', 'None', 'True', 'and', 'as', 'assert', 'async', 'await', 'break', 'class', 'continue', 'def', 'del', 'elif', 'else', 'except', 'finally', 'for', 'from', 'global', 'if', 'import', 'in', 'is', 'lambda', 'nonlocal', 'not', 'or', 'pass', 'raise', 'return', 'try', 'while', 'with', 'yield']\n"
     ]
    }
   ],
   "source": [
    "import keyword\n",
    "print(keyword.kwlist)"
   ]
  },
  {
   "cell_type": "code",
   "execution_count": 18,
   "id": "4b8e6ba7-6fac-4890-a63f-a74662b42977",
   "metadata": {},
   "outputs": [
    {
     "name": "stdout",
     "output_type": "stream",
     "text": [
      "1000 <class 'int'>\n",
      "12.5 <class 'float'>\n",
      "(12+5j) <class 'complex'>\n",
      "Pthon <class 'str'>\n",
      "[125, 20, 53] <class 'list'>\n",
      "('sfjfhd', 123, 21) <class 'tuple'>\n",
      "{125, 1236, 789} <class 'set'>\n",
      "{'name': 'Akhil', 'address': 'HYD'} <class 'dict'>\n"
     ]
    }
   ],
   "source": [
    "a = 1000\n",
    "print(a, type(a))\n",
    "a = 12.5\n",
    "print(a, type(a))\n",
    "a = 5j+12\n",
    "print(a, type(a))\n",
    "a = \"Pthon\"\n",
    "print(a, type(a))\n",
    "a = [125,20,53]\n",
    "print(a, type(a))\n",
    "a = (\"sfjfhd\", 123, 21)\n",
    "print(a, type(a))\n",
    "a = {125, 1236, 789}\n",
    "print(a, type(a))\n",
    "a = {\"name\": \"Akhil\",\n",
    "     \"address\": \"HYD\"}\n",
    "print(a, type(a))"
   ]
  },
  {
   "cell_type": "code",
   "execution_count": 19,
   "id": "fd862428-3e37-4432-a259-1b4c37ba782d",
   "metadata": {},
   "outputs": [
    {
     "name": "stdout",
     "output_type": "stream",
     "text": [
      "12\n"
     ]
    }
   ],
   "source": [
    "print(12)"
   ]
  },
  {
   "cell_type": "code",
   "execution_count": 3,
   "id": "6bdc3f48-83c1-4ecc-99e4-fdff392054d7",
   "metadata": {},
   "outputs": [
    {
     "name": "stdout",
     "output_type": "stream",
     "text": [
      "15\n",
      "akhilmedi\n",
      "[1, 2, 3, 4]\n",
      "[1, 2, 3, 4, 1, 2, 3, 4]\n"
     ]
    }
   ],
   "source": [
    "print(10  + 5 )\n",
    "print(\"akhil\" + \"medi\")\n",
    "print([1, 2] + [3, 4])\n",
    "# print((1,2) + (3, 4)\n",
    "# print({1, 2} + {3, 4}) \n",
    "# print(10 + \"strr\")\n",
    "print(2 * [1, 2, 3, 4])\n",
    "# print(\"strr\" + True )"
   ]
  },
  {
   "cell_type": "code",
   "execution_count": 4,
   "id": "47409883-aac3-4870-afa3-dff5ea1ffc1f",
   "metadata": {},
   "outputs": [
    {
     "name": "stdout",
     "output_type": "stream",
     "text": [
      "(2+2j)\n"
     ]
    }
   ],
   "source": [
    "print(1 + 1 + 2j)"
   ]
  },
  {
   "cell_type": "code",
   "execution_count": 5,
   "id": "e6fd5d7f-03aa-4e43-bc85-23319321cbf2",
   "metadata": {},
   "outputs": [
    {
     "data": {
      "text/plain": [
       "0"
      ]
     },
     "execution_count": 5,
     "metadata": {},
     "output_type": "execute_result"
    }
   ],
   "source": [
    "int(False)"
   ]
  },
  {
   "cell_type": "code",
   "execution_count": 11,
   "id": "ef197a1a-a474-4931-a41d-c3f08fae0574",
   "metadata": {},
   "outputs": [
    {
     "name": "stdout",
     "output_type": "stream",
     "text": [
      "strstr\n"
     ]
    }
   ],
   "source": [
    "print(2 * \"str\")"
   ]
  },
  {
   "cell_type": "code",
   "execution_count": 23,
   "id": "03a06c82-e5a9-41e1-b0b6-4bcec1bd8a39",
   "metadata": {},
   "outputs": [
    {
     "name": "stdout",
     "output_type": "stream",
     "text": [
      "False\n",
      "False\n",
      "True\n"
     ]
    }
   ],
   "source": [
    "# print(\"10\" < 9)\n",
    "print(\"apple\" < \"apple\")\n",
    "print(\"apple\" > \"apple\")\n",
    "print(\"apple\" < \"applf\")"
   ]
  },
  {
   "cell_type": "code",
   "execution_count": 29,
   "id": "b548f18e-43a2-47ac-a304-17aa7a857214",
   "metadata": {},
   "outputs": [
    {
     "name": "stdout",
     "output_type": "stream",
     "text": [
      "False\n",
      "False\n",
      "True\n",
      "True\n"
     ]
    }
   ],
   "source": [
    "# print(ord(10))\n",
    "print([10, 20, 30] < [10, 20, 30])\n",
    "print([10, 20, 30] > [10, 20, 30])\n",
    "print([10, 20, 31] > [10, 20, 30])\n",
    "print([10, 21, 31, 20] > [10, 20, 30])"
   ]
  },
  {
   "cell_type": "code",
   "execution_count": 30,
   "id": "84a21ff9-4254-42e2-9724-290a6a9f7ff0",
   "metadata": {},
   "outputs": [
    {
     "name": "stdout",
     "output_type": "stream",
     "text": [
      "True\n"
     ]
    }
   ],
   "source": [
    "print([10, 20, 30, 20] > [10, 20, 30])"
   ]
  },
  {
   "cell_type": "code",
   "execution_count": 31,
   "id": "3044f985-495b-40ac-853d-94b21f8c67e7",
   "metadata": {},
   "outputs": [
    {
     "name": "stdout",
     "output_type": "stream",
     "text": [
      "False\n"
     ]
    }
   ],
   "source": [
    "print([10, 20, 30] > [10, 20, 30, 20])"
   ]
  },
  {
   "cell_type": "code",
   "execution_count": 32,
   "id": "95d42c17-4359-461e-871f-e4ee72c9107a",
   "metadata": {},
   "outputs": [
    {
     "name": "stdout",
     "output_type": "stream",
     "text": [
      "True\n"
     ]
    }
   ],
   "source": [
    "print((1, 2, 3) < (10, -20, )) # Lexical Comparission"
   ]
  },
  {
   "cell_type": "code",
   "execution_count": 34,
   "id": "7fddfa7c-0ca0-4bb0-a2b0-b0b2adffb245",
   "metadata": {},
   "outputs": [
    {
     "name": "stdout",
     "output_type": "stream",
     "text": [
      "False\n"
     ]
    }
   ],
   "source": [
    "print({1, 2, 3} < {10, -20})"
   ]
  },
  {
   "cell_type": "code",
   "execution_count": 37,
   "id": "0c87571f-ca5c-4f15-9877-0d4d4bbcb9be",
   "metadata": {},
   "outputs": [
    {
     "name": "stdout",
     "output_type": "stream",
     "text": [
      "{40, 10, 20, 30}\n"
     ]
    }
   ],
   "source": [
    "print({20, 10, 30, 40})"
   ]
  },
  {
   "cell_type": "code",
   "execution_count": 41,
   "id": "d20751bf-95e5-4b4c-9936-604756f37af2",
   "metadata": {},
   "outputs": [
    {
     "name": "stdout",
     "output_type": "stream",
     "text": [
      "False\n"
     ]
    }
   ],
   "source": [
    "print({1, 2, 3} < {-1, -2, 10})"
   ]
  },
  {
   "cell_type": "code",
   "execution_count": 42,
   "id": "27fb688d-196a-4d56-bcc8-2e552722cc2f",
   "metadata": {},
   "outputs": [
    {
     "name": "stdout",
     "output_type": "stream",
     "text": [
      "False\n"
     ]
    }
   ],
   "source": [
    "print({1, 2, 3} > {-1, -2, 10})"
   ]
  },
  {
   "cell_type": "code",
   "execution_count": 43,
   "id": "8e9e863d-b43c-4e80-b7e8-5e23584ffc11",
   "metadata": {},
   "outputs": [
    {
     "name": "stdout",
     "output_type": "stream",
     "text": [
      "True\n"
     ]
    }
   ],
   "source": [
    "print({1, 2, 3, 4} > {2, 3, 4})"
   ]
  },
  {
   "cell_type": "code",
   "execution_count": 44,
   "id": "a83c2e73-c2fc-46b6-9d9d-749bd16507e9",
   "metadata": {},
   "outputs": [
    {
     "name": "stdout",
     "output_type": "stream",
     "text": [
      "False\n"
     ]
    }
   ],
   "source": [
    "print({1, 2, 3, 4} > {2, 3, 4, 1})"
   ]
  },
  {
   "cell_type": "code",
   "execution_count": 45,
   "id": "b8dfd4a5-d536-42c5-8413-85f1e14eda24",
   "metadata": {},
   "outputs": [
    {
     "name": "stdout",
     "output_type": "stream",
     "text": [
      "False\n"
     ]
    }
   ],
   "source": [
    "print({1, 2, 3, 4} > {2, 3, 4, 5})"
   ]
  },
  {
   "cell_type": "code",
   "execution_count": 46,
   "id": "a76dc120-32cf-4d43-995c-5f7c3b3f9429",
   "metadata": {},
   "outputs": [
    {
     "data": {
      "text/plain": [
       "False"
      ]
     },
     "execution_count": 46,
     "metadata": {},
     "output_type": "execute_result"
    }
   ],
   "source": [
    "a = {1, 2, 3 ,4}\n",
    "b = {2, 3}\n",
    "\n",
    "a < b"
   ]
  },
  {
   "cell_type": "code",
   "execution_count": 47,
   "id": "c2b6608e-394f-4baa-8f03-9e7af183ac2b",
   "metadata": {},
   "outputs": [
    {
     "data": {
      "text/plain": [
       "False"
      ]
     },
     "execution_count": 47,
     "metadata": {},
     "output_type": "execute_result"
    }
   ],
   "source": [
    "a = {1, 2, 3 ,4}\n",
    "b = {3, 4}\n",
    "\n",
    "a < b"
   ]
  },
  {
   "cell_type": "code",
   "execution_count": 48,
   "id": "ab74261a-be5b-4c5a-bf64-8f8d07fbf71a",
   "metadata": {},
   "outputs": [
    {
     "data": {
      "text/plain": [
       "False"
      ]
     },
     "execution_count": 48,
     "metadata": {},
     "output_type": "execute_result"
    }
   ],
   "source": [
    "a = {1, 2, 3 ,4}\n",
    "b = {2, 4}\n",
    "\n",
    "a < b"
   ]
  },
  {
   "cell_type": "code",
   "execution_count": 49,
   "id": "89e53b0d-90a4-4ea2-a001-2ddc677d4d37",
   "metadata": {},
   "outputs": [
    {
     "data": {
      "text/plain": [
       "True"
      ]
     },
     "execution_count": 49,
     "metadata": {},
     "output_type": "execute_result"
    }
   ],
   "source": [
    "a = {1, 2, 3 ,4}\n",
    "b = {2, 4}\n",
    "\n",
    "a > b"
   ]
  },
  {
   "cell_type": "code",
   "execution_count": 52,
   "id": "4899d953-a0b2-44bd-80e2-81b1ea040bf8",
   "metadata": {},
   "outputs": [
    {
     "data": {
      "text/plain": [
       "False"
      ]
     },
     "execution_count": 52,
     "metadata": {},
     "output_type": "execute_result"
    }
   ],
   "source": [
    "a = {1, 2, 3 ,4}\n",
    "b = {-1, -2}\n",
    "\n",
    "a < b"
   ]
  },
  {
   "cell_type": "code",
   "execution_count": 56,
   "id": "72c30d79-f38e-4093-b0d0-a8b46ef56f82",
   "metadata": {},
   "outputs": [
    {
     "data": {
      "text/plain": [
       "False"
      ]
     },
     "execution_count": 56,
     "metadata": {},
     "output_type": "execute_result"
    }
   ],
   "source": [
    "a = {1, 2, 3 ,4}\n",
    "b = {5, 6}\n",
    "\n",
    "a < b\n",
    "a > b"
   ]
  },
  {
   "cell_type": "code",
   "execution_count": 54,
   "id": "cd5f510b-37bd-4870-a52d-f110755afff4",
   "metadata": {},
   "outputs": [
    {
     "data": {
      "text/plain": [
       "False"
      ]
     },
     "execution_count": 54,
     "metadata": {},
     "output_type": "execute_result"
    }
   ],
   "source": [
    "a = {1, 2, 3 ,4}\n",
    "b = {5, 6}\n",
    "\n"
   ]
  },
  {
   "cell_type": "code",
   "execution_count": 57,
   "id": "4254d9da-5393-4213-ac9b-385b37f715a0",
   "metadata": {},
   "outputs": [
    {
     "name": "stdout",
     "output_type": "stream",
     "text": [
      "True\n"
     ]
    }
   ],
   "source": [
    "a = \"id,name,age\"\n",
    "b = \"id,age,name\"\n",
    "print(sorted(a) == sorted(b))"
   ]
  },
  {
   "cell_type": "code",
   "execution_count": 58,
   "id": "7cfa4e61-372f-4e6a-a53f-8a7c5d32b0e4",
   "metadata": {},
   "outputs": [
    {
     "name": "stdout",
     "output_type": "stream",
     "text": [
      "True\n"
     ]
    }
   ],
   "source": [
    "a = \"id,name,age\"\n",
    "b = \"id,age,name\"\n",
    "print(sorted(a) == sorted(b))\n"
   ]
  },
  {
   "cell_type": "code",
   "execution_count": 61,
   "id": "30ef126d-070a-4b34-932f-ab04a816623b",
   "metadata": {},
   "outputs": [
    {
     "name": "stdout",
     "output_type": "stream",
     "text": [
      "2791541702192\n",
      "2791541694704\n",
      "True\n",
      "True\n"
     ]
    }
   ],
   "source": [
    "a = 1000\n",
    "b = 1000\n",
    "print(id(a))\n",
    "print(id(b))\n",
    "a = b\n",
    "print(a ==b)\n",
    "print(a is b)"
   ]
  },
  {
   "cell_type": "code",
   "execution_count": 63,
   "id": "3cac23fc-6c25-45c7-b621-6c4da86dca81",
   "metadata": {},
   "outputs": [
    {
     "name": "stdout",
     "output_type": "stream",
     "text": [
      "2791541701360\n",
      "2791541701360\n",
      "True\n",
      "True\n"
     ]
    }
   ],
   "source": [
    "a = 1000\n",
    "\n",
    "print(id(a))\n",
    "\n",
    "b = a\n",
    "print(id(b))\n",
    "print(a ==b)\n",
    "print(a is b)"
   ]
  },
  {
   "cell_type": "code",
   "execution_count": 5,
   "id": "1f2aa6c5-f6a7-4276-bedb-3a8747f82e91",
   "metadata": {},
   "outputs": [
    {
     "data": {
      "text/plain": [
       "False"
      ]
     },
     "execution_count": 5,
     "metadata": {},
     "output_type": "execute_result"
    }
   ],
   "source": [
    "\"da\" in \"hyderabad\""
   ]
  },
  {
   "cell_type": "code",
   "execution_count": 6,
   "id": "c26dbbf0-7f6d-4e36-8d90-cf97fa5a6e5f",
   "metadata": {},
   "outputs": [
    {
     "data": {
      "text/plain": [
       "True"
      ]
     },
     "execution_count": 6,
     "metadata": {},
     "output_type": "execute_result"
    }
   ],
   "source": [
    "12 in [1, 12, 13]"
   ]
  },
  {
   "cell_type": "code",
   "execution_count": 7,
   "id": "39f493fa-e372-43af-8910-f9653d86052d",
   "metadata": {},
   "outputs": [
    {
     "data": {
      "text/plain": [
       "True"
      ]
     },
     "execution_count": 7,
     "metadata": {},
     "output_type": "execute_result"
    }
   ],
   "source": [
    "12 in (1, 12, 13)"
   ]
  },
  {
   "cell_type": "code",
   "execution_count": 8,
   "id": "ee5b87a0-3b79-4414-82a1-72f0b2ae998f",
   "metadata": {},
   "outputs": [
    {
     "data": {
      "text/plain": [
       "True"
      ]
     },
     "execution_count": 8,
     "metadata": {},
     "output_type": "execute_result"
    }
   ],
   "source": [
    "12 in {1, 12, 13}"
   ]
  },
  {
   "cell_type": "code",
   "execution_count": 9,
   "id": "a120dc2c-12f6-4527-89cb-11cfe7e263df",
   "metadata": {},
   "outputs": [
    {
     "data": {
      "text/plain": [
       "True"
      ]
     },
     "execution_count": 9,
     "metadata": {},
     "output_type": "execute_result"
    }
   ],
   "source": [
    "\"1\" in \"100\""
   ]
  },
  {
   "cell_type": "code",
   "execution_count": 11,
   "id": "ab4545a1-1631-4d0a-a96e-1018d0ad399c",
   "metadata": {},
   "outputs": [
    {
     "ename": "TypeError",
     "evalue": "argument of type 'int' is not iterable",
     "output_type": "error",
     "traceback": [
      "\u001b[1;31m---------------------------------------------------------------------------\u001b[0m",
      "\u001b[1;31mTypeError\u001b[0m                                 Traceback (most recent call last)",
      "Cell \u001b[1;32mIn[11], line 1\u001b[0m\n\u001b[1;32m----> 1\u001b[0m \u001b[38;5;241m1\u001b[39m \u001b[38;5;129;01min\u001b[39;00m \u001b[38;5;241m1000\u001b[39m\n",
      "\u001b[1;31mTypeError\u001b[0m: argument of type 'int' is not iterable"
     ]
    }
   ],
   "source": [
    "1 in 1000 # in is works on sequences and iterable "
   ]
  },
  {
   "cell_type": "code",
   "execution_count": 12,
   "id": "082d339f-248b-424f-b9bc-17a5eac0646d",
   "metadata": {},
   "outputs": [],
   "source": [
    "# and or tables"
   ]
  },
  {
   "cell_type": "code",
   "execution_count": 13,
   "id": "8e612fa5-f259-41e9-ab0f-0ac2b9e38ce1",
   "metadata": {},
   "outputs": [
    {
     "data": {
      "text/plain": [
       "'\\nTrue and True = True\\nTrue and False = False\\nFalse and True = False\\nFalse and False = False\\n'"
      ]
     },
     "execution_count": 13,
     "metadata": {},
     "output_type": "execute_result"
    }
   ],
   "source": [
    "\"\"\"\n",
    "True and True = True\n",
    "True and False = False\n",
    "False and True = False\n",
    "False and False = False\n",
    "\"\"\"\n",
    "\n",
    "\"\"\"\n",
    "True or True = True\n",
    "True or False = True\n",
    "False or True = True\n",
    "False or False = False\n",
    "\"\"\"\n",
    "\"\"\"\n",
    "True XOR True = False\n",
    "True XOR False = True\n",
    "False XOR True = True\n",
    "False XOR False = False\n",
    "\"\"\"\n"
   ]
  },
  {
   "cell_type": "code",
   "execution_count": 16,
   "id": "a535f83b-e59c-49c0-8fd8-d64700f16561",
   "metadata": {},
   "outputs": [
    {
     "data": {
      "text/plain": [
       "False"
      ]
     },
     "execution_count": 16,
     "metadata": {},
     "output_type": "execute_result"
    }
   ],
   "source": [
    "10 > 20 or 30>50"
   ]
  },
  {
   "cell_type": "code",
   "execution_count": null,
   "id": "9e69cb77-fc4a-48c8-87a6-673174512382",
   "metadata": {},
   "outputs": [],
   "source": []
  }
 ],
 "metadata": {
  "kernelspec": {
   "display_name": "Python 3 (ipykernel)",
   "language": "python",
   "name": "python3"
  },
  "language_info": {
   "codemirror_mode": {
    "name": "ipython",
    "version": 3
   },
   "file_extension": ".py",
   "mimetype": "text/x-python",
   "name": "python",
   "nbconvert_exporter": "python",
   "pygments_lexer": "ipython3",
   "version": "3.12.4"
  }
 },
 "nbformat": 4,
 "nbformat_minor": 5
}
