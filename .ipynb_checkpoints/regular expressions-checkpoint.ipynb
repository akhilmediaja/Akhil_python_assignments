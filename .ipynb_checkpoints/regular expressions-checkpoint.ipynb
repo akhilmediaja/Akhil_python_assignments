{
 "cells": [
  {
   "cell_type": "code",
   "execution_count": 1,
   "id": "7cec7561-4333-4601-b7b4-822f928cb84e",
   "metadata": {},
   "outputs": [],
   "source": [
    "import re"
   ]
  },
  {
   "cell_type": "code",
   "execution_count": 2,
   "id": "3430cda8-df6f-457f-8e64-8cb66a344fcc",
   "metadata": {},
   "outputs": [
    {
     "name": "stdout",
     "output_type": "stream",
     "text": [
      "['A', 'ASCII', 'DEBUG', 'DOTALL', 'I', 'IGNORECASE', 'L', 'LOCALE', 'M', 'MULTILINE', 'Match', 'NOFLAG', 'Pattern', 'RegexFlag', 'S', 'Scanner', 'T', 'TEMPLATE', 'U', 'UNICODE', 'VERBOSE', 'X', '_MAXCACHE', '_MAXCACHE2', '__all__', '__builtins__', '__cached__', '__doc__', '__file__', '__loader__', '__name__', '__package__', '__path__', '__spec__', '__version__', '_cache', '_cache2', '_casefix', '_compile', '_compile_template', '_compiler', '_constants', '_parser', '_pickle', '_special_chars_map', '_sre', 'compile', 'copyreg', 'enum', 'error', 'escape', 'findall', 'finditer', 'fullmatch', 'functools', 'match', 'purge', 'search', 'split', 'sub', 'subn', 'template']\n"
     ]
    }
   ],
   "source": [
    "print(dir(re))"
   ]
  },
  {
   "cell_type": "code",
   "execution_count": 3,
   "id": "14b0da68-60e3-49b1-a000-908d691729fa",
   "metadata": {},
   "outputs": [
    {
     "name": "stdout",
     "output_type": "stream",
     "text": [
      "['abc1', 'def2', 'efg3', 'hijk', '4lmn']\n"
     ]
    }
   ],
   "source": [
    "s = \"abc1,def2,efg3,hijk,4lmn\"\n",
    "print(s.split(\",\"))"
   ]
  },
  {
   "cell_type": "code",
   "execution_count": 4,
   "id": "f9e90f28-78ed-412c-9d17-e47d2add00f8",
   "metadata": {},
   "outputs": [
    {
     "name": "stdout",
     "output_type": "stream",
     "text": [
      "['abc', 'def', 'efg', 'hijk']\n"
     ]
    }
   ],
   "source": [
    "s = \"abc1def2efg3hijk4lmn\"\n",
    "res = []\n",
    "sub = \"\"\n",
    "for i in s:\n",
    "    if i.isdigit():\n",
    "        res.append(sub)\n",
    "        sub = \"\"\n",
    "    else:\n",
    "        sub += i\n",
    "print(res)"
   ]
  },
  {
   "cell_type": "code",
   "execution_count": 5,
   "id": "fa69136c-fa41-468e-8888-0732fcd7c5d7",
   "metadata": {},
   "outputs": [
    {
     "data": {
      "text/plain": [
       "['abc', 'def', 'efg', 'hijk', 'lmn']"
      ]
     },
     "execution_count": 5,
     "metadata": {},
     "output_type": "execute_result"
    }
   ],
   "source": [
    "s = \"abc1def2efg3hijk4lmn\"\n",
    "s1 = re.split(\"[0123456789]\", s)\n",
    "s1"
   ]
  },
  {
   "cell_type": "code",
   "execution_count": 6,
   "id": "ffe064d6-7100-4208-bd9a-5b46ac031136",
   "metadata": {},
   "outputs": [
    {
     "data": {
      "text/plain": [
       "['abc', '', '', 'def', 'r', '', 'efg', '', '', 'hijk', '', '', 'lmn']"
      ]
     },
     "execution_count": 6,
     "metadata": {},
     "output_type": "execute_result"
    }
   ],
   "source": [
    "s = \"abc123def2r44efg355hijk455lmn\"\n",
    "s1 = re.split(\"[0123456789]\", s)\n",
    "s1"
   ]
  },
  {
   "cell_type": "code",
   "execution_count": 7,
   "id": "6bc818f0-8f32-4b3d-9f93-78a47554649e",
   "metadata": {},
   "outputs": [
    {
     "data": {
      "text/plain": [
       "['abc', 'def', 'r', 'efg', 'hijk', 'lmn']"
      ]
     },
     "execution_count": 7,
     "metadata": {},
     "output_type": "execute_result"
    }
   ],
   "source": [
    "s = \"abc123def2r44efg355hijk455lmn\"\n",
    "s1 = re.split(\"[0123456789]+\", s)\n",
    "s1"
   ]
  },
  {
   "cell_type": "code",
   "execution_count": 9,
   "id": "e9de181e-6c5d-4d61-bc53-9c51b8b2c1d1",
   "metadata": {},
   "outputs": [
    {
     "name": "stdout",
     "output_type": "stream",
     "text": [
      "['', 'a', 'b', 'c', '', '', '', 'd', 'e', 'f', '', 'r', '', '', 'e', 'f', 'g', '', '', '', 'h', 'i', 'j', 'k', '', '', '', 'l', 'm', 'n', '']\n"
     ]
    }
   ],
   "source": [
    "s = \"abc123def2r44efg355hijk455lmn\"\n",
    "s1 = re.split(\"[0123456789]?\", s) # 0 or 1 occurance\n",
    "print(s1)"
   ]
  },
  {
   "cell_type": "code",
   "execution_count": 9,
   "id": "81b3746b-5ea9-4f16-888f-3745dd46dad3",
   "metadata": {},
   "outputs": [
    {
     "name": "stdout",
     "output_type": "stream",
     "text": [
      "['', 'a', 'b', 'c', '', '', '', 'd', 'e', 'f', '', 'r', '', '', 'e', 'f', 'g', '', '', '', 'h', 'i', 'j', 'k', '', '', '', 'l', 'm', 'n', '']\n"
     ]
    }
   ],
   "source": [
    "s = \"abc123def2r44efg355hijk455lmn\"\n",
    "s1 = re.split(\"[0123456789]+\", s)# 1 or many occurance\n",
    "print(s1)"
   ]
  },
  {
   "cell_type": "code",
   "execution_count": 10,
   "id": "fa5796a1-57be-4bf1-bced-754f2fb0199e",
   "metadata": {},
   "outputs": [
    {
     "name": "stdout",
     "output_type": "stream",
     "text": [
      "['', 'a', 'b', 'c', '', 'd', 'e', 'f', '', 'r', '', 'e', 'f', 'g', '', 'h', 'i', 'j', 'k', '', 'l', 'm', 'n', '']\n"
     ]
    }
   ],
   "source": [
    "s = \"abc123def2r44efg355hijk455lmn\"\n",
    "s1 = re.split(\"[0123456789]*\", s)# 1 or many occurance\n",
    "print(s1)"
   ]
  },
  {
   "cell_type": "code",
   "execution_count": 12,
   "id": "722752f0-7402-4fcb-979d-946e581aa639",
   "metadata": {},
   "outputs": [
    {
     "name": "stdout",
     "output_type": "stream",
     "text": [
      "['abc123def2', 'r44efg355', 'hijk45', '5lmn']\n"
     ]
    }
   ],
   "source": [
    "s = \"abc123def2@r44efg355#hijk45$5lmn\"\n",
    "s1 = re.split(\"[@#$]\", s)# 1 or many occurance\n",
    "print(s1)"
   ]
  },
  {
   "cell_type": "code",
   "execution_count": 1,
   "id": "959b20c3-27af-4635-a960-643d23cdc20d",
   "metadata": {},
   "outputs": [
    {
     "name": "stdout",
     "output_type": "stream",
     "text": [
      "('October', '21', '2024')\n"
     ]
    }
   ],
   "source": [
    "import re\n",
    "\n",
    "pattern = r'([a-zA-Z]+)\\s(\\d{2}),\\s(\\d{4})'\n",
    "\n",
    "text = \"Today is October 21, 2024\"\n",
    "\n",
    "match = re.search(pattern, text)\n",
    "print(match.groups())\n"
   ]
  },
  {
   "cell_type": "code",
   "execution_count": 2,
   "id": "1eeb1265-2149-42d1-b4fe-6399aec0b19b",
   "metadata": {},
   "outputs": [
    {
     "ename": "AttributeError",
     "evalue": "'NoneType' object has no attribute 'groups'",
     "output_type": "error",
     "traceback": [
      "\u001b[1;31m---------------------------------------------------------------------------\u001b[0m",
      "\u001b[1;31mAttributeError\u001b[0m                            Traceback (most recent call last)",
      "Cell \u001b[1;32mIn[2], line 8\u001b[0m\n\u001b[0;32m      5\u001b[0m text \u001b[38;5;241m=\u001b[39m \u001b[38;5;124m\"\u001b[39m\u001b[38;5;124mToday is October 21st, 2024\u001b[39m\u001b[38;5;124m\"\u001b[39m\n\u001b[0;32m      7\u001b[0m match \u001b[38;5;241m=\u001b[39m re\u001b[38;5;241m.\u001b[39msearch(pattern, text)\n\u001b[1;32m----> 8\u001b[0m \u001b[38;5;28mprint\u001b[39m(match\u001b[38;5;241m.\u001b[39mgroups())\n",
      "\u001b[1;31mAttributeError\u001b[0m: 'NoneType' object has no attribute 'groups'"
     ]
    }
   ],
   "source": [
    "import re\n",
    "\n",
    "pattern = r'([a-zA-Z]+)\\s(\\d{2}),\\s(\\d{4})'\n",
    "\n",
    "text = \"Today is October 21st, 2024\"\n",
    "\n",
    "match = re.search(pattern, text)\n",
    "print(match.groups())\n"
   ]
  },
  {
   "cell_type": "code",
   "execution_count": 5,
   "id": "862909f7-88ae-48b1-97cb-df5e0f73df6d",
   "metadata": {},
   "outputs": [
    {
     "name": "stdout",
     "output_type": "stream",
     "text": [
      "<re.Match object; span=(0, 1000), match='aaaaaaaaaaaaaaaaaaaaaaaaaaaaaaaaaaaaaaaaaaaaaaaaa>\n"
     ]
    }
   ],
   "source": [
    "import re\n",
    "\n",
    "pattern = r'(a+)+'\n",
    "\n",
    "text = 'a' * 1000 + 'b'\n",
    "\n",
    "# This may take significantly longer to execute due to catastrophic backtracking.\n",
    "match = re.search(pattern, text)\n"
   ]
  },
  {
   "cell_type": "code",
   "execution_count": 6,
   "id": "e7336de7-68e9-43ec-b9f0-d630f59b2702",
   "metadata": {},
   "outputs": [
    {
     "name": "stdout",
     "output_type": "stream",
     "text": [
      "123-45-6789\n"
     ]
    }
   ],
   "source": [
    "import re\n",
    "\n",
    "pattern = r'\\b\\d{3}-\\d{2}-\\d{4}\\b'\n",
    "\n",
    "text = \"My social security number is 123-45-6789.\"\n",
    "\n",
    "match = re.search(pattern, text)\n",
    "print(match.group())  # Output: 123-45-6789\n"
   ]
  },
  {
   "cell_type": "code",
   "execution_count": 7,
   "id": "45767b90-0c59-4a24-9f5d-de3f4db1aa65",
   "metadata": {},
   "outputs": [],
   "source": [
    "import re\n",
    "\n",
    "pattern = r'apple'\n",
    "\n",
    "text = \"I like apples.\"\n",
    "\n",
    "match = re.search(pattern, text)\n",
    "\n"
   ]
  },
  {
   "cell_type": "code",
   "execution_count": 8,
   "id": "fad0423d-47a0-408a-9c40-768ad6453310",
   "metadata": {},
   "outputs": [],
   "source": [
    "text = \"I like apples.\"\n",
    "result = \"apple\" in text\n"
   ]
  },
  {
   "cell_type": "code",
   "execution_count": 9,
   "id": "3b6cca05-83e3-4665-9135-a5509423db52",
   "metadata": {},
   "outputs": [
    {
     "name": "stdout",
     "output_type": "stream",
     "text": [
      "None\n"
     ]
    }
   ],
   "source": [
    "import re\n",
    "\n",
    "pattern = r'\\d{3}-\\d{2}-\\d{4}'  # Trying to match a social security number\n",
    "\n",
    "text = \"123-456-789\"\n",
    "\n",
    "# Incorrect pattern: it won’t match the number because it expects 2 digits in the second group\n",
    "match = re.search(pattern, text)\n",
    "print(match)  # Output: None\n"
   ]
  },
  {
   "cell_type": "code",
   "execution_count": 10,
   "id": "e65a03c8-753f-4523-996c-72ff46ef5c7a",
   "metadata": {},
   "outputs": [
    {
     "name": "stdout",
     "output_type": "stream",
     "text": [
      "Regex error: unterminated character set at position 0\n"
     ]
    }
   ],
   "source": [
    "import re\n",
    "\n",
    "pattern = r'[A-Z'\n",
    "\n",
    "# This pattern has an unmatched square bracket, but the error message may not point that out clearly\n",
    "try:\n",
    "    match = re.search(pattern, \"Hello\")\n",
    "except re.error as e:\n",
    "    print(f\"Regex error: {e}\")\n"
   ]
  },
  {
   "cell_type": "code",
   "execution_count": 11,
   "id": "15022452-1041-463f-ae9b-b47233439c5e",
   "metadata": {},
   "outputs": [
    {
     "name": "stdout",
     "output_type": "stream",
     "text": [
      "<re.Match object; span=(0, 5), match='Hello'>\n",
      "<re.Match object; span=(0, 5), match='Hello'>\n"
     ]
    }
   ],
   "source": [
    "import re\n",
    "\n",
    "pattern = r'^Hello'\n",
    "\n",
    "text = \"\"\"Hello World\n",
    "Goodbye World\"\"\"\n",
    "\n",
    "# The ^ anchor matches only the start of the string, not the start of lines in multiline text\n",
    "match = re.search(pattern, text)\n",
    "print(match)  # Output: <re.Match object>\n",
    "\n",
    "# To handle multiline, the pattern needs the re.MULTILINE flag\n",
    "match = re.search(pattern, text, re.MULTILINE)\n",
    "print(match)  # Output: None (If no match at start of line)\n"
   ]
  },
  {
   "cell_type": "code",
   "execution_count": null,
   "id": "5f0015af-013b-42bb-83ca-9325ca604225",
   "metadata": {},
   "outputs": [],
   "source": []
  }
 ],
 "metadata": {
  "kernelspec": {
   "display_name": "Python 3 (ipykernel)",
   "language": "python",
   "name": "python3"
  },
  "language_info": {
   "codemirror_mode": {
    "name": "ipython",
    "version": 3
   },
   "file_extension": ".py",
   "mimetype": "text/x-python",
   "name": "python",
   "nbconvert_exporter": "python",
   "pygments_lexer": "ipython3",
   "version": "3.12.4"
  }
 },
 "nbformat": 4,
 "nbformat_minor": 5
}
