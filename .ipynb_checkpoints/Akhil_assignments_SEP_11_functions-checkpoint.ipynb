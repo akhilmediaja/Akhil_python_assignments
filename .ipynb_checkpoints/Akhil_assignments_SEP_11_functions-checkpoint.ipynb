{
 "cells": [
  {
   "cell_type": "code",
   "execution_count": 5,
   "id": "94372cb9-c015-488f-916c-5d7b59a67f78",
   "metadata": {},
   "outputs": [
    {
     "name": "stdin",
     "output_type": "stream",
     "text": [
      "enter a number :  20\n"
     ]
    },
    {
     "name": "stdout",
     "output_type": "stream",
     "text": [
      "Not ten\n",
      "Not ten\n"
     ]
    }
   ],
   "source": [
    "# 13. Assign “ten” value to variable it is 10 otherwise assign “Not ten”\n",
    "#        Note: write two versions of program\n",
    "# \tVersion1: use and operator\n",
    "# \tVersion2: use or operator\n",
    "\n",
    "def check_number(value):\n",
    "    if (value == \"10\" and \"ten\"):\n",
    "        print(\"ten\")\n",
    "        \n",
    "    else:\n",
    "        print(\"Not ten\")\n",
    "    \n",
    "    if ((value == \"10\") or (value == \"ten\")):\n",
    "        print(\"ten\")\n",
    "    else:\n",
    "        print(\"Not ten\")\n",
    "\n",
    "value = input(\"enter a number : \")\n",
    "# value = int(value)\n",
    "check_number(value)"
   ]
  },
  {
   "cell_type": "code",
   "execution_count": 6,
   "id": "4992d74c-8f28-484d-a65d-add9d3226bca",
   "metadata": {},
   "outputs": [
    {
     "name": "stdin",
     "output_type": "stream",
     "text": [
      "Enter no of People :  100\n",
      "Enter no of buses :  2\n",
      "Enter no of seats :  50\n",
      "Enter adjust factor :  5\n"
     ]
    },
    {
     "name": "stdout",
     "output_type": "stream",
     "text": [
      "Insufficient buses. You need 1 more buses.\n"
     ]
    }
   ],
   "source": [
    "# 13. Take the input from the user for(Total number of people, total number of buses, Number of seats for bus, adjust factor). Based on four inputs\n",
    "# Decide whether there is sufficient buses or not and give solution for how many extra buses required.\n",
    "def required_busses():\n",
    "    \n",
    "    import math\n",
    "    \n",
    "    people = float(input(\"Enter no of People : \"))\n",
    "    buses = float(input(\"Enter no of buses : \"))\n",
    "    seats = float(input(\"Enter no of seats : \"))\n",
    "    ad_factor = float(input(\"Enter adjust factor : \"))\n",
    "    \n",
    "    total_seats = (buses * seats) -(ad_factor * buses)\n",
    "    if total_seats >= people:\n",
    "      print(\"Sufficient buses\")\n",
    "    else:\n",
    "      required_seats = people - seats\n",
    "      extra_buses = math.ceil(required_seats / (seats * ad_factor))\n",
    "      print(f\"Insufficient buses. You need {extra_buses} more buses.\")\n",
    "\n",
    "required_busses()"
   ]
  },
  {
   "cell_type": "code",
   "execution_count": 7,
   "id": "031f6d6b-ec0d-42ee-ad53-ad4247d75dec",
   "metadata": {},
   "outputs": [
    {
     "name": "stdin",
     "output_type": "stream",
     "text": [
      "enter a number :  12\n"
     ]
    },
    {
     "name": "stdout",
     "output_type": "stream",
     "text": [
      "12 number is Even\n"
     ]
    }
   ],
   "source": [
    "# 14.Take number from the user decide whether it is even or odd \n",
    "def even_odd(check_number):\n",
    "    if float(check_number)%2==0:\n",
    "        print(f\"{check_number} number is Even\")\n",
    "    else:\n",
    "        print(f\"{check_number} number is Odd\")\n",
    "check_number = (input(\"enter a number : \"))\n",
    "even_odd(check_number)"
   ]
  },
  {
   "cell_type": "code",
   "execution_count": 10,
   "id": "2056fac5-b548-4bca-ac07-9d2e0253255e",
   "metadata": {},
   "outputs": [
    {
     "name": "stdin",
     "output_type": "stream",
     "text": [
      "enter a number :  -0.1\n"
     ]
    },
    {
     "name": "stdout",
     "output_type": "stream",
     "text": [
      "-0.1 number is Negative\n"
     ]
    }
   ],
   "source": [
    "# 15.take number from the user decide whether it is positive number or negative number\n",
    "def positive_negative(check_number):\n",
    "    if check_number >= 0:\n",
    "        print(f\"{check_number} number is Positive\")\n",
    "    else:\n",
    "        print(f\"{check_number} number is Negative\")\n",
    "\n",
    "    \n",
    "check_number = float(input(\"enter a number : \"))\n",
    "positive_negative(check_number)"
   ]
  },
  {
   "cell_type": "code",
   "execution_count": 11,
   "id": "48a2c2e6-5ff5-4898-ae17-579c0992b1ca",
   "metadata": {},
   "outputs": [
    {
     "name": "stdin",
     "output_type": "stream",
     "text": [
      "enter input :  1022\n"
     ]
    },
    {
     "name": "stdout",
     "output_type": "stream",
     "text": [
      "length of user input is 4\n"
     ]
    }
   ],
   "source": [
    "# 16.take a string from the user print the length. if the user not given anything then show an error message\n",
    "\n",
    "user_input = input(\"enter input : \" )\n",
    "def check_length(user_input):\n",
    "    if len(user_input) > 0:\n",
    "        print(f\"length of user input is {len(user_input)}\")\n",
    "    else:\n",
    "        print(\"Error\")\n",
    "\n",
    "check_length(user_input)"
   ]
  },
  {
   "cell_type": "code",
   "execution_count": 13,
   "id": "7ce4447e-82b1-4388-bfb5-fd8de43f58e8",
   "metadata": {},
   "outputs": [
    {
     "name": "stdin",
     "output_type": "stream",
     "text": [
      "enter a number  2\n",
      "enter a number  3\n"
     ]
    },
    {
     "name": "stdout",
     "output_type": "stream",
     "text": [
      "1.add \n",
      "2.sub \n",
      "3.mul \n",
      "4.div \n",
      "5.quit\n"
     ]
    },
    {
     "name": "stdin",
     "output_type": "stream",
     "text": [
      "select a number from options :  3\n"
     ]
    },
    {
     "name": "stdout",
     "output_type": "stream",
     "text": [
      "add value_1 * value_2 :  6.0\n"
     ]
    }
   ],
   "source": [
    "# 17.code to perform mathematical operations. take two numbers from the user and show the below menu\n",
    "# \t1. add,\n",
    "# \t2. sub,\t\n",
    "# \t3. mul,\n",
    "# \t4.div, \n",
    "# \t5.quit\n",
    "# \tEnter an option:\n",
    "# \t\tbased on the option need to perform an operations\n",
    "\n",
    "value_1 = float(input(\"enter a number \"))\n",
    "value_2 = float(input(\"enter a number \"))\n",
    "print(\"1.add \\n2.sub \\n3.mul \\n4.div \\n5.quit\")\n",
    "select_one = int(input(\"select a number from options : \" ))\n",
    "def show_message(select_one):\n",
    "    if select_one == 1:\n",
    "        print(\"add value_1 + value_2 : \", value_1 + value_2 )\n",
    "    elif select_one == 2:\n",
    "        print(\"sub value_1 - value_2 : \", value_1 - value_2 )\n",
    "    elif select_one == 3:\n",
    "        print(\"mul value_1 * value_2 : \", value_1 * value_2 )\n",
    "    elif select_one == 4:\n",
    "        print(\"div value_1 / value_2 : \", value_1 / value_2 )\n",
    "    elif select_one == 5:\n",
    "        print(\"Thank you\" )\n",
    "    else :\n",
    "        print(\"Please select from given options\")\n",
    "\n",
    "show_message(select_one)"
   ]
  },
  {
   "cell_type": "code",
   "execution_count": null,
   "id": "4ad76b50-cf68-4456-a63a-9ddfeb736eac",
   "metadata": {},
   "outputs": [],
   "source": []
  }
 ],
 "metadata": {
  "kernelspec": {
   "display_name": "Python 3 (ipykernel)",
   "language": "python",
   "name": "python3"
  },
  "language_info": {
   "codemirror_mode": {
    "name": "ipython",
    "version": 3
   },
   "file_extension": ".py",
   "mimetype": "text/x-python",
   "name": "python",
   "nbconvert_exporter": "python",
   "pygments_lexer": "ipython3",
   "version": "3.12.4"
  }
 },
 "nbformat": 4,
 "nbformat_minor": 5
}
