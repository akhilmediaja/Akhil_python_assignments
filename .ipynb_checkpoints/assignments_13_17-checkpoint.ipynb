{
 "cells": [
  {
   "cell_type": "code",
   "execution_count": 8,
   "id": "94372cb9-c015-488f-916c-5d7b59a67f78",
   "metadata": {},
   "outputs": [
    {
     "name": "stdin",
     "output_type": "stream",
     "text": [
      "enter a number :  10\n"
     ]
    },
    {
     "name": "stdout",
     "output_type": "stream",
     "text": [
      "ten\n",
      "ten\n"
     ]
    }
   ],
   "source": [
    "# 13. Assign “ten” value to variable it is 10 otherwise assign “Not ten”\n",
    "#        Note: write two versions of program\n",
    "# \tVersion1: use and operator\n",
    "# \tVersion2: use or operator\n",
    "\n",
    "\n",
    "\n",
    "value = input(\"enter a number : \")\n",
    "# value = int(value)\n",
    "if (value == \"10\" and \"ten\"):\n",
    "    print(\"ten\")\n",
    "else:\n",
    "    print(\"Not ten\")\n",
    "\n",
    "if ((value == \"10\") or (value == \"ten\")):\n",
    "    print(\"ten\")\n",
    "else:\n",
    "    print(\"Not ten\")"
   ]
  },
  {
   "cell_type": "code",
   "execution_count": 1,
   "id": "4992d74c-8f28-484d-a65d-add9d3226bca",
   "metadata": {},
   "outputs": [
    {
     "name": "stdin",
     "output_type": "stream",
     "text": [
      "Enter no of People :  104\n",
      "Enter no of buses :  2\n",
      "Enter no of seats :  25\n",
      "Enter adjust factor :  2\n"
     ]
    },
    {
     "name": "stdout",
     "output_type": "stream",
     "text": [
      "Insufficient buses. You need 2 more buses.\n"
     ]
    }
   ],
   "source": [
    "# 13. Take the input from the user for(Total number of people, total number of buses, Number of seats for bus, adjust factor). Based on four inputs\n",
    "# Decide whether there is sufficient buses or not and give solution for how many extra buses required.\n",
    "\n",
    "import math\n",
    "\n",
    "people = float(input(\"Enter no of People : \"))\n",
    "buses = float(input(\"Enter no of buses : \"))\n",
    "seats = float(input(\"Enter no of seats : \"))\n",
    "ad_factor = float(input(\"Enter adjust factor : \"))\n",
    "\n",
    "total_seats = (buses * seats) -(ad_factor * buses)\n",
    "if total_seats >= people:\n",
    "  print(\"Sufficient buses\")\n",
    "else:\n",
    "  required_seats = people - seats\n",
    "  extra_buses = math.ceil(required_seats / (seats * ad_factor))\n",
    "  print(f\"Insufficient buses. You need {extra_buses} more buses.\")"
   ]
  },
  {
   "cell_type": "code",
   "execution_count": 2,
   "id": "031f6d6b-ec0d-42ee-ad53-ad4247d75dec",
   "metadata": {},
   "outputs": [
    {
     "name": "stdin",
     "output_type": "stream",
     "text": [
      "enter a number :  12\n"
     ]
    },
    {
     "name": "stdout",
     "output_type": "stream",
     "text": [
      "12 number is Even\n"
     ]
    }
   ],
   "source": [
    "# 14.Take number from the user decide whether it is even or odd \n",
    "\n",
    "check_number = (input(\"enter a number : \"))\n",
    "if float(check_number)%2==0:\n",
    "    print(f\"{check_number} number is Even\")\n",
    "else:\n",
    "    print(f\"{check_number} number is Odd\")"
   ]
  },
  {
   "cell_type": "code",
   "execution_count": 18,
   "id": "2056fac5-b548-4bca-ac07-9d2e0253255e",
   "metadata": {},
   "outputs": [
    {
     "name": "stdin",
     "output_type": "stream",
     "text": [
      "enter a number :  56\n"
     ]
    },
    {
     "name": "stdout",
     "output_type": "stream",
     "text": [
      "56.0 number is Positive\n"
     ]
    }
   ],
   "source": [
    "# 15.take number from the user decide whether it is positive number or negative number\n",
    "\n",
    "check_number = float(input(\"enter a number : \"))\n",
    "if check_number > 0:\n",
    "    print(f\"{check_number} number is Positive\")\n",
    "else:\n",
    "    print(f\"{check_number} number is Negative\")"
   ]
  },
  {
   "cell_type": "code",
   "execution_count": null,
   "id": "48a2c2e6-5ff5-4898-ae17-579c0992b1ca",
   "metadata": {},
   "outputs": [],
   "source": [
    "# 16.take a string from the user print the length. if the user not given anything then show an error message\n",
    "\n",
    "user_input = input(\"enter input : \" )\n",
    "\n",
    "if len(user_input) > 0:\n",
    "    print(f\"length of user input is {len(user_input)}\")\n",
    "else:\n",
    "    print(\"Error\")"
   ]
  },
  {
   "cell_type": "code",
   "execution_count": 1,
   "id": "7ce4447e-82b1-4388-bfb5-fd8de43f58e8",
   "metadata": {},
   "outputs": [
    {
     "name": "stdin",
     "output_type": "stream",
     "text": [
      "enter a number  1\n",
      "enter a number  2\n"
     ]
    },
    {
     "name": "stdout",
     "output_type": "stream",
     "text": [
      "1.add \n",
      "2.sub \n",
      "3.mul \n",
      "4.div \n",
      "5.quit\n"
     ]
    },
    {
     "name": "stdin",
     "output_type": "stream",
     "text": [
      "select a number from options :  5\n"
     ]
    },
    {
     "name": "stdout",
     "output_type": "stream",
     "text": [
      "Thank you\n"
     ]
    }
   ],
   "source": [
    "# 17.code to perform mathematical operations. take two numbers from the user and show the below menu\n",
    "# \t1. add,\n",
    "# \t2. sub,\t\n",
    "# \t3. mul,\n",
    "# \t4.div, \n",
    "# \t5.quit\n",
    "# \tEnter an option:\n",
    "# \t\tbased on the option need to perform an operations\n",
    "\n",
    "value_1 = float(input(\"enter a number \"))\n",
    "value_2 = float(input(\"enter a number \"))\n",
    "print(\"1.add \\n2.sub \\n3.mul \\n4.div \\n5.quit\")\n",
    "select_one = int(input(\"select a number from options : \" ))\n",
    "\n",
    "if select_one == 1:\n",
    "    print(\"add value_1 + value_2 : \", value_1 + value_2 )\n",
    "elif select_one == 2:\n",
    "    print(\"add value_1 + value_2 : \", value_1 - value_2 )\n",
    "elif select_one == 3:\n",
    "    print(\"add value_1 + value_2 : \", value_1 * value_2 )\n",
    "elif select_one == 4:\n",
    "    print(\"add value_1 + value_2 : \", value_1 / value_2 )\n",
    "elif select_one == 5:\n",
    "    print(\"Thank you\" )\n",
    "else :\n",
    "    print(\"Please select from given options\")"
   ]
  },
  {
   "cell_type": "code",
   "execution_count": 36,
   "id": "a4d88160-6289-498c-94f4-d19092fe6bbb",
   "metadata": {},
   "outputs": [
    {
     "name": "stdout",
     "output_type": "stream",
     "text": [
      "1. kids \n",
      "2. Men's \n",
      "3. Women's\n"
     ]
    },
    {
     "name": "stdin",
     "output_type": "stream",
     "text": [
      "select one option from above :  5\n"
     ]
    },
    {
     "name": "stdout",
     "output_type": "stream",
     "text": [
      "Please select from given options\n"
     ]
    }
   ],
   "source": []
  }
 ],
 "metadata": {
  "kernelspec": {
   "display_name": "Python 3 (ipykernel)",
   "language": "python",
   "name": "python3"
  },
  "language_info": {
   "codemirror_mode": {
    "name": "ipython",
    "version": 3
   },
   "file_extension": ".py",
   "mimetype": "text/x-python",
   "name": "python",
   "nbconvert_exporter": "python",
   "pygments_lexer": "ipython3",
   "version": "3.12.4"
  }
 },
 "nbformat": 4,
 "nbformat_minor": 5
}
