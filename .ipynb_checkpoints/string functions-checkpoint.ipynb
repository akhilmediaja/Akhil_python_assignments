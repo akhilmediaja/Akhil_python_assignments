{
 "cells": [
  {
   "cell_type": "code",
   "execution_count": 5,
   "id": "53c648bb-3691-4360-a59a-5a1c973b323e",
   "metadata": {},
   "outputs": [
    {
     "name": "stdout",
     "output_type": "stream",
     "text": [
      "['__add__', '__class__', '__contains__', '__delattr__', '__dir__', '__doc__', '__eq__', '__format__', '__ge__', '__getattribute__', '__getitem__', '__getnewargs__', '__getstate__', '__gt__', '__hash__', '__init__', '__init_subclass__', '__iter__', '__le__', '__len__', '__lt__', '__mod__', '__mul__', '__ne__', '__new__', '__reduce__', '__reduce_ex__', '__repr__', '__rmod__', '__rmul__', '__setattr__', '__sizeof__', '__str__', '__subclasshook__', 'capitalize', 'casefold', 'center', 'count', 'encode', 'endswith', 'expandtabs', 'find', 'format', 'format_map', 'index', 'isalnum', 'isalpha', 'isascii', 'isdecimal', 'isdigit', 'isidentifier', 'islower', 'isnumeric', 'isprintable', 'isspace', 'istitle', 'isupper', 'join', 'ljust', 'lower', 'lstrip', 'maketrans', 'partition', 'removeprefix', 'removesuffix', 'replace', 'rfind', 'rindex', 'rjust', 'rpartition', 'rsplit', 'rstrip', 'split', 'splitlines', 'startswith', 'strip', 'swapcase', 'title', 'translate', 'upper', 'zfill']\n"
     ]
    }
   ],
   "source": [
    "s = \"hyd\"\n",
    "print(dir(s))"
   ]
  },
  {
   "cell_type": "code",
   "execution_count": 4,
   "id": "17ec452b-1467-4ac8-9e44-3a285001d77a",
   "metadata": {},
   "outputs": [
    {
     "name": "stdout",
     "output_type": "stream",
     "text": [
      "\n"
     ]
    }
   ],
   "source": [
    "s = \"\"\n",
    "print((s.capitalize()))"
   ]
  },
  {
   "cell_type": "code",
   "execution_count": 3,
   "id": "744dfb3f-f57f-4df5-8ac2-a2b659127a93",
   "metadata": {},
   "outputs": [
    {
     "name": "stdout",
     "output_type": "stream",
     "text": [
      " hyd\n"
     ]
    }
   ],
   "source": [
    "s = \" hyd\"\n",
    "print((s.casefold()))"
   ]
  },
  {
   "cell_type": "code",
   "execution_count": 2,
   "id": "bb6aa93a-f6ae-4331-8476-6366aca3c3a0",
   "metadata": {},
   "outputs": [
    {
     "name": "stdout",
     "output_type": "stream",
     "text": [
      "Object `s.casefold` not found.\n"
     ]
    }
   ],
   "source": [
    "s.casefold?"
   ]
  },
  {
   "cell_type": "code",
   "execution_count": 1,
   "id": "8b121104-53f5-4f66-a2d4-22e2f4c1354d",
   "metadata": {},
   "outputs": [
    {
     "name": "stdout",
     "output_type": "stream",
     "text": [
      "Object `s.capitalize` not found.\n"
     ]
    }
   ],
   "source": [
    "s.capitalize?"
   ]
  },
  {
   "cell_type": "code",
   "execution_count": 6,
   "id": "d840077a-7d83-400f-b290-b0062dcb3b3f",
   "metadata": {},
   "outputs": [
    {
     "name": "stdout",
     "output_type": "stream",
     "text": [
      "['__add__', '__class__', '__class_getitem__', '__contains__', '__delattr__', '__delitem__', '__dir__', '__doc__', '__eq__', '__format__', '__ge__', '__getattribute__', '__getitem__', '__getstate__', '__gt__', '__hash__', '__iadd__', '__imul__', '__init__', '__init_subclass__', '__iter__', '__le__', '__len__', '__lt__', '__mul__', '__ne__', '__new__', '__reduce__', '__reduce_ex__', '__repr__', '__reversed__', '__rmul__', '__setattr__', '__setitem__', '__sizeof__', '__str__', '__subclasshook__', 'append', 'clear', 'copy', 'count', 'extend', 'index', 'insert', 'pop', 'remove', 'reverse', 'sort']\n"
     ]
    }
   ],
   "source": [
    "l = [1,2,3,4]\n",
    "print(dir(l))"
   ]
  },
  {
   "cell_type": "code",
   "execution_count": 31,
   "id": "60b6213e-c269-47c0-93fa-726087fdff08",
   "metadata": {},
   "outputs": [
    {
     "name": "stdout",
     "output_type": "stream",
     "text": [
      "['__add__', '__class__', '__class_getitem__', '__contains__', '__delattr__', '__dir__', '__doc__', '__eq__', '__format__', '__ge__', '__getattribute__', '__getitem__', '__getnewargs__', '__getstate__', '__gt__', '__hash__', '__init__', '__init_subclass__', '__iter__', '__le__', '__len__', '__lt__', '__mul__', '__ne__', '__new__', '__reduce__', '__reduce_ex__', '__repr__', '__rmul__', '__setattr__', '__sizeof__', '__str__', '__subclasshook__', 'count', 'index']\n"
     ]
    }
   ],
   "source": [
    "tup = (1, 2,)\n",
    "print(dir(tup))"
   ]
  },
  {
   "cell_type": "code",
   "execution_count": 10,
   "id": "ea06c303-8b39-457e-9c9a-a079fc6e612c",
   "metadata": {},
   "outputs": [
    {
     "name": "stdout",
     "output_type": "stream",
     "text": [
      "['__add__', '__class__', '__contains__', '__delattr__', '__dir__', '__doc__', '__eq__', '__format__', '__ge__', '__getattribute__', '__getitem__', '__getnewargs__', '__getstate__', '__gt__', '__hash__', '__init__', '__init_subclass__', '__iter__', '__le__', '__len__', '__lt__', '__mod__', '__mul__', '__ne__', '__new__', '__reduce__', '__reduce_ex__', '__repr__', '__rmod__', '__rmul__', '__setattr__', '__sizeof__', '__str__', '__subclasshook__', 'capitalize', 'casefold', 'center', 'count', 'encode', 'endswith', 'expandtabs', 'find', 'format', 'format_map', 'index', 'isalnum', 'isalpha', 'isascii', 'isdecimal', 'isdigit', 'isidentifier', 'islower', 'isnumeric', 'isprintable', 'isspace', 'istitle', 'isupper', 'join', 'ljust', 'lower', 'lstrip', 'maketrans', 'partition', 'removeprefix', 'removesuffix', 'replace', 'rfind', 'rindex', 'rjust', 'rpartition', 'rsplit', 'rstrip', 'split', 'splitlines', 'startswith', 'strip', 'swapcase', 'title', 'translate', 'upper', 'zfill']\n"
     ]
    }
   ],
   "source": [
    "s = \"hyd\"\n",
    "print(dir(s))"
   ]
  },
  {
   "cell_type": "code",
   "execution_count": 14,
   "id": "d45429d8-6d61-4888-bed8-f7fe5879e17f",
   "metadata": {},
   "outputs": [
    {
     "data": {
      "text/plain": [
       "'Hello aja'"
      ]
     },
     "execution_count": 14,
     "metadata": {},
     "output_type": "execute_result"
    }
   ],
   "source": [
    "s = \"hello AJA\"\n",
    "s.capitalize()"
   ]
  },
  {
   "cell_type": "code",
   "execution_count": 16,
   "id": "b9d87394-0d64-4260-90a7-1c2d1b1c3c0f",
   "metadata": {},
   "outputs": [
    {
     "data": {
      "text/plain": [
       "'12hi aja'"
      ]
     },
     "execution_count": 16,
     "metadata": {},
     "output_type": "execute_result"
    }
   ],
   "source": [
    "s = \"12hi AJA\"\n",
    "s.capitalize()"
   ]
  },
  {
   "cell_type": "code",
   "execution_count": 35,
   "id": "7ffca6db-4906-43a9-b5ab-c9efc2d7f610",
   "metadata": {},
   "outputs": [
    {
     "data": {
      "text/plain": [
       "'12hi aja'"
      ]
     },
     "execution_count": 35,
     "metadata": {},
     "output_type": "execute_result"
    }
   ],
   "source": [
    "s = \"12hi AJA\"\n",
    "s.capitalize()\n"
   ]
  },
  {
   "cell_type": "code",
   "execution_count": 21,
   "id": "54532fb8-21b5-42e2-8703-722774ae3238",
   "metadata": {},
   "outputs": [
    {
     "data": {
      "text/plain": [
       "'_aja'"
      ]
     },
     "execution_count": 21,
     "metadata": {},
     "output_type": "execute_result"
    }
   ],
   "source": [
    "s = \"_AJA\"\n",
    "s.capitalize()"
   ]
  },
  {
   "cell_type": "code",
   "execution_count": 49,
   "id": "18c95293-47fb-4fd1-9aa4-1255525d1407",
   "metadata": {},
   "outputs": [
    {
     "name": "stdout",
     "output_type": "stream",
     "text": [
      "hyderabad\n",
      "123hyderabad\n",
      "@#$hyderabad\n",
      "\n"
     ]
    }
   ],
   "source": [
    "s = \"HYDERABAD\"\n",
    "print(s.casefold()) # it will convert all upper case letters to lower case \n",
    "\n",
    "s = \"123HYDERABAD\"\n",
    "print(s.casefold())\n",
    "\n",
    "s = \"@#$HYDERABAD\"\n",
    "print(s.casefold())\n",
    "\n",
    "s = \"\"\n",
    "print(s.casefold())"
   ]
  },
  {
   "cell_type": "code",
   "execution_count": 49,
   "id": "4a8184d2-d468-42fe-8f31-3101ac6f300e",
   "metadata": {},
   "outputs": [
    {
     "name": "stdout",
     "output_type": "stream",
     "text": [
      "hyderabad\n",
      "123hyderabad\n",
      "@#$hyderabad\n",
      "\n"
     ]
    }
   ],
   "source": [
    "s = \"HYDERABAD\"\n",
    "print(s.casefold()) # it will convert all upper case letters to lower case \n",
    "\n",
    "s = \"123HYDERABAD\"\n",
    "print(s.casefold())\n",
    "\n",
    "s = \"@#$HYDERABAD\"\n",
    "print(s.casefold())\n",
    "\n",
    "s = \"\"\n",
    "print(s.casefold())"
   ]
  },
  {
   "cell_type": "code",
   "execution_count": 10,
   "id": "70076c28-8d6e-468a-821a-640bdfa89c76",
   "metadata": {},
   "outputs": [
    {
     "name": "stdout",
     "output_type": "stream",
     "text": [
      "  Python  \n",
      "----Python----\n",
      "**Hello***\n",
      "..Akhil...\n"
     ]
    }
   ],
   "source": [
    "text = \"Python\"\n",
    "print(text.center(10))  # Centers the string within the specified width and optionally fills with a character.\n",
    "\n",
    "text = \"Python\"\n",
    "print(text.center(14, '-'))  \n",
    "\n",
    "text = \"Hello\"\n",
    "print(text.center(10, '*'))  \n",
    "\n",
    "text = \"Akhil\"\n",
    "print(text.center(10, '.'))  "
   ]
  },
  {
   "cell_type": "code",
   "execution_count": 19,
   "id": "2ccba8ed-4b7f-4dee-8670-435e5e09c12a",
   "metadata": {},
   "outputs": [
    {
     "name": "stdout",
     "output_type": "stream",
     "text": [
      "2\n",
      "2\n",
      "2\n",
      "1\n"
     ]
    }
   ],
   "source": [
    "text = \"Python is fun, and Python is easy to learn.\"\n",
    "count = text.count(\"thon\") # It will give number of occurrences of a specified substring in a string\n",
    "print(count)\n",
    "\n",
    "text = \"Python is fun, and Python is easy to learn.\"\n",
    "count = text.count(\"i\") # It will give number of occurrences of a specified substring in a string\n",
    "print(count)\n",
    "\n",
    "text = \"Python is fun, and Python is easy to learn.\"\n",
    "count = text.count(\"i\") # It will give number of occurrences of a specified substring in a string\n",
    "print(count)\n",
    "\n",
    "text = \"Python is fun, and Python is easy to learn.\"\n",
    "count = text.count(\"P\", 10, 20) # It will give number of occurrences of a specified substring in a string\n",
    "print(count)"
   ]
  },
  {
   "cell_type": "code",
   "execution_count": 12,
   "id": "1342c58c-863c-42e4-a3fd-0ad38b470503",
   "metadata": {},
   "outputs": [
    {
     "name": "stdout",
     "output_type": "stream",
     "text": [
      "b'Python'\n",
      "b'hello'\n",
      "b'Hello'\n",
      "b'\\xff\\xfeP\\x00y\\x00t\\x00h\\x00o\\x00n\\x00'\n"
     ]
    }
   ],
   "source": [
    "text = \"Python\"\n",
    "print(text.encode())  # Output: b'Python' (default UTF-8 encoding) Encodes the string into bytes using the specified encoding.\n",
    "\n",
    "text = \"hello\"\n",
    "print(text.encode('ascii'))  \n",
    "\n",
    "text = \"Hello\" \n",
    "print(text.encode('utf-8'))  \n",
    "\n",
    "text = \"Python\"\n",
    "print(text.encode('utf-16'))"
   ]
  },
  {
   "cell_type": "code",
   "execution_count": 13,
   "id": "292d273a-a4c7-4751-aea8-fdcd414a6352",
   "metadata": {},
   "outputs": [
    {
     "name": "stdout",
     "output_type": "stream",
     "text": [
      "True\n",
      "False\n",
      "True\n",
      "True\n"
     ]
    }
   ],
   "source": [
    "text = \"hello.py\"\n",
    "print(text.endswith(\".py\"))  # It will Checks whether the string ends with the specified suffix.\n",
    "\n",
    "text = \"test.txt\"\n",
    "print(text.endswith(\".csv\"))  \n",
    "\n",
    "text = \"filename.csv\"\n",
    "print(text.endswith((\".csv\", \".txt\")))  \n",
    "\n",
    "text = \"hello world\"\n",
    "print(text.endswith(\"world\"))  \n"
   ]
  },
  {
   "cell_type": "code",
   "execution_count": 17,
   "id": "93997437-1f0e-418c-80d2-7247cb3751f9",
   "metadata": {},
   "outputs": [
    {
     "name": "stdout",
     "output_type": "stream",
     "text": [
      "Python  is  fun\n",
      "Hello   World\n",
      "  Indented\n",
      "Line1     Line2     Line3\n",
      "Line1\tLine2\tLine3\n"
     ]
    }
   ],
   "source": [
    "text = \"Python\\tis\\tfun\"\n",
    "print(text.expandtabs(4))  # Expands tabs in the string to the specified number of spaces. defualtly it will take 4 spaces\n",
    "\n",
    "text = \"Hello\\tWorld\"\n",
    "print(text.expandtabs(8))  \n",
    "\n",
    "text = \"\\tIndented\"\n",
    "print(text.expandtabs(2))  \n",
    "\n",
    "text = \"Line1\\tLine2\\tLine3\"\n",
    "print(text.expandtabs(5))\n",
    "\n",
    "text = \"Line1\\tLine2\\tLine3\"\n",
    "print(text)"
   ]
  },
  {
   "cell_type": "code",
   "execution_count": 23,
   "id": "2f5919f1-43c7-48a0-9a63-71381801d200",
   "metadata": {},
   "outputs": [
    {
     "name": "stdout",
     "output_type": "stream",
     "text": [
      "6\n",
      "-1\n",
      "2\n",
      "3\n",
      "3\n"
     ]
    },
    {
     "data": {
      "text/plain": [
       "\u001b[1;31mDocstring:\u001b[0m\n",
       "S.find(sub[, start[, end]]) -> int\n",
       "\n",
       "Return the lowest index in S where substring sub is found,\n",
       "such that sub is contained within S[start:end].  Optional\n",
       "arguments start and end are interpreted as in slice notation.\n",
       "\n",
       "Return -1 on failure.\n",
       "\u001b[1;31mType:\u001b[0m      builtin_function_or_method"
      ]
     },
     "metadata": {},
     "output_type": "display_data"
    }
   ],
   "source": [
    "text = \"Hello world\"\n",
    "print(text.find(\"world\"))  # Returns the index of the first occurrence of a substring, or -1 if not found.\n",
    "\n",
    "text = \"Hello world\"\n",
    "print(text.find(\"Python\"))  \n",
    "\n",
    "text = \"banana\"\n",
    "print(text.find(\"na\"))  \n",
    "\n",
    "text = \"abcdef\"\n",
    "print(text.find(\"d\"))  \n",
    "\n",
    "text = \"abcdef\"\n",
    "print(text.find(\"d\", 3, 5 ))  \n",
    "\n",
    "text.find?\n"
   ]
  },
  {
   "cell_type": "code",
   "execution_count": 27,
   "id": "c1f55974-658e-4c74-94a5-e2f17f5a33cf",
   "metadata": {},
   "outputs": [
    {
     "name": "stdout",
     "output_type": "stream",
     "text": [
      "My name is Akhil.\n",
      "My name is Akhil. I am 25 years old.\n",
      "The price is 19.33 dollars.\n",
      "Akhil is 25 years old.\n",
      "Akhil is 25 years old.\n"
     ]
    }
   ],
   "source": [
    "text = \"My name is {name}.\"\n",
    "print(text.format(name=\"Akhil\"))  # Formats a string using placeholders.\n",
    "\n",
    "text = \"My name is {name}. I am {age} years old.\"\n",
    "print(text.format(age=25, name = \"Akhil\"))  \n",
    "\n",
    "text = \"The price is {price:.2f} dollars.\"\n",
    "print(text.format(price=19.33333))  \n",
    "\n",
    "text = \"{0} is {1} years old.\"\n",
    "print(text.format(\"Akhil\", 25))  \n",
    "\n",
    "text = \"{} is {} years old.\"\n",
    "print(text.format(\"Akhil\", 25))  "
   ]
  },
  {
   "cell_type": "code",
   "execution_count": 29,
   "id": "b6fb86ad-b4e5-4f2c-9ca4-3dccfa0d75e3",
   "metadata": {},
   "outputs": [
    {
     "name": "stdout",
     "output_type": "stream",
     "text": [
      "My name is Akhil and I am 25.\n",
      "The apple is red.\n",
      "Python is version 3.\n",
      "I live in Warangal, Telangana.\n"
     ]
    },
    {
     "ename": "ValueError",
     "evalue": "Format string contains positional fields",
     "output_type": "error",
     "traceback": [
      "\u001b[1;31m---------------------------------------------------------------------------\u001b[0m",
      "\u001b[1;31mValueError\u001b[0m                                Traceback (most recent call last)",
      "Cell \u001b[1;32mIn[29], line 20\u001b[0m\n\u001b[0;32m     18\u001b[0m \u001b[38;5;28mdict\u001b[39m \u001b[38;5;241m=\u001b[39m {\u001b[38;5;124m\"\u001b[39m\u001b[38;5;124mfruit\u001b[39m\u001b[38;5;124m\"\u001b[39m: \u001b[38;5;124m\"\u001b[39m\u001b[38;5;124mapple\u001b[39m\u001b[38;5;124m\"\u001b[39m, \u001b[38;5;124m\"\u001b[39m\u001b[38;5;124mcolor\u001b[39m\u001b[38;5;124m\"\u001b[39m: \u001b[38;5;124m\"\u001b[39m\u001b[38;5;124mred\u001b[39m\u001b[38;5;124m\"\u001b[39m}\n\u001b[0;32m     19\u001b[0m text \u001b[38;5;241m=\u001b[39m \u001b[38;5;124m\"\u001b[39m\u001b[38;5;124mThe \u001b[39m\u001b[38;5;132;01m{}\u001b[39;00m\u001b[38;5;124m is \u001b[39m\u001b[38;5;132;01m{}\u001b[39;00m\u001b[38;5;124m.\u001b[39m\u001b[38;5;124m\"\u001b[39m\n\u001b[1;32m---> 20\u001b[0m \u001b[38;5;28mprint\u001b[39m(text\u001b[38;5;241m.\u001b[39mformat_map(\u001b[38;5;28mdict\u001b[39m))\n",
      "\u001b[1;31mValueError\u001b[0m: Format string contains positional fields"
     ]
    }
   ],
   "source": [
    "dict = {\"name\": \"Akhil\", \"age\": 25}\n",
    "text = \"My name is {name} and I am {age}.\"\n",
    "print(text.format_map(dict))  # Formats the string using a dictionary. \n",
    "\n",
    "dict = {\"fruit\": \"apple\", \"color\": \"red\"}\n",
    "text = \"The {fruit} is {color}.\"\n",
    "print(text.format_map(dict)) \n",
    "\n",
    "dict = {\"language\": \"Python\", \"version\": 3}\n",
    "text = \"{language} is version {version}.\"\n",
    "print(text.format_map(dict))  \n",
    "\n",
    "dict = {\"city\": \"Warangal\", \"state\": \"Telangana\"}\n",
    "text = \"I live in {city}, {state}.\"\n",
    "print(text.format_map(dict))  \n",
    "\n",
    "\n",
    "dict = {\"fruit\": \"apple\", \"color\": \"red\"}\n",
    "text = \"The {} is {}.\"\n",
    "print(text.format_map(dict)) "
   ]
  },
  {
   "cell_type": "code",
   "execution_count": 31,
   "id": "7245f03c-da5c-45f6-977e-ca0438c999b2",
   "metadata": {},
   "outputs": [
    {
     "name": "stdout",
     "output_type": "stream",
     "text": [
      "6\n",
      "1\n",
      "3\n",
      "6\n"
     ]
    },
    {
     "ename": "ValueError",
     "evalue": "substring not found",
     "output_type": "error",
     "traceback": [
      "\u001b[1;31m---------------------------------------------------------------------------\u001b[0m",
      "\u001b[1;31mValueError\u001b[0m                                Traceback (most recent call last)",
      "Cell \u001b[1;32mIn[31], line 14\u001b[0m\n\u001b[0;32m     11\u001b[0m \u001b[38;5;28mprint\u001b[39m(text\u001b[38;5;241m.\u001b[39mindex(\u001b[38;5;124m\"\u001b[39m\u001b[38;5;124mpie\u001b[39m\u001b[38;5;124m\"\u001b[39m))  \n\u001b[0;32m     13\u001b[0m text \u001b[38;5;241m=\u001b[39m \u001b[38;5;124m\"\u001b[39m\u001b[38;5;124mapple pie\u001b[39m\u001b[38;5;124m\"\u001b[39m\n\u001b[1;32m---> 14\u001b[0m \u001b[38;5;28mprint\u001b[39m(text\u001b[38;5;241m.\u001b[39mindex(\u001b[38;5;124m\"\u001b[39m\u001b[38;5;124mz\u001b[39m\u001b[38;5;124m\"\u001b[39m))\n",
      "\u001b[1;31mValueError\u001b[0m: substring not found"
     ]
    }
   ],
   "source": [
    "text = \"Hello world\"\n",
    "print(text.index(\"world\"))  #It returns the index of the first occurrence of a substring. It will gives error when not value founds\n",
    "\n",
    "text = \"banana\"\n",
    "print(text.index(\"a\"))  \n",
    "\n",
    "text = \"abcdef\"\n",
    "print(text.index(\"d\"))  \n",
    "\n",
    "text = \"apple pie\"\n",
    "print(text.index(\"pie\"))  \n",
    "\n",
    "text = \"apple pie\"\n",
    "print(text.index(\"z\"))  "
   ]
  },
  {
   "cell_type": "code",
   "execution_count": 8,
   "id": "aa3a7e2b-ac74-435a-b4cd-64b547d06ac9",
   "metadata": {},
   "outputs": [
    {
     "name": "stdout",
     "output_type": "stream",
     "text": [
      "True\n",
      "False\n",
      "False\n",
      "True\n",
      "True\n"
     ]
    },
    {
     "data": {
      "text/plain": [
       "\u001b[1;31mSignature:\u001b[0m \u001b[0mtext\u001b[0m\u001b[1;33m.\u001b[0m\u001b[0misalnum\u001b[0m\u001b[1;33m(\u001b[0m\u001b[1;33m)\u001b[0m\u001b[1;33m\u001b[0m\u001b[1;33m\u001b[0m\u001b[0m\n",
       "\u001b[1;31mDocstring:\u001b[0m\n",
       "Return True if the string is an alpha-numeric string, False otherwise.\n",
       "\n",
       "A string is alpha-numeric if all characters in the string are alpha-numeric and\n",
       "there is at least one character in the string.\n",
       "\u001b[1;31mType:\u001b[0m      builtin_function_or_method"
      ]
     },
     "metadata": {},
     "output_type": "display_data"
    }
   ],
   "source": [
    "text = \"Python3\"\n",
    "print(text.isalnum())  # It returns  True if all aplha and digits contains, other wise it will Gives False.\n",
    "\n",
    "text = \"Python!\"\n",
    "print(text.isalnum())\n",
    "\n",
    "text = \"Python#$%\"\n",
    "print(text.isalnum())\n",
    "\n",
    "text = \"12345\"\n",
    "print(text.isalnum())\n",
    "\n",
    "text = \"HelloWorld\"\n",
    "print(text.isalnum())\n",
    "\n",
    "text = \"\"\n",
    "text.isalnum?"
   ]
  },
  {
   "cell_type": "code",
   "execution_count": 34,
   "id": "a0e4336f-8a1f-4216-b5d7-693bf2e519ea",
   "metadata": {},
   "outputs": [
    {
     "name": "stdout",
     "output_type": "stream",
     "text": [
      "True\n",
      "False\n",
      "True\n",
      "False\n"
     ]
    }
   ],
   "source": [
    "text = \"Python\"\n",
    "print(text.isalpha())  # It will checks only contains alpha values it will Gives True, other wise it gives False.\n",
    "\n",
    "text = \"Python123\"\n",
    "print(text.isalpha())  \n",
    "\n",
    "text = \"HELLO\"\n",
    "print(text.isalpha())  \n",
    "\n",
    "text = \"Hello World\"\n",
    "print(text.isalpha())  "
   ]
  },
  {
   "cell_type": "code",
   "execution_count": 14,
   "id": "acb59310-224c-4a55-8aaa-cecc392597aa",
   "metadata": {},
   "outputs": [
    {
     "ename": "SyntaxError",
     "evalue": "invalid syntax (2690973897.py, line 15)",
     "output_type": "error",
     "traceback": [
      "\u001b[1;36m  Cell \u001b[1;32mIn[14], line 15\u001b[1;36m\u001b[0m\n\u001b[1;33m    if = \"hello\"\u001b[0m\n\u001b[1;37m       ^\u001b[0m\n\u001b[1;31mSyntaxError\u001b[0m\u001b[1;31m:\u001b[0m invalid syntax\n"
     ]
    }
   ],
   "source": [
    "text = \"Hello\"\n",
    "print(text.isascii())  # It checks all the values are in ascii values and gives True, other wise it gives False\n",
    "\n",
    "text = \"Python3\"\n",
    "print(text.isascii())  \n",
    "\n",
    "text = \"12345\"\n",
    "print(text.isascii())  \n",
    "\n",
    "text = \"\"\n",
    "print(text.isascii())  \n",
    "text.isascii?\n",
    "\n",
    "\n",
    "if = \"hello\"\n",
    "print(if)"
   ]
  },
  {
   "cell_type": "code",
   "execution_count": 11,
   "id": "000679d0-e18e-4f7c-8988-651735a4d417",
   "metadata": {},
   "outputs": [
    {
     "name": "stdout",
     "output_type": "stream",
     "text": [
      "True\n",
      "True\n",
      "False\n",
      "True\n",
      "False\n",
      "False\n"
     ]
    }
   ],
   "source": [
    "text = \"12345\"\n",
    "print(text.isdecimal())  # it checks wheather it is digit or not and gives True, if it is digit, other wise False.\n",
    "\n",
    "text = \"1\"\n",
    "print(text.isdecimal())\n",
    "\n",
    "text = \"123 45\"\n",
    "print(text.isdecimal())  \n",
    "\n",
    "text = \"001234\"\n",
    "print(text.isdecimal())  \n",
    "\n",
    "text = \"@1234\"\n",
    "print(text.isdecimal())\n",
    "\n",
    "text = \"Hello123\"\n",
    "print(text.isdecimal())  "
   ]
  },
  {
   "cell_type": "code",
   "execution_count": 42,
   "id": "9aefaa74-d9c7-48b6-a030-9fdf00bbd8e3",
   "metadata": {},
   "outputs": [
    {
     "name": "stdout",
     "output_type": "stream",
     "text": [
      "True\n",
      "False\n",
      "False\n",
      "False\n",
      "False\n"
     ]
    }
   ],
   "source": [
    "text = \"12345\"\n",
    "print(text.isdigit())  # it work similary like isdecimal()\n",
    "\n",
    "text = \"12a45\"\n",
    "print(text.isdigit())\n",
    "\n",
    "text = \"3/4\"\n",
    "print(text.isdigit())\n",
    "\n",
    "text = \"12  345\"\n",
    "print(text.isdigit())\n",
    "\n",
    "text = \"\"\n",
    "print(text.isdigit())"
   ]
  },
  {
   "cell_type": "code",
   "execution_count": 45,
   "id": "81f5c524-2366-4c72-bc75-f9581b40ec38",
   "metadata": {},
   "outputs": [
    {
     "name": "stdout",
     "output_type": "stream",
     "text": [
      "True\n",
      "False\n",
      "True\n",
      "True\n",
      "False\n"
     ]
    }
   ],
   "source": [
    "text = \"variable_name\"\n",
    "print(text.isidentifier()) # it will checks the given string is valid reference name or not. gives True and False \n",
    "\n",
    "text = \"123variable\"\n",
    "print(text.isidentifier())\n",
    "\n",
    "text = \"class\"\n",
    "print(text.isidentifier())\n",
    "\n",
    "text = \"print\"\n",
    "print(text.isidentifier()) # it checks only pattern not keywords\n",
    "\n",
    "text = \"var-name\"\n",
    "print(text.isidentifier())"
   ]
  },
  {
   "cell_type": "code",
   "execution_count": 9,
   "id": "7439ee83-4c7b-4a8e-aef1-6d1dbf628bc5",
   "metadata": {},
   "outputs": [
    {
     "name": "stdout",
     "output_type": "stream",
     "text": [
      "True\n",
      "False\n",
      "True\n",
      "True\n",
      "True\n",
      "False\n"
     ]
    },
    {
     "data": {
      "text/plain": [
       "\u001b[1;31mSignature:\u001b[0m \u001b[0mtext\u001b[0m\u001b[1;33m.\u001b[0m\u001b[0mislower\u001b[0m\u001b[1;33m(\u001b[0m\u001b[1;33m)\u001b[0m\u001b[1;33m\u001b[0m\u001b[1;33m\u001b[0m\u001b[0m\n",
       "\u001b[1;31mDocstring:\u001b[0m\n",
       "Return True if the string is a lowercase string, False otherwise.\n",
       "\n",
       "A string is lowercase if all cased characters in the string are lowercase and\n",
       "there is at least one cased character in the string.\n",
       "\u001b[1;31mType:\u001b[0m      builtin_function_or_method"
      ]
     },
     "metadata": {},
     "output_type": "display_data"
    }
   ],
   "source": [
    "text = \"python\"\n",
    "print(text.islower())  # it checks all the string only contains lower letters and gives True other wise it gives False\n",
    "text = \"Python\"\n",
    "print(text.islower())\n",
    "\n",
    "text = \"hello world\"\n",
    "print(text.islower())\n",
    "\n",
    "text = \"hello123\"\n",
    "print(text.islower())\n",
    "\n",
    "text = \"@#$hello123\"\n",
    "print(text.islower())\n",
    "\n",
    "text = \"\"\n",
    "print(text.islower())\n",
    "\n",
    "text.islower?"
   ]
  },
  {
   "cell_type": "code",
   "execution_count": 53,
   "id": "060e7f2d-2e8f-4bb3-a152-804948e6715c",
   "metadata": {},
   "outputs": [
    {
     "name": "stdout",
     "output_type": "stream",
     "text": [
      "True\n",
      "False\n",
      "False\n",
      "False\n",
      "True\n",
      "False\n"
     ]
    }
   ],
   "source": [
    "text = \"12345\"\n",
    "print(text.isnumeric())  \n",
    "\n",
    "text = \"12.34\"\n",
    "print(text.isnumeric())\n",
    "\n",
    "text = \"I\"\n",
    "print(text.isnumeric())\n",
    "\n",
    "text = \"II\"\n",
    "print(text.isnumeric())\n",
    "\n",
    "text = \"Ⅳ\"\n",
    "print(text.isnumeric())\n",
    "\n",
    "text = \"hello123\"\n",
    "print(text.isnumeric())"
   ]
  },
  {
   "cell_type": "code",
   "execution_count": 58,
   "id": "06dcb056-cf75-47c6-9097-fd1517b8a88f",
   "metadata": {},
   "outputs": [
    {
     "name": "stdout",
     "output_type": "stream",
     "text": [
      "True\n",
      "True\n",
      "True\n",
      "False\n",
      "False\n",
      "True\n",
      "False\n"
     ]
    },
    {
     "name": "stderr",
     "output_type": "stream",
     "text": [
      "<>:17: SyntaxWarning: invalid escape sequence '\\@'\n",
      "<>:17: SyntaxWarning: invalid escape sequence '\\@'\n",
      "C:\\Users\\jyo\\AppData\\Local\\Temp\\ipykernel_22520\\2023312215.py:17: SyntaxWarning: invalid escape sequence '\\@'\n",
      "  text = \"\\@hello\"\n"
     ]
    }
   ],
   "source": [
    "text = \"Hello World!\"\n",
    "print(text.isprintable())  # check all the charectors are printable are not\n",
    "\n",
    "text = \"12345\"\n",
    "print(text.isprintable())\n",
    "\n",
    "text = \"12.345\"\n",
    "print(text.isprintable())\n",
    "\n",
    "\n",
    "text = \"\\nHello\"\n",
    "print(text.isprintable())\n",
    "\n",
    "text = \"\\tTabbed\"\n",
    "print(text.isprintable())\n",
    "\n",
    "text = \"\\@hello\"\n",
    "print(text.isprintable())\n",
    "\n",
    "text = \"\\n new line\"\n",
    "print(text.isprintable())"
   ]
  },
  {
   "cell_type": "code",
   "execution_count": 15,
   "id": "57f3c99e-5c53-4488-9e52-e13669a36954",
   "metadata": {},
   "outputs": [
    {
     "name": "stdout",
     "output_type": "stream",
     "text": [
      "True\n",
      "True\n",
      "False\n",
      "False\n"
     ]
    },
    {
     "data": {
      "text/plain": [
       "\u001b[1;31mSignature:\u001b[0m \u001b[0mtext\u001b[0m\u001b[1;33m.\u001b[0m\u001b[0misspace\u001b[0m\u001b[1;33m(\u001b[0m\u001b[1;33m)\u001b[0m\u001b[1;33m\u001b[0m\u001b[1;33m\u001b[0m\u001b[0m\n",
       "\u001b[1;31mDocstring:\u001b[0m\n",
       "Return True if the string is a whitespace string, False otherwise.\n",
       "\n",
       "A string is whitespace if all characters in the string are whitespace and there\n",
       "is at least one character in the string.\n",
       "\u001b[1;31mType:\u001b[0m      builtin_function_or_method"
      ]
     },
     "metadata": {},
     "output_type": "display_data"
    }
   ],
   "source": [
    "text = \"   \"\n",
    "print(text.isspace())  # checks if string contains only spaces \n",
    "\n",
    "text = \"\\n\\t\"\n",
    "print(text.isspace())\n",
    "\n",
    "text = \"Hello World\"\n",
    "print(text.isspace())\n",
    "\n",
    "text = \"\"\n",
    "print(text.isspace())\n",
    "\n",
    "text.isspace?"
   ]
  },
  {
   "cell_type": "code",
   "execution_count": 18,
   "id": "40093ab8-043c-44dc-925d-975fe6b5e4ae",
   "metadata": {},
   "outputs": [
    {
     "name": "stdout",
     "output_type": "stream",
     "text": [
      "True\n",
      "False\n",
      "True\n",
      "False\n"
     ]
    }
   ],
   "source": [
    "text = \"Hello World\"\n",
    "print(text.istitle())  # it check if string contains Only capital letter in words starting and gives True, other wise False.\n",
    "\n",
    "text = \"Hello world\"\n",
    "print(text.istitle())\n",
    "\n",
    "text = \"Pyth@On Is Fun\"\n",
    "print(text.istitle())\n",
    "\n",
    "text = \"PYTHON is Fun\"\n",
    "print(text.istitle())"
   ]
  },
  {
   "cell_type": "code",
   "execution_count": 10,
   "id": "3ea5768a-7275-4e48-845e-62ddeb7432ab",
   "metadata": {},
   "outputs": [
    {
     "name": "stdout",
     "output_type": "stream",
     "text": [
      "True\n",
      "False\n",
      "True\n",
      "True\n",
      "False\n",
      "False\n",
      "True\n"
     ]
    },
    {
     "data": {
      "text/plain": [
       "\u001b[1;31mSignature:\u001b[0m \u001b[0mtext\u001b[0m\u001b[1;33m.\u001b[0m\u001b[0misupper\u001b[0m\u001b[1;33m(\u001b[0m\u001b[1;33m)\u001b[0m\u001b[1;33m\u001b[0m\u001b[1;33m\u001b[0m\u001b[0m\n",
       "\u001b[1;31mDocstring:\u001b[0m\n",
       "Return True if the string is an uppercase string, False otherwise.\n",
       "\n",
       "A string is uppercase if all cased characters in the string are uppercase and\n",
       "there is at least one cased character in the string.\n",
       "\u001b[1;31mType:\u001b[0m      builtin_function_or_method"
      ]
     },
     "metadata": {},
     "output_type": "display_data"
    }
   ],
   "source": [
    "text = \"PYTHON\"\n",
    "print(text.isupper()) # it checks contains upper case latters\n",
    "\n",
    "text = \"Python\"\n",
    "print(text.isupper())\n",
    "\n",
    "text = \"HELLO WORLD\"\n",
    "print(text.isupper())\n",
    "\n",
    "text = \"HELLO123\"\n",
    "print(text.isupper())\n",
    "\n",
    "text = \"\"\n",
    "print(text.isupper())\n",
    "\n",
    "text = \"@@###$\"\n",
    "print(text.isupper())\n",
    "\n",
    "text = \"@@###AAAA\"\n",
    "print(text.isupper())\n",
    "\n",
    "text.isupper?\n"
   ]
  },
  {
   "cell_type": "code",
   "execution_count": 69,
   "id": "6a412fa3-4403-49ff-a62b-c4e115ed9d9e",
   "metadata": {},
   "outputs": [
    {
     "name": "stdout",
     "output_type": "stream",
     "text": [
      "Hello World\n",
      "Hello World\n",
      "1-2-3\n",
      "abc\n",
      "home/user/documents\n"
     ]
    },
    {
     "ename": "TypeError",
     "evalue": "sequence item 0: expected str instance, int found",
     "output_type": "error",
     "traceback": [
      "\u001b[1;31m---------------------------------------------------------------------------\u001b[0m",
      "\u001b[1;31mTypeError\u001b[0m                                 Traceback (most recent call last)",
      "Cell \u001b[1;32mIn[69], line 17\u001b[0m\n\u001b[0;32m     14\u001b[0m \u001b[38;5;28mprint\u001b[39m(\u001b[38;5;124m\"\u001b[39m\u001b[38;5;124m/\u001b[39m\u001b[38;5;124m\"\u001b[39m\u001b[38;5;241m.\u001b[39mjoin(words))\n\u001b[0;32m     16\u001b[0m words \u001b[38;5;241m=\u001b[39m [\u001b[38;5;241m1\u001b[39m, \u001b[38;5;241m2\u001b[39m, \u001b[38;5;241m3\u001b[39m]\n\u001b[1;32m---> 17\u001b[0m \u001b[38;5;28mprint\u001b[39m(\u001b[38;5;124m\"\u001b[39m\u001b[38;5;124m-\u001b[39m\u001b[38;5;124m\"\u001b[39m\u001b[38;5;241m.\u001b[39mjoin(words))\n",
      "\u001b[1;31mTypeError\u001b[0m: sequence item 0: expected str instance, int found"
     ]
    }
   ],
   "source": [
    "words = [\"Hello\", \"World\"]\n",
    "print(\" \".join(words))  # \n",
    "\n",
    "words = (\"Hello\", \"World\")\n",
    "print(\" \".join(words))\n",
    "\n",
    "words = [\"1\", \"2\", \"3\"]\n",
    "print(\"-\".join(words))\n",
    "\n",
    "words = ['a', 'b', 'c']\n",
    "print(\"\".join(words))\n",
    "\n",
    "words = [\"home\", \"user\", \"documents\"]\n",
    "print(\"/\".join(words))\n",
    "\n",
    "words = [1, 2, 3]\n",
    "print(\"-\".join(words))"
   ]
  },
  {
   "cell_type": "code",
   "execution_count": 72,
   "id": "1a174bd8-2667-49de-82f3-4d4ac6c06ffc",
   "metadata": {},
   "outputs": [
    {
     "name": "stdout",
     "output_type": "stream",
     "text": [
      "Python    \n",
      "Hello-----\n",
      "Code****\n",
      "World@@@\n"
     ]
    }
   ],
   "source": [
    "text = \"Python\"\n",
    "print(text.ljust(10))  # it will justify the string to left side and adds given parametr to right side\n",
    "\n",
    "text = \"Hello\"\n",
    "print(text.ljust(10, '-'))\n",
    "\n",
    "text = \"Code\"\n",
    "print(text.ljust(8, '*'))\n",
    "\n",
    "text = \"World\"\n",
    "print(text.ljust(8, '@'))"
   ]
  },
  {
   "cell_type": "code",
   "execution_count": 75,
   "id": "1d734bf6-ec32-4ef0-8c5d-f0431e0e1218",
   "metadata": {},
   "outputs": [
    {
     "name": "stdout",
     "output_type": "stream",
     "text": [
      "hello\n",
      "python3\n",
      "hello world\n",
      "123abc\n",
      "!%$#%$#@\n",
      "\n"
     ]
    }
   ],
   "source": [
    "text = \"HELLO\"\n",
    "print(text.lower())  # it  converts all upper case letters to lower case letters\n",
    "\n",
    "text = \"Python3\"\n",
    "print(text.lower())\n",
    "\n",
    "text = \"HeLLo WoRLd\"\n",
    "print(text.lower())\n",
    "\n",
    "text = \"123ABC\"\n",
    "print(text.lower())\n",
    "\n",
    "text = \"!%$#%$#@\"\n",
    "print(text.lower())\n",
    "\n",
    "text = \"\"\n",
    "print(text.lower())"
   ]
  },
  {
   "cell_type": "code",
   "execution_count": 9,
   "id": "b0bac7f0-a1e7-457d-bb21-3f992a4edba7",
   "metadata": {},
   "outputs": [
    {
     "name": "stdout",
     "output_type": "stream",
     "text": [
      "Python   \n",
      "-----Hello\n",
      "123\n",
      "Hello World\n"
     ]
    }
   ],
   "source": []
  },
  {
   "cell_type": "code",
   "execution_count": 4,
   "id": "db478b0b-3be0-4ae3-a13b-9af703b2b28f",
   "metadata": {},
   "outputs": [
    {
     "name": "stdout",
     "output_type": "stream",
     "text": [
      "h2ll4 w4rld\n",
      "#$c%\n",
      "21n1n1\n",
      "123\n",
      "123xyz\n",
      "1ppl\n"
     ]
    }
   ],
   "source": [
    "first = \"aeiou\"\n",
    "second = \"12345\"\n",
    "transtab = str.maketrans(first, second)\n",
    "print(\"hello world\".translate(transtab))\n",
    "\n",
    "first = \"abd\"\n",
    "second = \"#$%\"\n",
    "transtab = str.maketrans(first, second)\n",
    "print(\"abcd\".translate(transtab))\n",
    "\n",
    "first = \"abc\"\n",
    "second = \"123\"\n",
    "transtab = str.maketrans(first, second)\n",
    "print(\"banana\".translate(transtab))\n",
    "\n",
    "transtab = str.maketrans(\"abc\", \"123\", \"xyz\")\n",
    "print(\"abcxyz\".translate(transtab))\n",
    "\n",
    "transtab = str.maketrans(\"abc\", \"123\", \"lum\")\n",
    "print(\"abcxyz\".translate(transtab))\n",
    "\n",
    "table = str.maketrans({'a': '1', 'e': None})\n",
    "print(\"apple\".translate(table))"
   ]
  },
  {
   "cell_type": "code",
   "execution_count": 6,
   "id": "527b485a-3cd4-4a4a-a468-1b0a0eca99b8",
   "metadata": {},
   "outputs": [
    {
     "name": "stdout",
     "output_type": "stream",
     "text": [
      "h2ll4 w4rld\n",
      "#$c%\n",
      "21n1n1\n",
      "123\n",
      "123xyz\n",
      "1ppl\n"
     ]
    }
   ],
   "source": [
    "first = \"aeiou\"\n",
    "second = \"12345\"\n",
    "transtab = str.maketrans(first, second)\n",
    "print(\"hello world\".translate(transtab))\n",
    "\n",
    "first = \"abd\"\n",
    "second = \"#$%\"\n",
    "transtab = str.maketrans(first, second)\n",
    "print(\"abcd\".translate(transtab))\n",
    "\n",
    "first = \"abc\"\n",
    "second = \"123\"\n",
    "transtab = str.maketrans(first, second)\n",
    "print(\"banana\".translate(transtab))\n",
    "\n",
    "transtab = str.maketrans(\"abc\", \"123\", \"xyz\")\n",
    "print(\"abcxyz\".translate(transtab))\n",
    "\n",
    "transtab = str.maketrans(\"abc\", \"123\", \"lum\")\n",
    "print(\"abcxyz\".translate(transtab))\n",
    "\n",
    "table = str.maketrans({'a': '1', 'e': None})\n",
    "print(\"apple\".translate(table))"
   ]
  },
  {
   "cell_type": "code",
   "execution_count": 87,
   "id": "54dc47b8-1604-4f0c-89e1-4610939bdff4",
   "metadata": {},
   "outputs": [
    {
     "name": "stdout",
     "output_type": "stream",
     "text": [
      "('Python ', 'is', ' fun')\n",
      "('Hello', ',', ' world!')\n",
      "('Hello world!', '', '')\n",
      "('Hello,world!', '', '')\n",
      "('Learn ', 'coding', '')\n",
      "('123', '-', '456-789')\n"
     ]
    }
   ],
   "source": [
    "text = \"Python is fun\"\n",
    "print(text.partition(\"is\"))  # it seperates the string and return into tuple, on first occurance\n",
    "\n",
    "text = \"Hello, world!\"\n",
    "print(text.partition(\",\"))\n",
    "\n",
    "text = \"Hello world!\"\n",
    "print(text.partition(\",\")) # if seperator not available it will create extra 2 empty strings in tuple at end.\n",
    "\n",
    "text = \"Hello,world!\"\n",
    "print(text.partition(\" \"))\n",
    "\n",
    "text = \"Learn coding\"\n",
    "print(text.partition(\"coding\"))\n",
    "\n",
    "text = \"123-456-789\"\n",
    "print(text.partition(\"-\"))"
   ]
  },
  {
   "cell_type": "code",
   "execution_count": 88,
   "id": "90e53c31-bd23-4d6a-8356-a40ff0f6c20f",
   "metadata": {},
   "outputs": [
    {
     "name": "stdout",
     "output_type": "stream",
     "text": [
      "World\n",
      "thonista\n",
      "de\n",
      "abc\n"
     ]
    }
   ],
   "source": [
    "text = \"HelloWorld\"\n",
    "print(text.removeprefix(\"Hello\"))  # it will reomve given prefix value from the string, if it not found in string it returns same string.\n",
    "\n",
    "text = \"Pythonista\"\n",
    "print(text.removeprefix(\"Py\"))\n",
    "\n",
    "text = \"Code\"\n",
    "print(text.removeprefix(\"Co\"))\n",
    "\n",
    "text = \"abc\"\n",
    "print(text.removeprefix(\"d\"))"
   ]
  },
  {
   "cell_type": "code",
   "execution_count": 89,
   "id": "2ca0b3ba-ec83-43cc-bfea-532731645444",
   "metadata": {},
   "outputs": [
    {
     "name": "stdout",
     "output_type": "stream",
     "text": [
      "Hello\n",
      "Python\n",
      "coding\n",
      "abc\n"
     ]
    }
   ],
   "source": [
    "text = \"HelloWorld\"\n",
    "print(text.removesuffix(\"World\"))  # it will reomve given suffix value from the string, if it not found in string it returns same string.\n",
    "\n",
    "text = \"Pythonista\"\n",
    "print(text.removesuffix(\"ista\"))\n",
    "\n",
    "text = \"coding.py\"\n",
    "print(text.removesuffix(\".py\"))\n",
    "\n",
    "text = \"abc\"\n",
    "print(text.removesuffix(\"d\"))"
   ]
  },
  {
   "cell_type": "code",
   "execution_count": 2,
   "id": "0f5da5e6-5fd4-4f7c-abf6-05bb44922cf6",
   "metadata": {},
   "outputs": [
    {
     "ename": "NameError",
     "evalue": "name 'a' is not defined",
     "output_type": "error",
     "traceback": [
      "\u001b[1;31m---------------------------------------------------------------------------\u001b[0m",
      "\u001b[1;31mNameError\u001b[0m                                 Traceback (most recent call last)",
      "Cell \u001b[1;32mIn[2], line 2\u001b[0m\n\u001b[0;32m      1\u001b[0m s \u001b[38;5;241m=\u001b[39m \u001b[38;5;124m\"\u001b[39m\u001b[38;5;124ma\u001b[39m\u001b[38;5;124m\"\u001b[39m\n\u001b[1;32m----> 2\u001b[0m a\u001b[38;5;241m.\u001b[39mdir\n",
      "\u001b[1;31mNameError\u001b[0m: name 'a' is not defined"
     ]
    }
   ],
   "source": [
    "s = \"a\"\n",
    "a.dir"
   ]
  },
  {
   "cell_type": "code",
   "execution_count": 2,
   "id": "9ef4c7ce-cefd-47ec-bb5c-478e29c2f70e",
   "metadata": {},
   "outputs": [
    {
     "name": "stdout",
     "output_type": "stream",
     "text": [
      "Hello Python\n",
      "Hello\n",
      "banana banana\n",
      "Java Python\n",
      "bonono\n"
     ]
    }
   ],
   "source": [
    "text = \"Hello world\"\n",
    "print(text.replace(\"world\", \"Python\"))  # Replaces all occurrences of a substring with another substring.\n",
    "\n",
    "text = \"Hello\"\n",
    "print(text.replace(\"world\", \"Python\"))\n",
    "\n",
    "text = \"apple apple\"\n",
    "print(text.replace(\"apple\", \"banana\"))\n",
    "\n",
    "text = \"Python Python\"\n",
    "print(text.replace(\"Python\", \"Java\", 1))\n",
    "\n",
    "text = \"banana\"\n",
    "print(text.replace(\"a\", \"o\"))\n"
   ]
  },
  {
   "cell_type": "code",
   "execution_count": 93,
   "id": "2d131d1f-7280-48db-881d-98cc3ef090ce",
   "metadata": {
    "scrolled": true
   },
   "outputs": [
    {
     "name": "stdout",
     "output_type": "stream",
     "text": [
      "5\n",
      "7\n",
      "7\n",
      "-1\n"
     ]
    }
   ],
   "source": [
    "text = \"banana\"\n",
    "print(text.rfind(\"a\"))  # Returns the highest index of the substring, or -1 if not found.\n",
    "\n",
    "text = \"hello world\"\n",
    "print(text.rfind(\"o\"))\n",
    "\n",
    "text = \"Python programming\"\n",
    "print(text.rfind(\"p\"))\n",
    "\n",
    "text = \"abcdef\"\n",
    "print(text.rfind(\"z\"))"
   ]
  },
  {
   "cell_type": "code",
   "execution_count": 7,
   "id": "ee7b69c0-5658-4224-970b-68847642bcca",
   "metadata": {
    "scrolled": true
   },
   "outputs": [
    {
     "name": "stdout",
     "output_type": "stream",
     "text": [
      "5\n",
      "7\n",
      "7\n",
      "21\n",
      "['__add__', '__class__', '__contains__', '__delattr__', '__dir__', '__doc__', '__eq__', '__format__', '__ge__', '__getattribute__', '__getitem__', '__getnewargs__', '__getstate__', '__gt__', '__hash__', '__init__', '__init_subclass__', '__iter__', '__le__', '__len__', '__lt__', '__mod__', '__mul__', '__ne__', '__new__', '__reduce__', '__reduce_ex__', '__repr__', '__rmod__', '__rmul__', '__setattr__', '__sizeof__', '__str__', '__subclasshook__', 'capitalize', 'casefold', 'center', 'count', 'encode', 'endswith', 'expandtabs', 'find', 'format', 'format_map', 'index', 'isalnum', 'isalpha', 'isascii', 'isdecimal', 'isdigit', 'isidentifier', 'islower', 'isnumeric', 'isprintable', 'isspace', 'istitle', 'isupper', 'join', 'ljust', 'lower', 'lstrip', 'maketrans', 'partition', 'removeprefix', 'removesuffix', 'replace', 'rfind', 'rindex', 'rjust', 'rpartition', 'rsplit', 'rstrip', 'split', 'splitlines', 'startswith', 'strip', 'swapcase', 'title', 'translate', 'upper', 'zfill']\n"
     ]
    }
   ],
   "source": [
    "text = \"banana\"\n",
    "print(text.rfind(\"a\"))  # return the 1st occurance of index from right.,  if it is not found it will give -1.\n",
    "\n",
    "text = \"hello world\"\n",
    "print(text.rfind(\"o\"))\n",
    "\n",
    "text = \"Python programming\"\n",
    "print(text.rfind(\"p\"))\n",
    "\n",
    "text = \"abcd123abcd456abcd789abcd\"\n",
    "print(text.rfind(\"abcd\",))\n",
    "\n",
    "print(dir(text))"
   ]
  },
  {
   "cell_type": "code",
   "execution_count": 8,
   "id": "1187cf04-34d7-4e4d-8ede-1b5c4fd71e3b",
   "metadata": {},
   "outputs": [
    {
     "name": "stdout",
     "output_type": "stream",
     "text": [
      "5\n",
      "7\n",
      "15\n"
     ]
    }
   ],
   "source": [
    "text = \"banana\"\n",
    "print(text.rindex(\"a\")) # it will return highest index of a string, if it is not found, it will give error, value error.\n",
    "\n",
    "text = \"hello world\"\n",
    "print(text.rindex(\"o\")) \n",
    "\n",
    "text = \"Python programming\"\n",
    "print(text.rindex(\"i\"))\n",
    "\n",
    "# print(text.rindex(\"z\"))"
   ]
  },
  {
   "cell_type": "code",
   "execution_count": 3,
   "id": "f038b6b9-2874-4cf4-a1d1-ecb1253e0bc1",
   "metadata": {},
   "outputs": [
    {
     "name": "stdout",
     "output_type": "stream",
     "text": [
      "    Python\n",
      "----Code\n",
      "000123\n",
      "*****Hello\n"
     ]
    }
   ],
   "source": [
    "text = \"Python\"\n",
    "print(text.rjust(10)) #  it will justify the string to Right side and adds given parametr to right side\n",
    "\n",
    "text = \"Code\"\n",
    "print(text.rjust(8, '-'))\n",
    "\n",
    "\n",
    "text = \"123\"\n",
    "print(text.rjust(6, '0'))\n",
    "\n",
    "text = \"Hello\"\n",
    "print(text.rjust(10, '*'))"
   ]
  },
  {
   "cell_type": "code",
   "execution_count": 4,
   "id": "2b3111d6-5483-495f-a1e9-b782a4b1a133",
   "metadata": {},
   "outputs": [
    {
     "name": "stdout",
     "output_type": "stream",
     "text": [
      "('Python ', 'is', ' fun')\n",
      "('a-b', '-', 'c')\n",
      "('hello.world', '.', 'example')\n",
      "('bana', 'n', 'a')\n"
     ]
    }
   ],
   "source": [
    "text = \"Python is fun\"\n",
    "print(text.rpartition(\"is\"))  # Splits the string at the last occurrence of the separator and returns a tuple\n",
    "\n",
    "text = \"a-b-c\"\n",
    "print(text.rpartition(\"-\"))\n",
    "\n",
    "text = \"hello.world.example\"\n",
    "print(text.rpartition(\".\"))\n",
    "\n",
    "text = \"banana\"\n",
    "print(text.rpartition(\"n\"))"
   ]
  },
  {
   "cell_type": "code",
   "execution_count": 5,
   "id": "66ebdaf5-54f9-42f4-8556-707b43dd4549",
   "metadata": {},
   "outputs": [
    {
     "name": "stdout",
     "output_type": "stream",
     "text": [
      "['apple', 'banana', 'cherry']\n",
      "['a,b', 'c', 'd']\n",
      "['python,java', 'c++']\n",
      "['word1', 'word2', 'word3']\n"
     ]
    }
   ],
   "source": [
    "text = \"apple,banana,cherry\"\n",
    "print(text.rsplit(\",\"))  # Splits the string from the right at the specified separator.\n",
    "\n",
    "text = \"a,b,c,d\"\n",
    "print(text.rsplit(\",\", 2))\n",
    "\n",
    "text = \"python,java,c++\"\n",
    "print(text.rsplit(\",\", 1))\n",
    "\n",
    "text = \"word1 word2 word3\"\n",
    "print(text.rsplit())\n"
   ]
  },
  {
   "cell_type": "code",
   "execution_count": 7,
   "id": "817740f9-1d22-4e77-8c75-4cbc539b92e1",
   "metadata": {},
   "outputs": [
    {
     "name": "stdout",
     "output_type": "stream",
     "text": [
      "   Python\n",
      "Hello\n",
      "1234\n",
      "Hello World\n",
      "Python   \n",
      "-----Hello\n",
      "123\n",
      "Hello World\n",
      "Hello World\n",
      "---Python\n",
      "34\n",
      "Hello\n"
     ]
    }
   ],
   "source": [
    "text = \"   Python   \"\n",
    "print(text.rstrip())  # Removes trailing characters (spaces by default) from the string.\n",
    "\n",
    "text = \"Hello-----@\"\n",
    "print(text.rstrip('-@'))\n",
    "\n",
    "\n",
    "text = \"123400\"\n",
    "print(text.rstrip('01'))\n",
    "\n",
    "text = \"Hello World  \"\n",
    "print(text.rstrip())\n",
    "\n",
    "text = \"   Python   \"\n",
    "print(text.lstrip())  #  It removes the left side charectors based on given parameters, default it takes spaces.\n",
    "\n",
    "text = \"-----Hello\"\n",
    "print(text.lstrip('@'))\n",
    "\n",
    "text = \"000123\"\n",
    "print(text.lstrip('0'))\n",
    "\n",
    "text = \"\\tHello World\"\n",
    "print(text.lstrip())\n",
    "\n",
    "\n",
    "text = \"   Hello World   \"\n",
    "print(text.strip())  # Removes leading and trailing characters from the string.\n",
    "\n",
    "text = \"---Python------\"\n",
    "print(text.rstrip('-'))\n",
    "\n",
    "text = \"0101234010\"\n",
    "print(text.strip('012'))\n",
    "\n",
    "text = \"  Hello  \"\n",
    "print(text.strip())"
   ]
  },
  {
   "cell_type": "code",
   "execution_count": 7,
   "id": "c4adf20b-2925-4dce-8a83-9455bac26eec",
   "metadata": {},
   "outputs": [
    {
     "name": "stdout",
     "output_type": "stream",
     "text": [
      "['apple', 'banana', 'cherry']\n",
      "['a', 'b', 'c']\n",
      "['word1', 'word2', 'word3']\n",
      "['apple', 'banana,cherry']\n"
     ]
    }
   ],
   "source": [
    "text = \"apple banana cherry\"\n",
    "print(text.split())  # It will split the string into list\n",
    "\n",
    "text = \"a,b,c\"\n",
    "print(text.split(\",\"))\n",
    "\n",
    "text = \"word1_word2_word3\"\n",
    "print(text.split(\"_\"))\n",
    "\n",
    "text = \"apple,banana,cherry\"\n",
    "print(text.split(\",\", 1))"
   ]
  },
  {
   "cell_type": "code",
   "execution_count": 8,
   "id": "50cc9d2c-2bbe-4487-80f9-300a1efb69d4",
   "metadata": {},
   "outputs": [
    {
     "name": "stdout",
     "output_type": "stream",
     "text": [
      "['Hello', 'World']\n",
      "['Line 1', 'Line 2', 'Line 3']\n",
      "['One', 'Two', 'Three']\n",
      "['Hello World']\n"
     ]
    }
   ],
   "source": [
    "text = \"Hello\\nWorld\"\n",
    "print(text.splitlines())  # Splits the string at line breaks and return into a list\n",
    "\n",
    "text = \"Line 1\\nLine 2\\nLine 3\"\n",
    "print(text.splitlines())\n",
    "\n",
    "text = \"One\\r\\nTwo\\r\\nThree\"\n",
    "print(text.splitlines())\n",
    "\n",
    "text = \"Hello World\"\n",
    "print(text.splitlines())"
   ]
  },
  {
   "cell_type": "code",
   "execution_count": 11,
   "id": "7b6faaf9-c5c9-4ef6-998c-a791a86efc0d",
   "metadata": {},
   "outputs": [
    {
     "name": "stdout",
     "output_type": "stream",
     "text": [
      "True\n",
      "True\n",
      "True\n",
      "False\n"
     ]
    }
   ],
   "source": [
    "text = \"Hello World\"\n",
    "print(text.startswith(\"Hello\"))  # Returns True if the string starts with the specified prefix.\n",
    "\n",
    "text = \"Python programming\"\n",
    "print(text.startswith(\"Py\"))\n",
    "\n",
    "text = \"12345\"\n",
    "print(text.startswith(\"12\"))\n",
    "\n",
    "text = \"Goodbye\"\n",
    "print(text.startswith(\"Hello\"))"
   ]
  },
  {
   "cell_type": "code",
   "execution_count": 6,
   "id": "d659fcf0-4741-4e5e-af98-180e030742ab",
   "metadata": {},
   "outputs": [
    {
     "name": "stdout",
     "output_type": "stream",
     "text": [
      "Hello World\n",
      "---Python\n",
      "34\n",
      "Hello\n"
     ]
    }
   ],
   "source": []
  },
  {
   "cell_type": "code",
   "execution_count": 12,
   "id": "379cb9fe-3344-4b46-9849-d042f25e9812",
   "metadata": {},
   "outputs": [
    {
     "name": "stdout",
     "output_type": "stream",
     "text": [
      "hELLO wORLD\n",
      "pYTHON3\n",
      "hello WORLD\n",
      "cOdE\n"
     ]
    }
   ],
   "source": [
    "text = \"Hello World\"\n",
    "print(text.swapcase())  # it wiil convert upper to lower, and lower to upper).\n",
    "\n",
    "text = \"Python3\"\n",
    "print(text.swapcase())\n",
    "\n",
    "text = \"HELLO world\"\n",
    "print(text.swapcase())\n",
    "\n",
    "text = \"CoDe\"\n",
    "print(text.swapcase())"
   ]
  },
  {
   "cell_type": "code",
   "execution_count": 16,
   "id": "39c1eba5-8c59-4264-846a-1e9a00a65ac2",
   "metadata": {},
   "outputs": [
    {
     "name": "stdout",
     "output_type": "stream",
     "text": [
      "Hello World\n",
      "Python Programming\n",
      "123Hello 456World\n",
      "Good Morning\n"
     ]
    },
    {
     "data": {
      "text/plain": [
       "\u001b[1;31mSignature:\u001b[0m \u001b[0mtext\u001b[0m\u001b[1;33m.\u001b[0m\u001b[0mtitle\u001b[0m\u001b[1;33m(\u001b[0m\u001b[1;33m)\u001b[0m\u001b[1;33m\u001b[0m\u001b[1;33m\u001b[0m\u001b[0m\n",
       "\u001b[1;31mDocstring:\u001b[0m\n",
       "Return a version of the string where each word is titlecased.\n",
       "\n",
       "More specifically, words start with uppercased characters and all remaining\n",
       "cased characters have lower case.\n",
       "\u001b[1;31mType:\u001b[0m      builtin_function_or_method"
      ]
     },
     "metadata": {},
     "output_type": "display_data"
    }
   ],
   "source": [
    "text = \"hello world\"\n",
    "print(text.title())  # Converts the first character of each word to uppercase and the rest to lowercase.\n",
    "\n",
    "text = \"PYTHON programming\"\n",
    "print(text.title())\n",
    "\n",
    "text = \"123hello 456world\"\n",
    "print(text.title())\n",
    "\n",
    "text = \"good morning\"\n",
    "print(text.title())\n",
    "\n",
    "\n",
    "text.title?"
   ]
  },
  {
   "cell_type": "code",
   "execution_count": 14,
   "id": "9dcacebd-2ebf-4872-b113-ae6c63c82c12",
   "metadata": {},
   "outputs": [
    {
     "name": "stdout",
     "output_type": "stream",
     "text": [
      "h2ll4 w4rld\n",
      "bonono\n",
      "Hello World\n",
      "abc45\n"
     ]
    }
   ],
   "source": [
    "intab = \"aeiou\"\n",
    "outtab = \"12345\"\n",
    "transtab = str.maketrans(intab, outtab)\n",
    "print(\"hello world\".translate(transtab))  # Returns a string where some specified characters are replaced according to the translation table created by maketrans()\n",
    "\n",
    "text = \"banana\"\n",
    "transtab = str.maketrans(\"a\", \"o\")\n",
    "print(text.translate(transtab))  \n",
    "\n",
    "transtab = str.maketrans({'h': 'H', 'w': 'W'})\n",
    "print(\"hello world\".translate(transtab))\n",
    "\n",
    "table = str.maketrans('012', 'abc', '3')\n",
    "print(\"012345\".translate(table))"
   ]
  },
  {
   "cell_type": "code",
   "execution_count": 15,
   "id": "4362801f-6a8b-4038-a611-5d98fb9f7f6b",
   "metadata": {},
   "outputs": [
    {
     "name": "stdout",
     "output_type": "stream",
     "text": [
      "HELLO\n",
      "PYTHON\n",
      "123ABC\n",
      "GOOD MORNING\n"
     ]
    }
   ],
   "source": [
    "text = \"hello\"\n",
    "print(text.upper())  # Converts all characters in the string to uppercase.\n",
    "\n",
    "text = \"Python\"\n",
    "print(text.upper())\n",
    "\n",
    "text = \"123abc\"\n",
    "print(text.upper())\n",
    "\n",
    "text = \"good morning\"\n",
    "print(text.upper())"
   ]
  },
  {
   "cell_type": "code",
   "execution_count": 16,
   "id": "d322060e-74a9-49c0-88ae-2dca9ffda672",
   "metadata": {},
   "outputs": [
    {
     "name": "stdout",
     "output_type": "stream",
     "text": [
      "00042\n",
      "-0042\n",
      "000123\n",
      "009\n"
     ]
    }
   ],
   "source": [
    "text = \"42\"\n",
    "print(text.zfill(5))  # Pads the string on the left with zeros until it reaches the specified width.\n",
    "\n",
    "text = \"-42\"\n",
    "print(text.zfill(5))\n",
    "\n",
    "text = \"123\"\n",
    "print(text.zfill(6))\n",
    "\n",
    "text = \"9\"\n",
    "print(text.zfill(3))"
   ]
  },
  {
   "cell_type": "code",
   "execution_count": 3,
   "id": "74be0beb-5d18-4a82-9715-5e84228fddfc",
   "metadata": {},
   "outputs": [
    {
     "data": {
      "text/plain": [
       "'abc$def$ghi;jkl'"
      ]
     },
     "execution_count": 3,
     "metadata": {},
     "output_type": "execute_result"
    }
   ],
   "source": [
    "s = \"abc;def;ghi;jkl\"\n",
    "\n",
    "s1 = s.replace(\";\", \"$\", 2)\n",
    "s1\n",
    "\n"
   ]
  },
  {
   "cell_type": "code",
   "execution_count": 6,
   "id": "d1a4b58b-1c16-400d-b4a7-acf649a267c4",
   "metadata": {},
   "outputs": [
    {
     "data": {
      "text/plain": [
       "'abc;def$ghi$jkl'"
      ]
     },
     "execution_count": 6,
     "metadata": {},
     "output_type": "execute_result"
    }
   ],
   "source": [
    "s = \"abc;def;ghi;jkl\"\n",
    "\n",
    "s1 = s[::-1].replace(\";\", \"$\", 2 )[::-1]\n",
    "s1\n",
    "\n"
   ]
  },
  {
   "cell_type": "code",
   "execution_count": 8,
   "id": "4809556f-6cba-40cc-9874-00306caaa577",
   "metadata": {},
   "outputs": [
    {
     "data": {
      "text/plain": [
       "'abc;def$ghi$jkl'"
      ]
     },
     "execution_count": 8,
     "metadata": {},
     "output_type": "execute_result"
    }
   ],
   "source": [
    "s = \"abc;def;ghi;jkl\"\n",
    "\n",
    "s1 = s.rsplit(\";\", 2)\n",
    "s2 = \"$\".join(s1)\n",
    "s2\n",
    "\n"
   ]
  },
  {
   "cell_type": "code",
   "execution_count": null,
   "id": "d446b466-2ff5-4007-9e23-895c78d473f5",
   "metadata": {},
   "outputs": [],
   "source": []
  }
 ],
 "metadata": {
  "kernelspec": {
   "display_name": "Python 3 (ipykernel)",
   "language": "python",
   "name": "python3"
  },
  "language_info": {
   "codemirror_mode": {
    "name": "ipython",
    "version": 3
   },
   "file_extension": ".py",
   "mimetype": "text/x-python",
   "name": "python",
   "nbconvert_exporter": "python",
   "pygments_lexer": "ipython3",
   "version": "3.12.4"
  }
 },
 "nbformat": 4,
 "nbformat_minor": 5
}
