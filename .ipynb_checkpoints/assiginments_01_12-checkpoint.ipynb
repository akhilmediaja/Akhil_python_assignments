{
 "cells": [
  {
   "cell_type": "code",
   "execution_count": 6,
   "id": "21c06162-d28b-45fd-8d57-0a8f35d01075",
   "metadata": {},
   "outputs": [
    {
     "name": "stdin",
     "output_type": "stream",
     "text": [
      "Enter the total number of people:  32\n",
      "Enter the number of seats per bus:  10\n"
     ]
    },
    {
     "name": "stdout",
     "output_type": "stream",
     "text": [
      "Number of buses required: 4\n"
     ]
    }
   ],
   "source": [
    "# 1.\tTake the input from the user for(Total number of people,Number of seats for bus. Based on two inputs\n",
    "# Decide how many number of buses required\n",
    "\n",
    "\n",
    "people = int(input(\"Enter the total number of people: \"))\n",
    "seats = int(input(\"Enter the number of seats per bus: \"))\n",
    "if people % seats == 0:\n",
    "    buses_required = people // seats\n",
    "else:\n",
    "    buses_required = (people // seats) + 1\n",
    "print(\"Number of buses required:\", buses_required)"
   ]
  },
  {
   "cell_type": "code",
   "execution_count": 7,
   "id": "edddc233-1a73-49cb-b9f8-e6cb8f1e6eaf",
   "metadata": {},
   "outputs": [
    {
     "name": "stdin",
     "output_type": "stream",
     "text": [
      "enter temp :  15\n"
     ]
    },
    {
     "name": "stdout",
     "output_type": "stream",
     "text": [
      "Temp_celssius heat :  -9\n"
     ]
    }
   ],
   "source": [
    "# 2. take temperature from the user and convert foreign heat -> Celsius.\n",
    "temp = float(input(\"enter temp : \", ))\n",
    "celsius = (temp - 32) * 5/9\n",
    "print(\"Temp_celssius heat : \",int(celsius))"
   ]
  },
  {
   "cell_type": "code",
   "execution_count": 5,
   "id": "20ee04ef-26b3-47c1-83ba-edcc8069b1aa",
   "metadata": {},
   "outputs": [
    {
     "name": "stdin",
     "output_type": "stream",
     "text": [
      "enter temp :  36\n"
     ]
    },
    {
     "name": "stdout",
     "output_type": "stream",
     "text": [
      "Temp_foreign heat :  96.8\n"
     ]
    }
   ],
   "source": [
    "# 3. take temperature from the user and convert Celsius → foreign heat.\n",
    "\n",
    "celsius = float(input(\"enter temp : \", ))\n",
    "temp_f = (celsius * 9/5) + 32 \n",
    "\n",
    "print(\"Temp_foreign heat : \", temp_f)"
   ]
  },
  {
   "cell_type": "code",
   "execution_count": 4,
   "id": "2dae7f81-4995-47e7-a100-ce86b1985bf0",
   "metadata": {},
   "outputs": [
    {
     "name": "stdin",
     "output_type": "stream",
     "text": [
      "x1 : 10\n",
      "x2 : 10\n",
      "x3 : 10\n",
      "x4 : 10\n"
     ]
    },
    {
     "name": "stdout",
     "output_type": "stream",
     "text": [
      "variance =  0.0\n",
      "std_deviation =  0.0\n",
      "y = 49.245000000000005\n"
     ]
    }
   ],
   "source": [
    "\"\"\"  4.take four number from the user (variables name it as x1,x2,x3,x4)\n",
    " Do the below operations\n",
    " (x1+x2)**2, (x3+x4)**3\n",
    "variance\n",
    "standard deviation: sqrt(variance):  User math module. Math.sqrt(variance)\n",
    "Regression\n",
    "\ty=mx+b\n",
    "          m=1.23\n",
    "          b=0.045\"\"\"\n",
    "\n",
    "\n",
    "\n",
    "x1 = int(input(\"x1 :\", ))\n",
    "x2 = int(input(\"x2 :\", ))\n",
    "x3 = int(input(\"x3 :\", ))\n",
    "x4 = int(input(\"x4 :\", ))\n",
    "\n",
    "def variance_of(numbers):\n",
    "    variance = 0\n",
    "    for i in numbers:\n",
    "        variance =+ (i -(sum(numbers)/len(numbers))) ** 2 \n",
    "    variance = variance / ((len(numbers)) -1)\n",
    "    return variance\n",
    "\n",
    "numbers = [x1, x2, x3, x4 ]\n",
    "variance = variance_of(numbers)\n",
    "print(\"variance = \", variance)\n",
    "std_deviation = variance ** 0.5\n",
    "print(\"std_deviation = \", std_deviation)\n",
    "\n",
    "m = 1.23\n",
    "b = 0.045\n",
    "\n",
    "y = m * (sum(numbers)) + b\n",
    "\n",
    "print(\"y =\" , y)\n",
    "\n",
    "         "
   ]
  },
  {
   "cell_type": "code",
   "execution_count": 23,
   "id": "72b778d2-dbc8-4d1b-81d5-95c3d1a7cc5c",
   "metadata": {},
   "outputs": [
    {
     "name": "stdin",
     "output_type": "stream",
     "text": [
      "Enter distance in kilometers:  15\n"
     ]
    },
    {
     "name": "stdout",
     "output_type": "stream",
     "text": [
      "Distance in centimeters:  1500000.0\n",
      "Distance in meters:  15000.0\n",
      "Distance in millimeters:  15000000.0\n",
      "Distance in cents:  1500000.0\n",
      "Distance in feet:  49212.600000000006\n",
      "Distance in yards:  16404.149999999998\n"
     ]
    }
   ],
   "source": [
    " #   5.Take the distance in km\n",
    "\t# Show that in cm, meters, in milli meters, cents, feets, yards\n",
    "\n",
    "\n",
    "km = float(input(\"Enter distance in kilometers: \"))\n",
    "\n",
    "cm = km * 100000\n",
    "meters = km * 1000\n",
    "mm = km * 1000000\n",
    "cents = km * 100000\n",
    "feet = km * 3280.84\n",
    "yards = km * 1093.61\n",
    "\n",
    "print(\"Distance in centimeters: \", cm)\n",
    "print(\"Distance in meters: \", meters)\n",
    "print(\"Distance in millimeters: \", mm)\n",
    "print(\"Distance in cents: \", cents)\n",
    "print(\"Distance in feet: \", feet)\n",
    "print(\"Distance in yards: \", yards)\n"
   ]
  },
  {
   "cell_type": "code",
   "execution_count": 19,
   "id": "a999e8cd-b799-4fd4-b300-f6c4bd2a77e8",
   "metadata": {},
   "outputs": [
    {
     "name": "stdin",
     "output_type": "stream",
     "text": [
      "Enter the GB size:  1.5\n"
     ]
    },
    {
     "name": "stdout",
     "output_type": "stream",
     "text": [
      "GB is equal to \n",
      "MB  1536.0\n",
      "KB 1572864.0\n",
      "TB 0.00146484375\n",
      "PB 1.430511474609375e-06\n"
     ]
    }
   ],
   "source": [
    "   # 6.Take the size of your hard disk in GB\n",
    "\t# Show that in MB, KB, TB, PB\n",
    "\n",
    "\n",
    "gb = float(input(\"Enter the GB size: \"))\n",
    "\n",
    "mb = gb * 1024\n",
    "kb = mb * 1024\n",
    "tb = gb / 1024\n",
    "pb = tb / 1024\n",
    "\n",
    "print(\"GB is equal to \",)\n",
    "print(\"MB \", mb)\n",
    "print(\"KB\", kb)\n",
    "print(\"TB\", tb)\n",
    "print(\"PB\", pb)"
   ]
  },
  {
   "cell_type": "code",
   "execution_count": 22,
   "id": "1cf3adcc-3536-4df9-9c80-d5241297aff4",
   "metadata": {},
   "outputs": [
    {
     "name": "stdin",
     "output_type": "stream",
     "text": [
      "Enter a Name :  Akhil\n",
      "Enter The Age :  27\n",
      "Enter The Height :  5.6\n"
     ]
    },
    {
     "name": "stdout",
     "output_type": "stream",
     "text": [
      "Name:Akhil of the person, Age:27 of the person, Height:5.6 of the person\n"
     ]
    }
   ],
   "source": [
    "#   7.   Take name, age, height from the user and print like below\n",
    "# The details of the person: Name:name of the person, Age:age of the person, Height:height of the person\n",
    "\n",
    "name = input(\"Enter a Name : \", )\n",
    "age = input(\"Enter The Age : \", )\n",
    "height = input(\"Enter The Height : \", )\n",
    "\n",
    "c = f\"Name:{name} of the person, Age:{age} of the person, Height:{height} of the person\"\n",
    "print(c)"
   ]
  },
  {
   "cell_type": "code",
   "execution_count": 24,
   "id": "f57e4e6d-5135-42e7-9a4f-0dd0b6e10a7d",
   "metadata": {},
   "outputs": [
    {
     "name": "stdin",
     "output_type": "stream",
     "text": [
      "Enter your weight in kg:  50\n",
      "Enter your height in meters:  1.7\n"
     ]
    },
    {
     "name": "stdout",
     "output_type": "stream",
     "text": [
      "Your BMI is: 17.301038062283737\n"
     ]
    }
   ],
   "source": [
    "# 8. BMI calculation: take required parameters for BMI calculation from the user and calculate BMI of the person.\n",
    "\n",
    "weight = float(input(\"Enter your weight in kg: \"))\n",
    "height = float(input(\"Enter your height in meters: \"))\n",
    "\n",
    "\n",
    "bmi = weight / (height ** 2) # BMI Formula\n",
    "\n",
    "\n",
    "print(\"Your BMI is:\", bmi)\n"
   ]
  },
  {
   "cell_type": "code",
   "execution_count": 27,
   "id": "596e8f8e-123d-49f0-b7d9-b45506189fcc",
   "metadata": {},
   "outputs": [
    {
     "name": "stdout",
     "output_type": "stream",
     "text": [
      "Name:Jayaram, Age:1.6, Height:3.54, Weight:10.344\n"
     ]
    }
   ],
   "source": [
    "# 9. name=\"Jayaram\"\n",
    "# age=1.6\n",
    "# height=3.5356234\n",
    "# weight=10.343856783\n",
    "# By using above inputs print the output\n",
    "# Name:Jayaram, Age:1.6, Height:3.54, Weight:10.344\n",
    "# Note: Use format specifiers(%s, %d, %f)\n",
    "\n",
    "name=\"Jayaram\"\n",
    "age=1.6\n",
    "height=3.5356234\n",
    "weight=10.343856783\n",
    "\n",
    "res = \"Name:%s, Age:%.1f, Height:%.2f, Weight:%.3f\"%(name, age, height, weight)\n",
    "\n",
    "print(res)\n"
   ]
  },
  {
   "cell_type": "code",
   "execution_count": 3,
   "id": "a1d0c6e9-2204-4e29-ac82-b5c3400c2eb5",
   "metadata": {},
   "outputs": [
    {
     "name": "stdin",
     "output_type": "stream",
     "text": [
      "enter upper case letter :  A\n",
      "enter upper case letter :  B\n",
      "enter upper case letter :  C\n"
     ]
    },
    {
     "name": "stdout",
     "output_type": "stream",
     "text": [
      "a\n",
      "b\n",
      "c\n"
     ]
    }
   ],
   "source": [
    "# 10. Take three upper case letters from the user convert in to small case.\n",
    "\n",
    "\n",
    "one = input(\"enter upper case letter : \")\n",
    "two = input(\"enter upper case letter : \")\n",
    "Three = input(\"enter upper case letter : \")\n",
    "convert1 = ord(one) + 32\n",
    "convert2 = ord(two) + 32\n",
    "convert3 = ord(Three) + 32\n",
    "print(chr(convert1))\n",
    "print(chr(convert2))\n",
    "print(chr(convert3))"
   ]
  },
  {
   "cell_type": "code",
   "execution_count": 43,
   "id": "1d2d2b80-42b5-47d7-8595-915d3fc83a8d",
   "metadata": {},
   "outputs": [
    {
     "name": "stdout",
     "output_type": "stream",
     "text": [
      "2³\n"
     ]
    }
   ],
   "source": [
    "# 11. take base and exponent value from the user and print like in mathematics:\n",
    "#   example: base=2, exponent=3: 23\n",
    "\n",
    "\n",
    "base = 2\n",
    "exponent = 3\n",
    "result = f\"{base}\\u00b3\"\n",
    "\n",
    "# Printing base, exponent, and result\n",
    "print(result)\n",
    "\n"
   ]
  },
  {
   "cell_type": "code",
   "execution_count": 40,
   "id": "9b8ccb20-4208-43dc-b66a-c7db00d62d9d",
   "metadata": {},
   "outputs": [
    {
     "name": "stdout",
     "output_type": "stream",
     "text": [
      "54\n",
      "13.5\n",
      "15\n",
      "12\n"
     ]
    }
   ],
   "source": [
    "# 12. Take some groceries cost prices and print total cost and average cost, what is the max cost, what is the minimum cost.\n",
    "\n",
    "a = 12\n",
    "b = 13\n",
    "c = 14\n",
    "d = 15\n",
    "\n",
    "costs = [a, b, c, d]\n",
    "\n",
    "total = sum(costs)\n",
    "print(total)\n",
    "print(total/ len(costs))\n",
    "print(max(costs))\n",
    "print(min(costs))"
   ]
  },
  {
   "cell_type": "code",
   "execution_count": null,
   "id": "a4811119-d224-4680-b3a1-f0cb11ecb967",
   "metadata": {},
   "outputs": [],
   "source": []
  }
 ],
 "metadata": {
  "kernelspec": {
   "display_name": "Python 3 (ipykernel)",
   "language": "python",
   "name": "python3"
  },
  "language_info": {
   "codemirror_mode": {
    "name": "ipython",
    "version": 3
   },
   "file_extension": ".py",
   "mimetype": "text/x-python",
   "name": "python",
   "nbconvert_exporter": "python",
   "pygments_lexer": "ipython3",
   "version": "3.12.4"
  }
 },
 "nbformat": 4,
 "nbformat_minor": 5
}
