{
 "cells": [
  {
   "cell_type": "markdown",
   "id": "de6806b2-203b-4ebf-8560-7a14d293ea93",
   "metadata": {},
   "source": [
    "### 120. Read a json file. Try to get the information from the file"
   ]
  },
  {
   "cell_type": "code",
   "execution_count": 28,
   "id": "8ee1597d-b0cd-4d48-9a4e-7720ec5966b4",
   "metadata": {},
   "outputs": [],
   "source": [
    "import json"
   ]
  },
  {
   "cell_type": "code",
   "execution_count": 29,
   "id": "e198a977-f956-4e3e-805f-bbe26f654072",
   "metadata": {},
   "outputs": [
    {
     "name": "stdout",
     "output_type": "stream",
     "text": [
      "['{\\n', '    \"fruit\": \"Apple\",\\n', '    \"size\": \"Large\",\\n', '    \"color\": \"Red\"\\n', '}']\n"
     ]
    }
   ],
   "source": [
    "f = open(\"sample1.json\")\n",
    "print(f.readlines())\n",
    "f.close()"
   ]
  },
  {
   "cell_type": "code",
   "execution_count": null,
   "id": "72017825-a59c-4134-9528-6e038ac5b7b3",
   "metadata": {},
   "outputs": [],
   "source": []
  },
  {
   "cell_type": "markdown",
   "id": "ee24c42b-acc4-4eac-86da-a5ef916ffe19",
   "metadata": {},
   "source": [
    "## 121.Read a yaml file. Try to get the information from the file"
   ]
  },
  {
   "cell_type": "code",
   "execution_count": 26,
   "id": "6a9c00af-91f2-42f6-99f9-ac929da0ac17",
   "metadata": {},
   "outputs": [],
   "source": [
    "import yaml"
   ]
  },
  {
   "cell_type": "code",
   "execution_count": 27,
   "id": "440d9522-52c1-4e5f-b8bc-40bd0d78d60d",
   "metadata": {},
   "outputs": [
    {
     "name": "stdout",
     "output_type": "stream",
     "text": [
      "['---\\n', 'ip: \"192.168.10.10\"\\n', 'memory: 2048\\n', 'cpus: 2\\n', 'provider: virtualbox\\n', '\\n', 'authorize: ~/.ssh/id_rsa.pub\\n', '\\n', 'keys:\\n', '    - ~/.ssh/id_rsa\\n', '\\n', 'folders:\\n', '    - map: ~/code\\n', '      to: /home/vagrant/code\\n', '\\n', 'sites:\\n', '    - map: homestead.test\\n', '      to: /home/vagrant/code/public\\n', '\\n', 'databases:\\n', '    - homestead\\n', '\\n', 'features:\\n', '    - mariadb: false\\n', '    - ohmyzsh: false\\n', '    - webdriver: false\\n', '\\n', '# ports:\\n', '#     - send: 50000\\n', '#       to: 5000\\n', '#     - send: 7777\\n', '#       to: 777\\n', '#       protocol: udp']\n"
     ]
    }
   ],
   "source": [
    "f = open(\"Homestead.yaml\")\n",
    "print(f.readlines())\n",
    "f.close()"
   ]
  },
  {
   "cell_type": "markdown",
   "id": "5de15344-8d9c-4258-9c35-0802ff212c09",
   "metadata": {},
   "source": [
    "### 123.make alternative words reversed in given string:\n",
    "### \tex: \"python program good language\"-> \"python margorp good egaugnal\r\n"
   ]
  },
  {
   "cell_type": "code",
   "execution_count": 30,
   "id": "674502ac-651d-485e-9a46-bfb2f5d379dd",
   "metadata": {},
   "outputs": [
    {
     "name": "stdout",
     "output_type": "stream",
     "text": [
      "python margorp good egaugnal\n"
     ]
    }
   ],
   "source": [
    "string = \"python program good language\".split(\" \")\n",
    "res = []\n",
    "for i in range(len(string)):\n",
    "    if (i % 2 == 0) :\n",
    "        res.append(string[i])\n",
    "    else:\n",
    "        res.append(string[i][::-1])\n",
    "print(\" \".join(res))"
   ]
  },
  {
   "cell_type": "markdown",
   "id": "09585884-9ec3-4b34-8813-372cae889656",
   "metadata": {},
   "source": [
    "### 124. l=['c',\"cpp\",\"java\",\"php\",\"python\"]  case sensitive count# l.count(\"C\") -> .\n",
    "### \r\n",
    "like count l.own_count(\"C\") -2 1 with case insensiti\r\n",
    "\n"
   ]
  },
  {
   "cell_type": "code",
   "execution_count": 33,
   "id": "216521f6-d781-44ef-b78c-9dc9705675a7",
   "metadata": {},
   "outputs": [
    {
     "name": "stdout",
     "output_type": "stream",
     "text": [
      "0\n",
      "2\n"
     ]
    }
   ],
   "source": [
    "l=['c',\"cpp\",\"java\",\"php\",\"python\"]\n",
    "\n",
    "print(\"\".join(l).count(\"C\"))\n",
    "c = \"\".join(l).casefold()\n",
    "print(c.count('c'))"
   ]
  },
  {
   "cell_type": "markdown",
   "id": "fd25e5e3-8628-47e0-beb3-281edb786913",
   "metadata": {},
   "source": [
    "### 125: take total parameters, out of which few are optional and few are mandatory. Take some parameters from the user and check whether the user given all the mandatory paramerters or not.\n",
    "### For example: to insert person details\n",
    "### Total parameters: name,age,height,pan,cell,adhar,passport\n",
    "### mandatory: name,cell,adhar\n",
    "### \tif the user given: name,adhar,passport then you need to print cell is mandatory parameter\n",
    "### \tif the user given: name,cell,adhar,passport then you need to print ok \n",
    "### \tif the user given: adhar,passport then you need to print cell,name are mandatory parameter\n"
   ]
  },
  {
   "cell_type": "code",
   "execution_count": 40,
   "id": "6a842e78-7ace-44e5-8bd9-a4c0dcc1922d",
   "metadata": {},
   "outputs": [
    {
     "name": "stdout",
     "output_type": "stream",
     "text": [
      "cell is mandatory parameter\n",
      "adhar is mandatory parameter\n",
      "OK\n"
     ]
    }
   ],
   "source": [
    "def insert_person_details(**kwargs):\n",
    "  mandatory_parameters = [\"name\", \"cell\", \"adhar\"]\n",
    "  missing_parameters = []\n",
    "  for parameter in mandatory_parameters:\n",
    "    if parameter not in kwargs:\n",
    "      missing_parameters.append(parameter)\n",
    "  if missing_parameters:\n",
    "    for parameter in missing_parameters:\n",
    "      print(f\"{parameter} is mandatory parameter\")\n",
    "  else:\n",
    "    print(\"OK\")\n",
    "\n",
    "insert_person_details(name=\"Akhil\", adhar=\"1234567890\", passport=\"P123456\")\n",
    "insert_person_details(name=\"Medi\", cell=\"1234567890\", passport = \"p98765\")\n",
    "insert_person_details(name=\"Medi\", cell=\"1234567890\", adhar=\"9876543210\", passport = \"p98765\")"
   ]
  },
  {
   "cell_type": "code",
   "execution_count": 45,
   "id": "a30ac5b6-b980-4308-ba67-d08f59157cb4",
   "metadata": {},
   "outputs": [
    {
     "name": "stdin",
     "output_type": "stream",
     "text": [
      "Enter digit or float :  sff\n",
      "Enter digit or float :  51\n"
     ]
    },
    {
     "name": "stdout",
     "output_type": "stream",
     "text": [
      "Enter digits or float values only\n"
     ]
    }
   ],
   "source": [
    "# STRINGS\n",
    "# 126. Take two inputs from the user:  your program should check for below scenarios.\n",
    "\n",
    "# 10,20: 30\n",
    "# 12.34,45.67: 58.01\n",
    "# +12,-12: 0\n",
    "# qwe,123 we: Enter digits or float values only\n",
    "\n",
    "a = input(\"Enter digit or float : \")\n",
    "b = input(\"Enter digit or float : \")\n",
    "try:\n",
    "    a, b = float(a), float(b)\n",
    "    print( a + b )\n",
    "except ValueError:\n",
    "    print(\"Enter digits or float values only\")\n",
    "\n"
   ]
  },
  {
   "cell_type": "code",
   "execution_count": 46,
   "id": "02964495-40d5-42e2-b913-2ded4a051ef6",
   "metadata": {},
   "outputs": [
    {
     "name": "stdin",
     "output_type": "stream",
     "text": [
      "Enter the number of employees:  2\n",
      "Enter employee ID for employee 1:  1001\n",
      "Enter weight (in kg) for employee 1001:  55\n",
      "Enter height (in cm) for employee 1001:  165\n",
      "Enter age for employee 1001:  27\n",
      "Enter employee ID for employee 2:  1002\n",
      "Enter weight (in kg) for employee 1002:  50\n",
      "Enter height (in cm) for employee 1002:  155\n",
      "Enter age for employee 1002:  24\n"
     ]
    },
    {
     "name": "stdout",
     "output_type": "stream",
     "text": [
      "{'1001': {'weight': 55.0, 'height': 165.0, 'age': 27, 'bmi': 20.2, 'result': '+ve'}, '1002': {'weight': 50.0, 'height': 155.0, 'age': 24, 'bmi': 20.81, 'result': '+ve'}}\n"
     ]
    }
   ],
   "source": [
    "# 116. take the number of employees count from the user and ask the inputs required for the bmi for each and every person. The result should be like below\n",
    "# empid:{“weight:”,”height”:,”age”:,”bmi”:0.9,”result”:”+ve”}\n",
    "\n",
    "\n",
    "def calculate_bmi(weight, height):\n",
    "  try:\n",
    "    bmi = weight / ((height / 100) ** 2)\n",
    "    return round(bmi, 2)\n",
    "  except ZeroDivisionError:\n",
    "    return 0\n",
    "\n",
    "def get_employee_data():\n",
    "  employee_data = {}\n",
    "  num_employees = int(input(\"Enter the number of employees: \"))\n",
    "  for i in range(num_employees):\n",
    "    emp_id = input(f\"Enter employee ID for employee {i + 1}: \")\n",
    "    weight = float(input(f\"Enter weight (in kg) for employee {emp_id}: \"))\n",
    "    height = float(input(f\"Enter height (in cm) for employee {emp_id}: \"))\n",
    "    age = int(input(f\"Enter age for employee {emp_id}: \"))\n",
    "    bmi = calculate_bmi(weight, height)\n",
    "    if bmi < 18.5:\n",
    "      result = \"-ve\"\n",
    "    elif bmi >= 18.5 and bmi < 25:\n",
    "      result = \"+ve\"\n",
    "    else:\n",
    "      result = \"obese\"\n",
    "    employee_data[emp_id] = {\n",
    "        \"weight\": weight,\n",
    "        \"height\": height,\n",
    "        \"age\": age,\n",
    "        \"bmi\": bmi,\n",
    "        \"result\": result,\n",
    "    }\n",
    "  return employee_data\n",
    "\n",
    "\n",
    "employee_details = get_employee_data()\n",
    "print(employee_details)"
   ]
  },
  {
   "cell_type": "code",
   "execution_count": 48,
   "id": "69fbec05-c06b-45ae-a808-1dabfec182c1",
   "metadata": {},
   "outputs": [
    {
     "name": "stdin",
     "output_type": "stream",
     "text": [
      "Enter source file:  sample1.json\n",
      "Enter destination file:  akhil_sample.txt\n"
     ]
    },
    {
     "name": "stdout",
     "output_type": "stream",
     "text": [
      "File content copied successfully from 'sample1.json' to 'akhil_sample.txt'.\n"
     ]
    }
   ],
   "source": [
    "# FILES\n",
    "# 118. copy 1 file content in to another file(Take the source and destination file path from the user)\n",
    "\n",
    "\n",
    "def copy_file_content(source_path, destination_path):\n",
    "  try:\n",
    "    source_file = open(source_path, 'r')\n",
    "    content = source_file.read()\n",
    "    destination_file = open(destination_path, 'w')\n",
    "    destination_file.write(content)\n",
    "    print(f\"File content copied successfully from '{source_path}' to '{destination_path}'.\")\n",
    "  except FileNotFoundError:\n",
    "    print(\"Error: Source file not found.\")\n",
    "  except Exception as e:\n",
    "    print(f\"An error occurred: {e}\")\n",
    "\n",
    "\n",
    "\n",
    "source_path = input(\"Enter source file: \")\n",
    "destination_path = input(\"Enter destination file: \")\n",
    "copy_file_content(source_path, destination_path)"
   ]
  },
  {
   "cell_type": "code",
   "execution_count": 51,
   "id": "298ccc27-af37-425a-b3c1-66e1c680b1a4",
   "metadata": {},
   "outputs": [
    {
     "name": "stdout",
     "output_type": "stream",
     "text": [
      "5 8 65\n"
     ]
    }
   ],
   "source": [
    "# 120. print number of lines, words, characters from the given file\n",
    "\n",
    "def counting(source_file):\n",
    "\n",
    "    try:\n",
    "        f = open(source_file, \"r\")\n",
    "        lines = f.readlines()\n",
    "        no_of_lines = len(lines)\n",
    "        no_of_words = sum(len(line.split()) for line in lines)\n",
    "        no_of_char = sum(len(line) for line in lines)\n",
    "\n",
    "        print(no_of_lines, no_of_words, no_of_char)\n",
    "        f.close()\n",
    "    except Exception as err:\n",
    "        print(err)\n",
    "\n",
    "counting(\"akhil_sample.txt\")"
   ]
  },
  {
   "cell_type": "code",
   "execution_count": 1,
   "id": "a0522ebf-3f10-4f77-9308-a435da9d2856",
   "metadata": {},
   "outputs": [
    {
     "ename": "NameError",
     "evalue": "name 'json' is not defined",
     "output_type": "error",
     "traceback": [
      "\u001b[1;31m---------------------------------------------------------------------------\u001b[0m",
      "\u001b[1;31mNameError\u001b[0m                                 Traceback (most recent call last)",
      "Cell \u001b[1;32mIn[1], line 23\u001b[0m\n\u001b[0;32m     19\u001b[0m    \u001b[38;5;28;01mexcept\u001b[39;00m \u001b[38;5;167;01mFileNotFoundError\u001b[39;00m:\n\u001b[0;32m     20\u001b[0m        \u001b[38;5;28mprint\u001b[39m(\u001b[38;5;124m\"\u001b[39m\u001b[38;5;124mText file not found.\u001b[39m\u001b[38;5;124m\"\u001b[39m)\n\u001b[1;32m---> 23\u001b[0m txt_to_json(\u001b[38;5;124m'\u001b[39m\u001b[38;5;124makhil_sample.txt\u001b[39m\u001b[38;5;124m'\u001b[39m, \u001b[38;5;124m'\u001b[39m\u001b[38;5;124msample2.json\u001b[39m\u001b[38;5;124m'\u001b[39m)\n",
      "Cell \u001b[1;32mIn[1], line 13\u001b[0m, in \u001b[0;36mtxt_to_json\u001b[1;34m(txt_file, json_file)\u001b[0m\n\u001b[0;32m     10\u001b[0m         data[key\u001b[38;5;241m.\u001b[39mstrip()] \u001b[38;5;241m=\u001b[39m value\u001b[38;5;241m.\u001b[39mstrip()\n\u001b[0;32m     12\u001b[0m json_out \u001b[38;5;241m=\u001b[39m \u001b[38;5;28mopen\u001b[39m(json_file, \u001b[38;5;124m'\u001b[39m\u001b[38;5;124mw\u001b[39m\u001b[38;5;124m'\u001b[39m)\n\u001b[1;32m---> 13\u001b[0m data2 \u001b[38;5;241m=\u001b[39m json\u001b[38;5;241m.\u001b[39mdump(data, json_out, indent\u001b[38;5;241m=\u001b[39m\u001b[38;5;241m4\u001b[39m)\n\u001b[0;32m     15\u001b[0m \u001b[38;5;28mprint\u001b[39m(data2\u001b[38;5;241m.\u001b[39mreadlines())\n\u001b[0;32m     16\u001b[0m file\u001b[38;5;241m.\u001b[39mclose()\n",
      "\u001b[1;31mNameError\u001b[0m: name 'json' is not defined"
     ]
    }
   ],
   "source": [
    " # 121. convert .txt file in .json\n",
    "\n",
    "def txt_to_json(txt_file, json_file):\n",
    "    data = {}\n",
    "    try:\n",
    "        file = open(txt_file, 'r')\n",
    "        for line in file:\n",
    "            if ':' in line:\n",
    "                key, value = line.strip().split(':', 1)\n",
    "                data[key.strip()] = value.strip()\n",
    "        \n",
    "        json_out = open(json_file, 'w')\n",
    "        data2 = json.dump(data, json_out, indent=4)\n",
    "        \n",
    "        print(data2.readlines())\n",
    "        file.close()\n",
    "        json_out.close()\n",
    "\n",
    "    except FileNotFoundError:\n",
    "        print(\"Text file not found.\")\n",
    "\n",
    "\n",
    "txt_to_json('akhil_sample.txt', 'sample2.json')\n"
   ]
  },
  {
   "cell_type": "code",
   "execution_count": 11,
   "id": "8af3d4e4-8114-41ca-a110-706b17336d34",
   "metadata": {},
   "outputs": [
    {
     "name": "stdin",
     "output_type": "stream",
     "text": [
      "Enter Syptoms: cough\n"
     ]
    },
    {
     "name": "stdout",
     "output_type": "stream",
     "text": [
      "Disease is Common Cold, \n",
      "Symptoms are  Runny or stuffy nose, sore throat, cough, mild fever, fatigue , \n",
      "Advice to medicine  Paracetamol (for fever), antihistamines (e.g., cetirizine), and decongestants (e.g., pseudoephedrine)\n",
      "\n",
      "Disease is Flu (Influenza), \n",
      "Symptoms are High fever, muscle aches, chills, sore throat, fatigue, cough, \n",
      "Advice to medicine Antiviral drugs (e.g., oseltamivir), acetaminophen or ibuprofen (for fever and aches)\n",
      "\n"
     ]
    }
   ],
   "source": [
    "# 122. Take three columns disease, symptoms, advice in a file and fill the details\n",
    "# Ask the user to enter symptoms. Based on this symptoms Suggest the user to what disease it may be and few advices.\n",
    "f = open(\"disease_symptoms_advice.txt\", \"r\")\n",
    "# data = f.readline()\n",
    "# data2 = f.read()\n",
    "# print(data2)\n",
    "symptom = input(\"Enter Syptoms:\").casefold()\n",
    "for i in f:\n",
    "    if symptom in i:\n",
    "        disease, symptoms, advice = i.split(\"::\")\n",
    "        print(f\"Disease is {disease}, \\nSymptoms are {symptoms}, \\nAdvice to medicine {advice}\")\n",
    "f.close()\n",
    "\n"
   ]
  },
  {
   "cell_type": "code",
   "execution_count": null,
   "id": "fe0c2ed3-397c-4938-98b6-55b613396a47",
   "metadata": {},
   "outputs": [],
   "source": [
    "# 123. Take employees info (id,name, age, adress, sal, height, weight)\n",
    "# \t\t a. Take id, provide employee information for that id.\n",
    "# \t\tb. find out average salary.\n",
    "# \t\tc. find out which age, address taking the heighest salary\n",
    "# \t\t d. find out every employee BMI value\n",
    "# \t\te. Finally find out the Organization overall BMI\n",
    "\n",
    "\n",
    "\n"
   ]
  },
  {
   "cell_type": "code",
   "execution_count": null,
   "id": "ac8caf14-b702-44ca-a979-dd7095f42592",
   "metadata": {},
   "outputs": [],
   "source": [
    "# 124. read the file which contains the size greater than your ram size\n",
    "\n",
    "f = open(\""
   ]
  },
  {
   "cell_type": "code",
   "execution_count": null,
   "id": "ae9bb00a-8cb1-4ead-b1c0-23e442abac81",
   "metadata": {},
   "outputs": [],
   "source": [
    " # 125. Read ten gb movie  #mp3, mp4, mk4 etc....\n",
    "\n"
   ]
  },
  {
   "cell_type": "code",
   "execution_count": null,
   "id": "6db32d47-88c3-48d4-aaad-c973beffc090",
   "metadata": {},
   "outputs": [],
   "source": [
    "# 126.  Collect emp information in a file Provide these operations.\n",
    "# \t\t Menu:\n",
    "# \t\t\t1. Get information information of an employee\n",
    "# \t\t\t2. Modify employee information\n",
    "# \t\t\t3. delete an employee information (Only status field change in the employeefile)\n",
    "# \t\t\t4. Add an employee.\n",
    "\n",
    "\n"
   ]
  },
  {
   "cell_type": "code",
   "execution_count": null,
   "id": "23ae69b4-163a-4975-b08d-0855e9cade02",
   "metadata": {},
   "outputs": [],
   "source": [
    "# 127. Take Source and destination file paths from command line arguments and copy the sourcontent into destination.\n",
    "# \t\t Make Sure that your program checking the below conditions.\n",
    "# \t\t1.if the source file not there. Should ask the user to enter new source file or want to quit a program\n",
    "# \t\t2.if the destination file already there in the specified path. Should warn the user want to proceed or \n",
    "#         want to enter new destination file name or want to quit\n",
    "\n",
    "\n",
    "\n"
   ]
  },
  {
   "cell_type": "code",
   "execution_count": null,
   "id": "fff54370-e48a-4112-a8ac-716747873cce",
   "metadata": {},
   "outputs": [],
   "source": [
    "128. Bulk file copy.\n",
    "\t\tTake source and destination file paths from a file and copy the source file content into destination file.\n",
    "\t\tMaintain configuration file and put the below fields there\n",
    "\t\tSource not found: Skip the copy\n",
    "\t\tdestination found: skip/replace\n",
    "\t\tmaintain a remarks log. What are the files skiped from copy because no source file found. What are the files\n",
    "        skip/replaced because of destination file foun in the specified path\n",
    "\n",
    "\n"
   ]
  },
  {
   "cell_type": "code",
   "execution_count": null,
   "id": "5edde941-bd9e-45e2-9fdd-ee04c090bc98",
   "metadata": {},
   "outputs": [],
   "source": []
  },
  {
   "cell_type": "code",
   "execution_count": null,
   "id": "87d99d34-56ff-4860-914f-d7557e626920",
   "metadata": {},
   "outputs": [],
   "source": []
  },
  {
   "cell_type": "code",
   "execution_count": null,
   "id": "1991088c-c29a-495e-96f0-37359f83fc8d",
   "metadata": {},
   "outputs": [],
   "source": []
  },
  {
   "cell_type": "code",
   "execution_count": null,
   "id": "85424a34-4e59-4292-8bd8-fd9871e9aede",
   "metadata": {},
   "outputs": [],
   "source": []
  },
  {
   "cell_type": "code",
   "execution_count": null,
   "id": "35343a9f-d10f-4bdc-88fc-0153ef8cd4cd",
   "metadata": {},
   "outputs": [],
   "source": []
  }
 ],
 "metadata": {
  "kernelspec": {
   "display_name": "Python 3 (ipykernel)",
   "language": "python",
   "name": "python3"
  },
  "language_info": {
   "codemirror_mode": {
    "name": "ipython",
    "version": 3
   },
   "file_extension": ".py",
   "mimetype": "text/x-python",
   "name": "python",
   "nbconvert_exporter": "python",
   "pygments_lexer": "ipython3",
   "version": "3.12.4"
  }
 },
 "nbformat": 4,
 "nbformat_minor": 5
}
