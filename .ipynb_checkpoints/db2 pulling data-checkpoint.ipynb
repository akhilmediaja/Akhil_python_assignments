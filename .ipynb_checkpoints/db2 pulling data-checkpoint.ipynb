{
 "cells": [
  {
   "cell_type": "code",
   "execution_count": 1,
   "id": "3768bef0-5cac-480d-a43c-2087949c375a",
   "metadata": {},
   "outputs": [],
   "source": [
    "import psycopg2"
   ]
  },
  {
   "cell_type": "code",
   "execution_count": 2,
   "id": "0d9a6ecd-09b5-4134-aaf3-ee21e9d6dacb",
   "metadata": {},
   "outputs": [],
   "source": [
    "con = psycopg2.connect(host = \"localhost\", user = \"postgres\", password = \"akhil\", port = 5432, dbname = \"db1\")"
   ]
  },
  {
   "cell_type": "code",
   "execution_count": 3,
   "id": "d89a9fba-edd4-41c2-a9be-c42a66b80c77",
   "metadata": {},
   "outputs": [],
   "source": [
    "cur = con.cursor()"
   ]
  },
  {
   "cell_type": "code",
   "execution_count": 4,
   "id": "b778ba6c-bc2b-4599-b51c-c5df22c52267",
   "metadata": {},
   "outputs": [],
   "source": [
    "cur.execute(\"select * from person\")"
   ]
  },
  {
   "cell_type": "code",
   "execution_count": 5,
   "id": "aa1b3cd0-e20e-4044-a270-e84aa600e940",
   "metadata": {},
   "outputs": [
    {
     "name": "stdout",
     "output_type": "stream",
     "text": [
      "[(2, 'Tiffany Ramos', 33, 13053), (1, 'Akhil', 23, 10000), (3, 'Rodney Montgomery', 27, 14373), (4, 'Sara Hudson', 29, 13769), (5, 'Devin Myers', 29, 14337), (6, 'Austin Delacruz', 27, 14572), (7, 'Cynthia Fuller', 24, 14950), (8, 'Robert Soto', 35, 10426), (9, 'Robin Cherry', 28, 12685), (10, 'Kimberly Cruz', 29, 10385), (11, 'Tom Williams', 40, 12751), (12, 'Richard Ray', 35, 12639), (13, 'Christopher Thompson', 26, 10509), (14, 'Sarah Harrington', 37, 13804), (15, 'Felicia Greer', 28, 14605), (16, 'Antonio Thomas', 32, 14457), (17, 'Timothy Brewer', 32, 10584), (18, 'Alicia Smith', 30, 10470), (19, 'Natasha White', 34, 10413), (20, 'Ryan Boone', 25, 13113), (21, 'Brian Turner', 37, 12727), (22, 'Brittany Myers', 28, 10240), (23, 'Anthony Mercer', 35, 11605), (24, 'Linda Fletcher', 39, 11775), (25, 'Marcus Perry', 29, 12094), (26, 'Edward Monroe', 28, 13537), (27, 'Courtney Brown', 25, 14906), (28, 'Ricky Anderson', 36, 12491), (29, 'James Bradley', 29, 10193), (30, 'Kristina Smith', 36, 14367), (31, 'Alexis Riley', 31, 11315), (32, 'Makayla Morales', 35, 12104), (33, 'Shelby Harrington', 38, 14087), (34, 'Kristie Lewis', 23, 13905), (35, 'Jackie Mckinney', 26, 12573), (36, 'James Kim', 31, 14184), (37, 'Dennis Anderson', 36, 13874), (38, 'Mark King', 30, 12544), (39, 'Jennifer Castillo', 32, 13355), (40, 'Lauren Henderson', 31, 10814), (41, 'Vanessa Rowland', 37, 14341), (42, 'Tonya Schneider', 23, 12502), (43, 'James King', 31, 11548), (44, 'Christina Paul', 24, 14984), (45, 'Leslie Johnson', 31, 14742), (46, 'Patrick Murillo', 35, 14914), (47, 'Tiffany Johns', 37, 12100), (48, 'David Williams', 31, 14758), (49, 'Karen Warren', 39, 14748), (50, 'Jeremy Hall', 31, 14235), (51, 'Jonathan Snyder', 35, 12154), (52, 'Erica Barker', 34, 10894), (53, 'Marcus Yoder', 29, 14708), (54, 'Molly Rodgers', 28, 12966), (55, 'Wendy Reynolds', 29, 13656), (56, 'Philip Fernandez', 29, 12269), (57, 'Kimberly Long', 27, 14041), (58, 'Jeffrey Bradley', 25, 14281), (59, 'Peter Hoffman', 29, 14106), (60, 'Linda Flores', 31, 10526), (61, 'Edward Brown', 38, 14419), (62, 'Charles Burns', 32, 13824), (63, 'Regina Bailey', 38, 10194), (64, 'Anthony Hernandez', 31, 12373), (65, 'Eric Williams', 24, 12062), (66, 'Peter Smith', 28, 13049), (67, 'John Reyes', 33, 11327), (68, 'Laura Schmidt', 29, 12798), (69, 'Amber Sullivan', 40, 14133), (70, 'Stacey Cox', 25, 10307), (71, 'Tony Davis', 34, 13318), (72, 'Isaac Barber', 35, 11697), (73, 'Anthony Johnson', 31, 11724), (74, 'Traci Lawson', 30, 14045), (75, 'Larry Clark', 35, 13350), (76, 'Marcus Wilson', 38, 11356), (77, 'Lisa Walsh', 39, 11176), (78, 'Mariah Mccoy', 32, 13570), (79, 'Carla Leblanc', 37, 10554), (80, 'Anthony Porter', 32, 10605), (81, 'David Wise', 35, 14423), (82, 'Derek Underwood', 36, 10224), (83, 'Thomas Rivera', 31, 12554), (84, 'Joseph Murphy', 33, 11403), (85, 'Jason Williams PhD', 30, 12119), (86, 'John Bray', 26, 14935), (87, 'Robert Hayden', 39, 12343), (88, 'Kenneth Hernandez', 25, 10754), (89, 'James Mills', 37, 12667), (90, 'Heather Stewart', 38, 10547), (91, 'Faith Simpson', 26, 14862), (92, 'Vincent Olson', 27, 13733), (93, 'Pamela Lindsey', 29, 13671), (94, 'James Blackburn', 25, 13969), (95, 'Alyssa Wolfe', 30, 14618), (96, 'Joshua May', 32, 10395), (97, 'Bradley Perez', 25, 11711), (98, 'Todd Bruce', 23, 10418), (99, 'Abigail Neal', 24, 10021), (100, 'Dustin Trujillo', 23, 14330), (101, 'Kimberly Howard', 34, 10795), (102, 'Clayton Mills', 40, 12557), (103, 'Cody Winters', 37, 13034), (104, 'Melissa Abbott', 40, 10082), (105, 'Kathryn Morales MD', 33, 14493), (106, 'Shawn Hamilton', 29, 10732), (107, 'Jacqueline Bradley', 37, 10476), (108, 'Zachary Hall', 33, 14392), (109, 'Julie Wise', 27, 13335), (110, 'Aaron Sandoval', 32, 14909), (111, 'Michael Jones', 36, 12212), (112, 'Dustin Tapia', 35, 12896), (113, 'Amanda Hutchinson', 29, 10414), (114, 'Raymond Hall', 35, 10899), (115, 'Dustin Richard', 26, 11350), (116, 'Thomas Abbott', 23, 14093), (117, 'Cole Gomez', 30, 11945), (118, 'Ryan Jimenez', 23, 10988), (119, 'Amy Serrano', 34, 13030), (120, 'Patricia Melendez', 28, 12509), (121, 'Diana Freeman', 35, 14463), (122, 'Dustin Miller', 31, 14805), (123, 'Amy Jones', 31, 14833), (124, 'Michael Reyes', 28, 10600), (125, 'Billy Sanders', 26, 11304), (126, 'Alfred Harris', 33, 12332), (127, 'Jeffrey Atkinson', 27, 10756), (128, 'Angela Sampson', 37, 12499), (129, 'Lisa Brown', 35, 13307), (130, 'Brittany Todd', 27, 11694), (131, 'Randy Lam', 34, 12216), (132, 'James Herring', 27, 10045), (133, 'Emily Lucero', 25, 14145), (134, 'Krista Henry', 26, 12219), (135, 'Stephanie Day', 26, 12404), (136, 'Mary Lynn', 35, 13051), (137, 'Timothy Jackson', 37, 10433), (138, 'Stacey Murray', 31, 13527), (139, 'Pamela Williams', 38, 14635), (140, 'Sydney West DDS', 26, 10694), (141, 'Jonathon Adams', 28, 13411), (142, 'David Rios', 30, 12368), (143, 'Allison Bell', 24, 12684), (144, 'Kayla Allison', 30, 13325), (145, 'Donald Patel', 25, 12028), (146, 'Lori Kane', 30, 14779), (147, 'Susan Mcfarland', 35, 12359), (148, 'Mason Holt', 39, 14145), (149, 'Julie Davis', 40, 14506), (150, 'Alec Everett', 34, 13341), (151, 'Jonathan Harris', 32, 14517), (152, 'Kristopher Johnson', 23, 10913), (153, 'Christine Taylor', 29, 13632), (154, 'Joshua Burns', 40, 11438), (155, 'Erin Cannon', 32, 12063), (156, 'Julie Robinson', 35, 10526), (157, 'Jacob Gonzalez', 25, 11707), (158, 'Tammy White', 34, 11418), (159, 'Brittney Greer', 40, 12056), (160, 'Martha Turner', 31, 11154), (161, 'Diana Mathis', 23, 11771), (162, 'William Soto', 24, 10445), (163, 'Caitlin Wilson', 32, 14618), (164, 'Leah Roman', 25, 14083), (165, 'Michael Morales', 27, 10657), (166, 'John Aguilar', 30, 12083), (167, 'Tina Taylor', 31, 13578), (168, 'Jennifer Schneider', 33, 13434), (169, 'Madison Bishop', 23, 13503), (170, 'Nicole Roberts', 27, 13380), (171, 'Clayton Oliver', 32, 14763), (172, 'Jonathan Curry', 24, 10555), (173, 'Kristie Davis', 30, 12722), (174, 'Frank Barr', 27, 10821), (175, 'Cindy Bird DVM', 36, 11220), (176, 'Maria King', 28, 12758), (177, 'Caleb Miller', 32, 11014), (178, 'Kimberly Bishop', 26, 10057), (179, 'Christina Chavez', 33, 13824), (180, 'Christina Graves', 39, 13278), (181, 'Gregory Rogers', 38, 14208), (182, 'Krista Bentley', 25, 14190), (183, 'Ryan Garrett', 23, 11725), (184, 'Jeanette Cook', 31, 14840), (185, 'Nicole Thornton', 28, 14221), (186, 'Luis Ortiz', 31, 12365), (187, 'Annette James', 25, 13793), (188, 'Sean Baird', 23, 13139), (189, 'Mr. Thomas Davis', 28, 12568), (190, 'Joe Baker', 39, 10659), (191, 'Steven Duncan', 33, 11682), (192, 'Heather Kemp', 24, 10775), (193, 'Jason Thomas', 32, 10061), (194, 'Laura Pena', 27, 11253), (195, 'Tracy Phillips', 29, 10543), (196, 'Vanessa Grant', 35, 12105), (197, 'Christopher Monroe', 27, 14250), (198, 'Justin Nelson', 26, 14405), (199, 'Donald Johnson', 29, 14512), (200, 'Regina Lee', 27, 12247), (201, 'Stephen Lee', 32, 13416), (202, 'Ryan Torres', 23, 12914), (203, 'Carmen Baldwin', 36, 14630), (204, 'Jessica Davidson', 27, 11957), (205, 'Todd Richards', 37, 10666), (206, 'Mary Hubbard', 34, 10074), (207, 'Charles Carr', 35, 14293), (208, 'Jennifer Wilson', 29, 11827), (209, 'Scott Morgan', 34, 11017), (210, 'Amy Haney', 34, 11742), (211, 'Kirsten Singh', 38, 14321), (212, 'Dr. Alyssa Lopez', 39, 12118), (213, 'Benjamin Thomas', 34, 14389), (214, 'Mr. Jeffrey Winters ', 34, 11504), (215, 'Vincent Flores', 39, 10792), (216, 'William Christian', 24, 11205), (217, 'Taylor Sanders', 28, 14051), (218, 'Anne Klein', 39, 10605), (219, 'Jordan Branch', 32, 11188), (220, 'Jade White', 29, 14458), (221, 'Erik Salinas', 24, 13176), (222, 'Robin Roberts', 24, 11941), (223, 'Michael Stuart', 26, 11272), (224, 'Misty Graham', 23, 13070), (225, 'Mary Bernard', 35, 10167), (226, 'John Lopez', 30, 10027), (227, 'Mitchell Stevenson', 32, 10721), (228, 'Caitlin Brown', 32, 12555), (229, 'Kevin Scott', 30, 13113), (230, 'Nicholas Bautista', 39, 11704), (231, 'Christine Burns', 25, 12321), (232, 'Rebecca Wilson', 25, 11933), (233, 'Laura Moss', 33, 12299), (234, 'Walter Obrien', 23, 14983), (235, 'Tracy Nelson', 37, 10329), (236, 'Catherine Lloyd', 31, 12499), (237, 'Emily Owen', 33, 10806), (238, 'Christopher Strong', 37, 12693), (239, 'Tammy Murillo', 24, 12902), (240, 'Randy French', 33, 12638), (241, 'Shawn English', 39, 10681), (242, 'Mrs. Chelsea Mathews', 33, 13563), (243, 'Cathy Burgess', 29, 11975), (244, 'Norma White', 35, 14905), (245, 'Randy Baker', 37, 13474), (246, 'James Farmer', 38, 10346), (247, 'Matthew Jacobs', 34, 11838), (248, 'Teresa Vang', 30, 12064), (249, 'Bruce Smith', 27, 13635), (250, 'Kathleen Fernandez', 27, 14471), (251, 'Kim Jones', 31, 13029), (252, 'Melanie Cochran', 40, 14865), (253, 'Sarah Bradley', 26, 14173), (254, 'Alison Wilkinson', 40, 12177), (255, 'David Jordan', 37, 11174), (256, 'Mario Hammond', 31, 11406), (257, 'Raymond Wright', 36, 13705), (258, 'Michael Walker', 23, 13067), (259, 'Isaac Duke', 33, 13934), (260, 'Gregory Haynes', 28, 13541), (261, 'Evan Edwards', 32, 14634), (262, 'Patricia Cox', 24, 11566), (263, 'Nicole White', 35, 11317), (264, 'Sherry White', 40, 12610), (265, 'Hannah Smith', 29, 11082), (266, 'Sarah Mullins', 27, 10341), (267, 'Anna Baker', 37, 11807), (268, 'Jeffrey Lamb', 23, 10132), (269, 'Rebecca Sanchez', 37, 13377), (270, 'Peter Colon', 29, 12191), (271, 'Susan Roberts', 27, 14297), (272, 'Heather Smith', 26, 10802), (273, 'Kathy Rodriguez', 25, 13446), (274, 'Madison Prince', 35, 12435), (275, 'Jean Mcgee', 25, 11636), (276, 'Sherri Krause', 35, 11220), (277, 'Douglas Ramirez', 32, 11729), (278, 'Melissa Brown', 31, 14382), (279, 'Megan Foster', 34, 10783), (280, 'Eric Navarro', 33, 14192), (281, 'Bryan Fischer', 40, 12234), (282, 'David Case', 28, 10834), (283, 'Ryan Coleman', 35, 11906), (284, 'Leslie Rodriguez MD', 35, 11214), (285, 'Christie Johnson', 24, 12979), (286, 'Veronica Parker', 26, 14053), (287, 'Loretta Lewis', 40, 13245), (288, 'Kimberly Garcia', 28, 13918), (289, 'Leah Joseph', 36, 14670), (290, 'Charles Campbell', 31, 14621), (291, 'Lacey Campos', 34, 13248), (292, 'Danielle Elliott', 30, 10915), (293, 'Susan Howard', 25, 13016), (294, 'Taylor Norman', 24, 12875), (295, 'Sheryl Flores', 40, 13984), (296, 'Marissa Ramos', 26, 12259), (297, 'David Barnett', 33, 14228), (298, 'William Dyer', 30, 10888), (299, 'Carla Collins', 25, 11423), (300, 'Ian Vargas', 32, 15000), (301, 'Jared Baker', 32, 11093), (302, 'Chad Jenkins', 25, 14942), (303, 'Steven Williams', 24, 10372), (304, 'Cory Love', 25, 13188), (305, 'Ariel Hall', 25, 13875), (306, 'Samantha Mccarthy', 26, 12663), (307, 'Teresa Gutierrez', 34, 10857), (308, 'Krista Lewis DDS', 27, 13155), (309, 'Ryan Tran', 40, 13644), (310, 'Emily Davis', 35, 12635), (311, 'Julie Dennis', 31, 11078), (312, 'Catherine Ryan', 27, 13423), (313, 'Gerald Lawson', 34, 10650), (314, 'Katherine Floyd', 29, 14613), (315, 'Hannah White', 29, 10982), (316, 'Nicholas Mcgee', 31, 13910), (317, 'Eric Kim', 34, 11920), (318, 'Cody Miller', 38, 12176), (319, 'Caroline Fernandez', 25, 11003), (320, 'Kristin Riddle', 33, 14283), (321, 'Michael Beasley', 38, 10547), (322, 'Joseph Porter', 32, 13183), (323, 'Michelle Ross', 37, 13578), (324, 'Yvette Moore', 38, 10963), (325, 'Hailey Martinez', 27, 10486), (326, 'Jason Townsend Jr.', 23, 10140), (327, 'Wendy Larson', 37, 10285), (328, 'Kevin Mercado', 36, 14783), (329, 'Marisa Bailey', 39, 11238), (330, 'Samantha Davis', 31, 11927), (331, 'Matthew Owens', 38, 14337), (332, 'Brent Lam', 35, 13863), (333, 'Andrea Cox', 26, 12178), (334, 'Brandy Henderson', 36, 14672), (335, 'Matthew Wright', 26, 10161), (336, 'Brad Burke', 31, 10406), (337, 'Sydney Carter', 39, 12274), (338, 'Gary Walker', 31, 13649), (339, 'Bradley Roberts', 31, 13688), (340, 'Jeffrey Gray', 26, 12061), (341, 'Erin Harvey', 26, 13373), (342, 'Mark Horton', 35, 12736), (343, 'Amy Branch', 24, 10826), (344, 'Robert Potter', 28, 14961), (345, 'Jennifer Ball', 23, 10588), (346, 'Steven Hoffman', 29, 10997), (347, 'Bill Flores', 33, 14254), (348, 'John Ray', 25, 10224), (349, 'Heather Wood', 31, 11462), (350, 'Jeffrey Potter', 37, 14697), (351, 'Latasha Mcgee', 25, 14570), (352, 'Mark Gonzales', 30, 14352), (353, 'Michelle White', 25, 11091), (354, 'Kristina Vazquez', 31, 13909), (355, 'Cynthia Tanner', 35, 14907), (356, 'Robert Hardin', 25, 11803), (357, 'Brian Hill', 32, 10813), (358, 'Michelle Bailey', 40, 10518), (359, 'Alvin Herrera', 40, 12028), (360, 'Nicholas Wyatt', 40, 10956), (361, 'Debra Wells', 36, 13033), (362, 'Patrick Bryant', 38, 12870), (363, 'Alyssa Cooper', 40, 12399), (364, 'Ashley Newton', 36, 11757), (365, 'William Martinez', 32, 11517), (366, 'Janet Madden', 34, 12710), (367, 'William Little', 36, 13800), (368, 'Rhonda Sosa', 28, 12914), (369, 'Patricia Scott', 36, 10465), (370, 'Cynthia Johnson', 39, 12785), (371, 'Thomas Miller', 36, 10732), (372, 'Jessica Franklin', 26, 11534), (373, 'Megan Wong', 29, 10069), (374, 'Antonio Alexander', 24, 10341), (375, 'Anthony Morgan', 27, 10029), (376, 'Hailey Hawkins', 24, 10243), (377, 'Joan Hines', 32, 14283), (378, 'Mr. William Wilson', 40, 14143), (379, 'Jennifer Harrell', 28, 12419), (380, 'James Johnson', 38, 13195), (381, 'Jacqueline Lester', 31, 12539), (382, 'Richard Smith', 24, 10181), (383, 'Kimberly Russell', 33, 10820), (384, 'David Romero', 30, 10790), (385, 'William Smith', 23, 12718), (386, 'Stacey Benitez', 40, 12076), (387, 'David Parker', 31, 11326), (388, 'Dakota Stein', 26, 12745), (389, 'Jeffrey Zimmerman', 34, 12458), (390, 'Chad Hawkins', 27, 11207), (391, 'Vanessa Jordan', 33, 12513), (392, 'Mackenzie Coleman', 39, 12467), (393, 'Willie Armstrong', 37, 10507), (394, 'Travis Thomas', 36, 13504), (395, 'Eric Lewis', 36, 12645), (396, 'Daniel Brown', 27, 11855), (397, 'Vanessa Ruiz', 38, 11397), (398, 'Amanda Ferrell', 33, 14792), (399, 'Andrew Freeman', 32, 12481), (400, 'John Thomas', 36, 11094), (401, 'Steven Allen', 33, 14558), (402, 'Candace Nielsen', 28, 14900), (403, 'Courtney Torres', 24, 12105), (404, 'Jerry Graves', 25, 14222), (405, 'Timothy Palmer', 36, 14433), (406, 'Tina Montgomery', 31, 10067), (407, 'Robin Cummings', 35, 11842), (408, 'Randy Harris MD', 24, 12965), (409, 'James James', 35, 13510), (410, 'Denise Roth', 39, 10209), (411, 'Tracy Jones', 31, 13685), (412, 'Andrew Mccullough', 37, 10969), (413, 'Patrick Conley', 29, 12243), (414, 'Daniel Salazar MD', 36, 14390), (415, 'Jason Stewart', 37, 11376), (416, 'Amy Moore', 33, 11321), (417, 'Terry Graham', 27, 12654), (418, 'Tina Lopez', 25, 13009), (419, 'Heather Stephenson', 34, 13883), (420, 'Michael Knight', 25, 10255), (421, 'Patrick Alvarez', 37, 13623), (422, 'Diana Park', 33, 11878), (423, 'Hannah Dougherty', 34, 13570), (424, 'Austin Brooks', 37, 13253), (425, 'Jonathan Young', 34, 14932), (426, 'Yolanda Lewis', 37, 14910), (427, 'Molly Smith', 26, 11188), (428, 'Dustin Pollard', 36, 11301), (429, 'Wanda Rhodes', 26, 13846), (430, 'Ruben Reed', 29, 12729), (431, 'Scott Serrano', 26, 14704), (432, 'Cassidy Sampson', 37, 13929), (433, 'Tracy Davis', 27, 13734), (434, 'Jill Lee', 26, 10474), (435, 'Amanda Ford', 38, 14707), (436, 'Richard Leon', 34, 14641), (437, 'Harry Davis', 37, 10079), (438, 'Daniel Taylor', 30, 10799), (439, 'Virginia Lewis', 27, 11819), (440, 'Dr. Katherine Gilles', 24, 10084), (441, 'James Scott', 38, 14156), (442, 'Michael Stanton', 39, 14696), (443, 'Patrick Stokes', 38, 12132), (444, 'Michael Fletcher', 31, 12884), (445, 'Emily Guerrero', 30, 11234), (446, 'Madeline Dennis', 32, 12651), (447, 'David Alvarez', 26, 11203), (448, 'Sandra Gonzales MD', 26, 12474), (449, 'Mr. John Trevino', 27, 11476), (450, 'Tammy Benson', 38, 14225), (451, 'Lindsey Kelley', 39, 12053), (452, 'Jean Gonzalez', 32, 12222), (453, 'Eric Mathews', 27, 12861), (454, 'Lisa Young', 25, 11729), (455, 'James Williams', 36, 12379), (456, 'Joseph Campbell', 24, 11400), (457, 'Jimmy Ortiz', 39, 13925), (458, 'Mrs. Leslie Baker DV', 24, 14815), (459, 'Lindsey Burns', 35, 14348), (460, 'Matthew Melendez', 39, 12413), (461, 'Jesse Hanson', 24, 12434), (462, 'Edward Butler', 32, 14517), (463, 'Allison Brooks', 34, 10850), (464, 'Heather Salazar', 25, 14303), (465, 'Angela Vincent', 27, 11765), (466, 'Katie Rogers', 35, 12866), (467, 'Breanna Watkins', 24, 10472), (468, 'Andrea Ross', 29, 14200), (469, 'Joshua Guzman', 25, 14421), (470, 'Amanda Cortez', 34, 11879), (471, 'Jeffrey Campbell', 39, 10839), (472, 'Heather Frazier', 26, 12603), (473, 'Richard Richard', 25, 12823), (474, 'James Pierce', 31, 14952), (475, 'Michael Wilson', 31, 10475), (476, 'Alexis Green', 40, 10420), (477, 'Diane Miller', 39, 11353), (478, 'Carlos Lewis', 27, 14889), (479, 'Kevin Powell', 27, 13565), (480, 'Leslie James', 30, 12258), (481, 'Scott Orozco', 34, 11406), (482, 'Andres Adams', 39, 12947), (483, 'Douglas Hoffman', 39, 12048), (484, 'Joshua Gonzalez', 24, 10743), (485, 'Rachel Valdez', 25, 14892), (486, 'Jennifer Nguyen', 23, 12617), (487, 'Joseph Jones', 34, 10304), (488, 'John Allen', 37, 11409), (489, 'Molly Huang', 25, 14168), (490, 'Shawn Torres', 26, 14874), (491, 'Russell Burnett', 28, 10645), (492, 'Ashley Sanders', 23, 12388), (493, 'Daniel Johnson', 25, 12015), (494, 'Rachel Rivera', 35, 13844), (495, 'Crystal Davis', 25, 11646), (496, 'Matthew Melendez', 37, 10135), (497, 'Donald George', 32, 12417), (498, 'Kristin Wallace', 38, 10054), (499, 'Marvin Smith', 34, 11153), (500, 'Kristin Baker', 40, 12173), (501, 'Gavin Murphy', 32, 11791), (502, 'Joe Velasquez', 33, 11101), (503, 'Thomas Morgan', 27, 11650), (504, 'Brittany Murillo', 29, 14299), (505, 'Erika Cooke', 30, 14337), (506, 'James Phillips PhD', 23, 13422), (507, 'Nicholas Baker', 27, 14952), (508, 'Brandon Hill', 37, 12074), (509, 'Gary Sanchez', 29, 13089), (510, 'Sarah Nelson', 28, 11139), (511, 'Tony West', 37, 12458), (512, 'Mark Harris', 36, 13073), (513, 'Steven Daniels', 37, 13555), (514, 'Olivia Solis', 30, 13066), (515, 'Timothy Ramos', 34, 11228), (516, 'Louis Sherman', 39, 11777), (517, 'Stephen Rodriguez', 32, 13149), (518, 'Sean Dickerson', 29, 11552), (519, 'Leah Burnett', 33, 13887), (520, 'Penny Jacobs', 30, 11565), (521, 'William Knapp', 36, 11732), (522, 'James Strong', 26, 10374), (523, 'William Monroe', 26, 10076), (524, 'Samuel Campbell', 37, 12779), (525, 'Victoria Strickland', 36, 10450), (526, 'Sarah Gonzalez', 24, 10796), (527, 'Shawn Campbell', 24, 11665), (528, 'Melanie Baker', 31, 10271), (529, 'Melissa Massey', 32, 12553), (530, 'Michael Jones', 34, 13460), (531, 'Melissa Rush', 24, 10139), (532, 'Matthew Molina', 26, 14185), (533, 'Dana Chapman', 23, 12828), (534, 'Darrell Abbott', 28, 12762), (535, 'April Rios', 35, 13230), (536, 'Anthony Perry', 40, 11410), (537, 'Alexander Russell', 26, 12098), (538, 'Maria Robertson', 30, 11376), (539, 'Ronald Branch', 29, 12790), (540, 'Scott Glenn', 33, 11839), (541, 'Karen Parrish', 32, 14396), (542, 'Teresa Wallace', 23, 13486), (543, 'Renee Blevins', 35, 10493), (544, 'Mindy Richard', 27, 13569), (545, 'Megan Strickland', 31, 12113), (546, 'Jonathan Davis', 33, 11252), (547, 'Donna Rivera', 28, 10858), (548, 'Tami Pena', 39, 12333), (549, 'Kelsey Sanchez', 24, 10655), (550, 'Maria Rodriguez', 37, 10371), (551, 'Wesley Williamson', 38, 10917), (552, 'Loretta Rivera', 36, 14649), (553, 'Tabitha Holmes', 25, 11401), (554, 'Paul Johnson', 39, 11883), (555, 'Leslie Kramer', 34, 12182), (556, 'Amy Boyer', 32, 12895), (557, 'Yolanda Francis', 29, 13493), (558, 'Alexander Davis', 31, 13076), (559, 'Alan Marsh', 26, 10586), (560, 'William Clark', 31, 13944), (561, 'Kevin Jones', 31, 11152), (562, 'Charles Bullock', 39, 11260), (563, 'Bradley Martinez', 23, 14788), (564, 'Tiffany Gutierrez', 36, 13965), (565, 'Margaret Erickson', 28, 14280), (566, 'Anna Harmon', 36, 10643), (567, 'Brian Contreras', 27, 10694), (568, 'Austin Tyler', 39, 11648), (569, 'Olivia Jimenez', 38, 13831), (570, 'David Galloway', 25, 12853), (571, 'Kayla Mcintosh', 36, 10532), (572, 'Alexander Kramer', 40, 13249), (573, 'Chad Newton', 36, 10785), (574, 'Alan Cabrera', 33, 11502), (575, 'Sally Mcintyre', 39, 14691), (576, 'Brenda Petersen', 40, 11781), (577, 'Susan Grant', 23, 13011), (578, 'Deanna Stewart', 23, 14139), (579, 'Lisa Cross', 32, 13997), (580, 'Jonathan Robertson', 35, 12166), (581, 'Andrea Prince', 32, 13952), (582, 'Dr. Megan Parker', 35, 12121), (583, 'Martin Lester', 40, 11337), (584, 'Lee Smith', 36, 13279), (585, 'David Harris', 35, 11391), (586, 'Jose Rivera', 30, 12235), (587, 'Monica Rivera', 39, 11591), (588, 'Benjamin Cannon', 25, 11552), (589, 'Joshua Johnson', 34, 10567), (590, 'Jeffery Ramirez', 32, 14841), (591, 'Brittany Ryan', 23, 14369), (592, 'Cheryl Bailey', 33, 13812), (593, 'Matthew Wallace', 24, 14825), (594, 'Anne Faulkner', 37, 13609), (595, 'Alyssa Anderson', 36, 11065), (596, 'Brenda Lutz', 33, 12508), (597, 'Derek Holland', 30, 13532), (598, 'Wendy Walsh', 32, 13201), (599, 'Jason Brock', 31, 14197), (600, 'Brandon Hughes', 35, 10027), (601, 'Jonathan Villanueva', 40, 10794), (602, 'Robert Wheeler', 28, 11683), (603, 'Javier Anderson', 40, 12826), (604, 'Todd Davis', 39, 10520), (605, 'Logan Fuller', 24, 11011), (606, 'Anthony Ortiz', 25, 11528), (607, 'Joseph Rivera', 25, 13951), (608, 'Cynthia Alvarez', 40, 11559), (609, 'Ashley Mckinney', 26, 12352), (610, 'Kenneth Lin', 35, 10693), (611, 'Donna Hill', 23, 14060), (612, 'Lisa Flores', 33, 13696), (613, 'Julie Drake', 39, 11564), (614, 'Karina Smith', 23, 13350), (615, 'Elizabeth Lindsey', 27, 10445), (616, 'Darrell Smith', 25, 12726), (617, 'Frederick Wade', 33, 11788), (618, 'Frank Davis', 27, 14931), (619, 'Nina Johnson', 25, 14168), (620, 'Tina Brown', 26, 14661), (621, 'Michael Stout', 33, 11478), (622, 'Ryan Castillo', 27, 14937), (623, 'Mr. Tristan Shepherd', 39, 11877), (624, 'Joseph Wagner', 36, 13844), (625, 'Bryan Hood', 31, 14309), (626, 'John Watson', 24, 11466), (627, 'Walter Long', 25, 13875), (628, 'Derrick Hernandez', 32, 10435), (629, 'Steve Warren', 38, 11904), (630, 'Patricia Ballard', 23, 14537), (631, 'Cody Gomez', 39, 10349), (632, 'Cassandra White', 24, 10657), (633, 'Barbara Ryan', 34, 13227), (634, 'Jodi Donaldson', 33, 14903), (635, 'Barry Glover', 24, 12095), (636, 'Leah Ingram', 27, 10689), (637, 'Kristi Thomas', 36, 12283), (638, 'Emily Pacheco', 27, 14373), (639, 'Susan Cochran', 30, 13751), (640, 'Kaitlin Lynch', 33, 14162), (641, 'Jonathan Trevino', 40, 13671), (642, 'Wendy Daniels', 34, 12279), (643, 'Lori George', 34, 13129), (644, 'Joshua Peterson', 37, 13606), (645, 'Robert Martinez', 34, 12134), (646, 'Michael Scott', 33, 14218), (647, 'Amanda Gregory', 24, 13157), (648, 'John Reed', 25, 11848), (649, 'Paul Davies', 36, 10374), (650, 'Anita Parsons', 35, 14607), (651, 'Allen Hoffman', 38, 13832), (652, 'Dawn Howell', 24, 13976), (653, 'Joseph Wilson', 25, 12240), (654, 'Tony Rodriguez', 35, 13263), (655, 'Kelsey Williams', 27, 12179), (656, 'Hayley Robertson', 34, 11496), (657, 'Jeremy Perez', 31, 11213), (658, 'Jack Simmons', 36, 14507), (659, 'Ashley Bailey', 34, 10874), (660, 'Krista Padilla', 38, 13971), (661, 'Brittney Gonzalez', 40, 11412), (662, 'Ian Holland', 33, 12529), (663, 'Eric Hall', 24, 14418), (664, 'Tracie Lopez', 35, 10105), (665, 'Penny Caldwell', 39, 14789), (666, 'Lori Williams', 36, 13150), (667, 'Sandra Hardy', 34, 14786), (668, 'George Espinoza', 30, 14071), (669, 'Adam Sutton', 34, 12730), (670, 'Brian Carpenter', 38, 10525), (671, 'Matthew Young', 26, 12892), (672, 'Tonya Dominguez', 34, 14006), (673, 'Ann Powers', 36, 11191), (674, 'Paul West', 40, 10917), (675, 'Trevor Kelley', 39, 10601), (676, 'Madison Ware', 39, 10844), (677, 'Wendy Higgins', 25, 10858), (678, 'Joseph Nelson', 33, 14187), (679, 'Taylor Hernandez', 32, 12385), (680, 'Preston Diaz', 29, 13355), (681, 'Emily Barnett', 28, 11838), (682, 'Brianna Hardy', 30, 11328), (683, 'Daniel Mayo', 33, 12674), (684, 'Juan Franklin', 34, 14118), (685, 'Tanner Martinez', 24, 13506), (686, 'Martin Adams', 34, 11987), (687, 'Mark Russell', 33, 11051), (688, 'Maria Shaw', 23, 12360), (689, 'Mackenzie Keller', 26, 14001), (690, 'Luis Young', 40, 12538), (691, 'Jordan Molina', 39, 14638), (692, 'Charles Johnson', 34, 12207), (693, 'Teresa Morrow', 27, 14378), (694, 'Laura Nguyen', 35, 10593), (695, 'Charles Campos', 34, 13986), (696, 'Ana Stewart', 26, 12495), (697, 'Angela Caldwell', 23, 11210), (698, 'Anthony Ho', 39, 12941), (699, 'Jason Salazar', 37, 10492), (700, 'Gilbert Curry MD', 36, 14191), (701, 'Lauren Davis', 34, 13570), (702, 'Tracey Fischer', 29, 11306), (703, 'Crystal Kane', 28, 12709), (704, 'Jennifer Porter', 25, 13168), (705, 'Tiffany Smith', 29, 14632), (706, 'Shelly Morales', 34, 13588), (707, 'Brian Sanford', 27, 14193), (708, 'Chase Johnson', 30, 10674), (709, 'Richard Jackson', 25, 11122), (710, 'Joel Clark', 28, 11846), (711, 'Christopher Contrera', 27, 12674), (712, 'John Wyatt', 34, 14528), (713, 'Michael Heath', 38, 14057), (714, 'Carol Norman', 36, 13850), (715, 'Laura Ward', 39, 14178), (716, 'Gina Thompson', 40, 14533), (717, 'Jeremy Long', 36, 10454), (718, 'Monica Howell', 23, 13235), (719, 'Noah Mueller', 30, 13234), (720, 'Kevin Salazar', 29, 13769), (721, 'Renee Rodriguez', 24, 14115), (722, 'Jerry Price', 23, 12450), (723, 'Brandi Kelley', 32, 10064), (724, 'Matthew Price', 33, 11721), (725, 'Michael Martinez', 37, 12534), (726, 'Lauren Williams', 33, 14683), (727, 'Joseph Davis', 33, 14423), (728, 'Kelli Lawrence', 23, 13546), (729, 'Terri Young', 29, 12528), (730, 'Scott Washington', 29, 10742), (731, 'Michelle Delgado', 32, 14475), (732, 'Christopher Burgess', 32, 11677), (733, 'Stephanie Walter', 30, 13766), (734, 'Gina Hughes', 31, 11386), (735, 'Molly Woods', 37, 14196), (736, 'Brittany Anderson', 34, 11755), (737, 'David Campbell', 39, 10102), (738, 'Samantha Jackson', 35, 12670), (739, 'Andrew Key', 30, 14323), (740, 'Casey Jensen', 38, 14467), (741, 'Michael Brown', 40, 10012), (742, 'Natasha Johnson MD', 31, 12495), (743, 'Sarah Lewis', 26, 13701), (744, 'Paul Jackson', 23, 12011), (745, 'Roger Hernandez', 27, 10251), (746, 'Bradley Moore', 34, 14601), (747, 'Jennifer Garcia', 30, 10880), (748, 'Spencer Campos', 24, 13794), (749, 'John Stone', 37, 13460), (750, 'Sarah Lee', 38, 12167), (751, 'Stephen Green', 32, 11387), (752, 'Mallory Carroll', 25, 11854), (753, 'Robert Taylor', 40, 10915), (754, 'Lee Kidd', 28, 12571), (755, 'Jessica Carpenter', 26, 14751), (756, 'Lisa Perez', 25, 10507), (757, 'Mark Frey', 37, 12529), (758, 'Casey Stone', 33, 14196), (759, 'Jasmine Nunez', 32, 11006), (760, 'Shane Terry', 25, 14014), (761, 'Edwin Lopez', 37, 10971), (762, 'Joseph Miller', 30, 12530), (763, 'Alexis Walker', 24, 10946), (764, 'Dr. Sandra Abbott', 25, 12028), (765, 'Patricia Davis', 27, 11207), (766, 'Matthew Schroeder', 36, 11922), (767, 'Todd Taylor', 34, 13002), (768, 'Rachel Johnson', 23, 14840), (769, 'James Reed', 32, 14903), (770, 'Joshua Leonard', 24, 13992), (771, 'Nancy Brown', 37, 14401), (772, 'Karen Molina DDS', 35, 11087), (773, 'Jennifer Hubbard', 23, 13227), (774, 'Roger Rodriguez', 40, 14434), (775, 'Gregory Whitaker', 38, 14802), (776, 'Wendy Clark', 39, 14784), (777, 'Joseph Flores', 33, 11184), (778, 'Amanda Hunter', 27, 11995), (779, 'Jose Hart', 24, 10800), (780, 'Sarah Smith', 28, 11116), (781, 'Jennifer Hudson', 24, 14417), (782, 'Jeremy Willis', 38, 10690), (783, 'Martha Coleman', 40, 11975), (784, 'Daniel Jackson', 34, 14032), (785, 'Cody Jones', 27, 11499), (786, 'Mr. Chad Marshall', 36, 11955), (787, 'Stephanie Bates', 28, 14452), (788, 'Juan King', 39, 13567), (789, 'Michelle Lee', 27, 14003), (790, 'Caitlin Blake', 27, 12205), (791, 'Ryan Lopez', 23, 11476), (792, 'Eric Berry', 25, 10907), (793, 'Anthony Rocha', 40, 10916), (794, 'Sarah Horne', 27, 13492), (795, 'Angela Roberts', 39, 13055), (796, 'Laurie Bailey', 26, 14778), (797, 'Stephanie Lewis', 27, 13520), (798, 'Janet Harris', 37, 14348), (799, 'Alexa Lambert', 34, 11970), (800, 'Katherine Walker', 35, 13531), (801, 'Christopher Flores', 39, 14761), (802, 'David Jackson', 32, 14293), (803, 'Emily Estrada', 38, 13848), (804, 'Karen Ball', 28, 12681), (805, 'Diana Cortez', 39, 14695), (806, 'Ryan Perez', 27, 13996), (807, 'Michael Nguyen', 36, 13259), (808, 'Melinda Fields', 28, 14133), (809, 'Michael Anderson', 32, 14963), (810, 'Christopher Ray', 32, 14979), (811, 'Alyssa Bowers', 35, 10634), (812, 'Kristina White', 40, 13158), (813, 'Monique Bailey', 23, 13119), (814, 'Mary Walker', 25, 11467), (815, 'Lisa Mcdaniel', 31, 12603), (816, 'Heather Morrow', 39, 11032), (817, 'Kathy Gomez', 23, 12149), (818, 'Ronald Munoz', 30, 14515), (819, 'Heidi Mason', 24, 13161), (820, 'Jennifer Tran', 33, 11039), (821, 'Debbie Frederick', 23, 14015), (822, 'Matthew Meyers', 24, 11633), (823, 'Max Mooney', 33, 14529), (824, 'Susan Moses', 32, 13851), (825, 'Brittany Rose', 32, 13936), (826, 'Sandra Wilson', 25, 10362), (827, 'Angela Hansen MD', 33, 12593), (828, 'Jill Klein', 29, 14993), (829, 'Anna Gibson', 23, 12895), (830, 'Jeff Fernandez', 34, 14575), (831, 'Carlos Barnes', 30, 10819), (832, 'Jay Hughes', 23, 14928), (833, 'Michael Myers', 37, 13065), (834, 'Patricia Finley', 35, 13010), (835, 'Dan Ramos Jr.', 34, 11778), (836, 'Megan Russell', 25, 12963), (837, 'Bradley White', 40, 14278), (838, 'Mary Perez', 26, 12192), (839, 'Charles Molina', 36, 14453), (840, 'Courtney Hayes', 33, 14008), (841, 'Amy Torres', 27, 11905), (842, 'Howard Johnson MD', 33, 10409), (843, 'Rhonda Humphrey', 26, 14103), (844, 'Tracy Hobbs', 38, 13371), (845, 'Harold Proctor', 28, 13346), (846, 'Kathryn Chen', 28, 13029), (847, 'Michael Case', 25, 11853), (848, 'Marvin Cochran', 34, 13496), (849, 'James Harvey', 25, 13923), (850, 'Whitney Logan', 32, 13245), (851, 'Andre Peterson', 34, 11635), (852, 'Holly Hudson', 35, 14133), (853, 'Joanna Nelson', 32, 14537), (854, 'David Garcia', 40, 12023), (855, 'Robert Blanchard', 32, 14807), (856, 'Julia Ruiz', 33, 14370), (857, 'James Spencer', 24, 14482), (858, 'Jonathan Campbell', 33, 12078), (859, 'Michelle Lane', 30, 13251), (860, 'Daniel Rodriguez', 35, 14649), (861, 'Julie Rose', 37, 13649), (862, 'Danielle Vasquez', 27, 13207), (863, 'Dr. Molly Mason DDS', 40, 10624), (864, 'Rodney Romero', 38, 14499), (865, 'Dana Stone', 26, 10692), (866, 'Sarah Kim', 34, 13949), (867, 'Elizabeth Hall', 32, 14593), (868, 'Vickie Sweeney', 39, 13260), (869, 'Richard Boyer', 26, 12471), (870, 'Anna Kennedy', 23, 12983), (871, 'Megan Williams', 24, 13825), (872, 'Joe Hogan', 33, 13243), (873, 'Sherri Hudson', 35, 10492), (874, 'Tamara Ruiz', 25, 10378), (875, 'Travis Choi', 37, 13851), (876, 'Laura White', 30, 13634), (877, 'Lisa Bradford', 40, 12217), (878, 'Christopher Jackson', 23, 10029), (879, 'Shannon Long', 23, 10835), (880, 'Sara Bentley', 39, 11249), (881, 'Mark White', 25, 10465), (882, 'Holly Gill', 23, 14673), (883, 'Allen Miller', 30, 14826), (884, 'Ryan Diaz', 36, 14413), (885, 'Tammy Riley', 38, 12321), (886, 'Brandon Perkins', 25, 10242), (887, 'Michael Taylor', 26, 14820), (888, 'Regina Wood', 27, 10912), (889, 'Nicholas Harrison', 30, 10419), (890, 'Nathan Lawrence', 38, 14734), (891, 'Brandon Sloan', 26, 10316), (892, 'Stephanie Li', 26, 13455), (893, 'Stephanie Leonard', 32, 12974), (894, 'Brian Morris', 25, 12786), (895, 'Christina Jackson', 29, 14836), (896, 'Jennifer Gonzalez', 38, 12118), (897, 'Jackie Mcdaniel', 38, 14223), (898, 'Charles Hill', 28, 14981), (899, 'Amber Mcdonald', 27, 12678), (900, 'Stephen Lopez MD', 29, 14720), (901, 'Sherry Sparks', 39, 10691), (902, 'Suzanne Woods', 40, 11016), (903, 'Brandon Dominguez', 30, 10241), (904, 'James Humphrey', 39, 11069), (905, 'Ann Carter', 31, 10820), (906, 'Morgan Murray', 30, 13641), (907, 'Patricia Coleman', 24, 12753), (908, 'Kimberly Brown', 24, 11809), (909, 'Adam Pittman', 28, 14519), (910, 'Ashley Pena', 24, 12328), (911, 'Joseph Fritz', 34, 14446), (912, 'Mrs. Julia Smith', 39, 12137), (913, 'Daniel Miranda', 26, 11611), (914, 'Crystal Richards', 36, 10963), (915, 'Dana Fisher', 24, 13158), (916, 'Joseph Conway', 38, 11045), (917, 'Sheila Garner', 39, 12861), (918, 'Chelsea Howell', 38, 14262), (919, 'Karen Palmer', 33, 13261), (920, 'Tiffany Alvarez', 39, 13027), (921, 'Martin Jones', 27, 11866), (922, 'Lisa Aguilar', 24, 14775), (923, 'Cameron Drake', 31, 10098), (924, 'Amanda Anderson', 37, 10215), (925, 'Christopher Boyd', 36, 10415), (926, 'Rebecca Cox', 33, 12386), (927, 'Mr. Andrew Anderson', 35, 11663), (928, 'Richard Mendez', 37, 14080), (929, 'Jay Hudson', 32, 11649), (930, 'Edwin Jordan', 24, 13128), (931, 'Todd Bates', 36, 11009), (932, 'Patrick Kelly', 36, 12410), (933, 'Jeremy Cunningham', 25, 12165), (934, 'Susan Jones', 26, 14824), (935, 'Henry Schmidt', 24, 11128), (936, 'John Williams', 37, 11877), (937, 'Theresa Bush', 39, 14899), (938, 'Patricia Woodard', 30, 10697), (939, 'Kenneth Camacho', 39, 10330), (940, 'Tammy Mendoza', 32, 11585), (941, 'Robin Oneal', 31, 13330), (942, 'Jean Flores', 31, 10942), (943, 'Rachel Jones', 24, 12910), (944, 'Mitchell Jackson', 23, 11688), (945, 'Bobby Snow', 34, 13212), (946, 'Linda Wells', 39, 13507), (947, 'Nancy Martinez', 23, 13052), (948, 'Christina Cain', 29, 14422), (949, 'Jennifer Martinez', 40, 13749), (950, 'Connie Fernandez', 27, 13275), (951, 'James Shaw', 35, 14222), (952, 'Samuel Hunt', 39, 14814), (953, 'Todd Jackson', 39, 11227), (954, 'Randall Dixon', 35, 13760), (955, 'Christopher Graham', 33, 13241), (956, 'Douglas Elliott', 35, 11003), (957, 'Daniel Chan', 39, 12439), (958, 'Michael Gonzalez', 39, 14230), (959, 'Kristen Tate', 37, 13253), (960, 'Mark Jones', 36, 11587), (961, 'Elizabeth Perry', 24, 11838), (962, 'Karen Petersen', 31, 13311), (963, 'Terry Nelson', 25, 12774), (964, 'Jimmy Shah', 23, 10046), (965, 'Melinda Tran', 27, 11730), (966, 'Jim Watson', 24, 12294), (967, 'Brandon Sims', 29, 14163), (968, 'Andre Clark', 25, 12211), (969, 'John Phillips', 34, 13328), (970, 'Theresa Baxter', 34, 13087), (971, 'Cheryl Pierce', 26, 10484), (972, 'Priscilla Smith', 26, 11805), (973, 'Alexander Dodson', 31, 14862), (974, 'Nicholas Moore', 35, 12892), (975, 'Julie Le', 33, 11470), (976, 'Scott Meadows', 35, 10319), (977, 'Benjamin Franklin', 39, 11041), (978, 'Dennis Perkins', 28, 12593), (979, 'Krista Davis', 26, 13709), (980, 'Bradley Cole', 24, 12488), (981, 'Diane Pittman', 36, 10511), (982, 'Tracie Newton', 23, 13152), (983, 'Marissa Schwartz', 27, 10215), (984, 'Joshua Berg', 29, 14921), (985, 'Kevin Ross', 23, 13039), (986, 'Charles Hughes', 40, 14469), (987, 'Scott Ford', 29, 10440), (988, 'Sabrina Bauer', 29, 10003), (989, 'Amy Thompson', 29, 14573), (990, 'Steven Rodriguez', 31, 14055), (991, 'Cynthia Church', 36, 13935), (992, 'Dylan Guerrero', 36, 14830), (993, 'Heidi Watson', 36, 10445), (994, 'Juan Jackson', 37, 14709), (995, 'Leah Perez', 37, 11697), (996, 'Michael Smith', 29, 12975), (997, 'David Jones', 24, 11703), (998, 'Darryl Jennings', 36, 13424), (999, 'Janice Shelton', 28, 13848), (1000, 'Lance Davis', 38, 11052)]\n"
     ]
    }
   ],
   "source": [
    "data = cur.fetchall()\n",
    "print(data)"
   ]
  },
  {
   "cell_type": "code",
   "execution_count": 6,
   "id": "d91ea128-9209-4063-b9d0-0ac72b5c03ab",
   "metadata": {},
   "outputs": [
    {
     "name": "stdout",
     "output_type": "stream",
     "text": [
      "12577759\n"
     ]
    }
   ],
   "source": [
    "# sum of salaries   \n",
    "sum_of_salaries = 0\n",
    "for row in data:\n",
    "    sal = row[-1]\n",
    "    sum_of_salaries += sal\n",
    "print(sum_of_salaries)\n",
    "    "
   ]
  },
  {
   "cell_type": "code",
   "execution_count": 8,
   "id": "66898c7a-15a0-4dee-8e53-3eb794ea151e",
   "metadata": {},
   "outputs": [
    {
     "ename": "UndefinedTable",
     "evalue": "relation \"persson\" does not exist\nLINE 1: select sum(salary) from persson\n                                ^\n",
     "output_type": "error",
     "traceback": [
      "\u001b[1;31m---------------------------------------------------------------------------\u001b[0m",
      "\u001b[1;31mUndefinedTable\u001b[0m                            Traceback (most recent call last)",
      "Cell \u001b[1;32mIn[8], line 3\u001b[0m\n\u001b[0;32m      1\u001b[0m \u001b[38;5;66;03m# sum of salaries \u001b[39;00m\n\u001b[1;32m----> 3\u001b[0m cur\u001b[38;5;241m.\u001b[39mexecute(\u001b[38;5;124m\"\u001b[39m\u001b[38;5;124mselect sum(salary) from persson\u001b[39m\u001b[38;5;124m\"\u001b[39m)\n",
      "\u001b[1;31mUndefinedTable\u001b[0m: relation \"persson\" does not exist\nLINE 1: select sum(salary) from persson\n                                ^\n"
     ]
    }
   ],
   "source": [
    "# sum of salaries \n",
    "\n",
    "cur.execute(\"select sum(salary) from persson\")"
   ]
  },
  {
   "cell_type": "code",
   "execution_count": 9,
   "id": "0ac026e3-d441-4ab7-9d08-f5f46fb4c0c9",
   "metadata": {},
   "outputs": [],
   "source": [
    "con.rollback()\n"
   ]
  },
  {
   "cell_type": "code",
   "execution_count": 12,
   "id": "42151456-f952-41a8-88f1-ad62f6da5006",
   "metadata": {},
   "outputs": [
    {
     "name": "stdout",
     "output_type": "stream",
     "text": [
      "(12577759,)\n"
     ]
    }
   ],
   "source": [
    "# sum of salaries \n",
    "\n",
    "cur.execute(\"select sum(salary) from person\")\n",
    "dt = cur.fetchone()\n",
    "print(dt)"
   ]
  },
  {
   "cell_type": "code",
   "execution_count": 13,
   "id": "30c411c2-9dfa-4024-b867-fa3be82ab72a",
   "metadata": {},
   "outputs": [
    {
     "name": "stdout",
     "output_type": "stream",
     "text": [
      "[('Ian Vargas',), ('Jill Klein',), ('Christina Paul',), ('Walter Obrien',), ('Charles Hill',), ('Christopher Ray',), ('Michael Anderson',), ('Robert Potter',), ('James Pierce',), ('Nicholas Baker',)]\n"
     ]
    }
   ],
   "source": [
    "# Top ten salaried employee names.\n",
    "\n",
    "cur.execute(\"select name from person order by salary DESC limit 10\")\n",
    "dt2 = cur.fetchall()\n",
    "print(dt2)"
   ]
  },
  {
   "cell_type": "code",
   "execution_count": 15,
   "id": "364f2821-d38a-442d-ae3f-f9c46b4b8ffa",
   "metadata": {},
   "outputs": [
    {
     "name": "stdout",
     "output_type": "stream",
     "text": [
      "[(497,)]\n"
     ]
    }
   ],
   "source": [
    "# how many number employees are taking salaries more than average salary\n",
    "\n",
    "# SELECT COUNT(*) \n",
    "# FROM person\n",
    "# WHERE salary > (SELECT AVG(salary) FROM person);\n",
    "\n",
    "\n",
    "\n",
    "cur.execute(\"select count(*) from person where salary > ( select AVG(salary) from person)\")\n",
    "dt3 = cur.fetchall()\n",
    "print(dt3)"
   ]
  },
  {
   "cell_type": "code",
   "execution_count": null,
   "id": "62a8af3f-96ad-4f29-9d90-1d182064226f",
   "metadata": {},
   "outputs": [],
   "source": []
  }
 ],
 "metadata": {
  "kernelspec": {
   "display_name": "Python 3 (ipykernel)",
   "language": "python",
   "name": "python3"
  },
  "language_info": {
   "codemirror_mode": {
    "name": "ipython",
    "version": 3
   },
   "file_extension": ".py",
   "mimetype": "text/x-python",
   "name": "python",
   "nbconvert_exporter": "python",
   "pygments_lexer": "ipython3",
   "version": "3.12.4"
  }
 },
 "nbformat": 4,
 "nbformat_minor": 5
}
