{
 "cells": [
  {
   "cell_type": "code",
   "execution_count": 1,
   "id": "1aea3e59-b987-417d-817a-b27192bc9053",
   "metadata": {},
   "outputs": [
    {
     "name": "stdout",
     "output_type": "stream",
     "text": [
      "3000\n"
     ]
    }
   ],
   "source": [
    "a = 1000\n",
    "b = 2000\n",
    "print(a+b)"
   ]
  },
  {
   "cell_type": "code",
   "execution_count": 2,
   "id": "502d43ca-7533-49a9-bb8a-3f8199c3ee09",
   "metadata": {},
   "outputs": [
    {
     "name": "stdin",
     "output_type": "stream",
     "text": [
      "Enter a value: 1000\n",
      "Enter a value: 3000\n"
     ]
    },
    {
     "name": "stdout",
     "output_type": "stream",
     "text": [
      "<class 'str'> 10003000\n"
     ]
    }
   ],
   "source": [
    "a = input(\"Enter a value:\" )\n",
    "b = input(\"Enter a value:\" )\n",
    "\n",
    "print(type(a+b), a+b)"
   ]
  },
  {
   "cell_type": "code",
   "execution_count": 3,
   "id": "e89729d4-c8e1-493e-8a0f-8ed5c4c53ab5",
   "metadata": {},
   "outputs": [
    {
     "name": "stdout",
     "output_type": "stream",
     "text": [
      "<class 'str'>\n"
     ]
    }
   ],
   "source": [
    "b = '(1,2,3)'\n",
    "print(type(b))"
   ]
  },
  {
   "cell_type": "code",
   "execution_count": 9,
   "id": "c096f624-cb74-4e8f-a5ac-8d111cb64b5f",
   "metadata": {},
   "outputs": [
    {
     "name": "stdin",
     "output_type": "stream",
     "text": [
      "enter a value 120\n",
      "enter a vale 30\n"
     ]
    },
    {
     "name": "stdout",
     "output_type": "stream",
     "text": [
      "12030\n",
      "<class 'int'>\n",
      "<class 'int'>\n",
      "150\n",
      "3600\n",
      "90\n",
      "4.0\n",
      "4\n",
      "0\n",
      "102\n",
      "<class 'float'>\n",
      "<class 'float'>\n",
      "150.0\n",
      "3600.0\n",
      "90.0\n",
      "4.0\n",
      "4.0\n",
      "0.0\n"
     ]
    }
   ],
   "source": [
    "#take 2 numbers from user, and do all the arthametic operations +,-,*,/.//,%\n",
    "a = input(\"enter a value\")\n",
    "b = input(\"enter a vale\")\n",
    "\n",
    "print(a +b)\n",
    "a, b = int(a), int(b)\n",
    "print(type(a))\n",
    "print(type(b))\n",
    "\n",
    "print(a + b)\n",
    "print(a * b)\n",
    "print(a - b)\n",
    "print(a / b)\n",
    "print(a // b)\n",
    "print(a % b)\n",
    "\n",
    "\n",
    "# it is better to convert to float rather than int.\n",
    "a, b = float(a), float(b)\n",
    "print(type(a))\n",
    "print(type(b))\n",
    "\n",
    "print(a + b)\n",
    "print(a * b)\n",
    "print(a - b)\n",
    "print(a / b)\n",
    "print(a // b)\n",
    "print(a % b)\n"
   ]
  },
  {
   "cell_type": "code",
   "execution_count": null,
   "id": "d6625b16-279a-407d-b8d7-4e7bf9788ce8",
   "metadata": {},
   "outputs": [],
   "source": []
  }
 ],
 "metadata": {
  "kernelspec": {
   "display_name": "Python 3 (ipykernel)",
   "language": "python",
   "name": "python3"
  },
  "language_info": {
   "codemirror_mode": {
    "name": "ipython",
    "version": 3
   },
   "file_extension": ".py",
   "mimetype": "text/x-python",
   "name": "python",
   "nbconvert_exporter": "python",
   "pygments_lexer": "ipython3",
   "version": "3.12.4"
  }
 },
 "nbformat": 4,
 "nbformat_minor": 5
}
