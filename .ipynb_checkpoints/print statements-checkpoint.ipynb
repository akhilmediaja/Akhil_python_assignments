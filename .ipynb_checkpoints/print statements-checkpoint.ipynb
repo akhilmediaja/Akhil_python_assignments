{
 "cells": [
  {
   "cell_type": "code",
   "execution_count": 8,
   "id": "fa473c1a-a84d-40af-a96e-1dbe7939097b",
   "metadata": {},
   "outputs": [
    {
     "name": "stdout",
     "output_type": "stream",
     "text": [
      "\n",
      "1000 Python [1, 'dgd', 3, 4] (1, 2, 'er') {1, 9, 7} {'name': 'Akhil', 'Id': 'AT1001'}\n",
      "\n",
      "1000 Python [1, 'dgd', 3, 4] (1, 2, 'er') {1, 9, 7} {'name': 'Akhil', 'Id': 'AT1001'},\n",
      "1000 Python [1, 'dgd', 3, 4] (1, 2, 'er') {1, 9, 7} {'name': 'Akhil', 'Id': 'AT1001'}@\n",
      "1000 Python [1, 'dgd', 3, 4] (1, 2, 'er') {1, 9, 7} {'name': 'Akhil', 'Id': 'AT1001'}#\n",
      "1000 Python [1, 'dgd', 3, 4] (1, 2, 'er') {1, 9, 7} {'name': 'Akhil', 'Id': 'AT1001'}&"
     ]
    }
   ],
   "source": [
    "a = 1000\n",
    "b = \"Python\"\n",
    "c = [1, \"dgd\", 3,4]\n",
    "d = (1, 2,\"er\")\n",
    "e = {1,9,7}\n",
    "f = {\"name\" : \"Akhil\", \"Id\" : \"AT1001\"}\n",
    "\n",
    "# print(a, b, c, d, e, f )\n",
    "# print()\n",
    "# print(a, b, c, d, e, f, sep= \"\\n\")\n",
    "# print()\n",
    "# print(a, b, c, d, e, f, sep= \"__\")\n",
    "# print()\n",
    "# print(a, b, c, d, e, f, sep= \"@\")\n",
    "# print()\n",
    "# print(a, b, c, d, e, f, sep= \"#\")\n",
    "\n",
    "# print()\n",
    "# print(a, b, c, d, e, f, end= \"\\n\")\n",
    "# print()\n",
    "# print(a, b, c, d, e, f, end= \",\")\n",
    "# print()\n",
    "# print(a, b, c, d, e, f, end= \"@\")\n",
    "# print()\n",
    "# print(a, b, c, d, e, f, end= \"#\")\n",
    "# print()\n",
    "# print(a, b, c, d, e, f, end= \"&\")\n",
    "\n",
    "# print(a, end = \" , \" )\n",
    "# print(b, end = \"^\" )\n",
    "# print(c, end = \"@\" )\n",
    "# print(d  )\n",
    "# print(e  )\n",
    "# print(f  )\n",
    "\n"
   ]
  },
  {
   "cell_type": "code",
   "execution_count": null,
   "id": "0d5623f4-1846-4e52-aa3a-6d21e2a6c14e",
   "metadata": {},
   "outputs": [],
   "source": []
  }
 ],
 "metadata": {
  "kernelspec": {
   "display_name": "Python 3 (ipykernel)",
   "language": "python",
   "name": "python3"
  },
  "language_info": {
   "codemirror_mode": {
    "name": "ipython",
    "version": 3
   },
   "file_extension": ".py",
   "mimetype": "text/x-python",
   "name": "python",
   "nbconvert_exporter": "python",
   "pygments_lexer": "ipython3",
   "version": "3.12.4"
  }
 },
 "nbformat": 4,
 "nbformat_minor": 5
}
