{
 "cells": [
  {
   "cell_type": "code",
   "execution_count": 4,
   "id": "8d209a44-b1a6-4f55-bbc5-69ab404d11c0",
   "metadata": {},
   "outputs": [
    {
     "name": "stdout",
     "output_type": "stream",
     "text": [
      "{1, 2, 3, 4}\n",
      "{1, 2, 3}\n"
     ]
    }
   ],
   "source": [
    "# 1. add()\n",
    "# Adds an element to the set. If the element is already in the set, it does nothing.\n",
    "\n",
    "s = {1, 2, 3}\n",
    "s.add(4)\n",
    "print(s)  # Output: {1, 2, 3, 4}\n",
    "\n",
    "s = {1, 2, 3}\n",
    "s.add(3)\n",
    "print(s)  # Output: {1, 2, 3, 4}"
   ]
  },
  {
   "cell_type": "code",
   "execution_count": 3,
   "id": "ed3024cf-16de-4a73-9f19-d7011a090b06",
   "metadata": {},
   "outputs": [
    {
     "name": "stdout",
     "output_type": "stream",
     "text": [
      "{1, 3}\n",
      "{1, 3}\n"
     ]
    }
   ],
   "source": [
    "# 2. remove()\n",
    "# Removes a specified element from the set. Raises a KeyError if the element is not found.\n",
    "\n",
    "s = {1, 2, 3}\n",
    "s.remove(2)\n",
    "print(s)  # Output: {1, 3}\n",
    "\n",
    "s = {1, 2, 3}\n",
    "s.remove()\n",
    "print(s)  # Error : KeyError"
   ]
  },
  {
   "cell_type": "code",
   "execution_count": null,
   "id": "6ec40305-1cd6-449f-9c62-9a53174d2fe7",
   "metadata": {},
   "outputs": [],
   "source": [
    "# 3. discard()\n",
    "# Removes a specified element from the set. If the element is not present, it does nothing (no error).\n",
    "\n",
    "s = {1, 2, 3}\n",
    "s.discard(2)\n",
    "print(s)  # Output: {1, 3}"
   ]
  },
  {
   "cell_type": "code",
   "execution_count": null,
   "id": "f31a479b-764e-45cd-8000-c4d13efa5844",
   "metadata": {},
   "outputs": [],
   "source": [
    "# 4. pop()\n",
    "# Removes and returns an arbitrary element from the set. Raises a KeyError if the set is empty.\n",
    "\n",
    "s = {1, 2, 3}\n",
    "element = s.pop()\n",
    "print(s)  # Output: Remaining elements (order is not guaranteed)"
   ]
  },
  {
   "cell_type": "code",
   "execution_count": null,
   "id": "635eb398-3d22-4771-8349-531cdc072830",
   "metadata": {},
   "outputs": [],
   "source": [
    "# 5. clear()\n",
    "# Removes all elements from the set, making it empty.\n",
    "\n",
    "s = {1, 2, 3}\n",
    "s.clear()\n",
    "print(s)  # Output: set()"
   ]
  },
  {
   "cell_type": "code",
   "execution_count": 4,
   "id": "3f1ed02e-8b15-4efc-8264-d37893ad4088",
   "metadata": {},
   "outputs": [
    {
     "name": "stdout",
     "output_type": "stream",
     "text": [
      "{1, 2, 3, 4, 5}\n",
      "<class 'dict'>\n",
      "{1, 2, 3}\n",
      "{3, 4, 5}\n"
     ]
    },
    {
     "ename": "AttributeError",
     "evalue": "'dict' object has no attribute 'union'",
     "output_type": "error",
     "traceback": [
      "\u001b[1;31m---------------------------------------------------------------------------\u001b[0m",
      "\u001b[1;31mAttributeError\u001b[0m                            Traceback (most recent call last)",
      "Cell \u001b[1;32mIn[4], line 22\u001b[0m\n\u001b[0;32m     20\u001b[0m s1 \u001b[38;5;241m=\u001b[39m {}\n\u001b[0;32m     21\u001b[0m s2 \u001b[38;5;241m=\u001b[39m {\u001b[38;5;241m3\u001b[39m, \u001b[38;5;241m4\u001b[39m, \u001b[38;5;241m5\u001b[39m}\n\u001b[1;32m---> 22\u001b[0m s3 \u001b[38;5;241m=\u001b[39m s1\u001b[38;5;241m.\u001b[39munion(s2)\n\u001b[0;32m     23\u001b[0m \u001b[38;5;28mprint\u001b[39m(s3)\n",
      "\u001b[1;31mAttributeError\u001b[0m: 'dict' object has no attribute 'union'"
     ]
    }
   ],
   "source": [
    "# 6. union()\n",
    "# Returns a new set with all elements from both sets (similar to | operator).\n",
    "\n",
    "s1 = {1, 2, 3}\n",
    "s2 = {3, 4, 5}\n",
    "s3 = s1.union(s2)\n",
    "print(s3)  # Output: {1, 2, 3, 4, 5}\n",
    "\n",
    "s1 = {1, 2, 3}\n",
    "s2 = {}\n",
    "print(type(s2))\n",
    "s3 = s1.union(s2)\n",
    "print(s3)  \n",
    "\n",
    "s1 = set()\n",
    "s2 = {3, 4, 5}\n",
    "s3 = s1.union(s2)\n",
    "print(s3)  \n",
    "\n",
    "s1 = {}\n",
    "s2 = {3, 4, 5}\n",
    "s3 = s1.union(s2)\n",
    "print(s3)  "
   ]
  },
  {
   "cell_type": "code",
   "execution_count": 6,
   "id": "34f74778-6dff-4f46-a00d-e280844d4f2a",
   "metadata": {},
   "outputs": [
    {
     "name": "stdout",
     "output_type": "stream",
     "text": [
      "{2, 3}\n",
      "set()\n"
     ]
    }
   ],
   "source": [
    "# 7. intersection()\n",
    "# Returns a new set containing elements common to both sets (similar to & operator).\n",
    "\n",
    "s1 = {1, 2, 3}\n",
    "s2 = {2, 3, 4}\n",
    "s3 = s1.intersection(s2)\n",
    "print(s3)  # Output: {2, 3}\n",
    "\n",
    "s1 = {1, 2, 3}\n",
    "s2 = {4}\n",
    "s3 = s1.intersection(s2)\n",
    "print(s3)  "
   ]
  },
  {
   "cell_type": "code",
   "execution_count": 5,
   "id": "27f72aa8-25ec-4bc5-9f81-d6f5fdf720cd",
   "metadata": {},
   "outputs": [
    {
     "name": "stdout",
     "output_type": "stream",
     "text": [
      "{1}\n",
      "set()\n"
     ]
    }
   ],
   "source": [
    "# 8. difference()\n",
    "# Returns a new set with elements that are in the first set but not in the second (similar to - operator).\n",
    "\n",
    "s1 = {1, 2, 3}\n",
    "s2 = {2, 3, 4}\n",
    "s3 = s1.difference(s2)\n",
    "print(s3)  # Output: {1}\n",
    "s1 = {1, 2, 3}\n",
    "s2 = {1, 2, 3, 4}\n",
    "s3 = s1.difference(s2)\n",
    "print(s3)  "
   ]
  },
  {
   "cell_type": "code",
   "execution_count": null,
   "id": "0ca64a34-15f4-4dfa-a3a4-348964e59dbe",
   "metadata": {},
   "outputs": [],
   "source": [
    "# 9. symmetric_difference()\n",
    "# Returns a new set with elements in either set, but not in both (similar to ^ operator).\n",
    "\n",
    "s1 = {1, 2, 3}\n",
    "s2 = {3, 4, 5}\n",
    "s3 = s1.symmetric_difference(s2)\n",
    "print(s3)  # Output: {1, 2, 4, 5}"
   ]
  },
  {
   "cell_type": "code",
   "execution_count": 10,
   "id": "0ee90c2c-1746-48f2-8a51-8b92d85a05c1",
   "metadata": {},
   "outputs": [
    {
     "name": "stdout",
     "output_type": "stream",
     "text": [
      "False\n",
      "True\n"
     ]
    }
   ],
   "source": [
    "# 10. issubset()\n",
    "# Returns True if the set is a subset of another set.\n",
    "\n",
    "s1 = {1, 2, 4, 6, 10}\n",
    "s2 = {1, 2,  4 }\n",
    "print(s1.issubset(s2)) \n",
    "print(s2.issubset(s1))"
   ]
  },
  {
   "cell_type": "code",
   "execution_count": 16,
   "id": "aebff314-b7d2-4315-ac1c-35aae3738f46",
   "metadata": {},
   "outputs": [
    {
     "name": "stdout",
     "output_type": "stream",
     "text": [
      "True\n"
     ]
    }
   ],
   "source": [
    "# 11. issuperset()\n",
    "# Returns True if the set is a superset of another set.\n",
    "\n",
    "s1 = {1, 2, 3}\n",
    "s2 = {1}\n",
    "print(s1.issuperset(s2))  # Output: True"
   ]
  },
  {
   "cell_type": "code",
   "execution_count": null,
   "id": "e664d1d3-db69-4fb2-81d7-eb9919219696",
   "metadata": {},
   "outputs": [],
   "source": [
    "# 12. copy()\n",
    "# Returns a shallow copy of the set.\n",
    "\n",
    "s1 = {1, 2, 3}\n",
    "s2 = s1.copy()\n",
    "print(s2)  # Output: {1, 2, 3}"
   ]
  },
  {
   "cell_type": "code",
   "execution_count": 2,
   "id": "bd988b82-22ac-4f69-a029-3b1a185f32cf",
   "metadata": {},
   "outputs": [
    {
     "ename": "TypeError",
     "evalue": "unhashable type: 'set'",
     "output_type": "error",
     "traceback": [
      "\u001b[1;31m---------------------------------------------------------------------------\u001b[0m",
      "\u001b[1;31mTypeError\u001b[0m                                 Traceback (most recent call last)",
      "Cell \u001b[1;32mIn[2], line 1\u001b[0m\n\u001b[1;32m----> 1\u001b[0m s \u001b[38;5;241m=\u001b[39m {\u001b[38;5;241m1\u001b[39m, {\u001b[38;5;241m1\u001b[39m, \u001b[38;5;241m2\u001b[39m}}\n",
      "\u001b[1;31mTypeError\u001b[0m: unhashable type: 'set'"
     ]
    }
   ],
   "source": [
    "s = {1, {1, 2}}"
   ]
  },
  {
   "cell_type": "code",
   "execution_count": 3,
   "id": "3593a529-2fd4-4011-a1c0-490ccb5bd843",
   "metadata": {},
   "outputs": [
    {
     "name": "stdout",
     "output_type": "stream",
     "text": [
      "['__and__', '__class__', '__class_getitem__', '__contains__', '__delattr__', '__dir__', '__doc__', '__eq__', '__format__', '__ge__', '__getattribute__', '__getstate__', '__gt__', '__hash__', '__iand__', '__init__', '__init_subclass__', '__ior__', '__isub__', '__iter__', '__ixor__', '__le__', '__len__', '__lt__', '__ne__', '__new__', '__or__', '__rand__', '__reduce__', '__reduce_ex__', '__repr__', '__ror__', '__rsub__', '__rxor__', '__setattr__', '__sizeof__', '__str__', '__sub__', '__subclasshook__', '__xor__', 'add', 'clear', 'copy', 'difference', 'difference_update', 'discard', 'intersection', 'intersection_update', 'isdisjoint', 'issubset', 'issuperset', 'pop', 'remove', 'symmetric_difference', 'symmetric_difference_update', 'union', 'update']\n"
     ]
    }
   ],
   "source": [
    "s = {1,2,3,4}\n",
    "print(dir(s))"
   ]
  },
  {
   "cell_type": "code",
   "execution_count": null,
   "id": "329dcd79-4df4-4f9d-9fff-1fbf8f774caf",
   "metadata": {},
   "outputs": [],
   "source": []
  }
 ],
 "metadata": {
  "kernelspec": {
   "display_name": "Python 3 (ipykernel)",
   "language": "python",
   "name": "python3"
  },
  "language_info": {
   "codemirror_mode": {
    "name": "ipython",
    "version": 3
   },
   "file_extension": ".py",
   "mimetype": "text/x-python",
   "name": "python",
   "nbconvert_exporter": "python",
   "pygments_lexer": "ipython3",
   "version": "3.12.4"
  }
 },
 "nbformat": 4,
 "nbformat_minor": 5
}
