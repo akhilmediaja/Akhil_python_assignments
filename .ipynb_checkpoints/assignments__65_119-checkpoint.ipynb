{
 "cells": [
  {
   "cell_type": "code",
   "execution_count": 5,
   "id": "47e313a7-762d-420d-bbe6-6fe5c6f15a9d",
   "metadata": {},
   "outputs": [
    {
     "name": "stdin",
     "output_type": "stream",
     "text": [
      "Enter The Name of the Person :  ddff\n",
      "Enter an Age  of the Person :  12\n",
      "Enter height  of the Person :  12\n",
      "Enter weight  of the Person :  12\n",
      "Enter aadhar no.of the Person :  122\n",
      "Enter Mobile no.of the Person :  1222\n"
     ]
    },
    {
     "name": "stdout",
     "output_type": "stream",
     "text": [
      "Name of the Person ddff\n",
      "Age of the Person 12\n",
      "Height of the Person :  12\n",
      "Weight of the Person :  12\n",
      "aadhar : 122\n",
      "mobile_no : 1222\n"
     ]
    }
   ],
   "source": [
    "# 65. define a function to take person details name and age are mandatory parameters \n",
    "# and height weight are optional parameters. If the user willing to pass any other details(like adhar, cell, pan, passport etc..) \n",
    "#     regarding him then your function should access those details.\n",
    "def person_details(name, age, height = None, weight = None, **kwargs):\n",
    "    print(f\"Name of the Person {name}\")\n",
    "    print(f\"Age of the Person {age}\")\n",
    "    if height:\n",
    "        print(f\"Height of the Person :  {height}\")\n",
    "    if weight:\n",
    "        print(f\"Weight of the Person :  {weight}\")\n",
    "    if kwargs:\n",
    "        for key, value in kwargs.items():\n",
    "            print(f\"{key} : {value}\")\n",
    "\n",
    "name = input(\"Enter The Name of the Person : \")\n",
    "age = input(\"Enter an Age  of the Person : \")\n",
    "height =  input(\"Enter height  of the Person : \")\n",
    "weight =  input(\"Enter weight  of the Person : \")\n",
    "aadhar =  input(\"Enter aadhar no.of the Person : \")\n",
    "mobile_no =  input(\"Enter Mobile no.of the Person : \")\n",
    "\n",
    "person_details(name, age, height, weight, aadhar = aadhar, mobile_no = mobile_no)\n"
   ]
  },
  {
   "cell_type": "code",
   "execution_count": null,
   "id": "a443df0f-8395-45bd-bfa3-9dec8e413e82",
   "metadata": {},
   "outputs": [],
   "source": [
    "# 65a. rewrite above assignments by functions. Can use string functions to solve the string related assignments"
   ]
  },
  {
   "cell_type": "code",
   "execution_count": 6,
   "id": "f184654f-d6c9-4866-a170-346b7ac81781",
   "metadata": {},
   "outputs": [
    {
     "name": "stdin",
     "output_type": "stream",
     "text": [
      "Enter a number to chexk even or not :  5.6\n"
     ]
    },
    {
     "name": "stdout",
     "output_type": "stream",
     "text": [
      "Given value 5.6 is Odd\n"
     ]
    }
   ],
   "source": [
    "# 65 b. write a function to check given value is even or not\n",
    "\n",
    "def even_odd(a):\n",
    "    if a %2 == 0:\n",
    "        print(f\"Given value {a} is Even\")\n",
    "    else:\n",
    "        print(f\"Given value {a} is Odd\")\n",
    "\n",
    "user_input = input(\"Enter a number to chexk even or not : \" )\n",
    "user_input = float(user_input)\n",
    "even_odd(user_input)\n",
    "    "
   ]
  },
  {
   "cell_type": "code",
   "execution_count": null,
   "id": "954e1e20-c95f-48a0-b7c0-56f56c8470f2",
   "metadata": {},
   "outputs": [],
   "source": [
    "# 65 c. write a function to check given value is prime or not\n",
    "\n",
    "def prime_no(check_number):\n",
    "    count = 0\n",
    "    for i in range(2, check_number+1):\n",
    "        if check_number % i == 0 :\n",
    "            count += 1\n",
    "    return count\n",
    "\n",
    "check_number = input(\"Enter a Number : \")\n",
    "check_number = int(check_number)\n",
    "\n",
    "count = prime_no(check_number)        \n",
    "if count == 1:\n",
    "    print(check_number, \"is a Prime Number\")\n",
    "else:\n",
    "    print(check_number, \"is not a Prime Number\")\n",
    "\n"
   ]
  },
  {
   "cell_type": "code",
   "execution_count": 1,
   "id": "95452081-2cf0-49be-9c15-406aee7c7485",
   "metadata": {},
   "outputs": [
    {
     "name": "stdin",
     "output_type": "stream",
     "text": [
      "enter a  number : 10\n",
      "enter a number :  2\n"
     ]
    },
    {
     "name": "stdout",
     "output_type": "stream",
     "text": [
      "0\n",
      " a is divisible by b \n"
     ]
    }
   ],
   "source": [
    "# 65 d. write a function to check given 2 values are  divisible or not\n",
    "\n",
    "def div(a, b):\n",
    "    print(a % b)\n",
    "    if a % b == 0:\n",
    "        print(\" a is divisible by b \")\n",
    "    else:\n",
    "        print(\" a is not divisible by b\")\n",
    "a = input(\"enter a  number :\" )\n",
    "a = int(a)\n",
    "b = input(\"enter a number : \")\n",
    "b = int(a)\n",
    "\n",
    "div(a, b)"
   ]
  },
  {
   "cell_type": "markdown",
   "id": "b680a972-505f-4768-9186-0dd0025422a9",
   "metadata": {},
   "source": [
    "## SRINGS"
   ]
  },
  {
   "cell_type": "code",
   "execution_count": 24,
   "id": "ef4d533d-2b20-441c-9963-3e4c7db32d3a",
   "metadata": {},
   "outputs": [
    {
     "name": "stdin",
     "output_type": "stream",
     "text": [
      "Enter a word with digits :  122555555.6\n"
     ]
    },
    {
     "name": "stdout",
     "output_type": "stream",
     "text": [
      "contains other\n"
     ]
    }
   ],
   "source": [
    "# 67. take a string from the user and check contains only digits or not?\n",
    "\n",
    "def check_digits(user_input):\n",
    "    count = 0\n",
    "    for i in user_input:\n",
    "        if not(i.isdigit()):\n",
    "            print(\"contains other\")\n",
    "            break\n",
    "        else:\n",
    "            count += 1\n",
    "    return count \n",
    "user_input = input(\"Enter a word with digits : \")\n",
    "count = check_digits(user_input)\n",
    "if count == len(user_input):\n",
    "    print(\"contains only digits\")\n",
    "\n"
   ]
  },
  {
   "cell_type": "code",
   "execution_count": 22,
   "id": "06c61362-f81a-45e7-861b-4cc68bda1b96",
   "metadata": {},
   "outputs": [
    {
     "name": "stdin",
     "output_type": "stream",
     "text": [
      "Enter a word with alphabets :  jjgkjdsjhbf15$\n"
     ]
    },
    {
     "name": "stdout",
     "output_type": "stream",
     "text": [
      "contains others\n"
     ]
    }
   ],
   "source": [
    "# 68. take a string from the user and check contains only  alphabets or not?\n",
    "def check_alpha(user_input):\n",
    "    count = 0\n",
    "    for i in user_input:\n",
    "        if not(i.isalpha()) :\n",
    "            print(\"contains others\")\n",
    "            break\n",
    "        else:\n",
    "            count += 1\n",
    "    return count\n",
    "user_input = input(\"Enter a word with alphabets : \")\n",
    "count = check_alpha(user_input)\n",
    "if count == len(user_input):\n",
    "    print(\"contains only alphabets\")"
   ]
  },
  {
   "cell_type": "code",
   "execution_count": 18,
   "id": "6cad74bc-79e0-4ab0-b15d-8ea1b29f1362",
   "metadata": {},
   "outputs": [
    {
     "name": "stdin",
     "output_type": "stream",
     "text": [
      "Enter a word with Special chars :  dgfdshgfkjshjbsGGGG155\n"
     ]
    },
    {
     "name": "stdout",
     "output_type": "stream",
     "text": [
      "contains others\n"
     ]
    }
   ],
   "source": [
    "# 69. take a string from the user and check contains only  special chars or not?\n",
    "def check_spl(user_input):\n",
    "    count = 0\n",
    "    for i in user_input:\n",
    "        if i.isalnum()  :\n",
    "            print(\"contains others\")\n",
    "            break\n",
    "        else:\n",
    "            count += 1\n",
    "    return count\n",
    "    \n",
    "user_input = input(\"Enter a word with Special chars : \")\n",
    "count = check_spl(user_input)\n",
    "\n",
    "if count == len(user_input):\n",
    "    print(\"contains only Special chars  \")"
   ]
  },
  {
   "cell_type": "code",
   "execution_count": 20,
   "id": "200fd7dc-684c-45b1-8beb-157b72b4c5f9",
   "metadata": {},
   "outputs": [
    {
     "name": "stdin",
     "output_type": "stream",
     "text": [
      "Enter a word with alphabets :  fjghgkgTTTT\n"
     ]
    },
    {
     "name": "stdout",
     "output_type": "stream",
     "text": [
      "contains others\n"
     ]
    }
   ],
   "source": [
    "# 70. take a string from the user and check contains only  capital letters or not?\n",
    "\n",
    "def check_capital(user_input):\n",
    "    count = 0\n",
    "    for i in user_input:\n",
    "        if not(i.isupper()) :\n",
    "            print(\"contains others\")\n",
    "            \n",
    "            break\n",
    "        else:\n",
    "            count += 1\n",
    "    return count\n",
    "user_input = input(\"Enter a word with alphabets : \")\n",
    "count = check_capital(user_input)\n",
    "if count == len(user_input):\n",
    "    print(\"contains only Capital Letters\")\n",
    "\n"
   ]
  },
  {
   "cell_type": "code",
   "execution_count": 15,
   "id": "da4f569f-0031-4dcd-989f-de49a2df0d08",
   "metadata": {},
   "outputs": [
    {
     "name": "stdin",
     "output_type": "stream",
     "text": [
      "Enter a word with alphabets :  fgfd\n"
     ]
    },
    {
     "name": "stdout",
     "output_type": "stream",
     "text": [
      "contains only small letters\n"
     ]
    }
   ],
   "source": [
    "# 71. take a string from the user and check contains only  small letters or not?\n",
    "\n",
    "def check_small(user_input):\n",
    "    count = 0\n",
    "    for i in user_input:\n",
    "        if not(i.islower()) :\n",
    "            print(\"contains others\")\n",
    "            break\n",
    "        else:\n",
    "            count += 1\n",
    "    return count\n",
    "user_input = input(\"Enter a word with alphabets : \")\n",
    "count = check_small(user_input)\n",
    "if count == len(user_input):\n",
    "    print(\"contains only small letters\")\n",
    "\n"
   ]
  },
  {
   "cell_type": "code",
   "execution_count": null,
   "id": "1a496c2b-3740-41af-9d8a-fd5dbb838834",
   "metadata": {},
   "outputs": [],
   "source": [
    "# 72. WAP to replace last n occurrence.\n",
    "\n",
    "def replace_str(list_a, source):\n",
    "    n = 2\n",
    "    count = 0\n",
    "    for i in range(0, len(list_a)):\n",
    "        if list_a[i] == source :\n",
    "            list_a[i] = \"APPLE\"\n",
    "            count += 1\n",
    "            if count == n:\n",
    "                break\n",
    "    return list_a\n",
    "a = \"apple,orange,apple,grape,orange,apple,apple,orange\"\n",
    "print(a)\n",
    "list_a = a.split(',')\n",
    "list_a = list_a[::-1]\n",
    "source = \"apple\"\n",
    "list_a = replace_str(list_a, source)\n",
    "print(\",\".join(list_a[::-1]))\n"
   ]
  },
  {
   "cell_type": "code",
   "execution_count": 26,
   "id": "23442e8f-4964-4757-91bd-04fea595630e",
   "metadata": {},
   "outputs": [
    {
     "name": "stdin",
     "output_type": "stream",
     "text": [
      "Enter a string it contains numbers and float values :  dgfjdsb\n"
     ]
    },
    {
     "name": "stdout",
     "output_type": "stream",
     "text": [
      "not contains numbers \n"
     ]
    }
   ],
   "source": [
    "# 73. WAP to check given string contains numbers or not. it should consider float numbers also.\n",
    "\n",
    "def check_numbers(user_input):\n",
    "    for i in user_input:\n",
    "        if (i.isdecimal()):\n",
    "            print(\"contains numbers \")\n",
    "            break\n",
    "    else:\n",
    "        print(\"not contains numbers \")\n",
    "\n",
    "user_input = input(\"Enter a string it contains numbers and float values : \" )\n",
    "check_numbers(user_input)\n",
    "\n"
   ]
  },
  {
   "cell_type": "code",
   "execution_count": 12,
   "id": "7095bb53-a0bc-4d48-b54c-223a6064c843",
   "metadata": {},
   "outputs": [
    {
     "name": "stdin",
     "output_type": "stream",
     "text": [
      "Enter a word with alphabets :  gggg$$$$11111\n"
     ]
    },
    {
     "name": "stdout",
     "output_type": "stream",
     "text": [
      "GGGG$$$$11111\n",
      "gggg$$$$11111\n"
     ]
    }
   ],
   "source": [
    "# 74. Convert the total string in to lower case. # Convert the total string in to upper case.\n",
    "\n",
    "def str_upper(user_input):\n",
    "    user_input = user_input.upper()\n",
    "    return user_input\n",
    "\n",
    "def str_lower(user_input):\n",
    "    user_input = user_input.lower()\n",
    "    return user_input\n",
    "    \n",
    "user_input = input(\"Enter a word with alphabets : \")\n",
    "user_input1 = str_upper(user_input)\n",
    "print(\"\".join(user_input1))\n",
    "user_input1 = str_lower(user_input)\n",
    "print(\"\".join(user_input1))\n",
    "\n"
   ]
  },
  {
   "cell_type": "code",
   "execution_count": 30,
   "id": "03e50988-96aa-4938-a050-f1267f8806a8",
   "metadata": {},
   "outputs": [
    {
     "name": "stdout",
     "output_type": "stream",
     "text": [
      "Hello World 123! Special_symbol\n"
     ]
    }
   ],
   "source": [
    "# 75. Convert every word start letter into caps. Some how title not working if it contains numbers and special symbols in the word\n",
    "def capitalize_words(text):\n",
    "  words = text.split()\n",
    "  capitalized_words = []\n",
    "  for word in words:\n",
    "    if word:\n",
    "      capitalized_words.append(word.capitalize())\n",
    "    else:\n",
    "      capitalized_words.append(word)\n",
    "  return \" \".join(capitalized_words)\n",
    "\n",
    "text = input(\"Enter a string : \")     # \"hello world 123! special_symbol\"\n",
    "capitalized_text = capitalize_words(text)\n",
    "print(capitalized_text)\n"
   ]
  },
  {
   "cell_type": "code",
   "execution_count": 32,
   "id": "eba275f1-74ad-4599-9cf5-1b013f8b9569",
   "metadata": {},
   "outputs": [
    {
     "name": "stdin",
     "output_type": "stream",
     "text": [
      "Enter a string :  akhil akhil akhil\n",
      "Enter a word :  akhil\n",
      "Enter a word :  nikhil\n"
     ]
    },
    {
     "name": "stdout",
     "output_type": "stream",
     "text": [
      "akhil nikhil nikhil\n"
     ]
    }
   ],
   "source": [
    "#  76.replace last two occurrences of given source string with destination string\n",
    "#  preserve the delimiter after split.\n",
    "\n",
    "def replace_last_two_occurrences(text, source, destination, delimiter=' '):\n",
    "  words = text.split(delimiter)\n",
    "  count = 0\n",
    "  new_words = []\n",
    "  for i in range(len(words) - 1, -1, -1):\n",
    "    if words[i] == source and count < 2:\n",
    "      new_words.insert(0, destination)\n",
    "      count += 1\n",
    "    else:\n",
    "      new_words.insert(0, words[i])\n",
    "  return delimiter.join(new_words)\n",
    "\n",
    "\n",
    "text = input(\"Enter a string : \") \n",
    "source = input(\"Enter a word : \") \n",
    "destination = input(\"Enter a word : \") \n",
    "new_text = replace_last_two_occurrences(text, source, destination)\n",
    "print(new_text)"
   ]
  },
  {
   "cell_type": "code",
   "execution_count": 34,
   "id": "13fe5d58-a6f5-49c7-b378-2a819bf97a75",
   "metadata": {},
   "outputs": [
    {
     "name": "stdin",
     "output_type": "stream",
     "text": [
      "Enter a string :  python\n"
     ]
    },
    {
     "name": "stdout",
     "output_type": "stream",
     "text": [
      "The substring 'python' is present in the string.\n"
     ]
    }
   ],
   "source": [
    "# 77. write a program to check given substring is there in actual string or not? (search should be case insensitive)\n",
    "# example: act=\"python is a pure object oriented programing language\"\n",
    "\n",
    "\n",
    "def contains_substring_case_insensitive(actual_string, substring):\n",
    "    if substring.casefold() in actual_string.casefold():\n",
    "        print(f\"The substring '{substring_to_check}' is present in the string.\")\n",
    "    else:\n",
    "        print(f\"The substring '{substring_to_check}' is not present in the string.\")\n",
    "\n",
    "act = \"python is a pure object oriented programing language\"\n",
    "substring_to_check = input(\"Enter a string : \")\n",
    "contains_substring_case_insensitive(act, substring_to_check)\n",
    "\n"
   ]
  },
  {
   "cell_type": "code",
   "execution_count": 35,
   "id": "b3073eb7-435b-489b-a7a1-d7f4f8d72a12",
   "metadata": {},
   "outputs": [
    {
     "name": "stdout",
     "output_type": "stream",
     "text": [
      "The substring 'pure' is present in the string.\n"
     ]
    }
   ],
   "source": [
    "# 78.check whether “pure” is there in act or not.\n",
    "# Note: Use in operator\n",
    "\n",
    "def contains_substring_case_insensitive(actual_string, substring):\n",
    "    if substring.casefold() in actual_string.casefold():\n",
    "        print(f\"The substring '{substring_to_check}' is present in the string.\")\n",
    "    else:\n",
    "        print(f\"The substring '{substring_to_check}' is not present in the string.\")\n",
    "\n",
    "act = \"python is a pure object oriented programing language\"\n",
    "substring_to_check = \"pure\"\n",
    "contains_substring_case_insensitive(act, substring_to_check)\n"
   ]
  },
  {
   "cell_type": "markdown",
   "id": "1b58a22a-8919-459d-a3fd-5b8956fde618",
   "metadata": {},
   "source": [
    "## DATA STRUCTURES"
   ]
  },
  {
   "cell_type": "code",
   "execution_count": 37,
   "id": "9a6d6de3-33e0-479c-8e24-ae0581e88e2e",
   "metadata": {},
   "outputs": [
    {
     "name": "stdout",
     "output_type": "stream",
     "text": [
      "[10, 20, 30, 40, 50, 60, 70, 80, 90, 20]\n"
     ]
    }
   ],
   "source": [
    "# 79. l=[10,20,30,[40,50,60],70,[80,90,20]]. Convert this list as single dimensional list\n",
    "\n",
    "\n",
    "def dimensional_list(lst):\n",
    "  flat_lst = []\n",
    "  for item in lst:\n",
    "    if type(item) == list :\n",
    "      flat_lst.extend(flatten_list(item))\n",
    "    else:\n",
    "      flat_lst.append(item)\n",
    "  return flat_lst\n",
    "\n",
    "l = [10, 20, 30, [40, 50, 60], 70, [80, 90, 20]]\n",
    "flat_l = dimensional_list(l)\n",
    "print(flat_l)"
   ]
  },
  {
   "cell_type": "code",
   "execution_count": 38,
   "id": "779da55a-163c-4d3f-b049-d71ca93e0297",
   "metadata": {},
   "outputs": [
    {
     "name": "stdout",
     "output_type": "stream",
     "text": [
      "{'G': 1, 'o': 2, 'g': 1, 'l': 1, 'e': 1}\n"
     ]
    }
   ],
   "source": [
    "# 80. input: \"Google\" print count of each character\n",
    "\n",
    "def char_count(input_string):\n",
    "  char_counts = {}\n",
    "  for char in input_string:\n",
    "    if char in char_counts:\n",
    "      char_counts[char] += 1\n",
    "    else:\n",
    "      char_counts[char] = 1\n",
    "  return char_counts\n",
    "\n",
    "input_string = \"Google\"\n",
    "char_counts = char_count(input_string)\n",
    "print(char_counts)"
   ]
  },
  {
   "cell_type": "code",
   "execution_count": 40,
   "id": "07a4665f-9930-47f0-86ab-eb7d8689c60e",
   "metadata": {},
   "outputs": [
    {
     "name": "stdout",
     "output_type": "stream",
     "text": [
      "[1, 2, 3, 1, 2, 3, 4, 5, 6, 7]\n"
     ]
    }
   ],
   "source": [
    "# 81. Convert n dimensional list to single dimensional list.\n",
    "\n",
    "\n",
    "def dimensional_list(lst):\n",
    "  flat_lst = []\n",
    "  for item in lst:\n",
    "    if isinstance(item, list):\n",
    "      flat_lst.extend(dimensional_list(item))\n",
    "    else:\n",
    "      flat_lst.append(item)\n",
    "  return flat_lst\n",
    "\n",
    "\n",
    "my_list = [[1, 2, [3, [1,2,3],4]], [5, 6], 7]\n",
    "flat_list = dimensional_list(my_list)\n",
    "print(flat_list)\n"
   ]
  },
  {
   "cell_type": "code",
   "execution_count": 45,
   "id": "9b359e79-75a0-4113-9ed6-d7ce0d7b8245",
   "metadata": {},
   "outputs": [
    {
     "name": "stdout",
     "output_type": "stream",
     "text": [
      "123\n",
      "['1', '2', '3']\n"
     ]
    }
   ],
   "source": [
    "# 82. l=[1,2,3] just make it as a string.\n",
    "\n",
    "l = [1, 2, 3]\n",
    "s = ''.join(map(str, l))\n",
    "print(s)\n",
    "print(list(s))"
   ]
  },
  {
   "cell_type": "code",
   "execution_count": 46,
   "id": "f58d32ae-42ba-41a8-84c7-36bcd5ea8955",
   "metadata": {},
   "outputs": [
    {
     "name": "stdout",
     "output_type": "stream",
     "text": [
      "[1, 2, 3, 4, 5, 6, 7, 8, 9, 10]\n"
     ]
    }
   ],
   "source": [
    "# 83. l=[1,2,3,[4,5,6],7,[8,9,10]] for single dimensional list\n",
    "\n",
    "def dimensional_list(lst):\n",
    "  flat_lst = []\n",
    "  for item in lst:\n",
    "    if isinstance(item, list):\n",
    "      flat_lst.extend(dimensional_list(item))\n",
    "    else:\n",
    "      flat_lst.append(item)\n",
    "  return flat_lst\n",
    "\n",
    "\n",
    "my_list = [1,2,3,[4,5,6],7,[8,9,10]]\n",
    "flat_list = dimensional_list(my_list)\n",
    "print(flat_list)\n"
   ]
  },
  {
   "cell_type": "code",
   "execution_count": 5,
   "id": "ba223af3-a269-4595-8ba6-7e01396682d9",
   "metadata": {},
   "outputs": [
    {
     "name": "stdout",
     "output_type": "stream",
     "text": [
      "{'a': 2, 'b': 2, 'd': 2, 'c': 2}\n"
     ]
    }
   ],
   "source": [
    "# 84. l=['a','A','b','B','d','D','c','C'] WAP to find out case insensitive count and \n",
    "def ele_count():\n",
    "    a = {}\n",
    "    for i in l:\n",
    "        if i.casefold() in a:\n",
    "            a[i.casefold()] += 1\n",
    "        else:\n",
    "            a[i.casefold()] = 1\n",
    "    print(a)\n",
    "\n",
    "l=['a','A','b','B','d','D','c','C'] \n",
    "ele_count()\n"
   ]
  },
  {
   "cell_type": "code",
   "execution_count": 8,
   "id": "91aa1d88-f302-4d94-a093-46b2e3c35ad2",
   "metadata": {},
   "outputs": [
    {
     "name": "stdin",
     "output_type": "stream",
     "text": [
      "Enter a letter : r\n"
     ]
    },
    {
     "name": "stdout",
     "output_type": "stream",
     "text": [
      "Given element not present in list\n"
     ]
    }
   ],
   "source": [
    "# 85. case insensitive search for an element.\n",
    "def ele_search():\n",
    "    user_input = input(\"Enter a letter :\")\n",
    "    for i in l:\n",
    "        if user_input.casefold() == i.casefold():\n",
    "            print(\"Given element present in list\")\n",
    "            break\n",
    "    else:\n",
    "        print(\"Given element not present in list\")\n",
    "l=['a','A','b','B','d','D','c','C']\n",
    "ele_search()"
   ]
  },
  {
   "cell_type": "code",
   "execution_count": 18,
   "id": "cd14ba7c-e630-44c7-9d75-1e25c46cc5b8",
   "metadata": {},
   "outputs": [
    {
     "name": "stdout",
     "output_type": "stream",
     "text": [
      "['A', 'B', 'C', 'D', 'a', 'b', 'c', 'd']\n"
     ]
    }
   ],
   "source": [
    "# 86. l=['a','A','b','B','d','D','c','C']  sort the list properly\n",
    "\n",
    "l=['a','A','b','B','d','D','c','C']\n",
    "l.sort()\n",
    "print(l)\n"
   ]
  },
  {
   "cell_type": "code",
   "execution_count": 22,
   "id": "8134e8a7-3c5f-46bd-9144-74ac0671724a",
   "metadata": {},
   "outputs": [
    {
     "name": "stdout",
     "output_type": "stream",
     "text": [
      "The largest block of repeated characters starts at position 9\n"
     ]
    }
   ],
   "source": [
    "# 87. find the start position of the largest block of repeated characters in a given string\n",
    "\n",
    "def find_largest_block_start(text):\n",
    "    if not text:\n",
    "        return -1\n",
    "    max_length = 0\n",
    "    start_position = -1\n",
    "    current_length = 1\n",
    "    current_start = 0\n",
    "    \n",
    "    for i in range(1, len(text)):\n",
    "        if text[i] == text[i - 1]:\n",
    "            current_length += 1\n",
    "        else:\n",
    "            if current_length > max_length:\n",
    "                max_length = current_length\n",
    "                start_position = current_start\n",
    "            current_length = 1\n",
    "            current_start = i\n",
    "    if current_length > max_length:\n",
    "        max_length = current_length\n",
    "        start_position = current_start\n",
    "    return start_position\n",
    "\n",
    "text = \"aaabbbcccdddd\"\n",
    "start = find_largest_block_start(text)\n",
    "if start != -1:\n",
    "  print(f\"The largest block of repeated characters starts at position {start}\")\n",
    "else:\n",
    "  print(\"No repeated characters found.\")\n"
   ]
  },
  {
   "cell_type": "code",
   "execution_count": 24,
   "id": "14a543b7-9350-49cc-b5f9-eb7f844d84bf",
   "metadata": {},
   "outputs": [
    {
     "name": "stdout",
     "output_type": "stream",
     "text": [
      "Union: [1, 2, 3, 4, 5, 6, 7]\n",
      "Intersection: [3, 4, 5]\n"
     ]
    }
   ],
   "source": [
    "# 88. WAP to find union and intersection of lists.\n",
    "\n",
    "def find_union_intersection(list1, list2):\n",
    "  union = list(set(list1) | set(list2))\n",
    "  intersection = list(set(list1) & set(list2))\n",
    "  return union, intersection\n",
    "\n",
    "list1 = [1, 2, 3, 4, 5]\n",
    "list2 = [3, 4, 5, 6, 7]\n",
    "union, intersection = find_union_intersection(list1, list2)\n",
    "\n",
    "print(f\"Union: {union}\")\n",
    "print(f\"Intersection: {intersection}\")"
   ]
  },
  {
   "cell_type": "code",
   "execution_count": 29,
   "id": "70f0081a-82b1-4818-a74d-95f2f488a8db",
   "metadata": {},
   "outputs": [
    {
     "name": "stdout",
     "output_type": "stream",
     "text": [
      "[1, 2, 3, 4, 3, 2, 1]\n"
     ]
    }
   ],
   "source": [
    "# 89. input: fun(5) output: [1,2,3,4,3,2,1]\n",
    "\n",
    "def fun(n):\n",
    "  result = []\n",
    "  for i in range(1, n):\n",
    "    result.append(i)\n",
    "  for i in range(n - 2, 0, -1):\n",
    "    result.append(i)\n",
    "  print(result)\n",
    "\n",
    "fun(5)"
   ]
  },
  {
   "cell_type": "code",
   "execution_count": 30,
   "id": "b195b270-2f34-41c5-bc9b-cf1e453a599b",
   "metadata": {},
   "outputs": [
    {
     "name": "stdout",
     "output_type": "stream",
     "text": [
      "[[], ['a'], ['b'], ['c'], ['a', 'b'], ['b', 'c'], ['a', 'b', 'c']]\n"
     ]
    }
   ],
   "source": [
    "# 90. input fun('abc') output: [[],][a],[b],[c],[a,b],[b,c],[c,a],[a,b,c]]\n",
    "\n",
    "def fun(s):\n",
    "  result = [[]]\n",
    "  for i in range(len(s)):\n",
    "    result.append([s[i]])\n",
    "  for i in range(len(s) - 1):\n",
    "    result.append([s[i], s[i + 1]])\n",
    "  for i in range(len(s) - 2):\n",
    "    result.append([s[i], s[i + 1], s[i + 2]])\n",
    "  return result\n",
    "\n",
    "print(fun('abc'))"
   ]
  },
  {
   "cell_type": "code",
   "execution_count": null,
   "id": "ffbdc0b0-43a4-480b-aed6-d50be82b1c44",
   "metadata": {},
   "outputs": [],
   "source": [
    "# 91. Remove duplicates from the list: a=[1,2,3,2,3,4,1,,3,4]\n",
    "a = [1, 2, 3, 2, 3, 4, 1, 3, 4]\n",
    "new_list = []\n",
    "for i in a:\n",
    "  if i not in new_list:\n",
    "    new_list.append(i)\n",
    "print(new_list)"
   ]
  },
  {
   "cell_type": "code",
   "execution_count": 32,
   "id": "d379e442-8cee-43b6-91c9-acc6bdb10924",
   "metadata": {},
   "outputs": [
    {
     "name": "stdout",
     "output_type": "stream",
     "text": [
      "6\n"
     ]
    }
   ],
   "source": [
    "# 92. l=['1','2','3'] get the sum of the list\n",
    "def sum_of(l):\n",
    "    sum_ = 0\n",
    "    for i in l:\n",
    "        sum_ += int(i)\n",
    "    print(sum)\n",
    "\n",
    "l = [\"1\", \"2\", \"3\"]\n",
    "sum_of(l)"
   ]
  },
  {
   "cell_type": "code",
   "execution_count": 35,
   "id": "ccfe0d05-7221-4439-8a8d-e11164075e66",
   "metadata": {},
   "outputs": [
    {
     "name": "stdout",
     "output_type": "stream",
     "text": [
      "36\n"
     ]
    }
   ],
   "source": [
    "# 93. l1=[1,2,3,4] l2=[5,6,7,8] sum of two lists\n",
    "\n",
    "def sum_of(l1, l2):\n",
    "    sum_ = 0\n",
    "    l1.extend(l2)\n",
    "    for i in l1:\n",
    "        sum_ += i\n",
    "    print(sum_)\n",
    "\n",
    "l1=[1,2,3,4]\n",
    "l2=[5,6,7,8]\n",
    "sum_of(l1, l2)"
   ]
  },
  {
   "cell_type": "code",
   "execution_count": 39,
   "id": "762a9610-b5f7-4b4b-80ee-ce772e100728",
   "metadata": {},
   "outputs": [],
   "source": [
    "# 94. Find third max value of element in a list with soring and without sorting a list.\n",
    "\n",
    "\n",
    "\n",
    "# def max_of(l):\n",
    "#     max_ = 0\n",
    "#     for i in range(3):\n",
    "#         a = max(l)\n",
    "#         max_ += 1\n",
    "        \n",
    "#         if max_ > 2:\n",
    "#             print(a)\n",
    "#             break\n",
    "#         l.pop(a)\n",
    "\n",
    "# l = [22, 23, 24, 25, 26, 27]\n",
    "# max_of(l)\n",
    "\n",
    "\n"
   ]
  },
  {
   "cell_type": "code",
   "execution_count": null,
   "id": "f6275c22-bac3-4566-ae0e-ebd41b36a47f",
   "metadata": {},
   "outputs": [],
   "source": [
    "# 95. Input = [\"1/1\",\"1/2\",\"1/3\",\"1/4\",\"2/5\",\"2/6\",\"2/8\"] Output = [['1/1-4'], ['2/5-6'], ['2/8']]"
   ]
  },
  {
   "cell_type": "code",
   "execution_count": 19,
   "id": "59e6c997-0cf1-40dd-ae05-878216de8d3d",
   "metadata": {},
   "outputs": [],
   "source": [
    "# 96. l=[1,2,3,5,7,8,9,10,11,12,13,20,22,23,24,25,26,27,20,21,22,4]\n",
    "# output = [[1, 2, 3], [5], [7, 8, 9, 10, 11, 12, 13], [20], [22, 23, 24, 25, 26, 27], [20, 21, 22], [4]]"
   ]
  },
  {
   "cell_type": "code",
   "execution_count": 43,
   "id": "39d8c110-996f-4b2e-865c-87babccd57e4",
   "metadata": {},
   "outputs": [
    {
     "name": "stdin",
     "output_type": "stream",
     "text": [
      "enter numbers : 1,2,3,4\n"
     ]
    },
    {
     "name": "stdout",
     "output_type": "stream",
     "text": [
      "odd,even,odd,even,"
     ]
    }
   ],
   "source": [
    "# 97. input = 1,2,3,4,5,6,8,10 output = odd,even,odd,even,odd,even,even,even\n",
    "def fun(l):\n",
    "    for i in l:\n",
    "        if i % 2 == 0:\n",
    "            print(\"even\", end=\",\")\n",
    "        else:\n",
    "            print(\"odd\", end=\",\")\n",
    "\n",
    "l =list(map(int, input(\"enter numbers :\").split(\",\")))\n",
    "fun(l)"
   ]
  },
  {
   "cell_type": "code",
   "execution_count": 47,
   "id": "8facd926-c201-48c1-a1c2-10596e080fb4",
   "metadata": {},
   "outputs": [
    {
     "name": "stdin",
     "output_type": "stream",
     "text": [
      "enter number : 5\n"
     ]
    },
    {
     "name": "stdout",
     "output_type": "stream",
     "text": [
      "111\n",
      "101\n",
      "111\n",
      "101\n",
      "111\n"
     ]
    }
   ],
   "source": [
    "# 98. input n=3\n",
    "# \t\toutput:     111\n",
    "# \t\t101\n",
    "# \t\t111\n",
    "\n",
    "\n",
    "def fun(l):\n",
    "    for i in range(1, l+1):\n",
    "        if i % 2 == 0:\n",
    "            print(\"101\")\n",
    "        else:\n",
    "            print(\"111\")\n",
    "\n",
    "l =input(\"enter number :\")\n",
    "l = int(l)\n",
    "fun(l)"
   ]
  },
  {
   "cell_type": "code",
   "execution_count": 52,
   "id": "724ba992-e535-4ed5-8481-8a69ef3096eb",
   "metadata": {},
   "outputs": [
    {
     "name": "stdin",
     "output_type": "stream",
     "text": [
      "Enter a String : Google\n"
     ]
    },
    {
     "name": "stdout",
     "output_type": "stream",
     "text": [
      "{'g': 2, 'o': 2, 'l': 1, 'e': 1}\n"
     ]
    }
   ],
   "source": [
    "# 99. input: Google\n",
    "#     output: {'g':2,'o':2,'l':1,'e':1} use dictionary comprehension\n",
    "def fun(user_input):\n",
    "    dict_a = {}\n",
    "    for i in user_input:\n",
    "        if i.casefold() in dict_a:\n",
    "            dict_a[i.casefold()] += 1\n",
    "        else:\n",
    "            dict_a[i.casefold()] = 1\n",
    "    print(dict_a)\n",
    "user_input = input(\"Enter a String :\")\n",
    "fun(user_input)"
   ]
  },
  {
   "cell_type": "code",
   "execution_count": 53,
   "id": "68afd333-e8e0-4d38-ba51-6320e6e12721",
   "metadata": {},
   "outputs": [
    {
     "name": "stdout",
     "output_type": "stream",
     "text": [
      "{'k1': 'v1', 'k2': 'v2'}\n"
     ]
    }
   ],
   "source": [
    "# 100. keys=['k1','k2'], values = ['v1','v2'] form a dictionary.\n",
    "def fun():\n",
    "    keys = ['k1', 'k2']\n",
    "    values = ['v1', 'v2']\n",
    "    my_dict = dict(zip(keys, values))\n",
    "    print(my_dict)\n",
    "\n",
    "fun()"
   ]
  },
  {
   "cell_type": "code",
   "execution_count": null,
   "id": "7917f22a-8909-4804-80a0-d368342ac80b",
   "metadata": {},
   "outputs": [],
   "source": [
    "# 101. Sort the list marks = [(\"mohan\", 80), (\"satish\", 90), (\"purnesh\", 40), (\"venkat\", 30)] according to descending order of marks\n"
   ]
  },
  {
   "cell_type": "code",
   "execution_count": null,
   "id": "9565ef72-c175-4d1f-95e5-d80eca4b8106",
   "metadata": {},
   "outputs": [],
   "source": [
    "# 102.write a function to get dynamic list for floating numbers also based on strat and end and step parameters\n"
   ]
  },
  {
   "cell_type": "code",
   "execution_count": 10,
   "id": "faa20160-60a0-432b-b7ab-51eae4337808",
   "metadata": {},
   "outputs": [
    {
     "name": "stdin",
     "output_type": "stream",
     "text": [
      "Enter a number : 1000\n"
     ]
    },
    {
     "name": "stdout",
     "output_type": "stream",
     "text": [
      "[6, 28, 496]\n"
     ]
    }
   ],
   "source": [
    "# 103. find out all perfect numbers in given range\n",
    "def perfect_no(n):\n",
    "    res = []\n",
    "    for i in range(1, n+1):\n",
    "        sum_of = 0\n",
    "        for j in range(1, i):\n",
    "            if i % j == 0:\n",
    "                sum_of += j\n",
    "        if sum_of == i:\n",
    "            res.append(i)\n",
    "    print(res)\n",
    "\n",
    "n = input(\"Enter a number :\")\n",
    "if (int(n)>0):\n",
    "    n = int(n)\n",
    "    perfect_no(n)\n",
    "else:\n",
    "    print(\"Give Positive number\")"
   ]
  },
  {
   "cell_type": "code",
   "execution_count": null,
   "id": "b70fd0ea-edaf-4054-a507-1238f79827a9",
   "metadata": {},
   "outputs": [],
   "source": [
    "# 104. WAP to do all stack operations using lists\n",
    "\n"
   ]
  },
  {
   "cell_type": "code",
   "execution_count": null,
   "id": "62b75b8f-e780-4ee9-87ed-0507b5f5b1cc",
   "metadata": {},
   "outputs": [],
   "source": [
    "# 105.WAP to do all queue operations using lists"
   ]
  },
  {
   "cell_type": "code",
   "execution_count": 11,
   "id": "cb44b985-8356-4c86-934f-2e50ec9f948e",
   "metadata": {},
   "outputs": [
    {
     "name": "stdout",
     "output_type": "stream",
     "text": [
      "AJA@ consulting@ Services, LLP\n"
     ]
    }
   ],
   "source": [
    "# 106. WAP to remove n occurrences of specified element from a list\n",
    "\n",
    "def remove_n_occurances():\n",
    "    list_a = \"AJA, consulting, Services, LLP\"\n",
    "    n = 2\n",
    "    a = list_a.replace(\",\", \"@\", n)\n",
    "    print(a)\n",
    "\n",
    "remove_n_occurances()"
   ]
  },
  {
   "cell_type": "code",
   "execution_count": null,
   "id": "ced896ed-a18c-4af7-a135-fcfb28794c9c",
   "metadata": {},
   "outputs": [],
   "source": [
    "# 107. compare two lists ignore order. i.e return True l1=[1,2,3,4],l2=[4,2,3,1], fun(l1,l2)-> True\n"
   ]
  },
  {
   "cell_type": "code",
   "execution_count": null,
   "id": "58a0c54b-d9f6-4b04-b5f8-6f363afb5a0a",
   "metadata": {},
   "outputs": [],
   "source": [
    "# 108. XOR operation in python."
   ]
  },
  {
   "cell_type": "code",
   "execution_count": 20,
   "id": "fbb5219f-4ef3-491d-a88b-3fcd53107690",
   "metadata": {},
   "outputs": [
    {
     "name": "stdout",
     "output_type": "stream",
     "text": [
      "[2, 3, 4, 5, 6, 2, 2, 3, 4, 5, 2, 9, 7]\n"
     ]
    }
   ],
   "source": [
    "# 109. how to remove all occurrences of the given element in a list\n",
    "def remove_ele():\n",
    "    \n",
    "    l = [1,2,3,4,5,6,1,2,1,2,3,4,5,1,2,1,9,7]\n",
    "    \n",
    "  \n",
    "    res = []\n",
    "    for i in l:\n",
    "        if i != 1:\n",
    "            res.append(i)\n",
    "    \n",
    "    print(res)\n",
    "remove_ele()\n",
    "\n",
    "\n",
    "\n"
   ]
  },
  {
   "cell_type": "code",
   "execution_count": 25,
   "id": "6e5f659f-076b-4fa4-b2df-0c50ede50fb1",
   "metadata": {},
   "outputs": [
    {
     "name": "stdout",
     "output_type": "stream",
     "text": [
      "[2, 3, 4, 5, 6, 2, 2, 3, 4, 5, 1, 2, 1, 9, 7]\n"
     ]
    }
   ],
   "source": [
    "# 110. how to remove first n occurrences of the given element in a list\n",
    "def remove_ele():\n",
    "    \n",
    "    l = [1,2,3,4,5,6,1,2,1,2,3,4,5,1,2,1,9,7]\n",
    "    res = l\n",
    "    n = 3\n",
    "    element = 1\n",
    "    count = 0\n",
    "    for i in l:\n",
    "        if i == element:\n",
    "            res.remove(i)\n",
    "            count += 1\n",
    "            if count == n:\n",
    "                break\n",
    "    \n",
    "    print(res)\n",
    "remove_ele()"
   ]
  },
  {
   "cell_type": "code",
   "execution_count": 26,
   "id": "0f265788-2e60-4400-af5d-a64745b4e07f",
   "metadata": {},
   "outputs": [
    {
     "name": "stdout",
     "output_type": "stream",
     "text": [
      "[1, 2, 3, 4, 5, 6, 1, 2, 2, 3, 4, 5, 2, 9, 7]\n"
     ]
    }
   ],
   "source": [
    "# 111. how to remove last n occurrences of the given element in a list\n",
    "def remove_ele():\n",
    "    \n",
    "    l = [1,2,3,4,5,6,1,2,1,2,3,4,5,1,2,1,9,7]\n",
    "    res = l[::-1]\n",
    "    n = 3\n",
    "    element = 1\n",
    "    count = 0\n",
    "    for i in l:\n",
    "        if i == element:\n",
    "            res.remove(i)\n",
    "            count += 1\n",
    "            if count == n:\n",
    "                break\n",
    "    \n",
    "    print(res[::-1])\n",
    "remove_ele()"
   ]
  },
  {
   "cell_type": "code",
   "execution_count": 30,
   "id": "92a8c13b-c91a-4f7c-bbfd-dcde8ba30557",
   "metadata": {},
   "outputs": [
    {
     "name": "stdout",
     "output_type": "stream",
     "text": [
      "[1, 2, 3, 4, 5, 6, 1, 2, 2, 3, 4, 5, 1, 2, 1, 9, 7]\n"
     ]
    }
   ],
   "source": [
    "# 112. how to remove nth occurrences of the given element in a list\n",
    "def remove_ele():\n",
    "    l = [1,2,3,4,5,6,1,2,1,2,3,4,5,1,2,1,9,7]\n",
    "    res = []\n",
    "    n = 3\n",
    "    element = 1\n",
    "    count = 0\n",
    "    for i in range(len(l)):\n",
    "        if l[i] == element:\n",
    "            count += 1\n",
    "            if count != n:\n",
    "                res.append(l[i])\n",
    "        else:res.append(l[i])\n",
    "    print(res)\n",
    "remove_ele()"
   ]
  },
  {
   "cell_type": "code",
   "execution_count": 42,
   "id": "778bff8a-a27f-46c9-aed0-df7b128068b6",
   "metadata": {},
   "outputs": [
    {
     "name": "stdout",
     "output_type": "stream",
     "text": [
      "[0, 0.1, 0.2, 0.3, 0.4, 0.5, 0.6, 0.7, 0.8, 0.9]\n"
     ]
    }
   ],
   "source": [
    "# 113. WAP to generate list of floats i.e: fun(0,1,0.1), [0,0.1,0.2,0.3,0.4,0.5,0.6,0.7,0.8,0.9]\n",
    "\n",
    "def fun(start, end, step):\n",
    "  result = []\n",
    "  current = start\n",
    "  while current < (end-0.1):\n",
    "    result.append(round(current, 1))\n",
    "    current += step\n",
    "  return result\n",
    "\n",
    "start = 0\n",
    "end = 1\n",
    "step = 0.1\n",
    "float_list = fun(start, end, step)\n",
    "print(float_list)"
   ]
  },
  {
   "cell_type": "code",
   "execution_count": 43,
   "id": "159e0587-e67b-4841-95b7-236535e6a464",
   "metadata": {},
   "outputs": [
    {
     "name": "stdout",
     "output_type": "stream",
     "text": [
      " hello  hello  hello\n"
     ]
    }
   ],
   "source": [
    "# 114. WAP to remove all occurrences of given substring from actual string\n",
    "def remove_substring():\n",
    "    a = \"hi hello hi hello hi hello\"\n",
    "    sub = \"hi\"\n",
    "    res = a.replace(sub, \"\")\n",
    "    print(res)\n",
    "remove_substring()"
   ]
  },
  {
   "cell_type": "code",
   "execution_count": 44,
   "id": "8933deeb-113d-45e1-9fe7-a6bf1483618e",
   "metadata": {},
   "outputs": [
    {
     "name": "stdout",
     "output_type": "stream",
     "text": [
      " hello  hello hi hello\n"
     ]
    }
   ],
   "source": [
    "# 115. WAP to remove first n occurrences of given substring from actual string\n",
    "\n",
    "def remove_substring():\n",
    "    a = \"hi hello hi hello hi hello\"\n",
    "    sub = \"hi\"\n",
    "    res = a.replace(sub, \"\", 2)\n",
    "    print(res)\n",
    "remove_substring()"
   ]
  },
  {
   "cell_type": "code",
   "execution_count": 53,
   "id": "9c2a5061-fc8c-41ed-953a-e04d1f9a00b9",
   "metadata": {},
   "outputs": [
    {
     "name": "stdout",
     "output_type": "stream",
     "text": [
      "hi hello hi hello  hello\n"
     ]
    }
   ],
   "source": [
    "# 116. WAP to remove last n occurrences of given substring from actual string\n",
    "\n",
    "def remove_substring():\n",
    "    a = \"hi hello hi hello hi hello\"\n",
    "    sub = \"hi\"\n",
    "    res = a[::-1].replace(sub[::-1], \"\",1)[::-1]\n",
    "    print(res)\n",
    "remove_substring()"
   ]
  },
  {
   "cell_type": "code",
   "execution_count": 55,
   "id": "af0e7231-f759-45cf-8972-cd6df44383b1",
   "metadata": {},
   "outputs": [
    {
     "name": "stdout",
     "output_type": "stream",
     "text": [
      "hi hello Hey hello Hey hello\n"
     ]
    }
   ],
   "source": [
    "# 117. WAP to replace last n occurrences of given substring with destination string in actual string\n",
    "def remove_substring():\n",
    "    a = \"hi hello hi hello hi hello\"\n",
    "    sub = \"hi\"\n",
    "    res = a[::-1].replace(sub[::-1], \"Hey\"[::-1],2)[::-1]\n",
    "    print(res)\n",
    "remove_substring()"
   ]
  },
  {
   "cell_type": "code",
   "execution_count": 58,
   "id": "3b327215-1ea5-4dc5-8d67-6ac16f513c08",
   "metadata": {},
   "outputs": [
    {
     "name": "stdout",
     "output_type": "stream",
     "text": [
      "hello hello hello hi hi hi\n"
     ]
    }
   ],
   "source": [
    "# 118. WAP to sort the string.\n",
    "def sorting_string():\n",
    "    a = \"hi hello hi hello hi hello\".split()\n",
    "    sub = sorted(a)\n",
    "    res = \" \".join(sub)\n",
    "    print(res)\n",
    "    \n",
    "sorting_string()\n"
   ]
  },
  {
   "cell_type": "code",
   "execution_count": 64,
   "id": "f7dd1977-d5bb-462f-a88c-91bbd0895f77",
   "metadata": {},
   "outputs": [
    {
     "name": "stdin",
     "output_type": "stream",
     "text": [
      "Enter a coma seperated string : 1,2,3,4,5,6,7,8,9\n"
     ]
    },
    {
     "name": "stdout",
     "output_type": "stream",
     "text": [
      "9\n"
     ]
    }
   ],
   "source": [
    "# 119. take a coma separated numbers and find out max number.\n",
    "\n",
    "def sorting_string():\n",
    "    a = list(map(int, input(\"Enter a coma seperated string :\").split(\",\")))\n",
    "    max_of = max(a)\n",
    "    \n",
    "    print(max_of)\n",
    "    \n",
    "sorting_string()"
   ]
  },
  {
   "cell_type": "code",
   "execution_count": null,
   "id": "666fed48-56c0-4bb2-a708-e2d01cb889a2",
   "metadata": {},
   "outputs": [],
   "source": []
  },
  {
   "cell_type": "code",
   "execution_count": null,
   "id": "21e50133-f505-429f-b3d2-578f4add2ec5",
   "metadata": {},
   "outputs": [],
   "source": []
  },
  {
   "cell_type": "code",
   "execution_count": null,
   "id": "2b769d88-89d7-44e0-b4d4-3075f3be33e0",
   "metadata": {},
   "outputs": [],
   "source": []
  },
  {
   "cell_type": "code",
   "execution_count": null,
   "id": "acf77436-1be4-4037-bef6-24d77adb212c",
   "metadata": {},
   "outputs": [],
   "source": []
  },
  {
   "cell_type": "code",
   "execution_count": null,
   "id": "14087a8e-6182-4075-ba3a-f21da24955c2",
   "metadata": {},
   "outputs": [],
   "source": []
  }
 ],
 "metadata": {
  "kernelspec": {
   "display_name": "Python 3 (ipykernel)",
   "language": "python",
   "name": "python3"
  },
  "language_info": {
   "codemirror_mode": {
    "name": "ipython",
    "version": 3
   },
   "file_extension": ".py",
   "mimetype": "text/x-python",
   "name": "python",
   "nbconvert_exporter": "python",
   "pygments_lexer": "ipython3",
   "version": "3.12.4"
  }
 },
 "nbformat": 4,
 "nbformat_minor": 5
}
