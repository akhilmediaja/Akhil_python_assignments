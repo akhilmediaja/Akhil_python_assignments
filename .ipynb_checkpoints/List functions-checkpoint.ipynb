{
 "cells": [
  {
   "cell_type": "code",
   "execution_count": 1,
   "id": "4b15e129-0beb-4d61-99d8-21d4d168eddb",
   "metadata": {},
   "outputs": [
    {
     "name": "stdout",
     "output_type": "stream",
     "text": [
      "1000 1231634958512\n",
      "2000 1231634958864\n",
      "pyhton 1231634951376\n",
      "p 140708113626072\n",
      "y 140708113626504\n",
      "h 140708113625688\n",
      "t 140708113626264\n",
      "o 140708113626024\n",
      "n 140708113625976\n",
      "[3000, 4000, 1000, 2000, 'pyhton'] 1231635182656\n",
      "3000 1231634958736\n",
      "4000 1231634958800\n",
      "1000 1231634958512\n",
      "2000 1231634958864\n",
      "pyhton 1231634951376\n",
      "[3000, 4000, 1000, 2000, 'pyhton'] 1231635182656\n",
      "3000 1231634958736\n",
      "4000 1231634958800\n",
      "1000 1231634958512\n",
      "2000 1231634958864\n",
      "pyhton 1231634951376\n",
      "5000 1231634958992\n",
      "[3000, 5000, 1000, 2000, 'pyhton']\n",
      "[3000, 5000, 1000, 2000, 'pyhton']\n"
     ]
    }
   ],
   "source": [
    "a = 1000\n",
    "print(a, id(a))\n",
    "b = 2000\n",
    "print(b, id(b))\n",
    "s = \"pyhton\"\n",
    "print(s, id(s))\n",
    "print(s[0], id(s[0]))\n",
    "print(s[1], id(s[1]))\n",
    "print(s[2], id(s[2]))\n",
    "print(s[3], id(s[3]))\n",
    "print(s[4], id(s[4]))\n",
    "print(s[5], id(s[5]))\n",
    "\n",
    "l = [3000, 4000, a, b,s ]\n",
    "print(l, id(l))\n",
    "print(l[0], id(l[0]))\n",
    "print(l[1], id(l[1]))\n",
    "print(l[2], id(l[2]))\n",
    "print(l[3], id(l[3]))\n",
    "print(l[4], id(l[4]))\n",
    "\n",
    "k = l\n",
    "print(k, id(l))\n",
    "print(k[0], id(k[0]))\n",
    "print(k[1], id(k[1]))\n",
    "print(k[2], id(k[2]))\n",
    "print(k[3], id(k[3]))\n",
    "print(k[4], id(k[4]))\n",
    "k[1] = 5000\n",
    "print(k[1], id(k[1]))\n",
    "print(l)\n",
    "print(k)"
   ]
  },
  {
   "cell_type": "code",
   "execution_count": 2,
   "id": "1388cd1e-ecd2-42b3-b5bb-60979ee43c01",
   "metadata": {},
   "outputs": [
    {
     "name": "stdout",
     "output_type": "stream",
     "text": [
      "['__add__', '__class__', '__class_getitem__', '__contains__', '__delattr__', '__delitem__', '__dir__', '__doc__', '__eq__', '__format__', '__ge__', '__getattribute__', '__getitem__', '__getstate__', '__gt__', '__hash__', '__iadd__', '__imul__', '__init__', '__init_subclass__', '__iter__', '__le__', '__len__', '__lt__', '__mul__', '__ne__', '__new__', '__reduce__', '__reduce_ex__', '__repr__', '__reversed__', '__rmul__', '__setattr__', '__setitem__', '__sizeof__', '__str__', '__subclasshook__', 'append', 'clear', 'copy', 'count', 'extend', 'index', 'insert', 'pop', 'remove', 'reverse', 'sort']\n",
      "[3000, 5000, 1000, 2000, 'pyhton']\n",
      "[3000, 5000, 1000, 2000, 'pyhton']\n"
     ]
    }
   ],
   "source": [
    "a = 1000\n",
    "b = 2000\n",
    "s = \"pyhton\"\n",
    "l = [3000, 4000, a, b,s ]\n",
    "print(dir(l))\n",
    "k = l\n",
    "k[1] = 5000\n",
    "print(l)\n",
    "print(k)"
   ]
  },
  {
   "cell_type": "code",
   "execution_count": 1,
   "id": "395560ab-5098-4199-9935-c98cfd76dfa9",
   "metadata": {},
   "outputs": [
    {
     "name": "stdout",
     "output_type": "stream",
     "text": [
      "[1, 2, 3, 4]\n"
     ]
    }
   ],
   "source": [
    "my_list = [1, 2, 3]\n",
    "my_list.append(4)\n",
    "print(my_list)"
   ]
  },
  {
   "cell_type": "code",
   "execution_count": 2,
   "id": "4c710fa4-ee38-42d4-beae-daed54d5ec61",
   "metadata": {},
   "outputs": [
    {
     "name": "stdout",
     "output_type": "stream",
     "text": [
      "[]\n"
     ]
    }
   ],
   "source": [
    "my_list = [1, 2, 3]\n",
    "my_list.clear()\n",
    "print(my_list)"
   ]
  },
  {
   "cell_type": "code",
   "execution_count": 7,
   "id": "30817f6f-4631-4233-b859-a40a68f6068f",
   "metadata": {},
   "outputs": [
    {
     "name": "stdout",
     "output_type": "stream",
     "text": [
      "2165798253184\n",
      "[1, 2, 3, 10] [1, 2, 3]\n"
     ]
    }
   ],
   "source": [
    "my_list = [1, 2, 3]\n",
    "print(id(my_list))\n",
    "new_list = my_list.copy()\n",
    "new_list.append(10)\n",
    "print(new_list, my_list)"
   ]
  },
  {
   "cell_type": "code",
   "execution_count": 4,
   "id": "348b8540-8726-443e-869c-9045c26da5ed",
   "metadata": {},
   "outputs": [
    {
     "name": "stdout",
     "output_type": "stream",
     "text": [
      "2\n"
     ]
    }
   ],
   "source": [
    "my_list = [1, 2, 2, 3]\n",
    "count_2 = my_list.count(2)\n",
    "print(count_2)\n"
   ]
  },
  {
   "cell_type": "code",
   "execution_count": 10,
   "id": "e7ca25ca-e587-4b32-a5ae-aafaa94ebfce",
   "metadata": {},
   "outputs": [
    {
     "name": "stdout",
     "output_type": "stream",
     "text": [
      "[1, 2, 3, [4, 5], [5, 6], '\"hh\":12']\n"
     ]
    }
   ],
   "source": [
    "my_list = [1, 2, 3]\n",
    "my_list.extend([[4, 5], [5,6]])\n",
    "my_list.extend(('\"hh\":12',))\n",
    "print(my_list)\n"
   ]
  },
  {
   "cell_type": "code",
   "execution_count": 6,
   "id": "10dd3072-952f-458d-bec9-767521cb67c0",
   "metadata": {},
   "outputs": [
    {
     "name": "stdout",
     "output_type": "stream",
     "text": [
      "1\n"
     ]
    }
   ],
   "source": [
    "\n",
    "my_list = [1, 2, 3]\n",
    "index_2 = my_list.index(2)\n",
    "print(index_2)"
   ]
  },
  {
   "cell_type": "code",
   "execution_count": 18,
   "id": "a1f236e8-002f-4188-8346-b85275f73027",
   "metadata": {},
   "outputs": [
    {
     "name": "stdout",
     "output_type": "stream",
     "text": [
      "[1, 3, 2, 4]\n"
     ]
    }
   ],
   "source": [
    "my_list = [1, 2, 4]\n",
    "my_list.insert(-2, 3)  \n",
    "print(my_list)"
   ]
  },
  {
   "cell_type": "code",
   "execution_count": 8,
   "id": "99ff1e5b-2e43-44b4-9f86-dd02253197a1",
   "metadata": {},
   "outputs": [
    {
     "name": "stdout",
     "output_type": "stream",
     "text": [
      "[1, 3, 2]\n"
     ]
    }
   ],
   "source": [
    "my_list = [1, 2, 3, 2]\n",
    "my_list.remove(2)\n",
    "print(my_list) "
   ]
  },
  {
   "cell_type": "code",
   "execution_count": 9,
   "id": "49196d21-a7c2-460f-a2ec-e08e0aec83f5",
   "metadata": {},
   "outputs": [
    {
     "name": "stdout",
     "output_type": "stream",
     "text": [
      "[3, 2, 1]\n"
     ]
    }
   ],
   "source": [
    "my_list = [1, 2, 3]\n",
    "my_list.reverse()\n",
    "print(my_list)"
   ]
  },
  {
   "cell_type": "code",
   "execution_count": 10,
   "id": "71ae4fc4-b586-46ec-ae7e-0f5a157fa139",
   "metadata": {},
   "outputs": [
    {
     "name": "stdout",
     "output_type": "stream",
     "text": [
      "[1, 2, 3]\n",
      "[3, 2, 1]\n"
     ]
    }
   ],
   "source": [
    "\n",
    "my_list = [3, 1, 2]\n",
    "my_list.sort()\n",
    "print(my_list)\n",
    "\n",
    "\n",
    "my_list.sort(reverse=True)\n",
    "print(my_list) "
   ]
  },
  {
   "cell_type": "code",
   "execution_count": 3,
   "id": "6d1e87ed-13c4-4f42-ae7e-6113f54fcb11",
   "metadata": {},
   "outputs": [
    {
     "name": "stdout",
     "output_type": "stream",
     "text": [
      "None\n",
      "[1, 2, 3, 4, 5]\n"
     ]
    }
   ],
   "source": [
    "l = [1,2,3,4]\n",
    "k = l.append(5)\n",
    "print(k)\n",
    "print(l)"
   ]
  },
  {
   "cell_type": "code",
   "execution_count": 11,
   "id": "3916bc75-605c-4a0b-a8c7-742e0d9127d1",
   "metadata": {},
   "outputs": [
    {
     "name": "stdout",
     "output_type": "stream",
     "text": [
      "@ 140729032387288\n",
      "a 140729032388872\n",
      "b 140729032388920\n",
      "b 140729032388920\n",
      "c 140729032388968\n",
      "c 140729032388968\n",
      "d 140729032389016\n",
      "d 140729032389016\n",
      "abcd @bcd @ 140729032387288\n"
     ]
    }
   ],
   "source": [
    "s = \"abcd\"\n",
    "\n",
    "\n",
    "\n",
    "\n",
    "s1 = s.replace(\"a\", \"@\")\n",
    "print(s1[0], id(s1[0]))\n",
    "print(s[0], id(s[0]))\n",
    "print(s1[1], id(s1[1]))\n",
    "print(s[1], id(s[1]))\n",
    "print(s1[2], id(s1[2]))\n",
    "print(s[2], id(s[2]))\n",
    "print(s1[3], id(s1[3]))\n",
    "print(s[3], id(s[3]))\n",
    "print(s, s1, s1[0], id(s1[0]))"
   ]
  },
  {
   "cell_type": "code",
   "execution_count": 12,
   "id": "653d8ec7-347f-4b11-aba7-17adcf3f6303",
   "metadata": {},
   "outputs": [
    {
     "name": "stdout",
     "output_type": "stream",
     "text": [
      "None\n"
     ]
    }
   ],
   "source": [
    "l = [\"a\", \"b\", \"c\", \"d\"]\n",
    "c = l.remove(\"b\")\n",
    "print(c)"
   ]
  },
  {
   "cell_type": "code",
   "execution_count": 20,
   "id": "62bb51b7-e5fd-42fc-8df4-b7dda9d64953",
   "metadata": {},
   "outputs": [
    {
     "name": "stdout",
     "output_type": "stream",
     "text": [
      "['ABC', 'abc', 'def', 'GHI']\n"
     ]
    }
   ],
   "source": [
    "words = ['ABC', 'GHI', 'abc', \"def\"]\n",
    "sorted_words = sorted(words, key=lambda x: x.lower())\n",
    "print(sorted_words)  \n"
   ]
  },
  {
   "cell_type": "code",
   "execution_count": 10,
   "id": "38bf7e4b-3214-4c33-b40c-c1963709c9d7",
   "metadata": {},
   "outputs": [
    {
     "ename": "ValueError",
     "evalue": "dictionary update sequence element #0 has length 5; 2 is required",
     "output_type": "error",
     "traceback": [
      "\u001b[1;31m---------------------------------------------------------------------------\u001b[0m",
      "\u001b[1;31mValueError\u001b[0m                                Traceback (most recent call last)",
      "Cell \u001b[1;32mIn[10], line 3\u001b[0m\n\u001b[0;32m      1\u001b[0m l \u001b[38;5;241m=\u001b[39m [\u001b[38;5;241m1\u001b[39m,\u001b[38;5;241m2\u001b[39m,\u001b[38;5;241m3\u001b[39m,\u001b[38;5;241m4\u001b[39m,\u001b[38;5;241m5\u001b[39m,{\u001b[38;5;241m3\u001b[39m,\u001b[38;5;241m5\u001b[39m,\u001b[38;5;241m3\u001b[39m},\u001b[38;5;241m3\u001b[39m,\u001b[38;5;241m6\u001b[39m,\u001b[38;5;241m3\u001b[39m,\u001b[38;5;241m6\u001b[39m,\u001b[38;5;241m7\u001b[39m,\u001b[38;5;241m3\u001b[39m,\u001b[38;5;241m9\u001b[39m,\u001b[38;5;241m3\u001b[39m]\n\u001b[0;32m      2\u001b[0m l \u001b[38;5;241m=\u001b[39m [\u001b[38;5;124m'\u001b[39m\u001b[38;5;124ma\u001b[39m\u001b[38;5;124m\"\u001b[39m\u001b[38;5;124m:12\u001b[39m\u001b[38;5;124m'\u001b[39m, \u001b[38;5;124m'\u001b[39m\u001b[38;5;124mb\u001b[39m\u001b[38;5;124m\"\u001b[39m\u001b[38;5;124m:13\u001b[39m\u001b[38;5;124m'\u001b[39m]\n\u001b[1;32m----> 3\u001b[0m a \u001b[38;5;241m=\u001b[39m \u001b[38;5;28mdict\u001b[39m(l)\n\u001b[0;32m      4\u001b[0m a\n",
      "\u001b[1;31mValueError\u001b[0m: dictionary update sequence element #0 has length 5; 2 is required"
     ]
    }
   ],
   "source": [
    "# l = [1,2,3,4,5,{3,5,3},3,6,3,6,7,3,9,3]\n",
    "# l = ['a\":12', 'b\":13']\n",
    "# a = dict(l)\n",
    "# a"
   ]
  },
  {
   "cell_type": "code",
   "execution_count": 3,
   "id": "74b0f9c4-e15b-45d5-8a95-08dbfa001b0b",
   "metadata": {},
   "outputs": [
    {
     "name": "stdout",
     "output_type": "stream",
     "text": [
      "2165793979136 [1, 2, 3, 4, 5, 3, 6, 3, 6, 7, 3, 9, 3, 3, 3, 3, 3, 3, 3, 3, 3, 3, 3, 3, 3, 3, 3, 3, 3, 3, 3, 3, 3, 3, 3, 3]\n",
      "2165793979136 [1, 2, 4, 5, 6, 6, 7, 9]\n"
     ]
    }
   ],
   "source": [
    "l = [1,2,3,4,5,3,6,3,6,7,3,9,3,3,3,3,3,3,3,3,3,3,3,3,3,3,3,3,3,3,3,3,3,3,3,3,]\n",
    "print(id(l), l)\n",
    "def fun(a):\n",
    "    return[x for x in a if x!=3]\n",
    "l[:] = fun(l)\n",
    "print(id(l), l)"
   ]
  },
  {
   "cell_type": "code",
   "execution_count": 1,
   "id": "d9b87e4f-b00c-4961-b4e3-61f57fca6dce",
   "metadata": {},
   "outputs": [
    {
     "name": "stdout",
     "output_type": "stream",
     "text": [
      "2165793979136 [1, 2, 3, 4, 5, 3, 6, 3, 6, 7, 3, 9, 3, 3, 3, 3, 3, 3, 3, 3, 3, 3, 3, 3, 3, 3, 3, 3, 3, 3, 3, 3, 3, 3, 3, 3]\n",
      "2165793979136 [1, 2, 4, 5, 6, 6, 7, 9]\n"
     ]
    }
   ],
   "source": [
    "\n",
    "l = [1,2,3,4,5,3,6,3,6,7,3,9,3,3,3,3,3,3,3,3,3,3,3,3,3,3,3,3,3,3,3,3,3,3,3,3]\n",
    "print(id(l), l)\n",
    "l[:] = [x for x in l if x!=3]\n",
    "print(id(l), l)"
   ]
  },
  {
   "cell_type": "code",
   "execution_count": 3,
   "id": "f6b20113-53fd-49f5-a524-1e386283c5c0",
   "metadata": {},
   "outputs": [
    {
     "name": "stdout",
     "output_type": "stream",
     "text": [
      "2684598363584 [1000, 2000, 3000, [4000, 5000, 6000], 7000, 8000, 'Python', (100, 200, 300)]\n",
      "2684598363584 [1000, 2000, 3000, [4000, 5000, 6000], 7000, 8000, 'Python', (100, 200, 300)]\n",
      "2684598369472 [1000, 2000, 3000, [4000, 5000, 6000], 7000, 8000, 'Python', (100, 200, 300)]\n",
      "2684598367104 [1000, 2000, 3000, [4000, 5000, 6000], 7000, 8000, 'Python', (100, 200, 300)]\n",
      "2684598366976 [1000, 2000, 3000, [4000, 5000, 6000], 7000, 8000, 'Python', (100, 200, 300)]\n",
      "2684598408640 (100, 200, 300)\n",
      "2684598408640 (100, 200, 300)\n",
      "2684597451696 2684597451696\n"
     ]
    }
   ],
   "source": [
    "from copy import deepcopy\n",
    "k = [4000, 5000, 6000]\n",
    "l = [1000, 2000, 3000, k, 7000, 8000 , \"Python\", (100, 200, 300)]\n",
    "p = l\n",
    "m = l.copy()\n",
    "n = l[::]\n",
    "q = deepcopy(l)\n",
    "print(id(l), l)\n",
    "print(id(p), p)\n",
    "print(id(m), m)\n",
    "print(id(n), n)\n",
    "print(id(q), q)\n",
    "print(id(q[-1]), q[-1])\n",
    "print(id(m[-1]), m[-1])\n",
    "print(id(k[0]), id(q[3][0]))\n",
    "\n"
   ]
  },
  {
   "cell_type": "code",
   "execution_count": 4,
   "id": "a4b5815d-afd3-42dd-8479-6948226a7646",
   "metadata": {},
   "outputs": [
    {
     "name": "stdout",
     "output_type": "stream",
     "text": [
      "[1, 2, 4, 5, 6, 6, 7, 9]\n"
     ]
    }
   ],
   "source": [
    "\n",
    "l = [1,2,3,4,5,3,6,3,6,7,3,9,3,3,3,3,3,3,3,3,3,3,3,3,3,3,3,3,3,3,3,3,3,3,3,3]\n",
    "while l.count(3)>0:\n",
    "    l.remove(3)\n",
    "print(l)"
   ]
  },
  {
   "cell_type": "code",
   "execution_count": 5,
   "id": "df0c9fb5-d413-4683-aa1b-b1948cfacb09",
   "metadata": {},
   "outputs": [
    {
     "name": "stdout",
     "output_type": "stream",
     "text": [
      "Hi\n",
      "Hi\n",
      "Hi\n",
      "Hi\n",
      "Hi\n"
     ]
    }
   ],
   "source": [
    "c = 0\n",
    "while c < 5:\n",
    "    print(\"Hi\")\n",
    "    c = c+ 1\n",
    "\n"
   ]
  },
  {
   "cell_type": "code",
   "execution_count": null,
   "id": "fc1987b4-d3bf-4d91-98f1-ef6d0cdb1fb5",
   "metadata": {},
   "outputs": [],
   "source": []
  }
 ],
 "metadata": {
  "kernelspec": {
   "display_name": "Python 3 (ipykernel)",
   "language": "python",
   "name": "python3"
  },
  "language_info": {
   "codemirror_mode": {
    "name": "ipython",
    "version": 3
   },
   "file_extension": ".py",
   "mimetype": "text/x-python",
   "name": "python",
   "nbconvert_exporter": "python",
   "pygments_lexer": "ipython3",
   "version": "3.12.4"
  }
 },
 "nbformat": 4,
 "nbformat_minor": 5
}
