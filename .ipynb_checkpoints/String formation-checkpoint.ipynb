{
 "cells": [
  {
   "cell_type": "code",
   "execution_count": 5,
   "id": "687455b9-23ec-4f5b-81e0-44737f4e1aa2",
   "metadata": {},
   "outputs": [
    {
     "name": "stdin",
     "output_type": "stream",
     "text": [
      "Enter Customer Name: 15\n"
     ]
    },
    {
     "name": "stdout",
     "output_type": "stream",
     "text": [
      "The 15\n"
     ]
    }
   ],
   "source": [
    "# The Anil kumar a very good customer, \n",
    "# bought 3045 sales order our portal. We got 20000 \n",
    "# profit because of ANIL KUMAR\n",
    "\n",
    "customer_name = input(\"Enter Customer Name:\" )\n",
    "# no_of_sales_orders = input(\"Enter sales orders:\")\n",
    "# profit = input(\"enter profit: \" )\n",
    "s = \"The \" + customer_name \n",
    "print(s)"
   ]
  },
  {
   "cell_type": "code",
   "execution_count": 7,
   "id": "fcead6eb-d56d-45ec-95b7-3f54c87c84ee",
   "metadata": {},
   "outputs": [
    {
     "name": "stdin",
     "output_type": "stream",
     "text": [
      "Enter Customer Name: 156\n",
      "Enter sales orders: 15\n"
     ]
    },
    {
     "name": "stdout",
     "output_type": "stream",
     "text": [
      "The 156 a very good customer, bought 15  sales order our portal. We got  \n"
     ]
    }
   ],
   "source": [
    "# The Anil kumar a very good customer, \n",
    "# bought 3045 sales order our portal. We got 20000 \n",
    "# profit because of ANIL KUMAR\n",
    "\n",
    "customer_name = input(\"Enter Customer Name:\" )\n",
    "\n",
    "no_of_sales_orders = input(\"Enter sales orders:\")\n",
    "# profit = input(\"enter profit: \" )\n",
    "s = \"The \" + customer_name + \" a very good customer, bought \" + no_of_sales_orders + \"  sales order our portal. We got  \" \n",
    "print(s)"
   ]
  },
  {
   "cell_type": "code",
   "execution_count": 8,
   "id": "610ee1f0-55e8-4e09-875f-26aac94d641b",
   "metadata": {},
   "outputs": [
    {
     "name": "stdin",
     "output_type": "stream",
     "text": [
      "Enter Customer Name: akhil\n",
      "Enter sales orders: 180\n",
      "enter profit:  159\n"
     ]
    },
    {
     "name": "stdout",
     "output_type": "stream",
     "text": [
      "The akhil a very good customer, bought 180  sales order our portal. We got  159 profit because of ANIL KUMAR.\n"
     ]
    }
   ],
   "source": [
    "# The Anil kumar a very good customer, \n",
    "# bought 3045 sales order our portal. We got 20000 \n",
    "# profit because of ANIL KUMAR\n",
    "\n",
    "customer_name = input(\"Enter Customer Name:\" )\n",
    "no_of_sales_orders = input(\"Enter sales orders:\")\n",
    "profit = input(\"enter profit: \" )\n",
    "s = \"The \" + customer_name + \" a very good customer, bought \" + no_of_sales_orders + \"  sales order our portal. We got  \" + profit + \" profit because of\"\n",
    "print(s)"
   ]
  },
  {
   "cell_type": "code",
   "execution_count": 9,
   "id": "29fcb205-e9cc-4369-87d6-2efd6f6ad8f5",
   "metadata": {},
   "outputs": [
    {
     "name": "stdin",
     "output_type": "stream",
     "text": [
      "Enter Customer Name: akhil\n",
      "Enter sales orders: ffgfhfshfdjh\n",
      "enter profit:  afajasgfkxgvfdaj\n"
     ]
    },
    {
     "name": "stdout",
     "output_type": "stream",
     "text": [
      "The akhil a very good customer, bought ffgfhfshfdjh  sales order our portal. We got  afajasgfkxgvfdaj profit because ofakhil\n"
     ]
    }
   ],
   "source": [
    "# The Anil kumar a very good customer, \n",
    "# bought 3045 sales order our portal. We got 20000 \n",
    "# profit because of ANIL KUMAR\n",
    "\n",
    "customer_name = input(\"Enter Customer Name:\" )\n",
    "no_of_sales_orders = input(\"Enter sales orders:\")\n",
    "profit = input(\"enter profit: \" )\n",
    "s = \"The \" + customer_name + \" a very good customer, bought \" + no_of_sales_orders + \"  sales order our portal. We got  \" + profit + \" profit because of\" + customer_name\n",
    "print(s)"
   ]
  },
  {
   "cell_type": "code",
   "execution_count": 11,
   "id": "1c1c0bea-959f-4494-8fe8-9cd006280f67",
   "metadata": {},
   "outputs": [
    {
     "name": "stdin",
     "output_type": "stream",
     "text": [
      "Enter Customer Name: ghjdgf\n",
      "Enter sales orders: djgfhdhgf\n",
      "enter profit:  gddfdjhgfdjh\n"
     ]
    },
    {
     "name": "stdout",
     "output_type": "stream",
     "text": [
      "The ghjdgf a very good customer, bought djgfhdhgf  sales order our portal. We got  gddfdjhgfdjh profit because ofghjdgf\n"
     ]
    }
   ],
   "source": [
    "# The Anil kumar a very good customer, \n",
    "# bought 3045 sales order our portal. We got 20000 \n",
    "# profit because of ANIL KUMAR\n",
    "\n",
    "customer_name = input(\"Enter Customer Name:\" )\n",
    "no_of_sales_orders = input(\"Enter sales orders:\")\n",
    "profit = input(\"enter profit: \" )\n",
    "s = \"The \" + customer_name + \" a very good customer, bought \" + no_of_sales_orders + \"  sales order our portal. We got  \" + profit + \" profit because of\" + customer_name\n",
    "print(s)"
   ]
  },
  {
   "cell_type": "code",
   "execution_count": 4,
   "id": "d7f0e4d6-2e69-4d12-bf91-14a94411501c",
   "metadata": {},
   "outputs": [
    {
     "name": "stdout",
     "output_type": "stream",
     "text": [
      "The product cost : 1000\n"
     ]
    }
   ],
   "source": [
    "a = 1000\n",
    "print(f\"The product cost : {a}\")"
   ]
  },
  {
   "cell_type": "code",
   "execution_count": 5,
   "id": "3274837f-2809-4b04-a278-8d0e2a93fa09",
   "metadata": {},
   "outputs": [
    {
     "name": "stdout",
     "output_type": "stream",
     "text": [
      "The product cost : 3000\n"
     ]
    }
   ],
   "source": [
    "a = 1000\n",
    "b = 2000\n",
    "print(f\"The product cost : {a + b}\")"
   ]
  },
  {
   "cell_type": "code",
   "execution_count": 7,
   "id": "c86297f5-f5eb-437b-b7db-55cccdb95a99",
   "metadata": {},
   "outputs": [
    {
     "name": "stdout",
     "output_type": "stream",
     "text": [
      "The product cost 123.456\n"
     ]
    }
   ],
   "source": [
    "a = 123.456\n",
    "print(f\"The product cost {a}\")"
   ]
  },
  {
   "cell_type": "code",
   "execution_count": 9,
   "id": "4fb7719f-511a-4838-b792-b3eebaebe2de",
   "metadata": {},
   "outputs": [
    {
     "name": "stdout",
     "output_type": "stream",
     "text": [
      "The product cost 123\n"
     ]
    }
   ],
   "source": [
    "a = 123.456\n",
    "print(f\"The product cost {int(a)}\")"
   ]
  },
  {
   "cell_type": "code",
   "execution_count": 13,
   "id": "4cbc84c3-3810-494a-a078-3030b4b5d210",
   "metadata": {},
   "outputs": [
    {
     "name": "stdout",
     "output_type": "stream",
     "text": [
      "The product cost  123.456000\n"
     ]
    }
   ],
   "source": [
    "a = 123.456\n",
    "print(f\"The product cost {a: f}\")"
   ]
  },
  {
   "cell_type": "code",
   "execution_count": 15,
   "id": "648a5a8a-42d0-4ef4-8e23-43881acd588a",
   "metadata": {},
   "outputs": [
    {
     "name": "stdout",
     "output_type": "stream",
     "text": [
      "The product cost  123.4560\n"
     ]
    }
   ],
   "source": [
    "a = 123.456\n",
    "print(f\"The product cost {a: .4f}\")"
   ]
  },
  {
   "cell_type": "code",
   "execution_count": 14,
   "id": "377aa74c-52b4-4f22-970a-d251fbbc4ec9",
   "metadata": {},
   "outputs": [
    {
     "name": "stdout",
     "output_type": "stream",
     "text": [
      "The product cost  123.46\n"
     ]
    }
   ],
   "source": [
    "a = 123.456\n",
    "print(f\"The product cost {a: .2f}\")"
   ]
  },
  {
   "cell_type": "code",
   "execution_count": 16,
   "id": "cecf99ba-70d8-45fa-9b4a-da1122d3dc4d",
   "metadata": {},
   "outputs": [
    {
     "name": "stdout",
     "output_type": "stream",
     "text": [
      "The product cost  123.5\n"
     ]
    }
   ],
   "source": [
    "a = 123.456\n",
    "print(f\"The product cost {a: .1f}\")"
   ]
  },
  {
   "cell_type": "code",
   "execution_count": 17,
   "id": "e9b4b2b2-7915-4e80-a6e6-ad06174a97e9",
   "metadata": {},
   "outputs": [],
   "source": [
    "# format Specifiers :  %s, %d, %r, %f"
   ]
  },
  {
   "cell_type": "code",
   "execution_count": 18,
   "id": "9ba3bcd8-36c7-4aa2-bccb-778e92b7323b",
   "metadata": {},
   "outputs": [
    {
     "name": "stdout",
     "output_type": "stream",
     "text": [
      "The product cost %s\n"
     ]
    }
   ],
   "source": [
    "a = 123.456789101123456789\n",
    "print(\"The product cost %s\")"
   ]
  },
  {
   "cell_type": "code",
   "execution_count": 19,
   "id": "725433e8-6cf0-41b7-88d9-29f14e28d080",
   "metadata": {},
   "outputs": [
    {
     "name": "stdout",
     "output_type": "stream",
     "text": [
      "The product cost %s 123.45678910112346\n"
     ]
    }
   ],
   "source": [
    "a = 123.456789101123456789\n",
    "print(\"The product cost %s\", a\n",
    "     )"
   ]
  },
  {
   "cell_type": "code",
   "execution_count": 19,
   "id": "ef44b42a-7e14-418a-a461-497c3fa7b15c",
   "metadata": {},
   "outputs": [
    {
     "name": "stdout",
     "output_type": "stream",
     "text": [
      "The product cost %s 123.45678910112346\n"
     ]
    }
   ],
   "source": [
    "a = 123.456789101123456789\n",
    "print(\"The product cost %s\", a)"
   ]
  },
  {
   "cell_type": "code",
   "execution_count": 21,
   "id": "bb632dce-82f4-4940-b87d-3203e27a571f",
   "metadata": {},
   "outputs": [
    {
     "name": "stdout",
     "output_type": "stream",
     "text": [
      "The product cost 123.45678910112346\n"
     ]
    }
   ],
   "source": [
    "a = 123.456789101123456789\n",
    "print(\"The product cost %s\"%a)"
   ]
  },
  {
   "cell_type": "code",
   "execution_count": 22,
   "id": "f1394a8a-8ecb-4031-98e4-23ef60eecc95",
   "metadata": {},
   "outputs": [
    {
     "name": "stdout",
     "output_type": "stream",
     "text": [
      "The product cost 123\n"
     ]
    }
   ],
   "source": [
    "a = 123.456789101123456789\n",
    "print(\"The product cost %d\"%a)"
   ]
  },
  {
   "cell_type": "code",
   "execution_count": 23,
   "id": "e9f16b6a-fb91-46d4-abe1-a6e06c245cd7",
   "metadata": {},
   "outputs": [
    {
     "name": "stdout",
     "output_type": "stream",
     "text": [
      "The product cost 123.45678910112346\n"
     ]
    }
   ],
   "source": [
    "a = 123.456789101123456789\n",
    "print(\"The product cost %r\"%a)"
   ]
  },
  {
   "cell_type": "code",
   "execution_count": 26,
   "id": "c9df5223-36fe-45cb-a882-c6fa8aa6e0ad",
   "metadata": {},
   "outputs": [
    {
     "name": "stdout",
     "output_type": "stream",
     "text": [
      "The product cost 123.456783\n"
     ]
    }
   ],
   "source": [
    "a = 123.4567834101123456789\n",
    "print(\"The product cost %f\"%a)"
   ]
  },
  {
   "cell_type": "code",
   "execution_count": 27,
   "id": "16d10036-83da-40ab-9b26-09334d366382",
   "metadata": {},
   "outputs": [
    {
     "name": "stdout",
     "output_type": "stream",
     "text": [
      "fdfdfdff \n",
      " dfdfdfdfdfd \t fdfdfdf\n"
     ]
    }
   ],
   "source": [
    "# special \\\\  \\n \\t \n",
    "print(\"fdfdfdff \\n dfdfdfdfdfd \\t fdfdfdf\")"
   ]
  },
  {
   "cell_type": "code",
   "execution_count": 28,
   "id": "75749dd3-d3d9-411f-b729-36c51a166b8d",
   "metadata": {},
   "outputs": [
    {
     "name": "stdout",
     "output_type": "stream",
     "text": [
      "fdfdfdff \\n dfdfdfdfdfd \\t fdfdfdf\n"
     ]
    }
   ],
   "source": [
    "# special \\\\  \\n \\t \n",
    "print(r\"fdfdfdff \\n dfdfdfdfdfd \\t fdfdfdf\") # r in this cell"
   ]
  },
  {
   "cell_type": "code",
   "execution_count": 30,
   "id": "90f3fcea-d966-48b8-b7c8-163e5ed721f3",
   "metadata": {},
   "outputs": [
    {
     "name": "stdout",
     "output_type": "stream",
     "text": [
      "fdfdfdff \\n dfdfdfdfdfd \\t fdfdfdf\n"
     ]
    }
   ],
   "source": [
    "# special \\\\  \\n \\t \n",
    "print(\"fdfdfdff \\\\n dfdfdfdfdfd \\\\t fdfdfdf\") # no r in this cell"
   ]
  },
  {
   "cell_type": "code",
   "execution_count": 32,
   "id": "496a5ec8-70ba-4331-bf1d-56ceca1992ff",
   "metadata": {},
   "outputs": [
    {
     "name": "stdout",
     "output_type": "stream",
     "text": [
      "akhil\n",
      "medi\n"
     ]
    }
   ],
   "source": [
    "print(\"akhil\\nmedi\")"
   ]
  },
  {
   "cell_type": "code",
   "execution_count": 33,
   "id": "53616fe7-5122-4d7f-a2e3-843ff4b3530d",
   "metadata": {},
   "outputs": [
    {
     "name": "stdout",
     "output_type": "stream",
     "text": [
      "akhil\\nmedi\n"
     ]
    }
   ],
   "source": [
    "print(r\"akhil\\nmedi\")"
   ]
  },
  {
   "cell_type": "code",
   "execution_count": 34,
   "id": "c920290e-93d0-4743-82b8-5047991e8d25",
   "metadata": {},
   "outputs": [
    {
     "name": "stdout",
     "output_type": "stream",
     "text": [
      "akhil\\nmedi\n"
     ]
    }
   ],
   "source": [
    "print(\"akhil\\\\nmedi\")"
   ]
  },
  {
   "cell_type": "code",
   "execution_count": 35,
   "id": "ed9d1830-ff2b-4d4f-9e00-a7ee9d09848a",
   "metadata": {},
   "outputs": [
    {
     "name": "stdout",
     "output_type": "stream",
     "text": [
      "11\n"
     ]
    }
   ],
   "source": [
    "print(len(\"akhil\\\\nmedi\"))"
   ]
  },
  {
   "cell_type": "code",
   "execution_count": 36,
   "id": "ee5ac00b-7143-4a03-b521-916faf8f9dee",
   "metadata": {},
   "outputs": [
    {
     "name": "stdout",
     "output_type": "stream",
     "text": [
      "10\n"
     ]
    }
   ],
   "source": [
    "print(len(\"akhil\\nmedi\"))\n"
   ]
  },
  {
   "cell_type": "code",
   "execution_count": 37,
   "id": "19c09dfe-ca0a-4088-94a3-a516515f29e7",
   "metadata": {},
   "outputs": [
    {
     "name": "stdout",
     "output_type": "stream",
     "text": [
      "akhil\n",
      "medi\n"
     ]
    }
   ],
   "source": [
    "print((\"akhil\\nmedi\"))\n"
   ]
  }
 ],
 "metadata": {
  "kernelspec": {
   "display_name": "Python 3 (ipykernel)",
   "language": "python",
   "name": "python3"
  },
  "language_info": {
   "codemirror_mode": {
    "name": "ipython",
    "version": 3
   },
   "file_extension": ".py",
   "mimetype": "text/x-python",
   "name": "python",
   "nbconvert_exporter": "python",
   "pygments_lexer": "ipython3",
   "version": "3.12.4"
  }
 },
 "nbformat": 4,
 "nbformat_minor": 5
}
