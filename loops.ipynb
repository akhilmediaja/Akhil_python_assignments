{
 "cells": [
  {
   "cell_type": "code",
   "execution_count": 4,
   "id": "97cd9b3e-fb06-4eac-b50a-8fdc9ea30ceb",
   "metadata": {},
   "outputs": [
    {
     "name": "stdout",
     "output_type": "stream",
     "text": [
      "1 2 3 4 "
     ]
    }
   ],
   "source": [
    "a = [1, 2, 3, 4]\n",
    "for i in a:\n",
    "    print(i, end = \" \")"
   ]
  },
  {
   "cell_type": "code",
   "execution_count": 4,
   "id": "1bf295bf-aa1b-4d97-a026-31bb416a1ca9",
   "metadata": {},
   "outputs": [
    {
     "name": "stdout",
     "output_type": "stream",
     "text": [
      "6 +VE\n",
      "3 -ve\n",
      "DONE\n"
     ]
    }
   ],
   "source": [
    "a = [10, -2, 4, 5, 6, -9, 12, -13, 96]\n",
    "for i in a:\n",
    "    if i >= 0:\n",
    "        print(i, \"+VE\")\n",
    "    else:\n",
    "        print(i, \"-VE\")\n",
    "print(\"DONE\")"
   ]
  },
  {
   "cell_type": "code",
   "execution_count": 4,
   "id": "0bfea6b8-c81a-41c8-a435-83b1f7e85679",
   "metadata": {},
   "outputs": [
    {
     "name": "stdout",
     "output_type": "stream",
     "text": [
      "6 +VE\n",
      "3 -ve\n",
      "DONE\n"
     ]
    }
   ],
   "source": [
    "a = [10, -2, 4, 5, 6, -9, 12, -13, 96]\n",
    "b = 0\n",
    "c = 0\n",
    "for i in a:\n",
    "    if i >= 0:\n",
    "        b += 1\n",
    "    else:\n",
    "        c += 1\n",
    "\n",
    "print(b, \"+VE\")\n",
    "print(c, \"-ve\")\n",
    "print(\"DONE\")"
   ]
  },
  {
   "cell_type": "code",
   "execution_count": 3,
   "id": "f9fe4d34-7bcb-4694-b352-6b77c3ae7c68",
   "metadata": {},
   "outputs": [
    {
     "name": "stdout",
     "output_type": "stream",
     "text": [
      "DONE\n"
     ]
    }
   ],
   "source": [
    "a = []\n",
    "for i in a:\n",
    "    print(i, end = \" \")\n",
    "print(\"DONE\")"
   ]
  },
  {
   "cell_type": "code",
   "execution_count": 5,
   "id": "482044c7-867d-43cd-a659-0561218f984d",
   "metadata": {},
   "outputs": [
    {
     "name": "stdout",
     "output_type": "stream",
     "text": [
      "4 3 2 1 "
     ]
    }
   ],
   "source": [
    "a = [1, 2, 3, 4]\n",
    "for i in a[::-1]: # REVERSE\n",
    "    print(i, end = \" \")"
   ]
  },
  {
   "cell_type": "code",
   "execution_count": 6,
   "id": "450d281d-c4a1-4524-84fa-23ad262f5d0f",
   "metadata": {},
   "outputs": [
    {
     "name": "stdout",
     "output_type": "stream",
     "text": [
      "4 3 2 1 "
     ]
    }
   ],
   "source": [
    "a = (1, 2, 3, 4)\n",
    "for i in a[::-1]: # Reverse\n",
    "    print(i, end = \" \")"
   ]
  },
  {
   "cell_type": "code",
   "execution_count": 7,
   "id": "d84b536b-c832-4d2e-acb8-2d548f7fb411",
   "metadata": {},
   "outputs": [
    {
     "name": "stdout",
     "output_type": "stream",
     "text": [
      "l i h k A "
     ]
    }
   ],
   "source": [
    "a = \"Akhil\"\n",
    "for i in a[::-1]: # Reverse\n",
    "    print(i, end = \" \")"
   ]
  },
  {
   "cell_type": "code",
   "execution_count": 8,
   "id": "b2b9616c-7a54-44e2-acdc-05c70d13a29b",
   "metadata": {},
   "outputs": [
    {
     "ename": "TypeError",
     "evalue": "'int' object is not subscriptable",
     "output_type": "error",
     "traceback": [
      "\u001b[1;31m---------------------------------------------------------------------------\u001b[0m",
      "\u001b[1;31mTypeError\u001b[0m                                 Traceback (most recent call last)",
      "Cell \u001b[1;32mIn[8], line 2\u001b[0m\n\u001b[0;32m      1\u001b[0m a \u001b[38;5;241m=\u001b[39m \u001b[38;5;241m123\u001b[39m\n\u001b[1;32m----> 2\u001b[0m \u001b[38;5;28;01mfor\u001b[39;00m i \u001b[38;5;129;01min\u001b[39;00m a[::\u001b[38;5;241m-\u001b[39m\u001b[38;5;241m1\u001b[39m]: \u001b[38;5;66;03m# Reverse\u001b[39;00m\n\u001b[0;32m      3\u001b[0m     \u001b[38;5;28mprint\u001b[39m(i, end \u001b[38;5;241m=\u001b[39m \u001b[38;5;124m\"\u001b[39m\u001b[38;5;124m \u001b[39m\u001b[38;5;124m\"\u001b[39m)\n",
      "\u001b[1;31mTypeError\u001b[0m: 'int' object is not subscriptable"
     ]
    }
   ],
   "source": [
    "a = 123\n",
    "for i in a[::-1]: # Reverse\n",
    "    print(i, end = \" \")"
   ]
  },
  {
   "cell_type": "code",
   "execution_count": 11,
   "id": "84b6d91b-ad05-46f7-933e-aabd79fbdd08",
   "metadata": {},
   "outputs": [
    {
     "name": "stdout",
     "output_type": "stream",
     "text": [
      "4 3 2 1 0 "
     ]
    }
   ],
   "source": [
    "a = 5\n",
    "for i in range(a)[::-1]: # Reverse\n",
    "    print(i, end = \" \")"
   ]
  },
  {
   "cell_type": "code",
   "execution_count": 15,
   "id": "3013063e-848b-4381-bc89-7a7522b65b83",
   "metadata": {},
   "outputs": [],
   "source": [
    "a = False\n",
    "for i in range(a):\n",
    "    print(i, end = \" \")"
   ]
  },
  {
   "cell_type": "code",
   "execution_count": 14,
   "id": "89050af0-5528-432b-9f31-05119fddb929",
   "metadata": {},
   "outputs": [
    {
     "name": "stdout",
     "output_type": "stream",
     "text": [
      "0 "
     ]
    }
   ],
   "source": [
    "a = True\n",
    "for i in range(a):\n",
    "    print(i, end = \" \")"
   ]
  },
  {
   "cell_type": "code",
   "execution_count": 16,
   "id": "875d8650-4aaf-4330-bf11-de09727c3bc1",
   "metadata": {},
   "outputs": [
    {
     "ename": "TypeError",
     "evalue": "'bool' object is not iterable",
     "output_type": "error",
     "traceback": [
      "\u001b[1;31m---------------------------------------------------------------------------\u001b[0m",
      "\u001b[1;31mTypeError\u001b[0m                                 Traceback (most recent call last)",
      "Cell \u001b[1;32mIn[16], line 2\u001b[0m\n\u001b[0;32m      1\u001b[0m a \u001b[38;5;241m=\u001b[39m \u001b[38;5;28;01mTrue\u001b[39;00m\n\u001b[1;32m----> 2\u001b[0m \u001b[38;5;28;01mfor\u001b[39;00m i \u001b[38;5;129;01min\u001b[39;00m a:\n\u001b[0;32m      3\u001b[0m     \u001b[38;5;28mprint\u001b[39m(i, end \u001b[38;5;241m=\u001b[39m \u001b[38;5;124m\"\u001b[39m\u001b[38;5;124m \u001b[39m\u001b[38;5;124m\"\u001b[39m)\n",
      "\u001b[1;31mTypeError\u001b[0m: 'bool' object is not iterable"
     ]
    }
   ],
   "source": [
    "a = True\n",
    "for i in a:\n",
    "    print(i, end = \" \")"
   ]
  },
  {
   "cell_type": "code",
   "execution_count": 17,
   "id": "8d79b79c-7995-44b3-bb88-79dae5772fef",
   "metadata": {},
   "outputs": [
    {
     "ename": "TypeError",
     "evalue": "'bool' object is not iterable",
     "output_type": "error",
     "traceback": [
      "\u001b[1;31m---------------------------------------------------------------------------\u001b[0m",
      "\u001b[1;31mTypeError\u001b[0m                                 Traceback (most recent call last)",
      "Cell \u001b[1;32mIn[17], line 2\u001b[0m\n\u001b[0;32m      1\u001b[0m a \u001b[38;5;241m=\u001b[39m \u001b[38;5;28;01mFalse\u001b[39;00m\n\u001b[1;32m----> 2\u001b[0m \u001b[38;5;28;01mfor\u001b[39;00m i \u001b[38;5;129;01min\u001b[39;00m a:\n\u001b[0;32m      3\u001b[0m     \u001b[38;5;28mprint\u001b[39m(i, end \u001b[38;5;241m=\u001b[39m \u001b[38;5;124m\"\u001b[39m\u001b[38;5;124m \u001b[39m\u001b[38;5;124m\"\u001b[39m)\n",
      "\u001b[1;31mTypeError\u001b[0m: 'bool' object is not iterable"
     ]
    }
   ],
   "source": [
    "a = False\n",
    "for i in a:\n",
    "    print(i, end = \" \")"
   ]
  },
  {
   "cell_type": "code",
   "execution_count": 18,
   "id": "35305254-8e59-488a-8fde-8fbbe05a388f",
   "metadata": {},
   "outputs": [
    {
     "name": "stdout",
     "output_type": "stream",
     "text": [
      "name age "
     ]
    }
   ],
   "source": [
    "a = {\"name\": \"Akhil\", \"age\": 25}\n",
    "for i in a:\n",
    "    print(i, end = \" \")"
   ]
  },
  {
   "cell_type": "code",
   "execution_count": 19,
   "id": "ff5c8adf-d324-4a7f-b326-d63a7ba661fb",
   "metadata": {},
   "outputs": [
    {
     "ename": "TypeError",
     "evalue": "'builtin_function_or_method' object is not iterable",
     "output_type": "error",
     "traceback": [
      "\u001b[1;31m---------------------------------------------------------------------------\u001b[0m",
      "\u001b[1;31mTypeError\u001b[0m                                 Traceback (most recent call last)",
      "Cell \u001b[1;32mIn[19], line 2\u001b[0m\n\u001b[0;32m      1\u001b[0m a \u001b[38;5;241m=\u001b[39m {\u001b[38;5;124m\"\u001b[39m\u001b[38;5;124mname\u001b[39m\u001b[38;5;124m\"\u001b[39m: \u001b[38;5;124m\"\u001b[39m\u001b[38;5;124mAkhil\u001b[39m\u001b[38;5;124m\"\u001b[39m, \u001b[38;5;124m\"\u001b[39m\u001b[38;5;124mage\u001b[39m\u001b[38;5;124m\"\u001b[39m: \u001b[38;5;241m25\u001b[39m}\n\u001b[1;32m----> 2\u001b[0m \u001b[38;5;28;01mfor\u001b[39;00m i \u001b[38;5;129;01min\u001b[39;00m a\u001b[38;5;241m.\u001b[39mvalues:\n\u001b[0;32m      3\u001b[0m     \u001b[38;5;28mprint\u001b[39m(i, end \u001b[38;5;241m=\u001b[39m \u001b[38;5;124m\"\u001b[39m\u001b[38;5;124m \u001b[39m\u001b[38;5;124m\"\u001b[39m)\n",
      "\u001b[1;31mTypeError\u001b[0m: 'builtin_function_or_method' object is not iterable"
     ]
    }
   ],
   "source": [
    "a = {\"name\": \"Akhil\", \"age\": 25}\n",
    "for i in a.values:\n",
    "    print(i, end = \" \")"
   ]
  },
  {
   "cell_type": "code",
   "execution_count": 23,
   "id": "64de0d8f-b0b9-4397-b6fd-0bf12e1727f5",
   "metadata": {},
   "outputs": [
    {
     "name": "stdout",
     "output_type": "stream",
     "text": [
      "dgdhgd 1 2 259 3 36 4 "
     ]
    }
   ],
   "source": [
    "a = {1, 2, 3,259, 36, \"dgdhgd\", 4, }\n",
    "for i in a:\n",
    "    print(i, end = \" \")"
   ]
  },
  {
   "cell_type": "code",
   "execution_count": 24,
   "id": "6f02a662-794e-45be-bc9c-1d1d6a12b912",
   "metadata": {},
   "outputs": [
    {
     "name": "stdout",
     "output_type": "stream",
     "text": [
      "Akhil 25 "
     ]
    }
   ],
   "source": [
    "a = {\"name\": \"Akhil\", \"age\": 27}\n",
    "for i in a.values():\n",
    "    print(i, end = \" \")"
   ]
  },
  {
   "cell_type": "code",
   "execution_count": 26,
   "id": "e6d64b61-175f-4d1e-acad-8a78c09812e5",
   "metadata": {},
   "outputs": [
    {
     "name": "stdout",
     "output_type": "stream",
     "text": [
      "name Akhil\n",
      "age 27\n"
     ]
    }
   ],
   "source": [
    "a = {\"name\": \"Akhil\", \"age\": 27}\n",
    "for i, j in a.items():\n",
    "    print(i, j)"
   ]
  },
  {
   "cell_type": "code",
   "execution_count": 6,
   "id": "d54a4a62-a281-4b6e-ae5c-29a191694246",
   "metadata": {},
   "outputs": [
    {
     "name": "stdout",
     "output_type": "stream",
     "text": [
      "10 +VE\n",
      "-20 -VE\n",
      "-30 -VE\n",
      "45 +VE\n",
      "67 +VE\n",
      "-56 -VE\n"
     ]
    }
   ],
   "source": [
    "l = [10, -20, -30, 45, 67, -56 ]\n",
    "for i in l:\n",
    "    if i >= 0:\n",
    "        print(i, \"+VE\") \n",
    "    else:\n",
    "        print(i, \"-VE\")"
   ]
  },
  {
   "cell_type": "code",
   "execution_count": 9,
   "id": "f7332301-f4db-4137-b000-74b47cbf44da",
   "metadata": {},
   "outputs": [
    {
     "name": "stdout",
     "output_type": "stream",
     "text": [
      "+ve numbers in list  3\n"
     ]
    }
   ],
   "source": [
    "l = [10, -20, -30, 45, 67, -56 ]\n",
    "p_n = 0\n",
    "for i in l:\n",
    "    if i >= 0:\n",
    "        p_n += 1\n",
    "print(\"+ve numbers in list \", p_n)"
   ]
  },
  {
   "cell_type": "code",
   "execution_count": 10,
   "id": "9868a191-f905-45db-9aa9-bc0de8fc5bfa",
   "metadata": {},
   "outputs": [
    {
     "name": "stdout",
     "output_type": "stream",
     "text": [
      "it have-ve numbers\n"
     ]
    }
   ],
   "source": [
    "l = [10, -20, -30, 45, 67, -56 ]\n",
    "n_n = 0\n",
    "for i in l:\n",
    "    if i < 0:\n",
    "        n_n += 1\n",
    "if n_n > 0:\n",
    "    print(\"it have-ve numbers\")\n",
    "else:\n",
    "    print(\"it not have -ve numbers\")"
   ]
  },
  {
   "cell_type": "code",
   "execution_count": null,
   "id": "5f643ea5-320a-4f49-bc9e-9b92b5ce594c",
   "metadata": {},
   "outputs": [],
   "source": []
  }
 ],
 "metadata": {
  "kernelspec": {
   "display_name": "Python 3 (ipykernel)",
   "language": "python",
   "name": "python3"
  },
  "language_info": {
   "codemirror_mode": {
    "name": "ipython",
    "version": 3
   },
   "file_extension": ".py",
   "mimetype": "text/x-python",
   "name": "python",
   "nbconvert_exporter": "python",
   "pygments_lexer": "ipython3",
   "version": "3.12.4"
  }
 },
 "nbformat": 4,
 "nbformat_minor": 5
}
