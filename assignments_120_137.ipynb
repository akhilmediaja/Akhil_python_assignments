{
 "cells": [
  {
   "cell_type": "markdown",
   "id": "de6806b2-203b-4ebf-8560-7a14d293ea93",
   "metadata": {},
   "source": [
    "### 120. Read a json file. Try to get the information from the file"
   ]
  },
  {
   "cell_type": "code",
   "execution_count": 28,
   "id": "8ee1597d-b0cd-4d48-9a4e-7720ec5966b4",
   "metadata": {},
   "outputs": [],
   "source": [
    "import json"
   ]
  },
  {
   "cell_type": "code",
   "execution_count": 29,
   "id": "e198a977-f956-4e3e-805f-bbe26f654072",
   "metadata": {},
   "outputs": [
    {
     "name": "stdout",
     "output_type": "stream",
     "text": [
      "['{\\n', '    \"fruit\": \"Apple\",\\n', '    \"size\": \"Large\",\\n', '    \"color\": \"Red\"\\n', '}']\n"
     ]
    }
   ],
   "source": [
    "f = open(\"sample1.json\")\n",
    "print(f.readlines())\n",
    "f.close()"
   ]
  },
  {
   "cell_type": "markdown",
   "id": "ee24c42b-acc4-4eac-86da-a5ef916ffe19",
   "metadata": {},
   "source": [
    "## 121.Read a yaml file. Try to get the information from the file"
   ]
  },
  {
   "cell_type": "code",
   "execution_count": 26,
   "id": "6a9c00af-91f2-42f6-99f9-ac929da0ac17",
   "metadata": {},
   "outputs": [],
   "source": [
    "import yaml"
   ]
  },
  {
   "cell_type": "code",
   "execution_count": 27,
   "id": "440d9522-52c1-4e5f-b8bc-40bd0d78d60d",
   "metadata": {},
   "outputs": [
    {
     "name": "stdout",
     "output_type": "stream",
     "text": [
      "['---\\n', 'ip: \"192.168.10.10\"\\n', 'memory: 2048\\n', 'cpus: 2\\n', 'provider: virtualbox\\n', '\\n', 'authorize: ~/.ssh/id_rsa.pub\\n', '\\n', 'keys:\\n', '    - ~/.ssh/id_rsa\\n', '\\n', 'folders:\\n', '    - map: ~/code\\n', '      to: /home/vagrant/code\\n', '\\n', 'sites:\\n', '    - map: homestead.test\\n', '      to: /home/vagrant/code/public\\n', '\\n', 'databases:\\n', '    - homestead\\n', '\\n', 'features:\\n', '    - mariadb: false\\n', '    - ohmyzsh: false\\n', '    - webdriver: false\\n', '\\n', '# ports:\\n', '#     - send: 50000\\n', '#       to: 5000\\n', '#     - send: 7777\\n', '#       to: 777\\n', '#       protocol: udp']\n"
     ]
    }
   ],
   "source": [
    "f = open(\"Homestead.yaml\")\n",
    "print(f.readlines())\n",
    "f.close()"
   ]
  },
  {
   "cell_type": "markdown",
   "id": "5de15344-8d9c-4258-9c35-0802ff212c09",
   "metadata": {},
   "source": [
    "### 123.make alternative words reversed in given string:\n",
    "### \tex: \"python program good language\"-> \"python margorp good egaugnal\r\n"
   ]
  },
  {
   "cell_type": "code",
   "execution_count": 30,
   "id": "674502ac-651d-485e-9a46-bfb2f5d379dd",
   "metadata": {},
   "outputs": [
    {
     "name": "stdout",
     "output_type": "stream",
     "text": [
      "python margorp good egaugnal\n"
     ]
    }
   ],
   "source": [
    "string = \"python program good language\".split(\" \")\n",
    "res = []\n",
    "for i in range(len(string)):\n",
    "    if (i % 2 == 0) :\n",
    "        res.append(string[i])\n",
    "    else:\n",
    "        res.append(string[i][::-1])\n",
    "print(\" \".join(res))"
   ]
  },
  {
   "cell_type": "markdown",
   "id": "09585884-9ec3-4b34-8813-372cae889656",
   "metadata": {},
   "source": [
    "### 124. l=['c',\"cpp\",\"java\",\"php\",\"python\"]  case sensitive count# l.count(\"C\") -> .\n",
    "### \r\n",
    "like count l.own_count(\"C\") -2 1 with case insensiti\r\n",
    "\n"
   ]
  },
  {
   "cell_type": "code",
   "execution_count": 33,
   "id": "216521f6-d781-44ef-b78c-9dc9705675a7",
   "metadata": {},
   "outputs": [
    {
     "name": "stdout",
     "output_type": "stream",
     "text": [
      "0\n",
      "2\n"
     ]
    }
   ],
   "source": [
    "l=['c',\"cpp\",\"java\",\"php\",\"python\"]\n",
    "\n",
    "print(\"\".join(l).count(\"C\"))\n",
    "c = \"\".join(l).casefold()\n",
    "print(c.count('c'))"
   ]
  },
  {
   "cell_type": "markdown",
   "id": "fd25e5e3-8628-47e0-beb3-281edb786913",
   "metadata": {},
   "source": [
    "### 125: take total parameters, out of which few are optional and few are mandatory. Take some parameters from the user and check whether the user given all the mandatory paramerters or not.\n",
    "### For example: to insert person details\n",
    "### Total parameters: name,age,height,pan,cell,adhar,passport\n",
    "### mandatory: name,cell,adhar\n",
    "### \tif the user given: name,adhar,passport then you need to print cell is mandatory parameter\n",
    "### \tif the user given: name,cell,adhar,passport then you need to print ok \n",
    "### \tif the user given: adhar,passport then you need to print cell,name are mandatory parameter\n"
   ]
  },
  {
   "cell_type": "code",
   "execution_count": 40,
   "id": "6a842e78-7ace-44e5-8bd9-a4c0dcc1922d",
   "metadata": {},
   "outputs": [
    {
     "name": "stdout",
     "output_type": "stream",
     "text": [
      "cell is mandatory parameter\n",
      "adhar is mandatory parameter\n",
      "OK\n"
     ]
    }
   ],
   "source": [
    "def insert_person_details(**kwargs):\n",
    "  mandatory_parameters = [\"name\", \"cell\", \"adhar\"]\n",
    "  missing_parameters = []\n",
    "  for parameter in mandatory_parameters:\n",
    "    if parameter not in kwargs:\n",
    "      missing_parameters.append(parameter)\n",
    "  if missing_parameters:\n",
    "    for parameter in missing_parameters:\n",
    "      print(f\"{parameter} is mandatory parameter\")\n",
    "  else:\n",
    "    print(\"OK\")\n",
    "\n",
    "insert_person_details(name=\"Akhil\", adhar=\"1234567890\", passport=\"P123456\")\n",
    "insert_person_details(name=\"Medi\", cell=\"1234567890\", passport = \"p98765\")\n",
    "insert_person_details(name=\"Medi\", cell=\"1234567890\", adhar=\"9876543210\", passport = \"p98765\")"
   ]
  },
  {
   "cell_type": "code",
   "execution_count": 45,
   "id": "a30ac5b6-b980-4308-ba67-d08f59157cb4",
   "metadata": {},
   "outputs": [
    {
     "name": "stdin",
     "output_type": "stream",
     "text": [
      "Enter digit or float :  sff\n",
      "Enter digit or float :  51\n"
     ]
    },
    {
     "name": "stdout",
     "output_type": "stream",
     "text": [
      "Enter digits or float values only\n"
     ]
    }
   ],
   "source": [
    "# STRINGS\n",
    "# 126. Take two inputs from the user:  your program should check for below scenarios.\n",
    "\n",
    "# 10,20: 30\n",
    "# 12.34,45.67: 58.01\n",
    "# +12,-12: 0\n",
    "# qwe,123 we: Enter digits or float values only\n",
    "\n",
    "a = input(\"Enter digit or float : \")\n",
    "b = input(\"Enter digit or float : \")\n",
    "try:\n",
    "    a, b = float(a), float(b)\n",
    "    print( a + b )\n",
    "except ValueError:\n",
    "    print(\"Enter digits or float values only\")\n",
    "\n"
   ]
  },
  {
   "cell_type": "code",
   "execution_count": 46,
   "id": "02964495-40d5-42e2-b913-2ded4a051ef6",
   "metadata": {},
   "outputs": [
    {
     "name": "stdin",
     "output_type": "stream",
     "text": [
      "Enter the number of employees:  2\n",
      "Enter employee ID for employee 1:  1001\n",
      "Enter weight (in kg) for employee 1001:  55\n",
      "Enter height (in cm) for employee 1001:  165\n",
      "Enter age for employee 1001:  27\n",
      "Enter employee ID for employee 2:  1002\n",
      "Enter weight (in kg) for employee 1002:  50\n",
      "Enter height (in cm) for employee 1002:  155\n",
      "Enter age for employee 1002:  24\n"
     ]
    },
    {
     "name": "stdout",
     "output_type": "stream",
     "text": [
      "{'1001': {'weight': 55.0, 'height': 165.0, 'age': 27, 'bmi': 20.2, 'result': '+ve'}, '1002': {'weight': 50.0, 'height': 155.0, 'age': 24, 'bmi': 20.81, 'result': '+ve'}}\n"
     ]
    }
   ],
   "source": [
    "# 116(127). take the number of employees count from the user and ask the inputs required for the bmi for each and every person. The result should be like below\n",
    "# empid:{“weight:”,”height”:,”age”:,”bmi”:0.9,”result”:”+ve”}\n",
    "\n",
    "\n",
    "def calculate_bmi(weight, height):\n",
    "  try:\n",
    "    bmi = weight / ((height / 100) ** 2)\n",
    "    return round(bmi, 2)\n",
    "  except ZeroDivisionError:\n",
    "    return 0\n",
    "\n",
    "def get_employee_data():\n",
    "  employee_data = {}\n",
    "  num_employees = int(input(\"Enter the number of employees: \"))\n",
    "  for i in range(num_employees):\n",
    "    emp_id = input(f\"Enter employee ID for employee {i + 1}: \")\n",
    "    weight = float(input(f\"Enter weight (in kg) for employee {emp_id}: \"))\n",
    "    height = float(input(f\"Enter height (in cm) for employee {emp_id}: \"))\n",
    "    age = int(input(f\"Enter age for employee {emp_id}: \"))\n",
    "    bmi = calculate_bmi(weight, height)\n",
    "    if bmi < 18.5:\n",
    "      result = \"-ve\"\n",
    "    elif bmi >= 18.5 and bmi < 25:\n",
    "      result = \"+ve\"\n",
    "    else:\n",
    "      result = \"obese\"\n",
    "    employee_data[emp_id] = {\n",
    "        \"weight\": weight,\n",
    "        \"height\": height,\n",
    "        \"age\": age,\n",
    "        \"bmi\": bmi,\n",
    "        \"result\": result,\n",
    "    }\n",
    "  return employee_data\n",
    "\n",
    "\n",
    "employee_details = get_employee_data()\n",
    "print(employee_details)"
   ]
  },
  {
   "cell_type": "code",
   "execution_count": 48,
   "id": "69fbec05-c06b-45ae-a808-1dabfec182c1",
   "metadata": {},
   "outputs": [
    {
     "name": "stdin",
     "output_type": "stream",
     "text": [
      "Enter source file:  sample1.json\n",
      "Enter destination file:  akhil_sample.txt\n"
     ]
    },
    {
     "name": "stdout",
     "output_type": "stream",
     "text": [
      "File content copied successfully from 'sample1.json' to 'akhil_sample.txt'.\n"
     ]
    }
   ],
   "source": [
    "# FILES\n",
    "# 118(128). copy 1 file content in to another file(Take the source and destination file path from the user)\n",
    "\n",
    "\n",
    "def copy_file_content(source_path, destination_path):\n",
    "  try:\n",
    "    source_file = open(source_path, 'r')\n",
    "    content = source_file.read()\n",
    "    destination_file = open(destination_path, 'w')\n",
    "    destination_file.write(content)\n",
    "    print(f\"File content copied successfully from '{source_path}' to '{destination_path}'.\")\n",
    "  except FileNotFoundError:\n",
    "    print(\"Error: Source file not found.\")\n",
    "  except Exception as e:\n",
    "    print(f\"An error occurred: {e}\")\n",
    "\n",
    "\n",
    "\n",
    "source_path = input(\"Enter source file: \")\n",
    "destination_path = input(\"Enter destination file: \")\n",
    "copy_file_content(source_path, destination_path)"
   ]
  },
  {
   "cell_type": "code",
   "execution_count": 51,
   "id": "298ccc27-af37-425a-b3c1-66e1c680b1a4",
   "metadata": {},
   "outputs": [
    {
     "name": "stdout",
     "output_type": "stream",
     "text": [
      "5 8 65\n"
     ]
    }
   ],
   "source": [
    "# 120(129). print number of lines, words, characters from the given file\n",
    "\n",
    "def counting(source_file):\n",
    "\n",
    "    try:\n",
    "        f = open(source_file, \"r\")\n",
    "        lines = f.readlines()\n",
    "        no_of_lines = len(lines)\n",
    "        no_of_words = sum(len(line.split()) for line in lines)\n",
    "        no_of_char = sum(len(line) for line in lines)\n",
    "\n",
    "        print(no_of_lines, no_of_words, no_of_char)\n",
    "        f.close()\n",
    "    except Exception as err:\n",
    "        print(err)\n",
    "\n",
    "counting(\"akhil_sample.txt\")"
   ]
  },
  {
   "cell_type": "code",
   "execution_count": 1,
   "id": "a0522ebf-3f10-4f77-9308-a435da9d2856",
   "metadata": {},
   "outputs": [
    {
     "ename": "NameError",
     "evalue": "name 'json' is not defined",
     "output_type": "error",
     "traceback": [
      "\u001b[1;31m---------------------------------------------------------------------------\u001b[0m",
      "\u001b[1;31mNameError\u001b[0m                                 Traceback (most recent call last)",
      "Cell \u001b[1;32mIn[1], line 23\u001b[0m\n\u001b[0;32m     19\u001b[0m    \u001b[38;5;28;01mexcept\u001b[39;00m \u001b[38;5;167;01mFileNotFoundError\u001b[39;00m:\n\u001b[0;32m     20\u001b[0m        \u001b[38;5;28mprint\u001b[39m(\u001b[38;5;124m\"\u001b[39m\u001b[38;5;124mText file not found.\u001b[39m\u001b[38;5;124m\"\u001b[39m)\n\u001b[1;32m---> 23\u001b[0m txt_to_json(\u001b[38;5;124m'\u001b[39m\u001b[38;5;124makhil_sample.txt\u001b[39m\u001b[38;5;124m'\u001b[39m, \u001b[38;5;124m'\u001b[39m\u001b[38;5;124msample2.json\u001b[39m\u001b[38;5;124m'\u001b[39m)\n",
      "Cell \u001b[1;32mIn[1], line 13\u001b[0m, in \u001b[0;36mtxt_to_json\u001b[1;34m(txt_file, json_file)\u001b[0m\n\u001b[0;32m     10\u001b[0m         data[key\u001b[38;5;241m.\u001b[39mstrip()] \u001b[38;5;241m=\u001b[39m value\u001b[38;5;241m.\u001b[39mstrip()\n\u001b[0;32m     12\u001b[0m json_out \u001b[38;5;241m=\u001b[39m \u001b[38;5;28mopen\u001b[39m(json_file, \u001b[38;5;124m'\u001b[39m\u001b[38;5;124mw\u001b[39m\u001b[38;5;124m'\u001b[39m)\n\u001b[1;32m---> 13\u001b[0m data2 \u001b[38;5;241m=\u001b[39m json\u001b[38;5;241m.\u001b[39mdump(data, json_out, indent\u001b[38;5;241m=\u001b[39m\u001b[38;5;241m4\u001b[39m)\n\u001b[0;32m     15\u001b[0m \u001b[38;5;28mprint\u001b[39m(data2\u001b[38;5;241m.\u001b[39mreadlines())\n\u001b[0;32m     16\u001b[0m file\u001b[38;5;241m.\u001b[39mclose()\n",
      "\u001b[1;31mNameError\u001b[0m: name 'json' is not defined"
     ]
    }
   ],
   "source": [
    " # 121(130). convert .txt file in .json\n",
    "\n",
    "def txt_to_json(txt_file, json_file):\n",
    "    data = {}\n",
    "    try:\n",
    "        file = open(txt_file, 'r')\n",
    "        for line in file:\n",
    "            if ':' in line:\n",
    "                key, value = line.strip().split(':', 1)\n",
    "                data[key.strip()] = value.strip()\n",
    "        \n",
    "        json_out = open(json_file, 'w')\n",
    "        data2 = json.dump(data, json_out, indent=4)\n",
    "        \n",
    "        print(data2.readlines())\n",
    "        file.close()\n",
    "        json_out.close()\n",
    "\n",
    "    except FileNotFoundError:\n",
    "        print(\"Text file not found.\")\n",
    "\n",
    "\n",
    "txt_to_json('akhil_sample.txt', 'sample2.json')\n"
   ]
  },
  {
   "cell_type": "code",
   "execution_count": 11,
   "id": "8af3d4e4-8114-41ca-a110-706b17336d34",
   "metadata": {},
   "outputs": [
    {
     "name": "stdin",
     "output_type": "stream",
     "text": [
      "Enter Syptoms: cough\n"
     ]
    },
    {
     "name": "stdout",
     "output_type": "stream",
     "text": [
      "Disease is Common Cold, \n",
      "Symptoms are  Runny or stuffy nose, sore throat, cough, mild fever, fatigue , \n",
      "Advice to medicine  Paracetamol (for fever), antihistamines (e.g., cetirizine), and decongestants (e.g., pseudoephedrine)\n",
      "\n",
      "Disease is Flu (Influenza), \n",
      "Symptoms are High fever, muscle aches, chills, sore throat, fatigue, cough, \n",
      "Advice to medicine Antiviral drugs (e.g., oseltamivir), acetaminophen or ibuprofen (for fever and aches)\n",
      "\n"
     ]
    }
   ],
   "source": [
    "# 122(131). Take three columns disease, symptoms, advice in a file and fill the details\n",
    "# Ask the user to enter symptoms. Based on this symptoms Suggest the user to what disease it may be and few advices.\n",
    "f = open(\"disease_symptoms_advice.txt\", \"r\")\n",
    "# data = f.readline()\n",
    "# data2 = f.read()\n",
    "# print(data2)\n",
    "symptom = input(\"Enter Syptoms:\").casefold()\n",
    "for i in f:\n",
    "    if symptom in i:\n",
    "        disease, symptoms, advice = i.split(\"::\")\n",
    "        print(f\"Disease is {disease}, \\nSymptoms are {symptoms}, \\nAdvice to medicine {advice}\")\n",
    "f.close()\n",
    "\n"
   ]
  },
  {
   "cell_type": "code",
   "execution_count": 27,
   "id": "fe0c2ed3-397c-4938-98b6-55b613396a47",
   "metadata": {},
   "outputs": [
    {
     "name": "stdin",
     "output_type": "stream",
     "text": [
      "Enter Employee ID:  101\n"
     ]
    },
    {
     "name": "stdout",
     "output_type": "stream",
     "text": [
      "Employee Information: 101, Akhil, 28, 123 Main St Warangal, 50000, 5'9\", 70 kg\n",
      "\n",
      "Calculating average salary:\n",
      "Average Salary: 56400.0\n",
      "\n",
      "Finding age and address of highest salary earner:\n",
      "Highest Salary: ('Vikram Singh', '35', '890 Poplar Rd Chandigarh', 75000)\n",
      "\n",
      "Calculating each employee's BMI:\n",
      "Employee Akhil (ID: 101) - BMI: 22.79\n",
      "Employee Priya Sharma (ID: 102) - BMI: 21.28\n",
      "Employee Rahul Verma (ID: 103) - BMI: 23.32\n",
      "Employee Neha Patel (ID: 104) - BMI: 22.71\n",
      "Employee Sameer Khan (ID: 105) - BMI: 25.94\n",
      "Employee Kavita Joshi (ID: 106) - BMI: 25.38\n",
      "Employee Ramesh Iyer (ID: 107) - BMI: 28.49\n",
      "Employee Anjali Kapoor (ID: 108) - BMI: 18.99\n",
      "Employee Vikram Singh (ID: 109) - BMI: 25.47\n",
      "Employee Sneha Nair (ID: 110) - BMI: 20.64\n",
      "\n",
      "Organization Overall BMI: 23.5\n"
     ]
    }
   ],
   "source": [
    "# 123(132). Take employees info (id,name, age, adress, sal, height, weight)\n",
    "# \t\t a. Take id, provide employee information for that id.\n",
    "# \t\tb. find out average salary.\n",
    "# \t\tc. find out which age, address taking the heighest salary\n",
    "# \t\t d. find out every employee BMI value\n",
    "# \t\te. Finally find out the Organization overall BMI\n",
    "\n",
    "# Open the employee information file\n",
    "def emp_info(emp_id, file):\n",
    "    # Reset file pointer to the start of the file\n",
    "    file.seek(0)\n",
    "    for line in file:\n",
    "        # Strip and split the line to get employee details\n",
    "        info = line.strip().split(\", \")\n",
    "        if info[0] == emp_id:\n",
    "            print(\"Employee Information:\", \", \".join(info))\n",
    "            return\n",
    "    print(\"No Employee with that ID.\")\n",
    "\n",
    "def average_salary(file):\n",
    "    file.seek(0)\n",
    "    total_salary = 0\n",
    "    count = 0\n",
    "    file.readline()\n",
    "    for line in file:\n",
    "        # Extract salary from each line\n",
    "        info = line.strip().split(\", \")\n",
    "        total_salary += int(info[4])\n",
    "        count += 1\n",
    "    avg_salary = total_salary / count if count else 0\n",
    "    print(\"Average Salary:\", avg_salary)\n",
    "    return avg_salary\n",
    "\n",
    "def highest_salary(file):\n",
    "    file.seek(0)\n",
    "    max_salary = 0\n",
    "    details = (\"\", \"\", \"\")\n",
    "    file.readline()\n",
    "    for line in file:\n",
    "        # Extract age, address, and salary\n",
    "        info = line.strip().split(\", \")\n",
    "        name, age, address, salary = info[1], info[2], info[3], int(info[4])\n",
    "        if salary > max_salary:\n",
    "            max_salary = salary\n",
    "            details = (name, age, address, max_salary)\n",
    "    print(\"Highest Salary:\", details)\n",
    "    return details\n",
    "\n",
    "def calculate_bmi(weight, height):\n",
    "    # Convert height to meters (assuming height format is '5\\'9\"' which means 5 feet 9 inches)\n",
    "    feet, inches = map(int, height.replace(\"\\\"\", \"\").split(\"'\"))\n",
    "    height_m = (feet * 12 + inches) * 0.0254\n",
    "    bmi = weight / (height_m ** 2)\n",
    "    return round(bmi, 2)\n",
    "\n",
    "def employees_bmi(file):\n",
    "    file.seek(0)\n",
    "    overall_bmi = 0\n",
    "    count = 0\n",
    "    file.readline()\n",
    "    for line in file:\n",
    "        info = line.strip().split(\", \")\n",
    "        # print(info[6])\n",
    "        \n",
    "        weight = int(info[6].split(\" \")[0])  # Extract weight in kg\n",
    "        height = info[5]  # Height in feet and inches format (e.g., 5'9\")\n",
    "        bmi = calculate_bmi(weight, height)\n",
    "        overall_bmi += bmi\n",
    "        count += 1\n",
    "        print(f\"Employee {info[1]} (ID: {info[0]}) - BMI: {bmi}\")\n",
    "    avg_bmi = overall_bmi / count if count else 0\n",
    "    print(\"\\nOrganization Overall BMI:\", round(avg_bmi, 2))\n",
    "\n",
    "# Main part of the program\n",
    "with open(\"employees_info.txt\", \"r\") as f:\n",
    "    emp_id = input(\"Enter Employee ID: \")\n",
    "    emp_info(emp_id, f)\n",
    "    print(\"\\nCalculating average salary:\")\n",
    "    average_salary(f)\n",
    "    print(\"\\nFinding age and address of highest salary earner:\")\n",
    "    highest_salary(f)\n",
    "    print(\"\\nCalculating each employee's BMI:\")\n",
    "    employees_bmi(f)\n",
    "\n",
    "\n",
    "f.close()\n",
    "\n",
    "\n",
    "\n",
    "\n"
   ]
  },
  {
   "cell_type": "code",
   "execution_count": 1,
   "id": "ac8caf14-b702-44ca-a979-dd7095f42592",
   "metadata": {},
   "outputs": [
    {
     "name": "stdout",
     "output_type": "stream",
     "text": [
      "424325253\n"
     ]
    }
   ],
   "source": [
    "# 124(133). read the file which contains the size greater than your ram size\n",
    "\n",
    "f=open(\"BIGFILE.txt\", \"r\")  # 10Gb File\n",
    "count = 0\n",
    "for i in f:\n",
    "    count += 1\n",
    "\n",
    "print(count)"
   ]
  },
  {
   "cell_type": "code",
   "execution_count": 2,
   "id": "6747068a-f8e6-4536-9aa6-1014ded93246",
   "metadata": {},
   "outputs": [],
   "source": [
    "f.close() # closing 10 GB file"
   ]
  },
  {
   "cell_type": "code",
   "execution_count": 16,
   "id": "ae9bb00a-8cb1-4ead-b1c0-23e442abac81",
   "metadata": {},
   "outputs": [
    {
     "name": "stderr",
     "output_type": "stream",
     "text": [
      "IOPub data rate exceeded.\n",
      "The Jupyter server will temporarily stop sending output\n",
      "to the client in order to avoid crashing it.\n",
      "To change this limit, set the config variable\n",
      "`--ServerApp.iopub_data_rate_limit`.\n",
      "\n",
      "Current values:\n",
      "ServerApp.iopub_data_rate_limit=1000000.0 (bytes/sec)\n",
      "ServerApp.rate_limit_window=3.0 (secs)\n",
      "\n"
     ]
    }
   ],
   "source": [
    " # 125(134). Read ten gb movie  #mp3, mp4, mk4 etc....\n",
    "\n",
    "f = open(\"image.png\", \"rb\")\n",
    "data = f.read()\n",
    "print(data)\n",
    "f.close()\n",
    "print(\"Hello\")"
   ]
  },
  {
   "cell_type": "code",
   "execution_count": 42,
   "id": "6db32d47-88c3-48d4-aaad-c973beffc090",
   "metadata": {},
   "outputs": [
    {
     "name": "stdout",
     "output_type": "stream",
     "text": [
      "Menu:\n",
      "1. Get information information of an employee\n",
      "2. Modify employee information\n",
      "3. delete an employee information (Only status field change in the employeefile)\n",
      "4. Add an employee\n",
      "5. Exit\n"
     ]
    },
    {
     "name": "stdin",
     "output_type": "stream",
     "text": [
      "Select a option from above: 5\n"
     ]
    },
    {
     "name": "stdout",
     "output_type": "stream",
     "text": [
      "Thank you!, Logging off\n"
     ]
    }
   ],
   "source": [
    "# 126.(135)  Collect emp information in a file Provide these operations.\n",
    "# \t\t Menu:\n",
    "# \t\t\t1. Get information information of an employee\n",
    "# \t\t\t2. Modify employee information\n",
    "# \t\t\t3. delete an employee information (Only status field change in the employeefile)\n",
    "# \t\t\t4. Add an employee.\n",
    "\n",
    "def get_emp_info():\n",
    "    try:\n",
    "        f = open(\"employees_info.txt\", \"r\")\n",
    "        emp_name = input(\"Enter a Employee Name to get Info :\").casefold()\n",
    "        for i in f:\n",
    "            if emp_name in i.casefold() :\n",
    "                print(i.split(\", \"))\n",
    "                break\n",
    "        else:\n",
    "            print(\"No Employee on Given Name\")\n",
    "        f.close()\n",
    "    except Exception as err:\n",
    "        print(err)\n",
    "    \n",
    "\n",
    "def modify_emp_info():\n",
    "    try:\n",
    "        emp_name = input(\"Enter Employee Name to modify info: \").casefold()\n",
    "        emp_age = input(\"Enter the new age: \")\n",
    "\n",
    "        f = open(\"employees_info.txt\", \"r\")\n",
    "        lines = f.readlines()\n",
    "        f.close()\n",
    "        modified = False\n",
    "        f = open(\"employees_info.txt\", \"w\")\n",
    "        for line in lines:\n",
    "            if emp_name in line.casefold():\n",
    "                info = line.strip().split(\", \")\n",
    "                info[2] = emp_age\n",
    "                f.write(\", \".join(info) + \"\\n\")\n",
    "                modified = True\n",
    "                print(\"Employee info modified successfully.\")\n",
    "            else:\n",
    "                f.write(line)\n",
    "        f.close()\n",
    "        if not modified:\n",
    "            print(\"No employee found with the given name.\")\n",
    "    except Exception as err:\n",
    "        print(f\"Error: {err}\")\n",
    "\n",
    "def delete_emp_info():\n",
    "    try:\n",
    "        emp_name = input(\"Enter Employee Name to delete: \").casefold()\n",
    "\n",
    "        f =  open(\"employees_info.txt\", \"r\")\n",
    "        lines = f.readlines()\n",
    "        f.close()\n",
    "\n",
    "        deleted = False\n",
    "        f = open(\"employees_info.txt\", \"w\")\n",
    "        for line in lines:\n",
    "            if emp_name not in line.casefold():\n",
    "                f.write(line)\n",
    "            else:\n",
    "                deleted = True\n",
    "        if not deleted:\n",
    "            \n",
    "            print(\"No employee found with the given name.\")\n",
    "        else:\n",
    "            print(\"Employee info deleted\")\n",
    "        f.close()   \n",
    "    except Exception as err:\n",
    "        print(f\"Error: {err}\")\n",
    "\n",
    "def add_emp_info():\n",
    "    try:\n",
    "        emp_id = input(\"Enter Employee ID: \")\n",
    "        emp_name = input(\"Enter Employee Name: \")\n",
    "        emp_age = input(\"Enter Employee Age: \")\n",
    "        emp_address = input(\"Enter Employee Address: \")\n",
    "        emp_salary = input(\"Enter Employee Salary: \")\n",
    "        emp_height = input(\"Enter Employee Height: like (5\\'10\\\")\")\n",
    "        emp_weight = input(\"Enter Employee Weight: like (82 kg) \")\n",
    "        \n",
    "\n",
    "        f = open(\"employees_info.txt\", \"a\")\n",
    "        f.write(f\"{emp_id}, {emp_name}, {emp_age}, {emp_address}, {emp_salary}, {emp_height}, {emp_weight}\\n\")\n",
    "        print(\"Employee added successfully.\")\n",
    "        f.close()\n",
    "    except Exception as err:\n",
    "        print(f\"Error: {err}\")\n",
    "\n",
    "while True:\n",
    "    print(\"Menu:\")\n",
    "    print(\"1. Get information information of an employee\")\n",
    "    print(\"2. Modify employee information\")\n",
    "    print(\"3. delete an employee information (Only status field change in the employeefile)\")\n",
    "    print(\"4. Add an employee\")\n",
    "    print(\"5. Exit\")\n",
    "    option = input(\"Select a option from above:\")\n",
    "    if option == \"1\":\n",
    "        get_emp_info()\n",
    "    elif option == \"2\":\n",
    "        modify_emp_info()\n",
    "    elif option == \"3\":\n",
    "        delete_emp_info()\n",
    "    elif option == \"4\":\n",
    "        add_emp_info()\n",
    "    elif option == \"5\":\n",
    "        print(\"Thank you!, Logging off\")\n",
    "        break\n",
    "    else:\n",
    "        print(\"Select a Proper option \")\n",
    "    \n"
   ]
  },
  {
   "cell_type": "code",
   "execution_count": null,
   "id": "23ae69b4-163a-4975-b08d-0855e9cade02",
   "metadata": {},
   "outputs": [],
   "source": [
    "# 127.(136) Take Source and destination file paths from command line arguments and copy the sourcontent into destination.\n",
    "# \t\t Make Sure that your program checking the below conditions.\n",
    "# \t\t1.if the source file not there. Should ask the user to enter new source file or want to quit a program\n",
    "# \t\t2.if the destination file already there in the specified path. Should warn the user want to proceed or \n",
    "#         want to enter new destination file name or want to quit\n",
    "\n",
    "\n",
    "\n"
   ]
  },
  {
   "cell_type": "code",
   "execution_count": null,
   "id": "fff54370-e48a-4112-a8ac-716747873cce",
   "metadata": {},
   "outputs": [],
   "source": [
    "# 128.(137) Bulk file copy.\n",
    "# \t\tTake source and destination file paths from a file and copy the source file content into destination file.\n",
    "# \t\tMaintain configuration file and put the below fields there\n",
    "# \t\tSource not found: Skip the copy\n",
    "# \t\tdestination found: skip/replace\n",
    "# \t\tmaintain a remarks log. What are the files skiped from copy because no source file found. What are the files\n",
    "#         skip/replaced because of destination file foun in the specified path\n",
    "\n",
    "\n"
   ]
  },
  {
   "cell_type": "code",
   "execution_count": null,
   "id": "5edde941-bd9e-45e2-9fdd-ee04c090bc98",
   "metadata": {},
   "outputs": [],
   "source": []
  },
  {
   "cell_type": "code",
   "execution_count": null,
   "id": "87d99d34-56ff-4860-914f-d7557e626920",
   "metadata": {},
   "outputs": [],
   "source": []
  },
  {
   "cell_type": "code",
   "execution_count": null,
   "id": "1991088c-c29a-495e-96f0-37359f83fc8d",
   "metadata": {},
   "outputs": [],
   "source": []
  },
  {
   "cell_type": "code",
   "execution_count": null,
   "id": "85424a34-4e59-4292-8bd8-fd9871e9aede",
   "metadata": {},
   "outputs": [],
   "source": []
  },
  {
   "cell_type": "code",
   "execution_count": null,
   "id": "35343a9f-d10f-4bdc-88fc-0153ef8cd4cd",
   "metadata": {},
   "outputs": [],
   "source": []
  }
 ],
 "metadata": {
  "kernelspec": {
   "display_name": "Python 3 (ipykernel)",
   "language": "python",
   "name": "python3"
  },
  "language_info": {
   "codemirror_mode": {
    "name": "ipython",
    "version": 3
   },
   "file_extension": ".py",
   "mimetype": "text/x-python",
   "name": "python",
   "nbconvert_exporter": "python",
   "pygments_lexer": "ipython3",
   "version": "3.12.4"
  }
 },
 "nbformat": 4,
 "nbformat_minor": 5
}
