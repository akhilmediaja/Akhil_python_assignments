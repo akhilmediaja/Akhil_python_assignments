{
 "cells": [
  {
   "cell_type": "code",
   "execution_count": 2,
   "id": "70b2a575-8caf-4f31-a5f4-f0a8853ab0c8",
   "metadata": {},
   "outputs": [
    {
     "name": "stdout",
     "output_type": "stream",
     "text": [
      "Defaulting to user installation because normal site-packages is not writeable\n",
      "Collecting psycopg2\n",
      "  Using cached psycopg2-2.9.10-cp312-cp312-win_amd64.whl.metadata (5.0 kB)\n",
      "Using cached psycopg2-2.9.10-cp312-cp312-win_amd64.whl (1.2 MB)\n",
      "Installing collected packages: psycopg2\n",
      "Successfully installed psycopg2-2.9.10\n"
     ]
    }
   ],
   "source": [
    "!pip install psycopg2"
   ]
  },
  {
   "cell_type": "code",
   "execution_count": 2,
   "id": "8e1ba54b-f5dc-4ee9-9acf-7861c02f1f36",
   "metadata": {},
   "outputs": [],
   "source": [
    "import psycopg2"
   ]
  },
  {
   "cell_type": "code",
   "execution_count": 5,
   "id": "53988a8b-c25f-4c1f-ad93-99499fce5b91",
   "metadata": {},
   "outputs": [
    {
     "data": {
      "text/plain": [
       "\u001b[1;31mSignature:\u001b[0m\n",
       "\u001b[0mpsycopg2\u001b[0m\u001b[1;33m.\u001b[0m\u001b[0mconnect\u001b[0m\u001b[1;33m(\u001b[0m\u001b[1;33m\n",
       "\u001b[0m    \u001b[0mdsn\u001b[0m\u001b[1;33m=\u001b[0m\u001b[1;32mNone\u001b[0m\u001b[1;33m,\u001b[0m\u001b[1;33m\n",
       "\u001b[0m    \u001b[0mconnection_factory\u001b[0m\u001b[1;33m=\u001b[0m\u001b[1;32mNone\u001b[0m\u001b[1;33m,\u001b[0m\u001b[1;33m\n",
       "\u001b[0m    \u001b[0mcursor_factory\u001b[0m\u001b[1;33m=\u001b[0m\u001b[1;32mNone\u001b[0m\u001b[1;33m,\u001b[0m\u001b[1;33m\n",
       "\u001b[0m    \u001b[1;33m**\u001b[0m\u001b[0mkwargs\u001b[0m\u001b[1;33m,\u001b[0m\u001b[1;33m\n",
       "\u001b[0m\u001b[1;33m)\u001b[0m\u001b[1;33m\u001b[0m\u001b[1;33m\u001b[0m\u001b[0m\n",
       "\u001b[1;31mDocstring:\u001b[0m\n",
       "Create a new database connection.\n",
       "\n",
       "The connection parameters can be specified as a string:\n",
       "\n",
       "    conn = psycopg2.connect(\"dbname=test user=postgres password=secret\")\n",
       "\n",
       "or using a set of keyword arguments:\n",
       "\n",
       "    conn = psycopg2.connect(database=\"test\", user=\"postgres\", password=\"secret\")\n",
       "\n",
       "Or as a mix of both. The basic connection parameters are:\n",
       "\n",
       "- *dbname*: the database name\n",
       "- *database*: the database name (only as keyword argument)\n",
       "- *user*: user name used to authenticate\n",
       "- *password*: password used to authenticate\n",
       "- *host*: database host address (defaults to UNIX socket if not provided)\n",
       "- *port*: connection port number (defaults to 5432 if not provided)\n",
       "\n",
       "Using the *connection_factory* parameter a different class or connections\n",
       "factory can be specified. It should be a callable object taking a dsn\n",
       "argument.\n",
       "\n",
       "Using the *cursor_factory* parameter, a new default cursor factory will be\n",
       "used by cursor().\n",
       "\n",
       "Using *async*=True an asynchronous connection will be created. *async_* is\n",
       "a valid alias (for Python versions where ``async`` is a keyword).\n",
       "\n",
       "Any other keyword parameter will be passed to the underlying client\n",
       "library: the list of supported parameters depends on the library version.\n",
       "\u001b[1;31mFile:\u001b[0m      c:\\users\\jyo\\appdata\\roaming\\python\\python312\\site-packages\\psycopg2\\__init__.py\n",
       "\u001b[1;31mType:\u001b[0m      function"
      ]
     },
     "metadata": {},
     "output_type": "display_data"
    }
   ],
   "source": [
    "con = psycopg2.connect?"
   ]
  },
  {
   "cell_type": "code",
   "execution_count": 3,
   "id": "3afc405d-9298-4096-bd1e-100105a42788",
   "metadata": {},
   "outputs": [],
   "source": [
    "con = psycopg2.connect(host = \"localhost\", user = \"postgres\", password = \"akhil\", port = 5432, dbname = \"db1\")"
   ]
  },
  {
   "cell_type": "code",
   "execution_count": 4,
   "id": "7ef94238-d40b-44d9-9391-489f5299143c",
   "metadata": {},
   "outputs": [],
   "source": [
    "cur = con.cursor()"
   ]
  },
  {
   "cell_type": "code",
   "execution_count": 9,
   "id": "a4dee767-3580-43cc-9a2b-b7a9b25489ea",
   "metadata": {},
   "outputs": [],
   "source": [
    "cur.execute(\"create table person(id integer, name varchar(20), age integer, salary integer)\")"
   ]
  },
  {
   "cell_type": "code",
   "execution_count": 10,
   "id": "2b5a439e-5ddb-4cf1-ac37-cdfd9fdbcd4a",
   "metadata": {},
   "outputs": [],
   "source": [
    "con.commit()"
   ]
  },
  {
   "cell_type": "code",
   "execution_count": 12,
   "id": "bb356c21-e968-46d0-ba28-6d4f0b0ad77b",
   "metadata": {},
   "outputs": [],
   "source": [
    "cur.execute(\"insert into person values(1, 'akhil', 23, 10000)\")"
   ]
  },
  {
   "cell_type": "code",
   "execution_count": 13,
   "id": "6efcc7db-a76c-479a-a01d-cdc1720bf8c0",
   "metadata": {},
   "outputs": [],
   "source": [
    "cur.execute(\"insert into person values(2, 'nikhil', 24, 12000)\")"
   ]
  },
  {
   "cell_type": "code",
   "execution_count": 14,
   "id": "374e2c5e-f181-431b-b9cf-b7b47f20793b",
   "metadata": {},
   "outputs": [],
   "source": [
    "con.commit()"
   ]
  },
  {
   "cell_type": "code",
   "execution_count": 15,
   "id": "30eff653-3c97-423e-8ab4-b9fabd123c14",
   "metadata": {},
   "outputs": [],
   "source": [
    "cur.execute(\"update person set name = 'Akhil' where id = 1\")"
   ]
  },
  {
   "cell_type": "code",
   "execution_count": 16,
   "id": "14e84e76-b1b9-4598-a018-bb7a8fcfae07",
   "metadata": {},
   "outputs": [],
   "source": [
    "con.commit()"
   ]
  },
  {
   "cell_type": "code",
   "execution_count": 17,
   "id": "1c152649-ed81-4b96-8bca-2cb3353ec175",
   "metadata": {},
   "outputs": [],
   "source": [
    "cur.execute(\"update person set name = 'Nikhil' where id = 2\")"
   ]
  },
  {
   "cell_type": "code",
   "execution_count": 18,
   "id": "5e55a8c7-6160-446f-a343-c0ac35e318b1",
   "metadata": {},
   "outputs": [],
   "source": [
    "con.commit()"
   ]
  },
  {
   "cell_type": "code",
   "execution_count": 20,
   "id": "cabdbdc1-aa40-451f-8caf-c0e54d37aa20",
   "metadata": {},
   "outputs": [
    {
     "ename": "InFailedSqlTransaction",
     "evalue": "current transaction is aborted, commands ignored until end of transaction block\n",
     "output_type": "error",
     "traceback": [
      "\u001b[1;31m---------------------------------------------------------------------------\u001b[0m",
      "\u001b[1;31mInFailedSqlTransaction\u001b[0m                    Traceback (most recent call last)",
      "Cell \u001b[1;32mIn[20], line 1\u001b[0m\n\u001b[1;32m----> 1\u001b[0m cur\u001b[38;5;241m.\u001b[39mexecute(\u001b[38;5;124m\"\u001b[39m\u001b[38;5;124mdelete from person where id = 2\u001b[39m\u001b[38;5;124m\"\u001b[39m)\n",
      "\u001b[1;31mInFailedSqlTransaction\u001b[0m: current transaction is aborted, commands ignored until end of transaction block\n"
     ]
    }
   ],
   "source": [
    "cur.execute(\"delete from person where id = 2\")"
   ]
  },
  {
   "cell_type": "code",
   "execution_count": 21,
   "id": "8230729a-4820-43aa-9267-70d3bfe593e5",
   "metadata": {},
   "outputs": [],
   "source": [
    "con.rollback()"
   ]
  },
  {
   "cell_type": "code",
   "execution_count": 22,
   "id": "2d145f55-53fc-496d-a494-d3f1e1fe3f0d",
   "metadata": {},
   "outputs": [],
   "source": [
    "cur.execute(\"delete from person where id = 2\")"
   ]
  },
  {
   "cell_type": "code",
   "execution_count": 23,
   "id": "92a597fc-d748-4a13-8ff6-6d0877d01ca7",
   "metadata": {},
   "outputs": [],
   "source": [
    "con.commit()"
   ]
  },
  {
   "cell_type": "code",
   "execution_count": 25,
   "id": "f3b27e82-a492-4d40-bc2a-9383cf0e0eb0",
   "metadata": {},
   "outputs": [
    {
     "ename": "StringDataRightTruncation",
     "evalue": "value too long for type character varying(20)\n",
     "output_type": "error",
     "traceback": [
      "\u001b[1;31m---------------------------------------------------------------------------\u001b[0m",
      "\u001b[1;31mStringDataRightTruncation\u001b[0m                 Traceback (most recent call last)",
      "Cell \u001b[1;32mIn[25], line 7\u001b[0m\n\u001b[0;32m      5\u001b[0m \u001b[38;5;28;01mfor\u001b[39;00m i \u001b[38;5;129;01min\u001b[39;00m \u001b[38;5;28mrange\u001b[39m(\u001b[38;5;241m2\u001b[39m, \u001b[38;5;241m1001\u001b[39m):\n\u001b[0;32m      6\u001b[0m     query \u001b[38;5;241m=\u001b[39m \u001b[38;5;124mf\u001b[39m\u001b[38;5;124m\"\u001b[39m\u001b[38;5;124minsert into person values(\u001b[39m\u001b[38;5;132;01m{\u001b[39;00mi\u001b[38;5;132;01m}\u001b[39;00m\u001b[38;5;124m, \u001b[39m\u001b[38;5;124m'\u001b[39m\u001b[38;5;132;01m{\u001b[39;00mfake\u001b[38;5;241m.\u001b[39mname()\u001b[38;5;132;01m}\u001b[39;00m\u001b[38;5;124m'\u001b[39m\u001b[38;5;124m, \u001b[39m\u001b[38;5;132;01m{\u001b[39;00mrandint(\u001b[38;5;241m23\u001b[39m,\u001b[38;5;250m \u001b[39m\u001b[38;5;241m40\u001b[39m)\u001b[38;5;132;01m}\u001b[39;00m\u001b[38;5;124m, \u001b[39m\u001b[38;5;132;01m{\u001b[39;00mrandint(\u001b[38;5;241m10000\u001b[39m,\u001b[38;5;250m \u001b[39m\u001b[38;5;241m15000\u001b[39m)\u001b[38;5;132;01m}\u001b[39;00m\u001b[38;5;124m)\u001b[39m\u001b[38;5;124m\"\u001b[39m\n\u001b[1;32m----> 7\u001b[0m     cur\u001b[38;5;241m.\u001b[39mexecute(query)\n\u001b[0;32m      9\u001b[0m con\u001b[38;5;241m.\u001b[39mcommit()\n",
      "\u001b[1;31mStringDataRightTruncation\u001b[0m: value too long for type character varying(20)\n"
     ]
    }
   ],
   "source": [
    "from faker import Faker\n",
    "from random import randint\n",
    "fake = Faker()\n",
    "\n",
    "for i in range(2, 1001):\n",
    "    query = f\"insert into person values({i}, '{fake.name()}', {randint(23, 40)}, {randint(10000, 15000)})\"\n",
    "    cur.execute(query)\n",
    "\n",
    "con.commit()\n",
    "    "
   ]
  },
  {
   "cell_type": "code",
   "execution_count": 26,
   "id": "19ca02c1-c001-44b4-8680-f026640e7ffc",
   "metadata": {},
   "outputs": [],
   "source": [
    "con.rollback()"
   ]
  },
  {
   "cell_type": "code",
   "execution_count": 27,
   "id": "8e2a662f-f47f-43d2-9b5a-ff484408b12b",
   "metadata": {},
   "outputs": [],
   "source": [
    "from faker import Faker\n",
    "from random import randint\n",
    "fake = Faker()\n",
    "\n",
    "for i in range(2, 1001):\n",
    "    query = f\"insert into person values({i}, '{fake.name()[:20]}', {randint(23, 40)}, {randint(10000, 15000)})\"\n",
    "    cur.execute(query)\n",
    "\n",
    "con.commit()"
   ]
  },
  {
   "cell_type": "code",
   "execution_count": 28,
   "id": "6db75449-1052-4e80-aabf-a0749efd341d",
   "metadata": {},
   "outputs": [
    {
     "ename": "AmbiguousColumn",
     "evalue": "column reference \"salary\" is ambiguous\nLINE 1: select salary from person sum(salary)\n               ^\n",
     "output_type": "error",
     "traceback": [
      "\u001b[1;31m---------------------------------------------------------------------------\u001b[0m",
      "\u001b[1;31mAmbiguousColumn\u001b[0m                           Traceback (most recent call last)",
      "Cell \u001b[1;32mIn[28], line 1\u001b[0m\n\u001b[1;32m----> 1\u001b[0m cur\u001b[38;5;241m.\u001b[39mexecute(\u001b[38;5;124m\"\u001b[39m\u001b[38;5;124mselect salary from person sum(salary)\u001b[39m\u001b[38;5;124m\"\u001b[39m)\n",
      "\u001b[1;31mAmbiguousColumn\u001b[0m: column reference \"salary\" is ambiguous\nLINE 1: select salary from person sum(salary)\n               ^\n"
     ]
    }
   ],
   "source": [
    "cur.execute(\"select salary from person sum(salary)\")"
   ]
  },
  {
   "cell_type": "code",
   "execution_count": 29,
   "id": "272fafe6-3be9-418f-87e2-2f4552b07a28",
   "metadata": {},
   "outputs": [],
   "source": [
    "con.rollback()"
   ]
  },
  {
   "cell_type": "code",
   "execution_count": 6,
   "id": "8da51e73-4d55-4e43-91cf-59f5e540b9c4",
   "metadata": {},
   "outputs": [],
   "source": [
    "cur.execute(\"select * from person\")"
   ]
  },
  {
   "cell_type": "code",
   "execution_count": 8,
   "id": "92d9a8a0-f544-4cc3-baad-32ed3b827b95",
   "metadata": {},
   "outputs": [
    {
     "name": "stdout",
     "output_type": "stream",
     "text": [
      "[]\n"
     ]
    }
   ],
   "source": [
    "data = cur.fetchall()\n",
    "print(data)"
   ]
  },
  {
   "cell_type": "code",
   "execution_count": null,
   "id": "f6b97868-0d77-4abe-be01-4443adf6ee25",
   "metadata": {},
   "outputs": [],
   "source": [
    "# sum of salaries\n",
    "# Top ten salaried employee names.\n",
    "# how many number employees are taking salaries more than average salary"
   ]
  },
  {
   "cell_type": "code",
   "execution_count": 1,
   "id": "a3e67927-31d1-4953-b28f-45b8a5a247dd",
   "metadata": {},
   "outputs": [
    {
     "ename": "NameError",
     "evalue": "name 'cur' is not defined",
     "output_type": "error",
     "traceback": [
      "\u001b[1;31m---------------------------------------------------------------------------\u001b[0m",
      "\u001b[1;31mNameError\u001b[0m                                 Traceback (most recent call last)",
      "Cell \u001b[1;32mIn[1], line 1\u001b[0m\n\u001b[1;32m----> 1\u001b[0m cur\u001b[38;5;241m.\u001b[39mclose()\n\u001b[0;32m      2\u001b[0m con\u001b[38;5;241m.\u001b[39mclose()\n",
      "\u001b[1;31mNameError\u001b[0m: name 'cur' is not defined"
     ]
    }
   ],
   "source": [
    "cur.close()\n",
    "con.close()"
   ]
  },
  {
   "cell_type": "code",
   "execution_count": null,
   "id": "56a06834-dc15-4394-bcf2-84e1a175af08",
   "metadata": {},
   "outputs": [],
   "source": []
  }
 ],
 "metadata": {
  "kernelspec": {
   "display_name": "Python 3 (ipykernel)",
   "language": "python",
   "name": "python3"
  },
  "language_info": {
   "codemirror_mode": {
    "name": "ipython",
    "version": 3
   },
   "file_extension": ".py",
   "mimetype": "text/x-python",
   "name": "python",
   "nbconvert_exporter": "python",
   "pygments_lexer": "ipython3",
   "version": "3.12.4"
  }
 },
 "nbformat": 4,
 "nbformat_minor": 5
}
