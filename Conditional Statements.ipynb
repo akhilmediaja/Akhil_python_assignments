{
 "cells": [
  {
   "cell_type": "code",
   "execution_count": 1,
   "id": "77759b4a-7eb7-4cbc-9438-48e8d2f9a52c",
   "metadata": {},
   "outputs": [
    {
     "name": "stdout",
     "output_type": "stream",
     "text": [
      "started\n",
      "a is big\n",
      "b is big\n",
      "ended\n"
     ]
    }
   ],
   "source": [
    "print(\"started\")\n",
    "a = 1000\n",
    "b = 2000\n",
    "print(\"a is big\")\n",
    "print(\"b is big\")\n",
    "print(\"ended\")"
   ]
  },
  {
   "cell_type": "code",
   "execution_count": 2,
   "id": "93a81266-50cd-475e-9c74-f063726f1287",
   "metadata": {},
   "outputs": [
    {
     "name": "stdout",
     "output_type": "stream",
     "text": [
      "started\n",
      "b is big\n",
      "ended\n"
     ]
    }
   ],
   "source": [
    "print(\"started\")\n",
    "a = 1000\n",
    "b = 2000\n",
    "if a > b:\n",
    "    print(\"a is big\")\n",
    "else:\n",
    "    print(\"b is big\")\n",
    "print(\"ended\")"
   ]
  },
  {
   "cell_type": "code",
   "execution_count": 5,
   "id": "4af1a31b-603d-4382-8e63-35a35767adad",
   "metadata": {},
   "outputs": [
    {
     "name": "stdin",
     "output_type": "stream",
     "text": [
      "enter a value :  1\n",
      "enter a value :  \n"
     ]
    },
    {
     "ename": "ValueError",
     "evalue": "invalid literal for int() with base 10: ''",
     "output_type": "error",
     "traceback": [
      "\u001b[1;31m---------------------------------------------------------------------------\u001b[0m",
      "\u001b[1;31mValueError\u001b[0m                                Traceback (most recent call last)",
      "Cell \u001b[1;32mIn[5], line 5\u001b[0m\n\u001b[0;32m      1\u001b[0m value1 \u001b[38;5;241m=\u001b[39m \u001b[38;5;28minput\u001b[39m(\u001b[38;5;124m\"\u001b[39m\u001b[38;5;124menter a value : \u001b[39m\u001b[38;5;124m\"\u001b[39m)\n\u001b[0;32m      2\u001b[0m value2 \u001b[38;5;241m=\u001b[39m \u001b[38;5;28minput\u001b[39m(\u001b[38;5;124m\"\u001b[39m\u001b[38;5;124menter a value : \u001b[39m\u001b[38;5;124m\"\u001b[39m)\n\u001b[1;32m----> 5\u001b[0m \u001b[38;5;28;01mif\u001b[39;00m \u001b[38;5;28mint\u001b[39m(value1) \u001b[38;5;129;01mand\u001b[39;00m \u001b[38;5;28mint\u001b[39m(value2):\n\u001b[0;32m      6\u001b[0m     \u001b[38;5;28mprint\u001b[39m(value1 \u001b[38;5;241m+\u001b[39m value2)\n\u001b[0;32m      7\u001b[0m \u001b[38;5;28;01melse\u001b[39;00m:\n",
      "\u001b[1;31mValueError\u001b[0m: invalid literal for int() with base 10: ''"
     ]
    }
   ],
   "source": [
    "value1 = input(\"enter a value : \")\n",
    "value2 = input(\"enter a value : \")\n",
    "\n",
    "\n",
    "if int(value1) and int(value2):\n",
    "    print(value1 + value2)\n",
    "else:\n",
    "    print(value1 + value2)\n",
    "\n"
   ]
  },
  {
   "cell_type": "code",
   "execution_count": 6,
   "id": "f16937f9-ed32-417c-87e8-7438c48f4c30",
   "metadata": {},
   "outputs": [
    {
     "ename": "ValueError",
     "evalue": "invalid literal for int() with base 10: ''",
     "output_type": "error",
     "traceback": [
      "\u001b[1;31m---------------------------------------------------------------------------\u001b[0m",
      "\u001b[1;31mValueError\u001b[0m                                Traceback (most recent call last)",
      "Cell \u001b[1;32mIn[6], line 1\u001b[0m\n\u001b[1;32m----> 1\u001b[0m \u001b[38;5;28mint\u001b[39m(\u001b[38;5;124m\"\u001b[39m\u001b[38;5;124m\"\u001b[39m)\n",
      "\u001b[1;31mValueError\u001b[0m: invalid literal for int() with base 10: ''"
     ]
    }
   ],
   "source": [
    "int(\"\")"
   ]
  },
  {
   "cell_type": "code",
   "execution_count": null,
   "id": "095dc958-9564-46e2-9946-a04336e9d379",
   "metadata": {},
   "outputs": [],
   "source": [
    "a = input(\"eanter a value:\")\n",
    "b = input(\"enter a value : \")\n",
    "if a == \"\":\n",
    "    a = 0\n",
    "if b == \"\":\n",
    "    b = 0\n",
    "\n",
    "\n",
    "\n",
    "\n"
   ]
  }
 ],
 "metadata": {
  "kernelspec": {
   "display_name": "Python 3 (ipykernel)",
   "language": "python",
   "name": "python3"
  },
  "language_info": {
   "codemirror_mode": {
    "name": "ipython",
    "version": 3
   },
   "file_extension": ".py",
   "mimetype": "text/x-python",
   "name": "python",
   "nbconvert_exporter": "python",
   "pygments_lexer": "ipython3",
   "version": "3.12.4"
  }
 },
 "nbformat": 4,
 "nbformat_minor": 5
}
